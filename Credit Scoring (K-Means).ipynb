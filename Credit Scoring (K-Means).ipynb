{
 "cells": [
  {
   "cell_type": "markdown",
   "id": "817c5c30",
   "metadata": {},
   "source": [
    "# Questions to ask"
   ]
  },
  {
   "cell_type": "markdown",
   "id": "b464485f",
   "metadata": {},
   "source": [
    "1. Who are the loyal customers?\n",
    "2. Who have highest sales?\n",
    "3. Who have highest probability of restock (buying) product?\n",
    "4. Who buy the highest quantity?\n",
    "5. Most bought product?\n",
    "6. Which month give highest sales (highest number of people restock)?\n",
    "7. Which location bring highest sales?\n",
    "8. Why does each master_id have a number of retailer name and distributor name?\n",
    "9. Market basket analysis --> Most likely product to buy together\n",
    "10. Each product should have unique id, price, name \n",
    "11. Does each order_id have multiple retailer and distributor?\n",
    "12. Any irrelevant features?\n",
    "13. Which retailer have customer that cancelled order?\n",
    "14. Which retailer have history of cancelling master order?\n",
    "\n"
   ]
  },
  {
   "cell_type": "code",
   "execution_count": 1,
   "id": "a5b365fa",
   "metadata": {},
   "outputs": [],
   "source": [
    "import pandas as pd\n",
    "import seaborn as sns\n",
    "import matplotlib.pyplot as plt\n",
    "import numpy as np"
   ]
  },
  {
   "cell_type": "markdown",
   "id": "13d82305",
   "metadata": {},
   "source": [
    "# Read data"
   ]
  },
  {
   "cell_type": "code",
   "execution_count": 2,
   "id": "c6eca118",
   "metadata": {},
   "outputs": [
    {
     "data": {
      "text/html": [
       "<div>\n",
       "<style scoped>\n",
       "    .dataframe tbody tr th:only-of-type {\n",
       "        vertical-align: middle;\n",
       "    }\n",
       "\n",
       "    .dataframe tbody tr th {\n",
       "        vertical-align: top;\n",
       "    }\n",
       "\n",
       "    .dataframe thead th {\n",
       "        text-align: right;\n",
       "    }\n",
       "</style>\n",
       "<table border=\"1\" class=\"dataframe\">\n",
       "  <thead>\n",
       "    <tr style=\"text-align: right;\">\n",
       "      <th></th>\n",
       "      <th>Unnamed: 0</th>\n",
       "      <th>master_order_id</th>\n",
       "      <th>master_order_status</th>\n",
       "      <th>created</th>\n",
       "      <th>order_id</th>\n",
       "      <th>order_status</th>\n",
       "      <th>ordereditem_quantity</th>\n",
       "      <th>prod_names</th>\n",
       "      <th>ordereditem_unit_price_net</th>\n",
       "      <th>ordereditem_product_id</th>\n",
       "      <th>value</th>\n",
       "      <th>group</th>\n",
       "      <th>dist_names</th>\n",
       "      <th>retailer_names</th>\n",
       "      <th>bill_amount</th>\n",
       "    </tr>\n",
       "  </thead>\n",
       "  <tbody>\n",
       "    <tr>\n",
       "      <th>0</th>\n",
       "      <td>1</td>\n",
       "      <td>25651</td>\n",
       "      <td>delivered</td>\n",
       "      <td>12/18/2017 10:41</td>\n",
       "      <td>25651</td>\n",
       "      <td>delivered</td>\n",
       "      <td>5</td>\n",
       "      <td>ProdName1</td>\n",
       "      <td>43.00</td>\n",
       "      <td>1744.0</td>\n",
       "      <td>215.00</td>\n",
       "      <td>Hyderabad</td>\n",
       "      <td>DistName1</td>\n",
       "      <td>RetailerID2</td>\n",
       "      <td>809.0</td>\n",
       "    </tr>\n",
       "    <tr>\n",
       "      <th>1</th>\n",
       "      <td>2</td>\n",
       "      <td>25651</td>\n",
       "      <td>delivered</td>\n",
       "      <td>12/18/2017 10:41</td>\n",
       "      <td>25651</td>\n",
       "      <td>delivered</td>\n",
       "      <td>5</td>\n",
       "      <td>ProdName2</td>\n",
       "      <td>35.54</td>\n",
       "      <td>965.0</td>\n",
       "      <td>177.70</td>\n",
       "      <td>Hyderabad</td>\n",
       "      <td>DistName1</td>\n",
       "      <td>RetailerID2</td>\n",
       "      <td>809.0</td>\n",
       "    </tr>\n",
       "    <tr>\n",
       "      <th>2</th>\n",
       "      <td>3</td>\n",
       "      <td>25651</td>\n",
       "      <td>delivered</td>\n",
       "      <td>12/18/2017 10:41</td>\n",
       "      <td>25651</td>\n",
       "      <td>delivered</td>\n",
       "      <td>2</td>\n",
       "      <td>ProdName3</td>\n",
       "      <td>52.80</td>\n",
       "      <td>705.0</td>\n",
       "      <td>105.60</td>\n",
       "      <td>Hyderabad</td>\n",
       "      <td>DistName3</td>\n",
       "      <td>RetailerID29</td>\n",
       "      <td>809.0</td>\n",
       "    </tr>\n",
       "    <tr>\n",
       "      <th>3</th>\n",
       "      <td>4</td>\n",
       "      <td>25651</td>\n",
       "      <td>delivered</td>\n",
       "      <td>12/18/2017 10:41</td>\n",
       "      <td>25651</td>\n",
       "      <td>delivered</td>\n",
       "      <td>2</td>\n",
       "      <td>ProdName4</td>\n",
       "      <td>118.28</td>\n",
       "      <td>264.0</td>\n",
       "      <td>236.56</td>\n",
       "      <td>Hyderabad</td>\n",
       "      <td>DistName1</td>\n",
       "      <td>RetailerID87</td>\n",
       "      <td>809.0</td>\n",
       "    </tr>\n",
       "    <tr>\n",
       "      <th>4</th>\n",
       "      <td>5</td>\n",
       "      <td>25651</td>\n",
       "      <td>delivered</td>\n",
       "      <td>12/18/2017 10:41</td>\n",
       "      <td>25651</td>\n",
       "      <td>delivered</td>\n",
       "      <td>3</td>\n",
       "      <td>ProdName5</td>\n",
       "      <td>32.22</td>\n",
       "      <td>1025.0</td>\n",
       "      <td>96.66</td>\n",
       "      <td>Hyderabad</td>\n",
       "      <td>DistName4</td>\n",
       "      <td>RetailerID118</td>\n",
       "      <td>809.0</td>\n",
       "    </tr>\n",
       "  </tbody>\n",
       "</table>\n",
       "</div>"
      ],
      "text/plain": [
       "   Unnamed: 0  master_order_id master_order_status           created  \\\n",
       "0           1            25651           delivered  12/18/2017 10:41   \n",
       "1           2            25651           delivered  12/18/2017 10:41   \n",
       "2           3            25651           delivered  12/18/2017 10:41   \n",
       "3           4            25651           delivered  12/18/2017 10:41   \n",
       "4           5            25651           delivered  12/18/2017 10:41   \n",
       "\n",
       "   order_id order_status  ordereditem_quantity prod_names  \\\n",
       "0     25651    delivered                     5  ProdName1   \n",
       "1     25651    delivered                     5  ProdName2   \n",
       "2     25651    delivered                     2  ProdName3   \n",
       "3     25651    delivered                     2  ProdName4   \n",
       "4     25651    delivered                     3  ProdName5   \n",
       "\n",
       "   ordereditem_unit_price_net  ordereditem_product_id   value      group  \\\n",
       "0                       43.00                  1744.0  215.00  Hyderabad   \n",
       "1                       35.54                   965.0  177.70  Hyderabad   \n",
       "2                       52.80                   705.0  105.60  Hyderabad   \n",
       "3                      118.28                   264.0  236.56  Hyderabad   \n",
       "4                       32.22                  1025.0   96.66  Hyderabad   \n",
       "\n",
       "  dist_names retailer_names  bill_amount  \n",
       "0  DistName1    RetailerID2        809.0  \n",
       "1  DistName1    RetailerID2        809.0  \n",
       "2  DistName3   RetailerID29        809.0  \n",
       "3  DistName1   RetailerID87        809.0  \n",
       "4  DistName4  RetailerID118        809.0  "
      ]
     },
     "execution_count": 2,
     "metadata": {},
     "output_type": "execute_result"
    }
   ],
   "source": [
    "credit = pd.read_excel('C:/Users/Acer/Desktop/Data Science/LIVE PROJECT/CreditAnalysis_data.xlsx')\n",
    "credit.head()"
   ]
  },
  {
   "cell_type": "markdown",
   "id": "8ffa70be",
   "metadata": {},
   "source": [
    "We remove all the unnecessary information decided earlier and save into `clean_credit`."
   ]
  },
  {
   "cell_type": "code",
   "execution_count": 3,
   "id": "951feb63",
   "metadata": {},
   "outputs": [],
   "source": [
    "clean_credit = credit.drop([953,  3655,  5657,  6451,  6455,  6913,  7255,  7296,  8045,\n",
    "             8989,  9004,  9019,  9041,  9378,  9565, 10558, 11411, 15305,\n",
    "            15327], axis=0)"
   ]
  },
  {
   "cell_type": "code",
   "execution_count": 4,
   "id": "b7e25e0c",
   "metadata": {},
   "outputs": [],
   "source": [
    "clean_credit = clean_credit.drop(['ordereditem_product_id','dist_names','order_id','order_status'], axis=1)"
   ]
  },
  {
   "cell_type": "code",
   "execution_count": null,
   "id": "02ee93ec",
   "metadata": {
    "scrolled": true
   },
   "outputs": [],
   "source": [
    "clean_credit.head()"
   ]
  },
  {
   "cell_type": "code",
   "execution_count": 4,
   "id": "7dcdf40d",
   "metadata": {},
   "outputs": [],
   "source": [
    "clean_credit = clean_credit[(clean_credit['master_order_status'] != 'cancelled') & (clean_credit['master_order_status'] != 'rejected')]"
   ]
  },
  {
   "cell_type": "markdown",
   "id": "970b90d9",
   "metadata": {},
   "source": [
    "All missing values have been handled. Unnecessary rows are removed (rejected, cancelled and new orders)."
   ]
  },
  {
   "cell_type": "markdown",
   "id": "ce80d951",
   "metadata": {},
   "source": [
    "Since `master_order_id` not unique to each retailers, so we have to create a new column with order id unique to each retailers:"
   ]
  },
  {
   "cell_type": "code",
   "execution_count": 5,
   "id": "8b97eaf9",
   "metadata": {},
   "outputs": [],
   "source": [
    "from sklearn.preprocessing import LabelEncoder\n",
    "le = LabelEncoder()\n",
    "clean_credit['dummy_name'] = le.fit_transform(clean_credit.retailer_names.values)\n",
    "clean_credit['dummy_group'] = le.fit_transform(clean_credit.group.values)\n",
    "clean_credit['invoice_id'] = clean_credit.dummy_group.astype(str) + clean_credit.dummy_name.astype(str) + clean_credit.master_order_id.astype(str)\n"
   ]
  },
  {
   "cell_type": "code",
   "execution_count": 6,
   "id": "764a07d8",
   "metadata": {},
   "outputs": [
    {
     "data": {
      "text/html": [
       "<div>\n",
       "<style scoped>\n",
       "    .dataframe tbody tr th:only-of-type {\n",
       "        vertical-align: middle;\n",
       "    }\n",
       "\n",
       "    .dataframe tbody tr th {\n",
       "        vertical-align: top;\n",
       "    }\n",
       "\n",
       "    .dataframe thead th {\n",
       "        text-align: right;\n",
       "    }\n",
       "</style>\n",
       "<table border=\"1\" class=\"dataframe\">\n",
       "  <thead>\n",
       "    <tr style=\"text-align: right;\">\n",
       "      <th></th>\n",
       "      <th>Unnamed: 0</th>\n",
       "      <th>master_order_id</th>\n",
       "      <th>master_order_status</th>\n",
       "      <th>created</th>\n",
       "      <th>order_id</th>\n",
       "      <th>order_status</th>\n",
       "      <th>ordereditem_quantity</th>\n",
       "      <th>prod_names</th>\n",
       "      <th>ordereditem_unit_price_net</th>\n",
       "      <th>ordereditem_product_id</th>\n",
       "      <th>value</th>\n",
       "      <th>group</th>\n",
       "      <th>dist_names</th>\n",
       "      <th>retailer_names</th>\n",
       "      <th>bill_amount</th>\n",
       "      <th>dummy_name</th>\n",
       "      <th>dummy_group</th>\n",
       "      <th>invoice_id</th>\n",
       "    </tr>\n",
       "  </thead>\n",
       "  <tbody>\n",
       "    <tr>\n",
       "      <th>0</th>\n",
       "      <td>1</td>\n",
       "      <td>25651</td>\n",
       "      <td>delivered</td>\n",
       "      <td>12/18/2017 10:41</td>\n",
       "      <td>25651</td>\n",
       "      <td>delivered</td>\n",
       "      <td>5</td>\n",
       "      <td>ProdName1</td>\n",
       "      <td>43.00</td>\n",
       "      <td>1744.0</td>\n",
       "      <td>215.00</td>\n",
       "      <td>Hyderabad</td>\n",
       "      <td>DistName1</td>\n",
       "      <td>RetailerID2</td>\n",
       "      <td>809.0</td>\n",
       "      <td>99</td>\n",
       "      <td>2</td>\n",
       "      <td>29925651</td>\n",
       "    </tr>\n",
       "    <tr>\n",
       "      <th>1</th>\n",
       "      <td>2</td>\n",
       "      <td>25651</td>\n",
       "      <td>delivered</td>\n",
       "      <td>12/18/2017 10:41</td>\n",
       "      <td>25651</td>\n",
       "      <td>delivered</td>\n",
       "      <td>5</td>\n",
       "      <td>ProdName2</td>\n",
       "      <td>35.54</td>\n",
       "      <td>965.0</td>\n",
       "      <td>177.70</td>\n",
       "      <td>Hyderabad</td>\n",
       "      <td>DistName1</td>\n",
       "      <td>RetailerID2</td>\n",
       "      <td>809.0</td>\n",
       "      <td>99</td>\n",
       "      <td>2</td>\n",
       "      <td>29925651</td>\n",
       "    </tr>\n",
       "    <tr>\n",
       "      <th>2</th>\n",
       "      <td>3</td>\n",
       "      <td>25651</td>\n",
       "      <td>delivered</td>\n",
       "      <td>12/18/2017 10:41</td>\n",
       "      <td>25651</td>\n",
       "      <td>delivered</td>\n",
       "      <td>2</td>\n",
       "      <td>ProdName3</td>\n",
       "      <td>52.80</td>\n",
       "      <td>705.0</td>\n",
       "      <td>105.60</td>\n",
       "      <td>Hyderabad</td>\n",
       "      <td>DistName3</td>\n",
       "      <td>RetailerID29</td>\n",
       "      <td>809.0</td>\n",
       "      <td>141</td>\n",
       "      <td>2</td>\n",
       "      <td>214125651</td>\n",
       "    </tr>\n",
       "    <tr>\n",
       "      <th>3</th>\n",
       "      <td>4</td>\n",
       "      <td>25651</td>\n",
       "      <td>delivered</td>\n",
       "      <td>12/18/2017 10:41</td>\n",
       "      <td>25651</td>\n",
       "      <td>delivered</td>\n",
       "      <td>2</td>\n",
       "      <td>ProdName4</td>\n",
       "      <td>118.28</td>\n",
       "      <td>264.0</td>\n",
       "      <td>236.56</td>\n",
       "      <td>Hyderabad</td>\n",
       "      <td>DistName1</td>\n",
       "      <td>RetailerID87</td>\n",
       "      <td>809.0</td>\n",
       "      <td>202</td>\n",
       "      <td>2</td>\n",
       "      <td>220225651</td>\n",
       "    </tr>\n",
       "    <tr>\n",
       "      <th>4</th>\n",
       "      <td>5</td>\n",
       "      <td>25651</td>\n",
       "      <td>delivered</td>\n",
       "      <td>12/18/2017 10:41</td>\n",
       "      <td>25651</td>\n",
       "      <td>delivered</td>\n",
       "      <td>3</td>\n",
       "      <td>ProdName5</td>\n",
       "      <td>32.22</td>\n",
       "      <td>1025.0</td>\n",
       "      <td>96.66</td>\n",
       "      <td>Hyderabad</td>\n",
       "      <td>DistName4</td>\n",
       "      <td>RetailerID118</td>\n",
       "      <td>809.0</td>\n",
       "      <td>16</td>\n",
       "      <td>2</td>\n",
       "      <td>21625651</td>\n",
       "    </tr>\n",
       "    <tr>\n",
       "      <th>5</th>\n",
       "      <td>6</td>\n",
       "      <td>25651</td>\n",
       "      <td>delivered</td>\n",
       "      <td>12/18/2017 10:41</td>\n",
       "      <td>25651</td>\n",
       "      <td>delivered</td>\n",
       "      <td>2</td>\n",
       "      <td>ProdName6</td>\n",
       "      <td>12.60</td>\n",
       "      <td>NaN</td>\n",
       "      <td>25.20</td>\n",
       "      <td>Hyderabad</td>\n",
       "      <td>DistName7</td>\n",
       "      <td>RetailerID112</td>\n",
       "      <td>809.0</td>\n",
       "      <td>11</td>\n",
       "      <td>2</td>\n",
       "      <td>21125651</td>\n",
       "    </tr>\n",
       "    <tr>\n",
       "      <th>6</th>\n",
       "      <td>7</td>\n",
       "      <td>25652</td>\n",
       "      <td>delivered</td>\n",
       "      <td>12/19/2017 6:48</td>\n",
       "      <td>25652</td>\n",
       "      <td>delivered</td>\n",
       "      <td>2</td>\n",
       "      <td>ProdName7</td>\n",
       "      <td>107.86</td>\n",
       "      <td>5192.0</td>\n",
       "      <td>215.72</td>\n",
       "      <td>Hyderabad</td>\n",
       "      <td>DistName1</td>\n",
       "      <td>RetailerID116</td>\n",
       "      <td>566.0</td>\n",
       "      <td>14</td>\n",
       "      <td>2</td>\n",
       "      <td>21425652</td>\n",
       "    </tr>\n",
       "    <tr>\n",
       "      <th>7</th>\n",
       "      <td>8</td>\n",
       "      <td>25652</td>\n",
       "      <td>delivered</td>\n",
       "      <td>12/19/2017 6:48</td>\n",
       "      <td>25652</td>\n",
       "      <td>delivered</td>\n",
       "      <td>3</td>\n",
       "      <td>ProdName8</td>\n",
       "      <td>31.25</td>\n",
       "      <td>5452.0</td>\n",
       "      <td>93.75</td>\n",
       "      <td>Hyderabad</td>\n",
       "      <td>DistName6</td>\n",
       "      <td>RetailerID55</td>\n",
       "      <td>566.0</td>\n",
       "      <td>170</td>\n",
       "      <td>2</td>\n",
       "      <td>217025652</td>\n",
       "    </tr>\n",
       "    <tr>\n",
       "      <th>8</th>\n",
       "      <td>9</td>\n",
       "      <td>25652</td>\n",
       "      <td>delivered</td>\n",
       "      <td>12/19/2017 6:48</td>\n",
       "      <td>25652</td>\n",
       "      <td>delivered</td>\n",
       "      <td>2</td>\n",
       "      <td>ProdName9</td>\n",
       "      <td>61.88</td>\n",
       "      <td>4383.0</td>\n",
       "      <td>123.76</td>\n",
       "      <td>Hyderabad</td>\n",
       "      <td>DistName1</td>\n",
       "      <td>RetailerID13</td>\n",
       "      <td>566.0</td>\n",
       "      <td>27</td>\n",
       "      <td>2</td>\n",
       "      <td>22725652</td>\n",
       "    </tr>\n",
       "    <tr>\n",
       "      <th>9</th>\n",
       "      <td>10</td>\n",
       "      <td>25654</td>\n",
       "      <td>delivered</td>\n",
       "      <td>12/19/2017 7:57</td>\n",
       "      <td>25654</td>\n",
       "      <td>delivered</td>\n",
       "      <td>5</td>\n",
       "      <td>ProdName10</td>\n",
       "      <td>19.44</td>\n",
       "      <td>922.0</td>\n",
       "      <td>97.20</td>\n",
       "      <td>Hyderabad</td>\n",
       "      <td>DistName1</td>\n",
       "      <td>RetailerID56</td>\n",
       "      <td>468.0</td>\n",
       "      <td>171</td>\n",
       "      <td>2</td>\n",
       "      <td>217125654</td>\n",
       "    </tr>\n",
       "  </tbody>\n",
       "</table>\n",
       "</div>"
      ],
      "text/plain": [
       "   Unnamed: 0  master_order_id master_order_status           created  \\\n",
       "0           1            25651           delivered  12/18/2017 10:41   \n",
       "1           2            25651           delivered  12/18/2017 10:41   \n",
       "2           3            25651           delivered  12/18/2017 10:41   \n",
       "3           4            25651           delivered  12/18/2017 10:41   \n",
       "4           5            25651           delivered  12/18/2017 10:41   \n",
       "5           6            25651           delivered  12/18/2017 10:41   \n",
       "6           7            25652           delivered   12/19/2017 6:48   \n",
       "7           8            25652           delivered   12/19/2017 6:48   \n",
       "8           9            25652           delivered   12/19/2017 6:48   \n",
       "9          10            25654           delivered   12/19/2017 7:57   \n",
       "\n",
       "   order_id order_status  ordereditem_quantity  prod_names  \\\n",
       "0     25651    delivered                     5   ProdName1   \n",
       "1     25651    delivered                     5   ProdName2   \n",
       "2     25651    delivered                     2   ProdName3   \n",
       "3     25651    delivered                     2   ProdName4   \n",
       "4     25651    delivered                     3   ProdName5   \n",
       "5     25651    delivered                     2   ProdName6   \n",
       "6     25652    delivered                     2   ProdName7   \n",
       "7     25652    delivered                     3   ProdName8   \n",
       "8     25652    delivered                     2   ProdName9   \n",
       "9     25654    delivered                     5  ProdName10   \n",
       "\n",
       "   ordereditem_unit_price_net  ordereditem_product_id   value      group  \\\n",
       "0                       43.00                  1744.0  215.00  Hyderabad   \n",
       "1                       35.54                   965.0  177.70  Hyderabad   \n",
       "2                       52.80                   705.0  105.60  Hyderabad   \n",
       "3                      118.28                   264.0  236.56  Hyderabad   \n",
       "4                       32.22                  1025.0   96.66  Hyderabad   \n",
       "5                       12.60                     NaN   25.20  Hyderabad   \n",
       "6                      107.86                  5192.0  215.72  Hyderabad   \n",
       "7                       31.25                  5452.0   93.75  Hyderabad   \n",
       "8                       61.88                  4383.0  123.76  Hyderabad   \n",
       "9                       19.44                   922.0   97.20  Hyderabad   \n",
       "\n",
       "  dist_names retailer_names  bill_amount  dummy_name  dummy_group invoice_id  \n",
       "0  DistName1    RetailerID2        809.0          99            2   29925651  \n",
       "1  DistName1    RetailerID2        809.0          99            2   29925651  \n",
       "2  DistName3   RetailerID29        809.0         141            2  214125651  \n",
       "3  DistName1   RetailerID87        809.0         202            2  220225651  \n",
       "4  DistName4  RetailerID118        809.0          16            2   21625651  \n",
       "5  DistName7  RetailerID112        809.0          11            2   21125651  \n",
       "6  DistName1  RetailerID116        566.0          14            2   21425652  \n",
       "7  DistName6   RetailerID55        566.0         170            2  217025652  \n",
       "8  DistName1   RetailerID13        566.0          27            2   22725652  \n",
       "9  DistName1   RetailerID56        468.0         171            2  217125654  "
      ]
     },
     "execution_count": 6,
     "metadata": {},
     "output_type": "execute_result"
    }
   ],
   "source": [
    "clean_credit.head(10)"
   ]
  },
  {
   "cell_type": "markdown",
   "id": "58dcc668",
   "metadata": {},
   "source": [
    "# RFM Analysis"
   ]
  },
  {
   "cell_type": "markdown",
   "id": "d513295e",
   "metadata": {},
   "source": [
    "Since there are only 215 retailers in the dataset, this means that there are retailers ordering items from several locations. Thus the duplications. We assume that several retailers have outlets in few other locations."
   ]
  },
  {
   "cell_type": "code",
   "execution_count": null,
   "id": "8dcb3aa8",
   "metadata": {},
   "outputs": [],
   "source": [
    "pd.pivot_table(clean_credit, index = 'retailer_names', columns = 'group' , values = 'created', aggfunc ='count')\n"
   ]
  },
  {
   "cell_type": "markdown",
   "id": "f4b6073e",
   "metadata": {},
   "source": [
    "If we consider one location for each retailers, we get the same output where majority of orders come from Hyderabad, followed by Gurugram and then Delhi-West"
   ]
  },
  {
   "cell_type": "code",
   "execution_count": null,
   "id": "41ee1969",
   "metadata": {},
   "outputs": [],
   "source": [
    "# Checking categorical data from df.Country\n",
    "# unique, counts = np.unique(df.Country, return_counts=True)\n",
    "# print(dict(zip(unique, counts)))\n",
    "country_set = clean_credit[['group', 'invoice_id']]\n",
    "country_set = country_set.pivot_table(columns='group', aggfunc='count')\n",
    "country_set.sort_values('invoice_id', axis=1, ascending=False).T"
   ]
  },
  {
   "cell_type": "code",
   "execution_count": null,
   "id": "132349f7",
   "metadata": {},
   "outputs": [],
   "source": [
    "# Plotting InvoiceNo distribution per Country\n",
    "plt.figure(figsize=(14,6))\n",
    "plt.title('Distribuition of orders according to Locations');\n",
    "sns.countplot(y='group', data=clean_credit);"
   ]
  },
  {
   "cell_type": "markdown",
   "id": "c201ebc2",
   "metadata": {},
   "source": [
    "### How are the sales from each group?"
   ]
  },
  {
   "cell_type": "markdown",
   "id": "a465918e",
   "metadata": {},
   "source": [
    "## Frequent sets and association rules with apriori:"
   ]
  },
  {
   "cell_type": "markdown",
   "id": "f9c1f7eb",
   "metadata": {},
   "source": [
    "This analysis requires that all the data for a transaction be included in 1 row and the items should be 1-hot encoded. Since we can't use this data the way it is, we got to further convert this into a format that is accepted by Apriori algorithm."
   ]
  },
  {
   "cell_type": "markdown",
   "id": "c2d94c36",
   "metadata": {},
   "source": [
    "### Convert order data into format expected by the association rules function"
   ]
  },
  {
   "cell_type": "markdown",
   "id": "0bf8ccbf",
   "metadata": {},
   "source": [
    "#### Hyderabad"
   ]
  },
  {
   "cell_type": "code",
   "execution_count": null,
   "id": "68e980e2",
   "metadata": {},
   "outputs": [],
   "source": [
    "basket_h = (df_Hyderabad\n",
    "        .groupby(['invoice_id', 'prod_names'])['ordereditem_quantity']\n",
    "                .sum().unstack().reset_index().fillna(0)\n",
    "          .set_index('invoice_id'))"
   ]
  },
  {
   "cell_type": "code",
   "execution_count": null,
   "id": "f69464a6",
   "metadata": {},
   "outputs": [],
   "source": [
    "basket_h"
   ]
  },
  {
   "cell_type": "code",
   "execution_count": null,
   "id": "6b970932",
   "metadata": {},
   "outputs": [],
   "source": [
    "# complete the one-hot encoding, anything> 0 --> 1\n",
    "def encode_units(x):\n",
    "    if x <= 0:\n",
    "        return 0\n",
    "    if x >= 1:\n",
    "        return 1"
   ]
  },
  {
   "cell_type": "code",
   "execution_count": null,
   "id": "27550e9c",
   "metadata": {},
   "outputs": [],
   "source": [
    "basket_h_sets = basket_h.applymap(encode_units)"
   ]
  },
  {
   "cell_type": "code",
   "execution_count": null,
   "id": "4e8f4f41",
   "metadata": {},
   "outputs": [],
   "source": [
    "basket_h_sets"
   ]
  },
  {
   "cell_type": "markdown",
   "id": "b3dcdd00",
   "metadata": {},
   "source": [
    "### Association Rules "
   ]
  },
  {
   "cell_type": "markdown",
   "id": "4fce150f",
   "metadata": {},
   "source": [
    "#### Calculate support, confidence and lift"
   ]
  },
  {
   "cell_type": "markdown",
   "id": "21f15102",
   "metadata": {},
   "source": [
    "#### - Hyderabad"
   ]
  },
  {
   "cell_type": "code",
   "execution_count": null,
   "id": "ad090ba6",
   "metadata": {},
   "outputs": [],
   "source": [
    "from mlxtend.frequent_patterns import apriori, association_rules"
   ]
  },
  {
   "cell_type": "code",
   "execution_count": null,
   "id": "5df66cc0",
   "metadata": {},
   "outputs": [],
   "source": [
    "#we can generate frequent item sets that have a support of at least 10 occurence in 10000 transactions\n",
    "frequent_itemsets_h = apriori(basket_h_sets, min_support=0.001, use_colnames=True)\n",
    "frequent_itemsets_h.sort_values('support', ascending = False, inplace=True)"
   ]
  },
  {
   "cell_type": "code",
   "execution_count": null,
   "id": "9b756f71",
   "metadata": {},
   "outputs": [],
   "source": [
    "frequent_itemsets_h"
   ]
  },
  {
   "cell_type": "code",
   "execution_count": null,
   "id": "ccfda9c3",
   "metadata": {},
   "outputs": [],
   "source": [
    "#generate the rules with their corresponding support, confidence and lift\n",
    "#rules_h = association_rules(frequent_itemsets_h, metric=\"lift\", min_threshold=1)\n",
    "rules_h = association_rules(frequent_itemsets_h, metric=\"lift\")\n",
    "rules_h.head()\n",
    "\n",
    "#In this case, look for a large lift (6) and high confidence (.8):\n",
    "#rules_h[ (rules_h['lift'] >= 6) &\n",
    "     #  (rules_h['confidence'] >= 0.8) ]\n"
   ]
  },
  {
   "cell_type": "markdown",
   "id": "093e2e68",
   "metadata": {},
   "source": [
    "In Hyderabad group, there are no itemsets with significant support:"
   ]
  },
  {
   "cell_type": "code",
   "execution_count": null,
   "id": "483e3096",
   "metadata": {},
   "outputs": [],
   "source": [
    "import matplotlib.pyplot as plt\n",
    "colors = [\"red\",\"green\",\"blue\",\"black\",\"yellow\",\"magenta\",\"cyan\", \"pink\",\"orange\",\"brown\"]\n",
    "plt.bar(x = list(range(1,21)), height = frequent_itemsets_h.support[1:21], color=colors)\n",
    "plt.xticks(list(range(1,21)),frequent_itemsets_h.itemsets[1:21],rotation = 45)\n",
    "plt.xlabel('item-sets');plt.ylabel('support')\n",
    "#plt.xticks(rotation = 45)"
   ]
  },
  {
   "cell_type": "markdown",
   "id": "afbcb6b6",
   "metadata": {},
   "source": [
    "## Calculate RFM Metrics"
   ]
  },
  {
   "cell_type": "code",
   "execution_count": 7,
   "id": "fcd64e5d",
   "metadata": {},
   "outputs": [
    {
     "data": {
      "text/plain": [
       "Timestamp('2017-12-18 10:41:00')"
      ]
     },
     "execution_count": 7,
     "metadata": {},
     "output_type": "execute_result"
    }
   ],
   "source": [
    "# Let's observe the last transaction date.\n",
    "# So we can determine the performans/measurement date for calculating how recent retailer's latest purchase was.\n",
    "clean_credit['created'] = pd.to_datetime(clean_credit['created'])\n",
    "clean_credit['created'].max()\n",
    "clean_credit['created'].min()"
   ]
  },
  {
   "cell_type": "code",
   "execution_count": null,
   "id": "699d7450",
   "metadata": {},
   "outputs": [],
   "source": [
    "clean_credit['created'].describe()"
   ]
  },
  {
   "cell_type": "code",
   "execution_count": 8,
   "id": "8732fbbe",
   "metadata": {},
   "outputs": [],
   "source": [
    "import datetime as dt\n",
    "from datetime import timedelta\n",
    "#from data_prep import *\n",
    "#from eda import *"
   ]
  },
  {
   "cell_type": "markdown",
   "id": "d465e0c3",
   "metadata": {},
   "source": [
    "Paling lama retailer yg x restock ada 350 hari (lowest recency):"
   ]
  },
  {
   "cell_type": "code",
   "execution_count": null,
   "id": "121d032b",
   "metadata": {},
   "outputs": [],
   "source": [
    "clean_credit['created'].max() - clean_credit['created'].min()"
   ]
  },
  {
   "cell_type": "code",
   "execution_count": null,
   "id": "fe06c878",
   "metadata": {},
   "outputs": [],
   "source": [
    "clean_credit"
   ]
  },
  {
   "cell_type": "code",
   "execution_count": 9,
   "id": "eb95cf58",
   "metadata": {},
   "outputs": [],
   "source": [
    "clean_credit['created_year'] = clean_credit['created'].dt.year\n",
    "clean_credit['created_month'] = clean_credit['created'].dt.month\n",
    "clean_credit['created_hour'] = clean_credit['created'].dt.hour\n",
    "clean_credit['created_year_month'] = (\n",
    "    clean_credit['created'].dt.year.astype('str') + '_' +\n",
    "    clean_credit['created'].dt.month.astype('str').str.zfill(2)\n",
    ")\n",
    "clean_credit['created_dayofweek'] = clean_credit['created'].dt.dayofweek"
   ]
  },
  {
   "cell_type": "code",
   "execution_count": null,
   "id": "d4048762",
   "metadata": {},
   "outputs": [],
   "source": [
    "clean_credit.head()"
   ]
  },
  {
   "cell_type": "markdown",
   "id": "f768abb0",
   "metadata": {},
   "source": [
    "- Calculating Recency: \n",
    "For each customer ID, we need to calculate the days since the last transaction.\n",
    "To calculate Days Since Last Transaction, a hypothetical date (Maximum Date + 2) is created to make it seem like we are working on the data 2 days after it was extracted.\n",
    "Finally, the difference between the Maximum InvoiceDate for each customer and the hypothetical Date created gives us the Date Since the last transaction."
   ]
  },
  {
   "cell_type": "code",
   "execution_count": 10,
   "id": "eabd2863",
   "metadata": {},
   "outputs": [
    {
     "data": {
      "text/plain": [
       "Timestamp('2018-12-05 18:26:00')"
      ]
     },
     "execution_count": 10,
     "metadata": {},
     "output_type": "execute_result"
    }
   ],
   "source": [
    "# Assign \"performans_date\" as 2 days after the last transaction date of purchase:\n",
    "\n",
    "performans_date = clean_credit[\"created\"].max() + timedelta(days=2)\n",
    "performans_date"
   ]
  },
  {
   "cell_type": "code",
   "execution_count": null,
   "id": "50cc6f39",
   "metadata": {},
   "outputs": [],
   "source": [
    "# create excel writer object\n",
    "writer = pd.ExcelWriter('customer_abs.xlsx')\n",
    "# write dataframe to excel\n",
    "customer_data.to_excel(writer)\n",
    "# save the excel\n",
    "writer.save()"
   ]
  },
  {
   "cell_type": "markdown",
   "id": "8f29edea",
   "metadata": {},
   "source": [
    "Let's create a new dataframe called `customer_data` for calculating Recency, Frequency and Monetary values.\n",
    "1. Recency : the number of days between performans_date and the last purchase date of each retailer.\n",
    "2. Frequency: the number of transactions of each retailer.\n",
    "3. Monetary : the sum of TotalPrice of each retailer."
   ]
  },
  {
   "cell_type": "markdown",
   "id": "60533392",
   "metadata": {},
   "source": [
    "### Assigning RFM Scores"
   ]
  },
  {
   "cell_type": "markdown",
   "id": "0d6ae2b1",
   "metadata": {},
   "source": [
    "- RFM analysis numerically scale each of these three categories for each customer 1 to 5. This is the higher the number, the better the result. The \"Best\" customer would receive a top score in every category whereas for Receny score, this is the opposite, because the most valueable customer is that has recently made purchasing so Recency score is labeled as 1.\n",
    "\n",
    "- The max number of Frequency and Monetary metrics mean that the customer is purchasing frequently and spending more money, so the highest score should be given as 5 to represent best customers."
   ]
  },
  {
   "cell_type": "markdown",
   "id": "0f0a3fe7",
   "metadata": {},
   "source": [
    "## RFM Analysis"
   ]
  },
  {
   "cell_type": "code",
   "execution_count": null,
   "id": "2194d796",
   "metadata": {},
   "outputs": [],
   "source": []
  },
  {
   "cell_type": "code",
   "execution_count": 11,
   "id": "0a022e80",
   "metadata": {},
   "outputs": [
    {
     "data": {
      "text/html": [
       "<div>\n",
       "<style scoped>\n",
       "    .dataframe tbody tr th:only-of-type {\n",
       "        vertical-align: middle;\n",
       "    }\n",
       "\n",
       "    .dataframe tbody tr th {\n",
       "        vertical-align: top;\n",
       "    }\n",
       "\n",
       "    .dataframe thead tr th {\n",
       "        text-align: left;\n",
       "    }\n",
       "\n",
       "    .dataframe thead tr:last-of-type th {\n",
       "        text-align: right;\n",
       "    }\n",
       "</style>\n",
       "<table border=\"1\" class=\"dataframe\">\n",
       "  <thead>\n",
       "    <tr>\n",
       "      <th></th>\n",
       "      <th>bill_amount</th>\n",
       "      <th colspan=\"2\" halign=\"left\">created</th>\n",
       "      <th>invoice_id</th>\n",
       "    </tr>\n",
       "    <tr>\n",
       "      <th></th>\n",
       "      <th>sum</th>\n",
       "      <th>max</th>\n",
       "      <th>min</th>\n",
       "      <th>nunique</th>\n",
       "    </tr>\n",
       "    <tr>\n",
       "      <th>retailer_names</th>\n",
       "      <th></th>\n",
       "      <th></th>\n",
       "      <th></th>\n",
       "      <th></th>\n",
       "    </tr>\n",
       "  </thead>\n",
       "  <tbody>\n",
       "    <tr>\n",
       "      <th>RetailerID1</th>\n",
       "      <td>421557.97</td>\n",
       "      <td>2018-12-03 16:52:00</td>\n",
       "      <td>2018-01-02 06:56:00</td>\n",
       "      <td>189</td>\n",
       "    </tr>\n",
       "    <tr>\n",
       "      <th>RetailerID10</th>\n",
       "      <td>68787.08</td>\n",
       "      <td>2018-12-03 06:54:00</td>\n",
       "      <td>2018-01-23 06:30:00</td>\n",
       "      <td>36</td>\n",
       "    </tr>\n",
       "    <tr>\n",
       "      <th>RetailerID100</th>\n",
       "      <td>107256.37</td>\n",
       "      <td>2018-12-02 08:01:00</td>\n",
       "      <td>2018-01-03 05:53:00</td>\n",
       "      <td>57</td>\n",
       "    </tr>\n",
       "    <tr>\n",
       "      <th>RetailerID101</th>\n",
       "      <td>574727.13</td>\n",
       "      <td>2018-12-03 15:33:00</td>\n",
       "      <td>2017-12-19 07:31:00</td>\n",
       "      <td>265</td>\n",
       "    </tr>\n",
       "    <tr>\n",
       "      <th>RetailerID102</th>\n",
       "      <td>35524.84</td>\n",
       "      <td>2018-11-03 13:57:00</td>\n",
       "      <td>2018-01-30 06:51:00</td>\n",
       "      <td>14</td>\n",
       "    </tr>\n",
       "  </tbody>\n",
       "</table>\n",
       "</div>"
      ],
      "text/plain": [
       "               bill_amount             created                     invoice_id\n",
       "                       sum                 max                 min    nunique\n",
       "retailer_names                                                               \n",
       "RetailerID1      421557.97 2018-12-03 16:52:00 2018-01-02 06:56:00        189\n",
       "RetailerID10      68787.08 2018-12-03 06:54:00 2018-01-23 06:30:00         36\n",
       "RetailerID100    107256.37 2018-12-02 08:01:00 2018-01-03 05:53:00         57\n",
       "RetailerID101    574727.13 2018-12-03 15:33:00 2017-12-19 07:31:00        265\n",
       "RetailerID102     35524.84 2018-11-03 13:57:00 2018-01-30 06:51:00         14"
      ]
     },
     "execution_count": 11,
     "metadata": {},
     "output_type": "execute_result"
    }
   ],
   "source": [
    "# Aggregate at customer level\n",
    "customer_data = pd.DataFrame(clean_credit.pivot_table(index=\"retailer_names\", \n",
    "                values=[\"created\", \"bill_amount\",'invoice_id'], \n",
    "            aggfunc={\"created\": [min, max], \"bill_amount\": sum, 'invoice_id':pd.Series.nunique}))\n",
    "\n",
    "\n",
    "\n",
    "customer_data.head()"
   ]
  },
  {
   "cell_type": "code",
   "execution_count": 12,
   "id": "b30bc8e2",
   "metadata": {},
   "outputs": [
    {
     "data": {
      "text/html": [
       "<div>\n",
       "<style scoped>\n",
       "    .dataframe tbody tr th:only-of-type {\n",
       "        vertical-align: middle;\n",
       "    }\n",
       "\n",
       "    .dataframe tbody tr th {\n",
       "        vertical-align: top;\n",
       "    }\n",
       "\n",
       "    .dataframe thead th {\n",
       "        text-align: right;\n",
       "    }\n",
       "</style>\n",
       "<table border=\"1\" class=\"dataframe\">\n",
       "  <thead>\n",
       "    <tr style=\"text-align: right;\">\n",
       "      <th></th>\n",
       "      <th>MonetaryValue</th>\n",
       "      <th>LastInvoiceDate</th>\n",
       "      <th>FirstInvoiceDate</th>\n",
       "      <th>Frequency</th>\n",
       "    </tr>\n",
       "    <tr>\n",
       "      <th>retailer_names</th>\n",
       "      <th></th>\n",
       "      <th></th>\n",
       "      <th></th>\n",
       "      <th></th>\n",
       "    </tr>\n",
       "  </thead>\n",
       "  <tbody>\n",
       "    <tr>\n",
       "      <th>RetailerID1</th>\n",
       "      <td>421557.97</td>\n",
       "      <td>2018-12-03 16:52:00</td>\n",
       "      <td>2018-01-02 06:56:00</td>\n",
       "      <td>189</td>\n",
       "    </tr>\n",
       "    <tr>\n",
       "      <th>RetailerID10</th>\n",
       "      <td>68787.08</td>\n",
       "      <td>2018-12-03 06:54:00</td>\n",
       "      <td>2018-01-23 06:30:00</td>\n",
       "      <td>36</td>\n",
       "    </tr>\n",
       "    <tr>\n",
       "      <th>RetailerID100</th>\n",
       "      <td>107256.37</td>\n",
       "      <td>2018-12-02 08:01:00</td>\n",
       "      <td>2018-01-03 05:53:00</td>\n",
       "      <td>57</td>\n",
       "    </tr>\n",
       "    <tr>\n",
       "      <th>RetailerID101</th>\n",
       "      <td>574727.13</td>\n",
       "      <td>2018-12-03 15:33:00</td>\n",
       "      <td>2017-12-19 07:31:00</td>\n",
       "      <td>265</td>\n",
       "    </tr>\n",
       "    <tr>\n",
       "      <th>RetailerID102</th>\n",
       "      <td>35524.84</td>\n",
       "      <td>2018-11-03 13:57:00</td>\n",
       "      <td>2018-01-30 06:51:00</td>\n",
       "      <td>14</td>\n",
       "    </tr>\n",
       "  </tbody>\n",
       "</table>\n",
       "</div>"
      ],
      "text/plain": [
       "                MonetaryValue     LastInvoiceDate    FirstInvoiceDate  \\\n",
       "retailer_names                                                          \n",
       "RetailerID1         421557.97 2018-12-03 16:52:00 2018-01-02 06:56:00   \n",
       "RetailerID10         68787.08 2018-12-03 06:54:00 2018-01-23 06:30:00   \n",
       "RetailerID100       107256.37 2018-12-02 08:01:00 2018-01-03 05:53:00   \n",
       "RetailerID101       574727.13 2018-12-03 15:33:00 2017-12-19 07:31:00   \n",
       "RetailerID102        35524.84 2018-11-03 13:57:00 2018-01-30 06:51:00   \n",
       "\n",
       "                Frequency  \n",
       "retailer_names             \n",
       "RetailerID1           189  \n",
       "RetailerID10           36  \n",
       "RetailerID100          57  \n",
       "RetailerID101         265  \n",
       "RetailerID102          14  "
      ]
     },
     "execution_count": 12,
     "metadata": {},
     "output_type": "execute_result"
    }
   ],
   "source": [
    "# Rename columns\n",
    "customer_data.columns = [\"MonetaryValue\", \"LastInvoiceDate\", \"FirstInvoiceDate\", \"Frequency\"]\n",
    "#customer_data.columns = [\"LastInvoiceDate\", \"FirstInvoiceDate\", \"Frequency\", \"MonetaryValue\"]\n",
    "customer_data.head()"
   ]
  },
  {
   "cell_type": "code",
   "execution_count": null,
   "id": "3417bf5e",
   "metadata": {},
   "outputs": [],
   "source": [
    "customer_data"
   ]
  },
  {
   "cell_type": "code",
   "execution_count": null,
   "id": "863da72b",
   "metadata": {},
   "outputs": [],
   "source": [
    "performans_date"
   ]
  },
  {
   "cell_type": "code",
   "execution_count": 13,
   "id": "fef1a3e5",
   "metadata": {},
   "outputs": [
    {
     "data": {
      "text/plain": [
       "<AxesSubplot:>"
      ]
     },
     "execution_count": 13,
     "metadata": {},
     "output_type": "execute_result"
    },
    {
     "data": {
      "image/png": "[encoded data removed]",
      "text/plain": [
       "<Figure size 432x288 with 1 Axes>"
      ]
     },
     "metadata": {
      "needs_background": "light"
     },
     "output_type": "display_data"
    }
   ],
   "source": [
    "# Calculate recency: the interval (days) between the last transation day and today\n",
    "customer_data[\"Recency\"] = (performans_date - customer_data[\"LastInvoiceDate\"]) / np.timedelta64(1, 'D')\n",
    "\n",
    "customer_data[\"Recency\"].hist()"
   ]
  },
  {
   "cell_type": "code",
   "execution_count": null,
   "id": "edfa16fd",
   "metadata": {},
   "outputs": [],
   "source": [
    "#customer_data[\"Frequency\"].hist()\n",
    "\n",
    "sns.distplot( customer_data[\"MonetaryValue\"] , color=\"darkblue\")\n",
    "print(\"Skewness: %f\" % customer_data[\"MonetaryValue\"].skew())\n",
    "print(\"Kurtosis: %f\" % customer_data[\"MonetaryValue\"].kurt())\n"
   ]
  },
  {
   "cell_type": "code",
   "execution_count": 14,
   "id": "4a12d12c",
   "metadata": {},
   "outputs": [
    {
     "data": {
      "text/plain": [
       "<AxesSubplot:>"
      ]
     },
     "execution_count": 14,
     "metadata": {},
     "output_type": "execute_result"
    },
    {
     "data": {
      "image/png": "[encoded data removed]",
      "text/plain": [
       "<Figure size 432x288 with 1 Axes>"
      ]
     },
     "metadata": {
      "needs_background": "light"
     },
     "output_type": "display_data"
    }
   ],
   "source": [
    "# Calculate retailer lifetime: the interval (days) between the first transaction day and today\n",
    "customer_data[\"Lifetime\"] = (performans_date - customer_data[\"FirstInvoiceDate\"]) / np.timedelta64(1, 'D')\n",
    "\n",
    "customer_data[\"Lifetime\"].hist()"
   ]
  },
  {
   "cell_type": "code",
   "execution_count": null,
   "id": "72be6de4",
   "metadata": {},
   "outputs": [],
   "source": [
    "plt.boxplot(customer_data.Lifetime) "
   ]
  },
  {
   "cell_type": "code",
   "execution_count": null,
   "id": "1dbe8959",
   "metadata": {},
   "outputs": [],
   "source": [
    "customer_data[\"Frequency\"].hist()"
   ]
  },
  {
   "cell_type": "code",
   "execution_count": null,
   "id": "cfebbb1a",
   "metadata": {},
   "outputs": [],
   "source": [
    "#customer_data[customer_data[\"Frequency\"] > 1000]\n",
    "customer_data[customer_data[\"MonetaryValue\"] >np.percentile(customer_data[\"MonetaryValue\"], 99.5)]"
   ]
  },
  {
   "cell_type": "code",
   "execution_count": null,
   "id": "b255299d",
   "metadata": {},
   "outputs": [],
   "source": [
    "customer_data[\"MonetaryValue\"].describe() "
   ]
  },
  {
   "cell_type": "code",
   "execution_count": null,
   "id": "b6e3ed00",
   "metadata": {},
   "outputs": [],
   "source": [
    "sns.displot(customer_data, x=\"Lifetime\", kind=\"kde\", bw_adjust=2)"
   ]
  },
  {
   "cell_type": "code",
   "execution_count": null,
   "id": "4730cca0",
   "metadata": {},
   "outputs": [],
   "source": [
    "customer_data.loc[customer_data[\"Lifetime\"] < 100]\n",
    "# only 2 new customers (below 100 days) but only 1 transaction (frequency)\n",
    "# average lifetime is 318 days\n",
    "# 34 customers lifetime slightly below average, so not really considered as new customers, just low frequency\n",
    "# group low engagement and low value (frequency >= 2 sampai 18 - 43(max)"
   ]
  },
  {
   "cell_type": "code",
   "execution_count": null,
   "id": "ea91df6a",
   "metadata": {},
   "outputs": [],
   "source": [
    "customer_data = customer_data[customer_data[\"Lifetime\"] > 100]"
   ]
  },
  {
   "cell_type": "code",
   "execution_count": 15,
   "id": "d71faebc",
   "metadata": {},
   "outputs": [
    {
     "data": {
      "text/plain": [
       "<AxesSubplot:>"
      ]
     },
     "execution_count": 15,
     "metadata": {},
     "output_type": "execute_result"
    },
    {
     "data": {
      "image/png": "[encoded data removed]",
      "text/plain": [
       "<Figure size 432x288 with 1 Axes>"
      ]
     },
     "metadata": {
      "needs_background": "light"
     },
     "output_type": "display_data"
    }
   ],
   "source": [
    "# Calculate the relative recency: recency / customer lifetime\n",
    "# Note: this is to normalise the fact that newer customers have lower lifetime and thus lower recency\n",
    "# by nature.\n",
    "customer_data[\"RelRecency\"] = 1 - customer_data[\"Recency\"] / customer_data[\"Lifetime\"]\n",
    "customer_data[\"RelRecency\"].hist()"
   ]
  },
  {
   "cell_type": "code",
   "execution_count": null,
   "id": "0ce79326",
   "metadata": {},
   "outputs": [],
   "source": [
    "customer_data[\"Recency\"].describe()"
   ]
  },
  {
   "cell_type": "code",
   "execution_count": null,
   "id": "2c695d00",
   "metadata": {},
   "outputs": [],
   "source": [
    "customer_data[\"RelRecency\"].describe()"
   ]
  },
  {
   "cell_type": "code",
   "execution_count": null,
   "id": "10db2fb4",
   "metadata": {},
   "outputs": [],
   "source": [
    "customer_data[\"RelRecency\"].hist()"
   ]
  },
  {
   "cell_type": "code",
   "execution_count": null,
   "id": "da39bd1b",
   "metadata": {},
   "outputs": [],
   "source": [
    "sum(customer_data[\"RelRecency\"]==0) / len(customer_data)\n",
    "# This shows that 2.8% customers --> around 6 retailers only had one transactions."
   ]
  },
  {
   "cell_type": "code",
   "execution_count": null,
   "id": "fd7c4e4d",
   "metadata": {},
   "outputs": [],
   "source": [
    "customer_data.loc[customer_data[\"RelRecency\"]==0]"
   ]
  },
  {
   "cell_type": "code",
   "execution_count": 16,
   "id": "6739aab3",
   "metadata": {},
   "outputs": [
    {
     "data": {
      "text/plain": [
       "False    215\n",
       "Name: RelFrequency, dtype: int64"
      ]
     },
     "execution_count": 16,
     "metadata": {},
     "output_type": "execute_result"
    }
   ],
   "source": [
    "# Calculate the relative frequency: frequency / customer lifetime\n",
    "# Note: this is to normalise the fact that newer customers have lower lifetime and thus lower frequency\n",
    "# by nature.\n",
    "customer_data[\"RelFrequency\"] = customer_data[\"Frequency\"] / customer_data[\"Lifetime\"]\n",
    "customer_data[\"RelFrequency\"].apply(lambda x: np.isinf(x)).value_counts()\n",
    "# No record with inifinity value  --> No zero recency/zero lifetime"
   ]
  },
  {
   "cell_type": "code",
   "execution_count": 17,
   "id": "3e8f7406",
   "metadata": {},
   "outputs": [
    {
     "data": {
      "text/plain": [
       "<AxesSubplot:>"
      ]
     },
     "execution_count": 17,
     "metadata": {},
     "output_type": "execute_result"
    },
    {
     "data": {
      "image/png": "[encoded data removed]",
      "text/plain": [
       "<Figure size 432x288 with 1 Axes>"
      ]
     },
     "metadata": {
      "needs_background": "light"
     },
     "output_type": "display_data"
    }
   ],
   "source": [
    "customer_data = customer_data[customer_data[\"RelFrequency\"].apply(lambda x: np.isinf(x))==False]\n",
    "customer_data[\"RelFrequency\"].hist()\n",
    "# There are some outliers in terms of frequency"
   ]
  },
  {
   "cell_type": "code",
   "execution_count": null,
   "id": "ce4ab818",
   "metadata": {},
   "outputs": [],
   "source": [
    "customer_data[\"RelFrequency\"].describe()"
   ]
  },
  {
   "cell_type": "code",
   "execution_count": null,
   "id": "c788e6b6",
   "metadata": {},
   "outputs": [],
   "source": [
    "customer_data[\"MonetaryValue\"].describe()"
   ]
  },
  {
   "cell_type": "code",
   "execution_count": null,
   "id": "33be8b68",
   "metadata": {},
   "outputs": [],
   "source": [
    "customer_data[\"MonetaryValue\"].hist()\n",
    "# There are some outliers in terms of monetary value."
   ]
  },
  {
   "cell_type": "code",
   "execution_count": null,
   "id": "e0fc4015",
   "metadata": {},
   "outputs": [],
   "source": [
    "#np.percentile(customer_data[\"MonetaryValue\"], 50) # give median of monetary value\n",
    "np.percentile(customer_data[\"MonetaryValue\"], 99.5) # give 99th percentile of monetary value ==> 1.7e+06\n",
    "# The 99% percentile of monetary value is 1.7e+06, i.e., 0.5% * 215 = 2 retailers have value higher than 1.7e+06.\n",
    "# We should exclude these outliers from our analysis."
   ]
  },
  {
   "cell_type": "code",
   "execution_count": null,
   "id": "6edfe45b",
   "metadata": {},
   "outputs": [],
   "source": [
    "customer_data = customer_data[customer_data[\"MonetaryValue\"]<=np.percentile(customer_data[\"MonetaryValue\"], 99.5)]"
   ]
  },
  {
   "cell_type": "code",
   "execution_count": null,
   "id": "747486b1",
   "metadata": {},
   "outputs": [],
   "source": [
    "len(customer_data)"
   ]
  },
  {
   "cell_type": "code",
   "execution_count": 18,
   "id": "3b310d1f",
   "metadata": {},
   "outputs": [
    {
     "data": {
      "text/plain": [
       "<AxesSubplot:>"
      ]
     },
     "execution_count": 18,
     "metadata": {},
     "output_type": "execute_result"
    },
    {
     "data": {
      "image/png": "[encoded data removed]",
      "text/plain": [
       "<Figure size 432x288 with 1 Axes>"
      ]
     },
     "metadata": {
      "needs_background": "light"
     },
     "output_type": "display_data"
    }
   ],
   "source": [
    "customer_data[\"RelMonetaryValue\"] = customer_data[\"MonetaryValue\"] / customer_data[\"Lifetime\"]\n",
    "customer_data[\"RelMonetaryValue\"].hist()"
   ]
  },
  {
   "cell_type": "code",
   "execution_count": null,
   "id": "d153a103",
   "metadata": {},
   "outputs": [],
   "source": [
    "customer_data[\"RelMonetaryValue\"].describe()"
   ]
  },
  {
   "cell_type": "code",
   "execution_count": 39,
   "id": "dc39fa2c",
   "metadata": {},
   "outputs": [
    {
     "data": {
      "text/html": [
       "<div>\n",
       "<style scoped>\n",
       "    .dataframe tbody tr th:only-of-type {\n",
       "        vertical-align: middle;\n",
       "    }\n",
       "\n",
       "    .dataframe tbody tr th {\n",
       "        vertical-align: top;\n",
       "    }\n",
       "\n",
       "    .dataframe thead th {\n",
       "        text-align: right;\n",
       "    }\n",
       "</style>\n",
       "<table border=\"1\" class=\"dataframe\">\n",
       "  <thead>\n",
       "    <tr style=\"text-align: right;\">\n",
       "      <th></th>\n",
       "      <th>MonetaryValue</th>\n",
       "      <th>LastInvoiceDate</th>\n",
       "      <th>FirstInvoiceDate</th>\n",
       "      <th>Frequency</th>\n",
       "      <th>Recency</th>\n",
       "      <th>Lifetime</th>\n",
       "    </tr>\n",
       "    <tr>\n",
       "      <th>retailer_names</th>\n",
       "      <th></th>\n",
       "      <th></th>\n",
       "      <th></th>\n",
       "      <th></th>\n",
       "      <th></th>\n",
       "      <th></th>\n",
       "    </tr>\n",
       "  </thead>\n",
       "  <tbody>\n",
       "    <tr>\n",
       "      <th>RetailerID1</th>\n",
       "      <td>421557.97</td>\n",
       "      <td>2018-12-03 16:52:00</td>\n",
       "      <td>2018-01-02 06:56:00</td>\n",
       "      <td>189</td>\n",
       "      <td>2.065278</td>\n",
       "      <td>337.479167</td>\n",
       "    </tr>\n",
       "    <tr>\n",
       "      <th>RetailerID10</th>\n",
       "      <td>68787.08</td>\n",
       "      <td>2018-12-03 06:54:00</td>\n",
       "      <td>2018-01-23 06:30:00</td>\n",
       "      <td>36</td>\n",
       "      <td>2.480556</td>\n",
       "      <td>316.497222</td>\n",
       "    </tr>\n",
       "    <tr>\n",
       "      <th>RetailerID100</th>\n",
       "      <td>107256.37</td>\n",
       "      <td>2018-12-02 08:01:00</td>\n",
       "      <td>2018-01-03 05:53:00</td>\n",
       "      <td>57</td>\n",
       "      <td>3.434028</td>\n",
       "      <td>336.522917</td>\n",
       "    </tr>\n",
       "    <tr>\n",
       "      <th>RetailerID101</th>\n",
       "      <td>574727.13</td>\n",
       "      <td>2018-12-03 15:33:00</td>\n",
       "      <td>2017-12-19 07:31:00</td>\n",
       "      <td>265</td>\n",
       "      <td>2.120139</td>\n",
       "      <td>351.454861</td>\n",
       "    </tr>\n",
       "    <tr>\n",
       "      <th>RetailerID102</th>\n",
       "      <td>35524.84</td>\n",
       "      <td>2018-11-03 13:57:00</td>\n",
       "      <td>2018-01-30 06:51:00</td>\n",
       "      <td>14</td>\n",
       "      <td>32.186806</td>\n",
       "      <td>309.482639</td>\n",
       "    </tr>\n",
       "  </tbody>\n",
       "</table>\n",
       "</div>"
      ],
      "text/plain": [
       "                MonetaryValue     LastInvoiceDate    FirstInvoiceDate  \\\n",
       "retailer_names                                                          \n",
       "RetailerID1         421557.97 2018-12-03 16:52:00 2018-01-02 06:56:00   \n",
       "RetailerID10         68787.08 2018-12-03 06:54:00 2018-01-23 06:30:00   \n",
       "RetailerID100       107256.37 2018-12-02 08:01:00 2018-01-03 05:53:00   \n",
       "RetailerID101       574727.13 2018-12-03 15:33:00 2017-12-19 07:31:00   \n",
       "RetailerID102        35524.84 2018-11-03 13:57:00 2018-01-30 06:51:00   \n",
       "\n",
       "                Frequency    Recency    Lifetime  \n",
       "retailer_names                                    \n",
       "RetailerID1           189   2.065278  337.479167  \n",
       "RetailerID10           36   2.480556  316.497222  \n",
       "RetailerID100          57   3.434028  336.522917  \n",
       "RetailerID101         265   2.120139  351.454861  \n",
       "RetailerID102          14  32.186806  309.482639  "
      ]
     },
     "execution_count": 39,
     "metadata": {},
     "output_type": "execute_result"
    }
   ],
   "source": [
    "customer_data.head()"
   ]
  },
  {
   "cell_type": "code",
   "execution_count": 17,
   "id": "fc1b192d",
   "metadata": {},
   "outputs": [],
   "source": [
    "Univ1 = customer_data.reset_index()"
   ]
  },
  {
   "cell_type": "markdown",
   "id": "77c41ad8",
   "metadata": {},
   "source": [
    "### K-Means Clustering"
   ]
  },
  {
   "cell_type": "code",
   "execution_count": 18,
   "id": "6e9ac77e",
   "metadata": {},
   "outputs": [],
   "source": [
    "from scipy import stats\n",
    "from sklearn.preprocessing import StandardScaler\n",
    "from sklearn.cluster import\tKMeans"
   ]
  },
  {
   "cell_type": "code",
   "execution_count": 19,
   "id": "1ac0d96b",
   "metadata": {},
   "outputs": [],
   "source": [
    "Univ = Univ1[['retailer_names','MonetaryValue', 'Frequency', 'Recency','Lifetime']]"
   ]
  },
  {
   "cell_type": "code",
   "execution_count": 20,
   "id": "f0855ca8",
   "metadata": {},
   "outputs": [],
   "source": [
    "Univ_num = Univ1[['MonetaryValue', 'Frequency', 'Recency','Lifetime']]"
   ]
  },
  {
   "cell_type": "code",
   "execution_count": 23,
   "id": "a8a72f3d",
   "metadata": {},
   "outputs": [
    {
     "name": "stderr",
     "output_type": "stream",
     "text": [
      "C:\\Users\\Acer\\anaconda3\\lib\\site-packages\\seaborn\\distributions.py:2619: FutureWarning: `distplot` is a deprecated function and will be removed in a future version. Please adapt your code to use either `displot` (a figure-level function with similar flexibility) or `histplot` (an axes-level function for histograms).\n",
      "  warnings.warn(msg, FutureWarning)\n",
      "C:\\Users\\Acer\\anaconda3\\lib\\site-packages\\seaborn\\distributions.py:2619: FutureWarning: `distplot` is a deprecated function and will be removed in a future version. Please adapt your code to use either `displot` (a figure-level function with similar flexibility) or `histplot` (an axes-level function for histograms).\n",
      "  warnings.warn(msg, FutureWarning)\n"
     ]
    },
    {
     "name": "stdout",
     "output_type": "stream",
     "text": [
      "Recency's: Skew: 1.1915843590096797, : SkewtestResult(statistic=6.000440984814466, pvalue=1.967823629232138e-09)\n",
      "Frequency's: Skew: 3.9209491681371786, : SkewtestResult(statistic=11.799722791237931, pvalue=3.915993394533396e-32)\n"
     ]
    },
    {
     "name": "stderr",
     "output_type": "stream",
     "text": [
      "C:\\Users\\Acer\\anaconda3\\lib\\site-packages\\seaborn\\distributions.py:2619: FutureWarning: `distplot` is a deprecated function and will be removed in a future version. Please adapt your code to use either `displot` (a figure-level function with similar flexibility) or `histplot` (an axes-level function for histograms).\n",
      "  warnings.warn(msg, FutureWarning)\n"
     ]
    },
    {
     "name": "stdout",
     "output_type": "stream",
     "text": [
      "MonetaryValue's: Skew: 5.932043326086408, : SkewtestResult(statistic=13.962009490410134, pvalue=2.6583151996944115e-44)\n"
     ]
    },
    {
     "data": {
      "image/png": "[encoded data removed]",
      "text/plain": [
       "<Figure size 648x648 with 3 Axes>"
      ]
     },
     "metadata": {
      "needs_background": "light"
     },
     "output_type": "display_data"
    }
   ],
   "source": [
    "plt.figure(figsize=(9, 9))\n",
    "plt.subplot(3, 1, 1)\n",
    "check_skew(Univ_num,'Recency')\n",
    "plt.subplot(3, 1, 2)\n",
    "check_skew(Univ_num,'Frequency')\n",
    "plt.subplot(3, 1, 3)\n",
    "check_skew(Univ_num,'MonetaryValue')\n"
   ]
  },
  {
   "cell_type": "markdown",
   "id": "1ee48316",
   "metadata": {},
   "source": [
    "Normalize the values"
   ]
  },
  {
   "cell_type": "code",
   "execution_count": 21,
   "id": "519cbc83",
   "metadata": {},
   "outputs": [],
   "source": [
    "#Removing Skewness\n",
    "df_rfm_log = np.log(Univ_num)"
   ]
  },
  {
   "cell_type": "code",
   "execution_count": 22,
   "id": "1c2b9370",
   "metadata": {},
   "outputs": [],
   "source": [
    "## Function to check skewness\n",
    "def check_skew(df_skew, column):\n",
    "    skew = stats.skew(df_skew[column])\n",
    "    skewtest = stats.skewtest(df_skew[column])\n",
    "    plt.title('Distribution of ' + column)\n",
    "    sns.distplot(df_skew[column])\n",
    "    print(\"{}'s: Skew: {}, : {}\".format(column, skew, skewtest))\n",
    "    return"
   ]
  },
  {
   "cell_type": "code",
   "execution_count": 26,
   "id": "48d3119e",
   "metadata": {},
   "outputs": [
    {
     "name": "stderr",
     "output_type": "stream",
     "text": [
      "C:\\Users\\Acer\\anaconda3\\lib\\site-packages\\seaborn\\distributions.py:2619: FutureWarning: `distplot` is a deprecated function and will be removed in a future version. Please adapt your code to use either `displot` (a figure-level function with similar flexibility) or `histplot` (an axes-level function for histograms).\n",
      "  warnings.warn(msg, FutureWarning)\n",
      "C:\\Users\\Acer\\anaconda3\\lib\\site-packages\\seaborn\\distributions.py:2619: FutureWarning: `distplot` is a deprecated function and will be removed in a future version. Please adapt your code to use either `displot` (a figure-level function with similar flexibility) or `histplot` (an axes-level function for histograms).\n",
      "  warnings.warn(msg, FutureWarning)\n"
     ]
    },
    {
     "name": "stdout",
     "output_type": "stream",
     "text": [
      "Recency's: Skew: 0.5032504491659885, : SkewtestResult(statistic=2.9547366887798567, pvalue=0.0031293600912372637)\n",
      "Frequency's: Skew: -0.048870662730500815, : SkewtestResult(statistic=-0.30182823252158597, pvalue=0.7627830075426971)\n"
     ]
    },
    {
     "name": "stderr",
     "output_type": "stream",
     "text": [
      "C:\\Users\\Acer\\anaconda3\\lib\\site-packages\\seaborn\\distributions.py:2619: FutureWarning: `distplot` is a deprecated function and will be removed in a future version. Please adapt your code to use either `displot` (a figure-level function with similar flexibility) or `histplot` (an axes-level function for histograms).\n",
      "  warnings.warn(msg, FutureWarning)\n"
     ]
    },
    {
     "name": "stdout",
     "output_type": "stream",
     "text": [
      "MonetaryValue's: Skew: -0.37057837205613325, : SkewtestResult(statistic=-2.224253018442685, pvalue=0.026131425731922207)\n"
     ]
    },
    {
     "data": {
      "image/png": "[encoded data removed]",
      "text/plain": [
       "<Figure size 648x648 with 3 Axes>"
      ]
     },
     "metadata": {
      "needs_background": "light"
     },
     "output_type": "display_data"
    }
   ],
   "source": [
    "plt.figure(figsize=(9, 9))\n",
    "plt.subplot(3, 1, 1)\n",
    "check_skew(df_rfm_log,'Recency')\n",
    "plt.subplot(3, 1, 2)\n",
    "check_skew(df_rfm_log,'Frequency')\n",
    "plt.subplot(3, 1, 3)\n",
    "check_skew(df_rfm_log,'MonetaryValue')\n"
   ]
  },
  {
   "cell_type": "code",
   "execution_count": 22,
   "id": "f8f35a66",
   "metadata": {},
   "outputs": [
    {
     "data": {
      "text/html": [
       "<div>\n",
       "<style scoped>\n",
       "    .dataframe tbody tr th:only-of-type {\n",
       "        vertical-align: middle;\n",
       "    }\n",
       "\n",
       "    .dataframe tbody tr th {\n",
       "        vertical-align: top;\n",
       "    }\n",
       "\n",
       "    .dataframe thead th {\n",
       "        text-align: right;\n",
       "    }\n",
       "</style>\n",
       "<table border=\"1\" class=\"dataframe\">\n",
       "  <thead>\n",
       "    <tr style=\"text-align: right;\">\n",
       "      <th></th>\n",
       "      <th>MonetaryValue</th>\n",
       "      <th>Frequency</th>\n",
       "      <th>Recency</th>\n",
       "      <th>Lifetime</th>\n",
       "    </tr>\n",
       "  </thead>\n",
       "  <tbody>\n",
       "    <tr>\n",
       "      <th>0</th>\n",
       "      <td>1.277300</td>\n",
       "      <td>1.330597</td>\n",
       "      <td>-0.902163</td>\n",
       "      <td>0.411699</td>\n",
       "    </tr>\n",
       "    <tr>\n",
       "      <th>1</th>\n",
       "      <td>0.211215</td>\n",
       "      <td>0.194697</td>\n",
       "      <td>-0.809165</td>\n",
       "      <td>0.016590</td>\n",
       "    </tr>\n",
       "    <tr>\n",
       "      <th>2</th>\n",
       "      <td>0.472427</td>\n",
       "      <td>0.509480</td>\n",
       "      <td>-0.644074</td>\n",
       "      <td>0.394233</td>\n",
       "    </tr>\n",
       "    <tr>\n",
       "      <th>3</th>\n",
       "      <td>1.459557</td>\n",
       "      <td>1.562118</td>\n",
       "      <td>-0.888856</td>\n",
       "      <td>0.661468</td>\n",
       "    </tr>\n",
       "    <tr>\n",
       "      <th>4</th>\n",
       "      <td>-0.177353</td>\n",
       "      <td>-0.452268</td>\n",
       "      <td>0.491799</td>\n",
       "      <td>-0.121367</td>\n",
       "    </tr>\n",
       "  </tbody>\n",
       "</table>\n",
       "</div>"
      ],
      "text/plain": [
       "   MonetaryValue  Frequency   Recency  Lifetime\n",
       "0       1.277300   1.330597 -0.902163  0.411699\n",
       "1       0.211215   0.194697 -0.809165  0.016590\n",
       "2       0.472427   0.509480 -0.644074  0.394233\n",
       "3       1.459557   1.562118 -0.888856  0.661468\n",
       "4      -0.177353  -0.452268  0.491799 -0.121367"
      ]
     },
     "execution_count": 22,
     "metadata": {},
     "output_type": "execute_result"
    }
   ],
   "source": [
    "# scale data\n",
    "scaler = StandardScaler()\n",
    "scaler.fit(df_rfm_log)\n",
    "df_norm= scaler.transform(df_rfm_log)\n",
    "df_norm = pd.DataFrame(df_norm, columns = df_rfm_log.columns)\n",
    "df_norm.head()"
   ]
  },
  {
   "cell_type": "code",
   "execution_count": 28,
   "id": "fb004d87",
   "metadata": {},
   "outputs": [
    {
     "name": "stderr",
     "output_type": "stream",
     "text": [
      "C:\\Users\\Acer\\anaconda3\\lib\\site-packages\\sklearn\\cluster\\_kmeans.py:1332: UserWarning: KMeans is known to have a memory leak on Windows with MKL, when there are less chunks than available threads. You can avoid it by setting the environment variable OMP_NUM_THREADS=1.\n",
      "  warnings.warn(\n",
      "C:\\Users\\Acer\\anaconda3\\lib\\site-packages\\sklearn\\cluster\\_kmeans.py:1332: UserWarning: KMeans is known to have a memory leak on Windows with MKL, when there are less chunks than available threads. You can avoid it by setting the environment variable OMP_NUM_THREADS=1.\n",
      "  warnings.warn(\n",
      "C:\\Users\\Acer\\anaconda3\\lib\\site-packages\\sklearn\\cluster\\_kmeans.py:1332: UserWarning: KMeans is known to have a memory leak on Windows with MKL, when there are less chunks than available threads. You can avoid it by setting the environment variable OMP_NUM_THREADS=1.\n",
      "  warnings.warn(\n",
      "C:\\Users\\Acer\\anaconda3\\lib\\site-packages\\sklearn\\cluster\\_kmeans.py:1332: UserWarning: KMeans is known to have a memory leak on Windows with MKL, when there are less chunks than available threads. You can avoid it by setting the environment variable OMP_NUM_THREADS=1.\n",
      "  warnings.warn(\n",
      "C:\\Users\\Acer\\anaconda3\\lib\\site-packages\\sklearn\\cluster\\_kmeans.py:1332: UserWarning: KMeans is known to have a memory leak on Windows with MKL, when there are less chunks than available threads. You can avoid it by setting the environment variable OMP_NUM_THREADS=1.\n",
      "  warnings.warn(\n",
      "C:\\Users\\Acer\\anaconda3\\lib\\site-packages\\sklearn\\cluster\\_kmeans.py:1332: UserWarning: KMeans is known to have a memory leak on Windows with MKL, when there are less chunks than available threads. You can avoid it by setting the environment variable OMP_NUM_THREADS=1.\n",
      "  warnings.warn(\n",
      "C:\\Users\\Acer\\anaconda3\\lib\\site-packages\\sklearn\\cluster\\_kmeans.py:1332: UserWarning: KMeans is known to have a memory leak on Windows with MKL, when there are less chunks than available threads. You can avoid it by setting the environment variable OMP_NUM_THREADS=1.\n",
      "  warnings.warn(\n"
     ]
    },
    {
     "data": {
      "text/plain": [
       "Text(0, 0.5, 'total_within_SS')"
      ]
     },
     "execution_count": 28,
     "metadata": {},
     "output_type": "execute_result"
    },
    {
     "data": {
      "image/png": "[encoded data removed]",
      "text/plain": [
       "<Figure size 432x288 with 1 Axes>"
      ]
     },
     "metadata": {
      "needs_background": "light"
     },
     "output_type": "display_data"
    }
   ],
   "source": [
    "###### scree plot or elbow curve ############\n",
    "TWSS = []\n",
    "k = list(range(2,9))\n",
    "\n",
    "for i in k:\n",
    "    kmeans = KMeans(n_clusters = i)\n",
    "    kmeans.fit(df_norm)\n",
    "    TWSS.append(kmeans.inertia_)\n",
    "\n",
    "TWSS\n",
    "# Scree plot (elbow curve)\n",
    "plt.plot(k, TWSS, 'ro-');plt.xlabel(\"No_of_Clusters\");plt.ylabel(\"total_within_SS\")"
   ]
  },
  {
   "cell_type": "code",
   "execution_count": 23,
   "id": "6ff2e87e",
   "metadata": {},
   "outputs": [
    {
     "name": "stderr",
     "output_type": "stream",
     "text": [
      "C:\\Users\\Acer\\anaconda3\\lib\\site-packages\\sklearn\\cluster\\_kmeans.py:1332: UserWarning: KMeans is known to have a memory leak on Windows with MKL, when there are less chunks than available threads. You can avoid it by setting the environment variable OMP_NUM_THREADS=1.\n",
      "  warnings.warn(\n"
     ]
    },
    {
     "data": {
      "text/html": [
       "<style>#sk-container-id-1 {color: black;background-color: white;}#sk-container-id-1 pre{padding: 0;}#sk-container-id-1 div.sk-toggleable {background-color: white;}#sk-container-id-1 label.sk-toggleable__label {cursor: pointer;display: block;width: 100%;margin-bottom: 0;padding: 0.3em;box-sizing: border-box;text-align: center;}#sk-container-id-1 label.sk-toggleable__label-arrow:before {content: \"▸\";float: left;margin-right: 0.25em;color: #696969;}#sk-container-id-1 label.sk-toggleable__label-arrow:hover:before {color: black;}#sk-container-id-1 div.sk-estimator:hover label.sk-toggleable__label-arrow:before {color: black;}#sk-container-id-1 div.sk-toggleable__content {max-height: 0;max-width: 0;overflow: hidden;text-align: left;background-color: #f0f8ff;}#sk-container-id-1 div.sk-toggleable__content pre {margin: 0.2em;color: black;border-radius: 0.25em;background-color: #f0f8ff;}#sk-container-id-1 input.sk-toggleable__control:checked~div.sk-toggleable__content {max-height: 200px;max-width: 100%;overflow: auto;}#sk-container-id-1 input.sk-toggleable__control:checked~label.sk-toggleable__label-arrow:before {content: \"▾\";}#sk-container-id-1 div.sk-estimator input.sk-toggleable__control:checked~label.sk-toggleable__label {background-color: #d4ebff;}#sk-container-id-1 div.sk-label input.sk-toggleable__control:checked~label.sk-toggleable__label {background-color: #d4ebff;}#sk-container-id-1 input.sk-hidden--visually {border: 0;clip: rect(1px 1px 1px 1px);clip: rect(1px, 1px, 1px, 1px);height: 1px;margin: -1px;overflow: hidden;padding: 0;position: absolute;width: 1px;}#sk-container-id-1 div.sk-estimator {font-family: monospace;background-color: #f0f8ff;border: 1px dotted black;border-radius: 0.25em;box-sizing: border-box;margin-bottom: 0.5em;}#sk-container-id-1 div.sk-estimator:hover {background-color: #d4ebff;}#sk-container-id-1 div.sk-parallel-item::after {content: \"\";width: 100%;border-bottom: 1px solid gray;flex-grow: 1;}#sk-container-id-1 div.sk-label:hover label.sk-toggleable__label {background-color: #d4ebff;}#sk-container-id-1 div.sk-serial::before {content: \"\";position: absolute;border-left: 1px solid gray;box-sizing: border-box;top: 0;bottom: 0;left: 50%;z-index: 0;}#sk-container-id-1 div.sk-serial {display: flex;flex-direction: column;align-items: center;background-color: white;padding-right: 0.2em;padding-left: 0.2em;position: relative;}#sk-container-id-1 div.sk-item {position: relative;z-index: 1;}#sk-container-id-1 div.sk-parallel {display: flex;align-items: stretch;justify-content: center;background-color: white;position: relative;}#sk-container-id-1 div.sk-item::before, #sk-container-id-1 div.sk-parallel-item::before {content: \"\";position: absolute;border-left: 1px solid gray;box-sizing: border-box;top: 0;bottom: 0;left: 50%;z-index: -1;}#sk-container-id-1 div.sk-parallel-item {display: flex;flex-direction: column;z-index: 1;position: relative;background-color: white;}#sk-container-id-1 div.sk-parallel-item:first-child::after {align-self: flex-end;width: 50%;}#sk-container-id-1 div.sk-parallel-item:last-child::after {align-self: flex-start;width: 50%;}#sk-container-id-1 div.sk-parallel-item:only-child::after {width: 0;}#sk-container-id-1 div.sk-dashed-wrapped {border: 1px dashed gray;margin: 0 0.4em 0.5em 0.4em;box-sizing: border-box;padding-bottom: 0.4em;background-color: white;}#sk-container-id-1 div.sk-label label {font-family: monospace;font-weight: bold;display: inline-block;line-height: 1.2em;}#sk-container-id-1 div.sk-label-container {text-align: center;}#sk-container-id-1 div.sk-container {/* jupyter's `normalize.less` sets `[hidden] { display: none; }` but bootstrap.min.css set `[hidden] { display: none !important; }` so we also need the `!important` here to be able to override the default hidden behavior on the sphinx rendered scikit-learn.org. See: https://github.com/scikit-learn/scikit-learn/issues/21755 */display: inline-block !important;position: relative;}#sk-container-id-1 div.sk-text-repr-fallback {display: none;}</style><div id=\"sk-container-id-1\" class=\"sk-top-container\"><div class=\"sk-text-repr-fallback\"><pre>KMeans(n_clusters=5)</pre><b>In a Jupyter environment, please rerun this cell to show the HTML representation or trust the notebook. <br />On GitHub, the HTML representation is unable to render, please try loading this page with nbviewer.org.</b></div><div class=\"sk-container\" hidden><div class=\"sk-item\"><div class=\"sk-estimator sk-toggleable\"><input class=\"sk-toggleable__control sk-hidden--visually\" id=\"sk-estimator-id-1\" type=\"checkbox\" checked><label for=\"sk-estimator-id-1\" class=\"sk-toggleable__label sk-toggleable__label-arrow\">KMeans</label><div class=\"sk-toggleable__content\"><pre>KMeans(n_clusters=5)</pre></div></div></div></div></div>"
      ],
      "text/plain": [
       "KMeans(n_clusters=5)"
      ]
     },
     "execution_count": 23,
     "metadata": {},
     "output_type": "execute_result"
    }
   ],
   "source": [
    "# Selecting 4 clusters from the above scree plot which is the optimum number of clusters \n",
    "model = KMeans(n_clusters = 5)\n",
    "model.fit(df_norm)"
   ]
  },
  {
   "cell_type": "code",
   "execution_count": 24,
   "id": "dc43f144",
   "metadata": {},
   "outputs": [
    {
     "name": "stderr",
     "output_type": "stream",
     "text": [
      "C:\\Users\\Acer\\AppData\\Local\\Temp\\ipykernel_6552\\2535878820.py:3: SettingWithCopyWarning: \n",
      "A value is trying to be set on a copy of a slice from a DataFrame.\n",
      "Try using .loc[row_indexer,col_indexer] = value instead\n",
      "\n",
      "See the caveats in the documentation: https://pandas.pydata.org/pandas-docs/stable/user_guide/indexing.html#returning-a-view-versus-a-copy\n",
      "  Univ['clust'] = mb # creating a  new column and assigning it to new column\n"
     ]
    }
   ],
   "source": [
    "model.labels_ # getting the labels of clusters assigned to each row \n",
    "mb = pd.Series(model.labels_)  # converting numpy array into pandas series object \n",
    "Univ['clust'] = mb # creating a  new column and assigning it to new column "
   ]
  },
  {
   "cell_type": "code",
   "execution_count": 25,
   "id": "23f4722e",
   "metadata": {},
   "outputs": [
    {
     "name": "stderr",
     "output_type": "stream",
     "text": [
      "C:\\Users\\Acer\\AppData\\Local\\Temp\\ipykernel_6552\\1652505865.py:1: SettingWithCopyWarning: \n",
      "A value is trying to be set on a copy of a slice from a DataFrame\n",
      "\n",
      "See the caveats in the documentation: https://pandas.pydata.org/pandas-docs/stable/user_guide/indexing.html#returning-a-view-versus-a-copy\n",
      "  Univ.rename(columns={'clust': 'CreditScore'}, inplace=True)\n"
     ]
    },
    {
     "data": {
      "text/html": [
       "<div>\n",
       "<style scoped>\n",
       "    .dataframe tbody tr th:only-of-type {\n",
       "        vertical-align: middle;\n",
       "    }\n",
       "\n",
       "    .dataframe tbody tr th {\n",
       "        vertical-align: top;\n",
       "    }\n",
       "\n",
       "    .dataframe thead th {\n",
       "        text-align: right;\n",
       "    }\n",
       "</style>\n",
       "<table border=\"1\" class=\"dataframe\">\n",
       "  <thead>\n",
       "    <tr style=\"text-align: right;\">\n",
       "      <th></th>\n",
       "      <th>retailer_names</th>\n",
       "      <th>MonetaryValue</th>\n",
       "      <th>Frequency</th>\n",
       "      <th>Recency</th>\n",
       "      <th>Lifetime</th>\n",
       "      <th>CreditScore</th>\n",
       "    </tr>\n",
       "  </thead>\n",
       "  <tbody>\n",
       "    <tr>\n",
       "      <th>0</th>\n",
       "      <td>RetailerID1</td>\n",
       "      <td>421557.97</td>\n",
       "      <td>189</td>\n",
       "      <td>2.065278</td>\n",
       "      <td>337.479167</td>\n",
       "      <td>0</td>\n",
       "    </tr>\n",
       "    <tr>\n",
       "      <th>1</th>\n",
       "      <td>RetailerID10</td>\n",
       "      <td>68787.08</td>\n",
       "      <td>36</td>\n",
       "      <td>2.480556</td>\n",
       "      <td>316.497222</td>\n",
       "      <td>3</td>\n",
       "    </tr>\n",
       "    <tr>\n",
       "      <th>2</th>\n",
       "      <td>RetailerID100</td>\n",
       "      <td>107256.37</td>\n",
       "      <td>57</td>\n",
       "      <td>3.434028</td>\n",
       "      <td>336.522917</td>\n",
       "      <td>3</td>\n",
       "    </tr>\n",
       "    <tr>\n",
       "      <th>3</th>\n",
       "      <td>RetailerID101</td>\n",
       "      <td>574727.13</td>\n",
       "      <td>265</td>\n",
       "      <td>2.120139</td>\n",
       "      <td>351.454861</td>\n",
       "      <td>0</td>\n",
       "    </tr>\n",
       "    <tr>\n",
       "      <th>4</th>\n",
       "      <td>RetailerID102</td>\n",
       "      <td>35524.84</td>\n",
       "      <td>14</td>\n",
       "      <td>32.186806</td>\n",
       "      <td>309.482639</td>\n",
       "      <td>4</td>\n",
       "    </tr>\n",
       "  </tbody>\n",
       "</table>\n",
       "</div>"
      ],
      "text/plain": [
       "  retailer_names  MonetaryValue  Frequency    Recency    Lifetime  CreditScore\n",
       "0    RetailerID1      421557.97        189   2.065278  337.479167            0\n",
       "1   RetailerID10       68787.08         36   2.480556  316.497222            3\n",
       "2  RetailerID100      107256.37         57   3.434028  336.522917            3\n",
       "3  RetailerID101      574727.13        265   2.120139  351.454861            0\n",
       "4  RetailerID102       35524.84         14  32.186806  309.482639            4"
      ]
     },
     "execution_count": 25,
     "metadata": {},
     "output_type": "execute_result"
    }
   ],
   "source": [
    "Univ.rename(columns={'clust': 'CreditScore'}, inplace=True)\n",
    "#Univ = Univ.iloc[:, [5,0,1,2,3,4]]\n",
    "Univ.head()"
   ]
  },
  {
   "cell_type": "code",
   "execution_count": 26,
   "id": "2ef76c16",
   "metadata": {},
   "outputs": [
    {
     "data": {
      "image/png": "[encoded data removed]",
      "text/plain": [
       "<Figure size 1080x720 with 1 Axes>"
      ]
     },
     "metadata": {
      "needs_background": "light"
     },
     "output_type": "display_data"
    }
   ],
   "source": [
    "grouped_Univ = Univ[['retailer_names', 'MonetaryValue', 'Frequency', 'Recency',\n",
    "       'CreditScore']].groupby('CreditScore').median()\n",
    "grouped_Univ.sort_values(['MonetaryValue'], ascending=False,inplace=True)\n",
    "myfig = grouped_Univ.plot(kind='bar',logy=True, colormap='Set3_r', fontsize=15, figsize=(15,10)) \n",
    "#plt.legend(bbox_to_anchor=(x,y))  \n",
    "#plt.yticks(rotation=0)\n",
    "plt.title(\"K-Means Clustering\")\n",
    "#plt.text(v, i, \" \"+str(v), color='blue', va='center', fontweight='bold')\n",
    "plt.xticks(rotation=0)\n",
    "plt.xlabel('Credit Score Segment', fontsize=15)\n",
    "plt.ylabel('Values', fontsize=15)\n",
    "plt.legend(fontsize=15) # using a size in points\n",
    "#plt.legend(loc=\"upper left\", bbox_to_anchor=(1,1),fontsize=12) \n",
    "plt.show()"
   ]
  },
  {
   "cell_type": "code",
   "execution_count": 28,
   "id": "91b1f53e",
   "metadata": {},
   "outputs": [
    {
     "name": "stderr",
     "output_type": "stream",
     "text": [
      "C:\\Users\\Acer\\AppData\\Local\\Temp\\ipykernel_6552\\3211324422.py:2: SettingWithCopyWarning: \n",
      "A value is trying to be set on a copy of a slice from a DataFrame.\n",
      "Try using .loc[row_indexer,col_indexer] = value instead\n",
      "\n",
      "See the caveats in the documentation: https://pandas.pydata.org/pandas-docs/stable/user_guide/indexing.html#returning-a-view-versus-a-copy\n",
      "  Univ.loc[Univ['CreditScore'] == 0,'CreditScore'] ='01. Excellent'\n"
     ]
    }
   ],
   "source": [
    "# Rename clusters with credit score segment\n",
    "Univ.loc[Univ['CreditScore'] == 0,'CreditScore'] ='01. Excellent'\n",
    "Univ.loc[Univ['CreditScore'] == 3,'CreditScore'] ='02. Good'\n",
    "Univ.loc[Univ['CreditScore'] == 4,'CreditScore'] ='03. Moderate'\n",
    "Univ.loc[Univ['CreditScore'] == 1,'CreditScore'] ='04. Fair'\n",
    "Univ.loc[Univ['CreditScore'] == 2,'CreditScore'] ='05. Poor'"
   ]
  },
  {
   "cell_type": "code",
   "execution_count": 29,
   "id": "a385eaac",
   "metadata": {},
   "outputs": [
    {
     "data": {
      "text/html": [
       "<div>\n",
       "<style scoped>\n",
       "    .dataframe tbody tr th:only-of-type {\n",
       "        vertical-align: middle;\n",
       "    }\n",
       "\n",
       "    .dataframe tbody tr th {\n",
       "        vertical-align: top;\n",
       "    }\n",
       "\n",
       "    .dataframe thead tr th {\n",
       "        text-align: left;\n",
       "    }\n",
       "\n",
       "    .dataframe thead tr:last-of-type th {\n",
       "        text-align: right;\n",
       "    }\n",
       "</style>\n",
       "<table border=\"1\" class=\"dataframe\">\n",
       "  <thead>\n",
       "    <tr>\n",
       "      <th></th>\n",
       "      <th colspan=\"3\" halign=\"left\">Frequency</th>\n",
       "      <th colspan=\"4\" halign=\"left\">Lifetime</th>\n",
       "      <th colspan=\"3\" halign=\"left\">MonetaryValue</th>\n",
       "      <th colspan=\"3\" halign=\"left\">Recency</th>\n",
       "    </tr>\n",
       "    <tr>\n",
       "      <th></th>\n",
       "      <th>amax</th>\n",
       "      <th>amin</th>\n",
       "      <th>median</th>\n",
       "      <th>amax</th>\n",
       "      <th>amin</th>\n",
       "      <th>count</th>\n",
       "      <th>median</th>\n",
       "      <th>amax</th>\n",
       "      <th>amin</th>\n",
       "      <th>median</th>\n",
       "      <th>amax</th>\n",
       "      <th>amin</th>\n",
       "      <th>median</th>\n",
       "    </tr>\n",
       "    <tr>\n",
       "      <th>CreditScore</th>\n",
       "      <th></th>\n",
       "      <th></th>\n",
       "      <th></th>\n",
       "      <th></th>\n",
       "      <th></th>\n",
       "      <th></th>\n",
       "      <th></th>\n",
       "      <th></th>\n",
       "      <th></th>\n",
       "      <th></th>\n",
       "      <th></th>\n",
       "      <th></th>\n",
       "      <th></th>\n",
       "    </tr>\n",
       "  </thead>\n",
       "  <tbody>\n",
       "    <tr>\n",
       "      <th>01. Excellent</th>\n",
       "      <td>1022</td>\n",
       "      <td>74</td>\n",
       "      <td>180.0</td>\n",
       "      <td>352.322917</td>\n",
       "      <td>317.390278</td>\n",
       "      <td>55</td>\n",
       "      <td>348.587500</td>\n",
       "      <td>3562912.89</td>\n",
       "      <td>117631.62</td>\n",
       "      <td>402308.790</td>\n",
       "      <td>32.436111</td>\n",
       "      <td>2.000000</td>\n",
       "      <td>2.190972</td>\n",
       "    </tr>\n",
       "    <tr>\n",
       "      <th>02. Good</th>\n",
       "      <td>59</td>\n",
       "      <td>4</td>\n",
       "      <td>31.5</td>\n",
       "      <td>352.322917</td>\n",
       "      <td>263.547917</td>\n",
       "      <td>74</td>\n",
       "      <td>316.491319</td>\n",
       "      <td>178500.88</td>\n",
       "      <td>5614.12</td>\n",
       "      <td>58261.915</td>\n",
       "      <td>3.661806</td>\n",
       "      <td>2.120139</td>\n",
       "      <td>2.526389</td>\n",
       "    </tr>\n",
       "    <tr>\n",
       "      <th>03. Moderate</th>\n",
       "      <td>77</td>\n",
       "      <td>7</td>\n",
       "      <td>16.5</td>\n",
       "      <td>352.322917</td>\n",
       "      <td>285.529861</td>\n",
       "      <td>48</td>\n",
       "      <td>314.375000</td>\n",
       "      <td>187520.97</td>\n",
       "      <td>9862.04</td>\n",
       "      <td>35502.560</td>\n",
       "      <td>254.425694</td>\n",
       "      <td>32.172222</td>\n",
       "      <td>109.275000</td>\n",
       "    </tr>\n",
       "    <tr>\n",
       "      <th>04. Fair</th>\n",
       "      <td>9</td>\n",
       "      <td>1</td>\n",
       "      <td>5.0</td>\n",
       "      <td>336.264583</td>\n",
       "      <td>216.000000</td>\n",
       "      <td>36</td>\n",
       "      <td>284.468403</td>\n",
       "      <td>21175.44</td>\n",
       "      <td>425.42</td>\n",
       "      <td>4924.910</td>\n",
       "      <td>284.584722</td>\n",
       "      <td>2.552083</td>\n",
       "      <td>215.542014</td>\n",
       "    </tr>\n",
       "    <tr>\n",
       "      <th>05. Poor</th>\n",
       "      <td>1</td>\n",
       "      <td>1</td>\n",
       "      <td>1.0</td>\n",
       "      <td>93.199306</td>\n",
       "      <td>64.538194</td>\n",
       "      <td>2</td>\n",
       "      <td>78.868750</td>\n",
       "      <td>336.00</td>\n",
       "      <td>281.00</td>\n",
       "      <td>308.500</td>\n",
       "      <td>93.199306</td>\n",
       "      <td>64.538194</td>\n",
       "      <td>78.868750</td>\n",
       "    </tr>\n",
       "  </tbody>\n",
       "</table>\n",
       "</div>"
      ],
      "text/plain": [
       "              Frequency                Lifetime                                \\\n",
       "                   amax amin median        amax        amin count      median   \n",
       "CreditScore                                                                     \n",
       "01. Excellent      1022   74  180.0  352.322917  317.390278    55  348.587500   \n",
       "02. Good             59    4   31.5  352.322917  263.547917    74  316.491319   \n",
       "03. Moderate         77    7   16.5  352.322917  285.529861    48  314.375000   \n",
       "04. Fair              9    1    5.0  336.264583  216.000000    36  284.468403   \n",
       "05. Poor              1    1    1.0   93.199306   64.538194     2   78.868750   \n",
       "\n",
       "              MonetaryValue                            Recency             \\\n",
       "                       amax       amin      median        amax       amin   \n",
       "CreditScore                                                                 \n",
       "01. Excellent    3562912.89  117631.62  402308.790   32.436111   2.000000   \n",
       "02. Good          178500.88    5614.12   58261.915    3.661806   2.120139   \n",
       "03. Moderate      187520.97    9862.04   35502.560  254.425694  32.172222   \n",
       "04. Fair           21175.44     425.42    4924.910  284.584722   2.552083   \n",
       "05. Poor             336.00     281.00     308.500   93.199306  64.538194   \n",
       "\n",
       "                           \n",
       "                   median  \n",
       "CreditScore                \n",
       "01. Excellent    2.190972  \n",
       "02. Good         2.526389  \n",
       "03. Moderate   109.275000  \n",
       "04. Fair       215.542014  \n",
       "05. Poor        78.868750  "
      ]
     },
     "execution_count": 29,
     "metadata": {},
     "output_type": "execute_result"
    }
   ],
   "source": [
    "Univ.pivot_table(index=[\"CreditScore\"], \n",
    "                          values=[\"Recency\", \"Frequency\", \"MonetaryValue\", \"Lifetime\"], \n",
    "                          aggfunc={\"Recency\": [np.min, np.median, np.max], \n",
    "                                   \"Frequency\": [np.min, np.median, np.max], \n",
    "                                   \"MonetaryValue\": [np.min, np.median, np.max], \n",
    "                                   \"Lifetime\": [np.min, np.median, np.max, \"count\"]})"
   ]
  },
  {
   "cell_type": "code",
   "execution_count": 30,
   "id": "083d0b92",
   "metadata": {},
   "outputs": [
    {
     "data": {
      "text/html": [
       "<div>\n",
       "<style scoped>\n",
       "    .dataframe tbody tr th:only-of-type {\n",
       "        vertical-align: middle;\n",
       "    }\n",
       "\n",
       "    .dataframe tbody tr th {\n",
       "        vertical-align: top;\n",
       "    }\n",
       "\n",
       "    .dataframe thead th {\n",
       "        text-align: right;\n",
       "    }\n",
       "</style>\n",
       "<table border=\"1\" class=\"dataframe\">\n",
       "  <thead>\n",
       "    <tr style=\"text-align: right;\">\n",
       "      <th></th>\n",
       "      <th>retailer_names</th>\n",
       "      <th>MonetaryValue</th>\n",
       "      <th>Frequency</th>\n",
       "      <th>Recency</th>\n",
       "      <th>Lifetime</th>\n",
       "      <th>CreditScore</th>\n",
       "    </tr>\n",
       "  </thead>\n",
       "  <tbody>\n",
       "    <tr>\n",
       "      <th>0</th>\n",
       "      <td>RetailerID1</td>\n",
       "      <td>421557.97</td>\n",
       "      <td>189</td>\n",
       "      <td>2.065278</td>\n",
       "      <td>337.479167</td>\n",
       "      <td>01. Excellent</td>\n",
       "    </tr>\n",
       "    <tr>\n",
       "      <th>1</th>\n",
       "      <td>RetailerID10</td>\n",
       "      <td>68787.08</td>\n",
       "      <td>36</td>\n",
       "      <td>2.480556</td>\n",
       "      <td>316.497222</td>\n",
       "      <td>02. Good</td>\n",
       "    </tr>\n",
       "    <tr>\n",
       "      <th>2</th>\n",
       "      <td>RetailerID100</td>\n",
       "      <td>107256.37</td>\n",
       "      <td>57</td>\n",
       "      <td>3.434028</td>\n",
       "      <td>336.522917</td>\n",
       "      <td>02. Good</td>\n",
       "    </tr>\n",
       "    <tr>\n",
       "      <th>3</th>\n",
       "      <td>RetailerID101</td>\n",
       "      <td>574727.13</td>\n",
       "      <td>265</td>\n",
       "      <td>2.120139</td>\n",
       "      <td>351.454861</td>\n",
       "      <td>01. Excellent</td>\n",
       "    </tr>\n",
       "    <tr>\n",
       "      <th>4</th>\n",
       "      <td>RetailerID102</td>\n",
       "      <td>35524.84</td>\n",
       "      <td>14</td>\n",
       "      <td>32.186806</td>\n",
       "      <td>309.482639</td>\n",
       "      <td>03. Moderate</td>\n",
       "    </tr>\n",
       "  </tbody>\n",
       "</table>\n",
       "</div>"
      ],
      "text/plain": [
       "  retailer_names  MonetaryValue  Frequency    Recency    Lifetime  \\\n",
       "0    RetailerID1      421557.97        189   2.065278  337.479167   \n",
       "1   RetailerID10       68787.08         36   2.480556  316.497222   \n",
       "2  RetailerID100      107256.37         57   3.434028  336.522917   \n",
       "3  RetailerID101      574727.13        265   2.120139  351.454861   \n",
       "4  RetailerID102       35524.84         14  32.186806  309.482639   \n",
       "\n",
       "     CreditScore  \n",
       "0  01. Excellent  \n",
       "1       02. Good  \n",
       "2       02. Good  \n",
       "3  01. Excellent  \n",
       "4   03. Moderate  "
      ]
     },
     "execution_count": 30,
     "metadata": {},
     "output_type": "execute_result"
    }
   ],
   "source": [
    "Univ.head()"
   ]
  },
  {
   "cell_type": "code",
   "execution_count": 52,
   "id": "0c6163f6",
   "metadata": {},
   "outputs": [],
   "source": [
    "segment1 = Univ.loc[Univ.CreditScore == '01. Excellent'].reset_index()\n",
    "segment2 = Univ.loc[Univ.CreditScore == '02. Good'].reset_index()\n",
    "segment3 = Univ.loc[Univ.CreditScore == '03. Moderate'].reset_index()\n",
    "segment4 = Univ.loc[Univ.CreditScore == '04. Fair'].reset_index()\n",
    "segment5 = Univ.loc[Univ.CreditScore == '05. Poor'].reset_index()\n",
    "\n",
    "fsegment01 = clean_credit.merge(right=segment1, how=\"inner\", left_on=\"retailer_names\", right_on=\"retailer_names\")\n",
    "fsegment02 = clean_credit.merge(right=segment2, how=\"inner\", left_on=\"retailer_names\", right_on=\"retailer_names\")\n",
    "fsegment03 = clean_credit.merge(right=segment3, how=\"inner\", left_on=\"retailer_names\", right_on=\"retailer_names\")\n",
    "fsegment04 = clean_credit.merge(right=segment4, how=\"inner\", left_on=\"retailer_names\", right_on=\"retailer_names\")\n",
    "fsegment05 = clean_credit.merge(right=segment5, how=\"inner\", left_on=\"retailer_names\", right_on=\"retailer_names\")"
   ]
  },
  {
   "cell_type": "code",
   "execution_count": 45,
   "id": "b2d734c2",
   "metadata": {},
   "outputs": [],
   "source": [
    "fsegment01 = clean_credit.merge(right=segment1, how=\"inner\", left_on=\"retailer_names\", right_on=\"retailer_names\")"
   ]
  },
  {
   "cell_type": "code",
   "execution_count": 31,
   "id": "bb432f4c",
   "metadata": {},
   "outputs": [
    {
     "data": {
      "text/html": [
       "<div>\n",
       "<style scoped>\n",
       "    .dataframe tbody tr th:only-of-type {\n",
       "        vertical-align: middle;\n",
       "    }\n",
       "\n",
       "    .dataframe tbody tr th {\n",
       "        vertical-align: top;\n",
       "    }\n",
       "\n",
       "    .dataframe thead th {\n",
       "        text-align: right;\n",
       "    }\n",
       "</style>\n",
       "<table border=\"1\" class=\"dataframe\">\n",
       "  <thead>\n",
       "    <tr style=\"text-align: right;\">\n",
       "      <th></th>\n",
       "      <th>Unnamed: 0</th>\n",
       "      <th>master_order_id</th>\n",
       "      <th>master_order_status</th>\n",
       "      <th>created</th>\n",
       "      <th>order_id</th>\n",
       "      <th>order_status</th>\n",
       "      <th>ordereditem_quantity</th>\n",
       "      <th>prod_names</th>\n",
       "      <th>ordereditem_unit_price_net</th>\n",
       "      <th>ordereditem_product_id</th>\n",
       "      <th>...</th>\n",
       "      <th>created_year</th>\n",
       "      <th>created_month</th>\n",
       "      <th>created_hour</th>\n",
       "      <th>created_year_month</th>\n",
       "      <th>created_dayofweek</th>\n",
       "      <th>MonetaryValue</th>\n",
       "      <th>Frequency</th>\n",
       "      <th>Recency</th>\n",
       "      <th>Lifetime</th>\n",
       "      <th>CreditScore</th>\n",
       "    </tr>\n",
       "  </thead>\n",
       "  <tbody>\n",
       "    <tr>\n",
       "      <th>0</th>\n",
       "      <td>1</td>\n",
       "      <td>25651</td>\n",
       "      <td>delivered</td>\n",
       "      <td>2017-12-18 10:41:00</td>\n",
       "      <td>25651</td>\n",
       "      <td>delivered</td>\n",
       "      <td>5</td>\n",
       "      <td>ProdName1</td>\n",
       "      <td>43.00</td>\n",
       "      <td>1744.0</td>\n",
       "      <td>...</td>\n",
       "      <td>2017</td>\n",
       "      <td>12</td>\n",
       "      <td>10</td>\n",
       "      <td>2017_12</td>\n",
       "      <td>0</td>\n",
       "      <td>127477.66</td>\n",
       "      <td>77</td>\n",
       "      <td>2.552083</td>\n",
       "      <td>352.322917</td>\n",
       "      <td>01. Excellent</td>\n",
       "    </tr>\n",
       "    <tr>\n",
       "      <th>1</th>\n",
       "      <td>2</td>\n",
       "      <td>25651</td>\n",
       "      <td>delivered</td>\n",
       "      <td>2017-12-18 10:41:00</td>\n",
       "      <td>25651</td>\n",
       "      <td>delivered</td>\n",
       "      <td>5</td>\n",
       "      <td>ProdName2</td>\n",
       "      <td>35.54</td>\n",
       "      <td>965.0</td>\n",
       "      <td>...</td>\n",
       "      <td>2017</td>\n",
       "      <td>12</td>\n",
       "      <td>10</td>\n",
       "      <td>2017_12</td>\n",
       "      <td>0</td>\n",
       "      <td>127477.66</td>\n",
       "      <td>77</td>\n",
       "      <td>2.552083</td>\n",
       "      <td>352.322917</td>\n",
       "      <td>01. Excellent</td>\n",
       "    </tr>\n",
       "    <tr>\n",
       "      <th>2</th>\n",
       "      <td>143</td>\n",
       "      <td>25684</td>\n",
       "      <td>processed</td>\n",
       "      <td>2018-01-23 06:30:00</td>\n",
       "      <td>25688</td>\n",
       "      <td>processed</td>\n",
       "      <td>2</td>\n",
       "      <td>ProdName118</td>\n",
       "      <td>48.29</td>\n",
       "      <td>1728.0</td>\n",
       "      <td>...</td>\n",
       "      <td>2018</td>\n",
       "      <td>1</td>\n",
       "      <td>6</td>\n",
       "      <td>2018_01</td>\n",
       "      <td>1</td>\n",
       "      <td>127477.66</td>\n",
       "      <td>77</td>\n",
       "      <td>2.552083</td>\n",
       "      <td>352.322917</td>\n",
       "      <td>01. Excellent</td>\n",
       "    </tr>\n",
       "  </tbody>\n",
       "</table>\n",
       "<p>3 rows × 28 columns</p>\n",
       "</div>"
      ],
      "text/plain": [
       "   Unnamed: 0  master_order_id master_order_status             created  \\\n",
       "0           1            25651           delivered 2017-12-18 10:41:00   \n",
       "1           2            25651           delivered 2017-12-18 10:41:00   \n",
       "2         143            25684           processed 2018-01-23 06:30:00   \n",
       "\n",
       "   order_id order_status  ordereditem_quantity   prod_names  \\\n",
       "0     25651    delivered                     5    ProdName1   \n",
       "1     25651    delivered                     5    ProdName2   \n",
       "2     25688    processed                     2  ProdName118   \n",
       "\n",
       "   ordereditem_unit_price_net  ordereditem_product_id  ...  created_year  \\\n",
       "0                       43.00                  1744.0  ...          2017   \n",
       "1                       35.54                   965.0  ...          2017   \n",
       "2                       48.29                  1728.0  ...          2018   \n",
       "\n",
       "  created_month created_hour created_year_month  created_dayofweek  \\\n",
       "0            12           10            2017_12                  0   \n",
       "1            12           10            2017_12                  0   \n",
       "2             1            6            2018_01                  1   \n",
       "\n",
       "   MonetaryValue  Frequency   Recency    Lifetime    CreditScore  \n",
       "0      127477.66         77  2.552083  352.322917  01. Excellent  \n",
       "1      127477.66         77  2.552083  352.322917  01. Excellent  \n",
       "2      127477.66         77  2.552083  352.322917  01. Excellent  \n",
       "\n",
       "[3 rows x 28 columns]"
      ]
     },
     "execution_count": 31,
     "metadata": {},
     "output_type": "execute_result"
    }
   ],
   "source": [
    "final_cluster = clean_credit.merge(right=Univ, how=\"inner\", left_on=\"retailer_names\", right_on=\"retailer_names\")\n",
    "final_cluster.head(3)"
   ]
  },
  {
   "cell_type": "code",
   "execution_count": 32,
   "id": "2f1d5596",
   "metadata": {},
   "outputs": [],
   "source": [
    "# create excel writer object\n",
    "writer = pd.ExcelWriter('final_cluster.xlsx')\n",
    "# write dataframe to excel\n",
    "final_cluster.to_excel(writer)\n",
    "# save the excel\n",
    "writer.save()"
   ]
  },
  {
   "cell_type": "markdown",
   "id": "9ca51e53",
   "metadata": {},
   "source": [
    "#### Retailers ordering from multiple locations"
   ]
  },
  {
   "cell_type": "code",
   "execution_count": 84,
   "id": "a3bc946b",
   "metadata": {},
   "outputs": [],
   "source": [
    "shop05 = pd.pivot_table(fsegment05, index = 'retailer_names', columns = 'group' , values = 'created', aggfunc ='count')\n",
    "#shop04.sort_values(['Hyderabad'], ascending=False,inplace=True)\n",
    "test05 = shop05.reset_index()"
   ]
  },
  {
   "cell_type": "code",
   "execution_count": 86,
   "id": "95439212",
   "metadata": {},
   "outputs": [
    {
     "data": {
      "text/html": [
       "<div>\n",
       "<style scoped>\n",
       "    .dataframe tbody tr th:only-of-type {\n",
       "        vertical-align: middle;\n",
       "    }\n",
       "\n",
       "    .dataframe tbody tr th {\n",
       "        vertical-align: top;\n",
       "    }\n",
       "\n",
       "    .dataframe thead th {\n",
       "        text-align: right;\n",
       "    }\n",
       "</style>\n",
       "<table border=\"1\" class=\"dataframe\">\n",
       "  <thead>\n",
       "    <tr style=\"text-align: right;\">\n",
       "      <th>group</th>\n",
       "      <th>Gurugram</th>\n",
       "    </tr>\n",
       "    <tr>\n",
       "      <th>retailer_names</th>\n",
       "      <th></th>\n",
       "    </tr>\n",
       "  </thead>\n",
       "  <tbody>\n",
       "    <tr>\n",
       "      <th>RetailerID172</th>\n",
       "      <td>1</td>\n",
       "    </tr>\n",
       "    <tr>\n",
       "      <th>RetailerID210</th>\n",
       "      <td>1</td>\n",
       "    </tr>\n",
       "  </tbody>\n",
       "</table>\n",
       "</div>"
      ],
      "text/plain": [
       "group           Gurugram\n",
       "retailer_names          \n",
       "RetailerID172          1\n",
       "RetailerID210          1"
      ]
     },
     "execution_count": 86,
     "metadata": {},
     "output_type": "execute_result"
    }
   ],
   "source": [
    "shop05"
   ]
  },
  {
   "cell_type": "code",
   "execution_count": 83,
   "id": "3a161c21",
   "metadata": {},
   "outputs": [
    {
     "data": {
      "text/plain": [
       "16"
      ]
     },
     "execution_count": 83,
     "metadata": {},
     "output_type": "execute_result"
    }
   ],
   "source": [
    "len(test04.loc[(test04.isna().sum(axis=1)) == 2])"
   ]
  },
  {
   "cell_type": "code",
   "execution_count": 77,
   "id": "188dbcc9",
   "metadata": {},
   "outputs": [
    {
     "data": {
      "text/plain": [
       "9.615384615384617"
      ]
     },
     "execution_count": 77,
     "metadata": {},
     "output_type": "execute_result"
    }
   ],
   "source": [
    "(len(shop03.dropna())/len(shop03))*100"
   ]
  },
  {
   "cell_type": "code",
   "execution_count": 82,
   "id": "3b30dbef",
   "metadata": {},
   "outputs": [
    {
     "data": {
      "text/plain": [
       "0"
      ]
     },
     "execution_count": 82,
     "metadata": {},
     "output_type": "execute_result"
    }
   ],
   "source": [
    "len(shop04.dropna())"
   ]
  },
  {
   "cell_type": "markdown",
   "id": "8b0aa567",
   "metadata": {},
   "source": [
    "## Is there correlation between RFM Values?"
   ]
  },
  {
   "cell_type": "code",
   "execution_count": null,
   "id": "370de582",
   "metadata": {},
   "outputs": [],
   "source": [
    "# Visualise segments using 3D plot\n",
    "x = customer_data[\"RelRecency\"]\n",
    "y = customer_data[\"RelFrequency\"]\n",
    "z = (customer_data[\"RelMonetaryValue\"] - customer_data[\"RelMonetaryValue\"].min()) / customer_data[\"RelMonetaryValue\"].max()\n",
    "c = customer_data[\"RFM\"]\n",
    "fig = plt.figure(figsize=(10, 8))\n",
    "ax = fig.add_subplot(111, projection='3d')\n",
    "ax.scatter(xs=x, ys=y, zs=z, c=c, s=30, alpha=0.5)\n",
    "ax.set_title(\"RFM Visualisation\")\n",
    "ax.set_xlabel(\"Relative Recency\")\n",
    "ax.set_ylabel(\"Relative Frequency\")\n",
    "ax.set_zlabel(\"Relative Monetary Value (with Min-Max Standardisation)\")\n",
    "plt.show()"
   ]
  },
  {
   "cell_type": "code",
   "execution_count": null,
   "id": "f24896c1",
   "metadata": {},
   "outputs": [],
   "source": [
    "fig, axs = plt.subplots(nrows=3, ncols=1, sharex=True, sharey=True, figsize=(5, 15))\n",
    "fig.suptitle('Correlation between R, F and M')\n",
    "\n",
    "axs[0].scatter(x, y, alpha=0.5) # alpha for transparency of plot\n",
    "axs[0].set_title(\"Relative Recency (x) vs Relative Frequency (y)\")\n",
    "\n",
    "axs[1].scatter(y, z, alpha=0.5)\n",
    "axs[1].set_title(\"Relative Frequency (x) vs Relative Monetary Value (y)\")\n",
    "\n",
    "axs[2].scatter(x, z, alpha=0.5)\n",
    "axs[2].set_title(\"Relative Recency (x) vs Relative Monetary Value (y)\")\n",
    "\n",
    "# higher frequency give higher monetary value"
   ]
  },
  {
   "cell_type": "code",
   "execution_count": null,
   "id": "cfd4f89e",
   "metadata": {},
   "outputs": [],
   "source": [
    "# Visualise segments using 3D plot\n",
    "x = customer_data[\"Recency\"]\n",
    "y = customer_data[\"Frequency\"]\n",
    "z = (customer_data[\"MonetaryValue\"] - customer_data[\"MonetaryValue\"].min()) / customer_data[\"MonetaryValue\"].max()\n",
    "c = customer_data[\"RFM\"]\n",
    "fig = plt.figure(figsize=(10, 8))\n",
    "ax = fig.add_subplot(111, projection='3d')\n",
    "ax.scatter(xs=x, ys=y, zs=z, c=c, s=30, alpha=0.5)\n",
    "ax.set_title(\"RFM Visualisation\")\n",
    "ax.set_xlabel(\"Recency\")\n",
    "ax.set_ylabel(\"Frequency\")\n",
    "ax.set_zlabel(\"Monetary Value (with Min-Max Standardisation)\")\n",
    "plt.show()"
   ]
  },
  {
   "cell_type": "code",
   "execution_count": null,
   "id": "2a43b04a",
   "metadata": {},
   "outputs": [],
   "source": [
    "fig, axs = plt.subplots(nrows=3, ncols=1, sharex=True, sharey=True, figsize=(5, 15))\n",
    "fig.suptitle('Correlation between R, F and M')\n",
    "\n",
    "axs[0].scatter(x, y, alpha=0.5) # alpha for transparency of plot\n",
    "axs[0].set_title(\"Recency (x) vs Frequency (y)\")\n",
    "\n",
    "axs[1].scatter(y, z, alpha=0.5)\n",
    "axs[1].set_title(\"Frequency (x) vs Monetary Value (y)\")\n",
    "\n",
    "axs[2].scatter(x, z, alpha=0.5)\n",
    "axs[2].set_title(\"Recency (x) vs Monetary Value (y)\")\n",
    "\n",
    "# higher frequency give higher monetary value"
   ]
  },
  {
   "cell_type": "code",
   "execution_count": null,
   "id": "f699371d",
   "metadata": {},
   "outputs": [],
   "source": [
    "sns.regplot(x=customer_data['Frequency'],y=customer_data['MonetaryValue'])"
   ]
  },
  {
   "cell_type": "code",
   "execution_count": null,
   "id": "cd12b873",
   "metadata": {},
   "outputs": [],
   "source": [
    "sns.relplot(x=\"Frequency\", y=\"MonetaryValue\", data=customer_data, kind = 'scatter')"
   ]
  },
  {
   "cell_type": "code",
   "execution_count": null,
   "id": "d529c793",
   "metadata": {},
   "outputs": [],
   "source": [
    "import seaborn as sns\n",
    "sns.pairplot(customer_data.iloc[:,[0,3,4]])\n",
    "                             \n",
    "# Correlation matrix \n",
    "#cars.corr()"
   ]
  },
  {
   "cell_type": "code",
   "execution_count": null,
   "id": "f444eda3",
   "metadata": {},
   "outputs": [],
   "source": [
    "np.corrcoef(customer_data.Frequency, customer_data.Recency) "
   ]
  },
  {
   "cell_type": "code",
   "execution_count": null,
   "id": "8e290b8a",
   "metadata": {},
   "outputs": [],
   "source": [
    "\n",
    "# Create a Pandas Excel writer using XlsxWriter as the engine.\n",
    "writer = pd.ExcelWriter('customer2.xlsx', engine='xlsxwriter')\n",
    "\n",
    "# Convert the dataframe to an XlsxWriter Excel object.\n",
    "customer_data.to_excel(writer, sheet_name='Sheet1')\n",
    "\n",
    "# Close the Pandas Excel writer and output the Excel file.\n",
    "writer.save()"
   ]
  },
  {
   "cell_type": "code",
   "execution_count": null,
   "id": "a9ad5473",
   "metadata": {},
   "outputs": [],
   "source": [
    "house = customer_data.iloc[:,[0,3,4]]\n",
    "house.head(3)"
   ]
  },
  {
   "cell_type": "code",
   "execution_count": null,
   "id": "c0d2be58",
   "metadata": {},
   "outputs": [],
   "source": [
    "correlation_matrix = house.corr().round(2)\n",
    "# annot = True to print the values inside the square\n",
    "sns.heatmap(data=correlation_matrix, annot=True)"
   ]
  },
  {
   "cell_type": "code",
   "execution_count": null,
   "id": "59e6ec59",
   "metadata": {},
   "outputs": [],
   "source": [
    "# From these statistics we can generate some heuristic business rules to simplify our segmentation.\n",
    "# For example, RFM score 3 and 4 can be combined, because these two groups tend to have only one transaction.\n",
    "# Create new columns with our learnings\n",
    "customer_data.describe()\n"
   ]
  },
  {
   "cell_type": "code",
   "execution_count": null,
   "id": "d977990e",
   "metadata": {},
   "outputs": [],
   "source": [
    "rfm_rel"
   ]
  },
  {
   "cell_type": "code",
   "execution_count": 29,
   "id": "5b166c24",
   "metadata": {},
   "outputs": [
    {
     "data": {
      "text/plain": [
       "last_order_within_4d  more_than_26_orders  value_higher_than_400k\n",
       "False                 False                False                     72\n",
       "                      True                 False                     13\n",
       "                                           True                       1\n",
       "True                  False                False                     34\n",
       "                      True                 False                     68\n",
       "                                           True                      27\n",
       "Name: Lifetime, dtype: int64"
      ]
     },
     "execution_count": 29,
     "metadata": {},
     "output_type": "execute_result"
    }
   ],
   "source": [
    "customer_data[\"last_order_within_4d\"] = customer_data[\"Recency\"]<4 # Had transactions in the last 4 days\n",
    "customer_data[\"more_than_26_orders\"] = customer_data[\"Frequency\"]>26 # made more than 26 orders\n",
    "customer_data[\"value_higher_than_400k\"] = customer_data[\"MonetaryValue\"]>400000 # Sum of value higher than 180K\n",
    "customer_data.groupby([\"last_order_within_4d\", \"more_than_26_orders\", \"value_higher_than_400k\"]).count()[\"Lifetime\"]"
   ]
  },
  {
   "cell_type": "code",
   "execution_count": 67,
   "id": "e107a074",
   "metadata": {},
   "outputs": [
    {
     "data": {
      "text/plain": [
       "05. Low Engagement & Low Value              72\n",
       "02. High Engagement & Low Value             68\n",
       "04. Low Frequency but Recently Active       34\n",
       "01. High Engagement & High Value            27\n",
       "03. High Frequency but Recently Inactive    14\n",
       "Name: FinalRFM, dtype: int64"
      ]
     },
     "execution_count": 67,
     "metadata": {},
     "output_type": "execute_result"
    }
   ],
   "source": [
    "conditions = [\n",
    "    (customer_data[\"last_order_within_4d\"]==True)&(customer_data[\"more_than_26_orders\"]==True)&(customer_data[\"value_higher_than_400k\"]==True),\n",
    "    (customer_data[\"last_order_within_4d\"]==True)&(customer_data[\"more_than_26_orders\"]==True)&(customer_data[\"value_higher_than_400k\"]==False),\n",
    "    (customer_data[\"last_order_within_4d\"]==False)&(customer_data[\"more_than_26_orders\"]==True),\n",
    "    (customer_data[\"last_order_within_4d\"]==True)&(customer_data[\"more_than_26_orders\"]==False),\n",
    "    (customer_data[\"last_order_within_4d\"]==False)&(customer_data[\"more_than_26_orders\"]==False)\n",
    "]\n",
    "mappings = [\"01. High Engagement & High Value\", \n",
    "            \"02. High Engagement & Low Value\", \n",
    "           \"03. High Frequency but Recently Inactive\", \n",
    "              \"04. Low Frequency but Recently Active\", \n",
    "            \"05. Low Engagement & Low Value\"]\n",
    "customer_data['FinalRFM'] = np.select(conditions, mappings, default=\"Others\")\n",
    "customer_data['FinalRFM'].value_counts()\n",
    "\n"
   ]
  },
  {
   "cell_type": "code",
   "execution_count": 68,
   "id": "0509f841",
   "metadata": {},
   "outputs": [
    {
     "data": {
      "text/html": [
       "<div>\n",
       "<style scoped>\n",
       "    .dataframe tbody tr th:only-of-type {\n",
       "        vertical-align: middle;\n",
       "    }\n",
       "\n",
       "    .dataframe tbody tr th {\n",
       "        vertical-align: top;\n",
       "    }\n",
       "\n",
       "    .dataframe thead tr th {\n",
       "        text-align: left;\n",
       "    }\n",
       "\n",
       "    .dataframe thead tr:last-of-type th {\n",
       "        text-align: right;\n",
       "    }\n",
       "</style>\n",
       "<table border=\"1\" class=\"dataframe\">\n",
       "  <thead>\n",
       "    <tr>\n",
       "      <th></th>\n",
       "      <th colspan=\"3\" halign=\"left\">Frequency</th>\n",
       "      <th colspan=\"4\" halign=\"left\">Lifetime</th>\n",
       "      <th colspan=\"3\" halign=\"left\">MonetaryValue</th>\n",
       "      <th colspan=\"3\" halign=\"left\">Recency</th>\n",
       "    </tr>\n",
       "    <tr>\n",
       "      <th></th>\n",
       "      <th>amax</th>\n",
       "      <th>amin</th>\n",
       "      <th>median</th>\n",
       "      <th>amax</th>\n",
       "      <th>amin</th>\n",
       "      <th>count</th>\n",
       "      <th>median</th>\n",
       "      <th>amax</th>\n",
       "      <th>amin</th>\n",
       "      <th>median</th>\n",
       "      <th>amax</th>\n",
       "      <th>amin</th>\n",
       "      <th>median</th>\n",
       "    </tr>\n",
       "    <tr>\n",
       "      <th>FinalRFM</th>\n",
       "      <th></th>\n",
       "      <th></th>\n",
       "      <th></th>\n",
       "      <th></th>\n",
       "      <th></th>\n",
       "      <th></th>\n",
       "      <th></th>\n",
       "      <th></th>\n",
       "      <th></th>\n",
       "      <th></th>\n",
       "      <th></th>\n",
       "      <th></th>\n",
       "      <th></th>\n",
       "    </tr>\n",
       "  </thead>\n",
       "  <tbody>\n",
       "    <tr>\n",
       "      <th>01. High Engagement &amp; High Value</th>\n",
       "      <td>1022</td>\n",
       "      <td>180</td>\n",
       "      <td>261.0</td>\n",
       "      <td>351.484722</td>\n",
       "      <td>336.450694</td>\n",
       "      <td>27</td>\n",
       "      <td>348.587500</td>\n",
       "      <td>3562912.89</td>\n",
       "      <td>402308.79</td>\n",
       "      <td>574727.130</td>\n",
       "      <td>2.475694</td>\n",
       "      <td>2.000000</td>\n",
       "      <td>2.068750</td>\n",
       "    </tr>\n",
       "    <tr>\n",
       "      <th>02. High Engagement &amp; Low Value</th>\n",
       "      <td>198</td>\n",
       "      <td>29</td>\n",
       "      <td>54.0</td>\n",
       "      <td>352.322917</td>\n",
       "      <td>295.575694</td>\n",
       "      <td>68</td>\n",
       "      <td>337.378472</td>\n",
       "      <td>364510.71</td>\n",
       "      <td>37326.46</td>\n",
       "      <td>106643.145</td>\n",
       "      <td>3.661806</td>\n",
       "      <td>2.000000</td>\n",
       "      <td>2.510417</td>\n",
       "    </tr>\n",
       "    <tr>\n",
       "      <th>03. High Frequency but Recently Inactive</th>\n",
       "      <td>165</td>\n",
       "      <td>27</td>\n",
       "      <td>35.5</td>\n",
       "      <td>351.436806</td>\n",
       "      <td>309.439583</td>\n",
       "      <td>14</td>\n",
       "      <td>326.235764</td>\n",
       "      <td>458681.75</td>\n",
       "      <td>36496.14</td>\n",
       "      <td>82842.475</td>\n",
       "      <td>215.613889</td>\n",
       "      <td>32.436111</td>\n",
       "      <td>64.030903</td>\n",
       "    </tr>\n",
       "    <tr>\n",
       "      <th>04. Low Frequency but Recently Active</th>\n",
       "      <td>26</td>\n",
       "      <td>2</td>\n",
       "      <td>16.5</td>\n",
       "      <td>337.513194</td>\n",
       "      <td>216.000000</td>\n",
       "      <td>34</td>\n",
       "      <td>309.948958</td>\n",
       "      <td>74577.47</td>\n",
       "      <td>4801.71</td>\n",
       "      <td>23371.020</td>\n",
       "      <td>3.570139</td>\n",
       "      <td>2.120139</td>\n",
       "      <td>2.531944</td>\n",
       "    </tr>\n",
       "    <tr>\n",
       "      <th>05. Low Engagement &amp; Low Value</th>\n",
       "      <td>25</td>\n",
       "      <td>1</td>\n",
       "      <td>7.5</td>\n",
       "      <td>352.322917</td>\n",
       "      <td>64.538194</td>\n",
       "      <td>72</td>\n",
       "      <td>304.823611</td>\n",
       "      <td>55148.01</td>\n",
       "      <td>281.00</td>\n",
       "      <td>11469.985</td>\n",
       "      <td>284.584722</td>\n",
       "      <td>32.172222</td>\n",
       "      <td>186.502778</td>\n",
       "    </tr>\n",
       "  </tbody>\n",
       "</table>\n",
       "</div>"
      ],
      "text/plain": [
       "                                         Frequency                Lifetime  \\\n",
       "                                              amax amin median        amax   \n",
       "FinalRFM                                                                     \n",
       "01. High Engagement & High Value              1022  180  261.0  351.484722   \n",
       "02. High Engagement & Low Value                198   29   54.0  352.322917   \n",
       "03. High Frequency but Recently Inactive       165   27   35.5  351.436806   \n",
       "04. Low Frequency but Recently Active           26    2   16.5  337.513194   \n",
       "05. Low Engagement & Low Value                  25    1    7.5  352.322917   \n",
       "\n",
       "                                                                        \\\n",
       "                                                amin count      median   \n",
       "FinalRFM                                                                 \n",
       "01. High Engagement & High Value          336.450694    27  348.587500   \n",
       "02. High Engagement & Low Value           295.575694    68  337.378472   \n",
       "03. High Frequency but Recently Inactive  309.439583    14  326.235764   \n",
       "04. Low Frequency but Recently Active     216.000000    34  309.948958   \n",
       "05. Low Engagement & Low Value             64.538194    72  304.823611   \n",
       "\n",
       "                                         MonetaryValue                         \\\n",
       "                                                  amax       amin      median   \n",
       "FinalRFM                                                                        \n",
       "01. High Engagement & High Value            3562912.89  402308.79  574727.130   \n",
       "02. High Engagement & Low Value              364510.71   37326.46  106643.145   \n",
       "03. High Frequency but Recently Inactive     458681.75   36496.14   82842.475   \n",
       "04. Low Frequency but Recently Active         74577.47    4801.71   23371.020   \n",
       "05. Low Engagement & Low Value                55148.01     281.00   11469.985   \n",
       "\n",
       "                                             Recency                         \n",
       "                                                amax       amin      median  \n",
       "FinalRFM                                                                     \n",
       "01. High Engagement & High Value            2.475694   2.000000    2.068750  \n",
       "02. High Engagement & Low Value             3.661806   2.000000    2.510417  \n",
       "03. High Frequency but Recently Inactive  215.613889  32.436111   64.030903  \n",
       "04. Low Frequency but Recently Active       3.570139   2.120139    2.531944  \n",
       "05. Low Engagement & Low Value            284.584722  32.172222  186.502778  "
      ]
     },
     "execution_count": 68,
     "metadata": {},
     "output_type": "execute_result"
    }
   ],
   "source": [
    "customer_data.pivot_table(index=[\"FinalRFM\"], \n",
    "                          values=[\"Recency\", \"Frequency\", \"MonetaryValue\", \"Lifetime\"], \n",
    "                          aggfunc={\"Recency\": [np.min, np.median, np.max], \n",
    "                                   \"Frequency\": [np.min, np.median, np.max], \n",
    "                                   \"MonetaryValue\": [np.min, np.median, np.max], \n",
    "                                   \"Lifetime\": [np.min, np.median, np.max, \"count\"]})"
   ]
  },
  {
   "cell_type": "markdown",
   "id": "e3571c11",
   "metadata": {},
   "source": [
    " I had concerns about the impact of customer life time on frequency and recency, and the impact of outliers in my monetary values."
   ]
  },
  {
   "cell_type": "markdown",
   "id": "3b1ed817",
   "metadata": {},
   "source": [
    "- **High Engagement & High Value (27)** are those who had their last transactions in the last 4 days, made more than 26 transactions, and contributed more than 600K on average.\n",
    "- **High Engagement & Low Value (68)** are those who are as active as Group1 and contributed less than 600K.\n",
    "- **Recent Activity & Low Frequency (34)** are those who had their last transactions in the last 4 days but made no more than 26 transactions. These customers also have a lower monetary value..\n",
    "- **“Old” Activity & High Frequency (14)** are those who did not have any transactions in the last 4 days. However, on average they had more than 26 transactions. These customers were very active at the beginning of their journey but are not that active recently. We need to find ways to reengage them.\n",
    "- **Low Engagement & Low Value (72)** are those who did not have any transactions in the last 4 days, made no more than 26 transactions, and contributed the lowest revenue. Apparently, several customers in this group are recently acquired customers (their average lifetime is less than 100 days) but only made 1 transaction.\n",
    " "
   ]
  },
  {
   "cell_type": "code",
   "execution_count": null,
   "id": "d39c3d46",
   "metadata": {},
   "outputs": [],
   "source": [
    "cust = customer_data.reset_index()"
   ]
  },
  {
   "cell_type": "code",
   "execution_count": 34,
   "id": "52e9638f",
   "metadata": {},
   "outputs": [
    {
     "data": {
      "text/plain": [
       "<AxesSubplot:>"
      ]
     },
     "execution_count": 34,
     "metadata": {},
     "output_type": "execute_result"
    },
    {
     "data": {
      "image/png": "[encoded data removed]",
      "text/plain": [
       "<Figure size 432x288 with 1 Axes>"
      ]
     },
     "metadata": {
      "needs_background": "light"
     },
     "output_type": "display_data"
    }
   ],
   "source": [
    "customer_data['FrequencyScore'].hist()"
   ]
  },
  {
   "cell_type": "code",
   "execution_count": null,
   "id": "9c96f1af",
   "metadata": {},
   "outputs": [],
   "source": [
    "# Create a Pandas Excel writer using XlsxWriter as the engine.\n",
    "writer = pd.ExcelWriter('fsegment05.xlsx', engine='xlsxwriter')\n",
    "\n",
    "# Convert the dataframe to an XlsxWriter Excel object.\n",
    "all_data.to_excel(writer, sheet_name='Sheet1')\n",
    "\n",
    "# Close the Pandas Excel writer and output the Excel file.\n",
    "writer.save()"
   ]
  },
  {
   "cell_type": "code",
   "execution_count": 82,
   "id": "410e764a",
   "metadata": {},
   "outputs": [],
   "source": [
    "grouped_Univ = all_data[['retailer_names', 'MonetaryValue', 'Frequency', 'Recency',\n",
    "       'FinalRFM']].groupby('FinalRFM').median()\n",
    "grouped_Univ.sort_values(['MonetaryValue'], ascending=False,inplace=True)\n"
   ]
  },
  {
   "cell_type": "code",
   "execution_count": 88,
   "id": "66c43c5f",
   "metadata": {},
   "outputs": [
    {
     "data": {
      "image/png": "[encoded data removed]",
      "text/plain": [
       "<Figure size 1080x720 with 1 Axes>"
      ]
     },
     "metadata": {
      "needs_background": "light"
     },
     "output_type": "display_data"
    }
   ],
   "source": [
    "#plt.figure(figsize=(25,20))\n",
    "grouped_Univ = all_data[['retailer_names', 'MonetaryValue', 'Frequency', 'Recency',\n",
    "       'FinalRFM']].groupby('FinalRFM').median()\n",
    "grouped_Univ.sort_values(['MonetaryValue'], ascending=False,inplace=True)\n",
    "myfig = grouped_Univ.plot(kind='bar',logy=True, colormap='Set3_r', fontsize=15, figsize=(15,10)) \n",
    "#plt.legend(bbox_to_anchor=(x,y))  \n",
    "#plt.yticks(rotation=0)\n",
    "plt.xticks(rotation=10)\n",
    "plt.xlabel('RFM Segment', fontsize=15)\n",
    "plt.ylabel('Values', fontsize=15)\n",
    "plt.legend(fontsize=15) # using a size in points\n",
    "#plt.legend(loc=\"upper left\", bbox_to_anchor=(1,1),fontsize=12) \n",
    "plt.show()\n",
    "\n"
   ]
  },
  {
   "cell_type": "markdown",
   "id": "cd015445",
   "metadata": {},
   "source": [
    "You can now start to analyze the characteristics and purchasing behavior of this group and try to understand what distinguishes them from typical customers. Do they tend to buy a subset of your products or services? Do they live in demographically similar neighborhoods? Are their lifestyles and/or life stages similar? Why do they perceive more value in your business than the folks who you see once or twice?"
   ]
  },
  {
   "cell_type": "code",
   "execution_count": 35,
   "id": "c85fa2a2",
   "metadata": {},
   "outputs": [],
   "source": [
    "segment1 = customer_data.loc[customer_data.CreditScore == '01. Excellent'].reset_index()\n",
    "segment2 = customer_data.loc[customer_data.CreditScore == '02. Good'].reset_index()\n",
    "segment3 = customer_data.loc[customer_data.CreditScore == '03. Moderate'].reset_index()\n",
    "segment4 = customer_data.loc[customer_data.CreditScore == '04. Fair'].reset_index()\n",
    "segment5 = customer_data.loc[customer_data.CreditScore == '05. Poor'].reset_index()\n",
    "\n",
    "fsegment01 = clean_credit.merge(right=segment1, how=\"inner\", left_on=\"retailer_names\", right_on=\"retailer_names\")\n",
    "fsegment02 = clean_credit.merge(right=segment2, how=\"inner\", left_on=\"retailer_names\", right_on=\"retailer_names\")\n",
    "fsegment03 = clean_credit.merge(right=segment3, how=\"inner\", left_on=\"retailer_names\", right_on=\"retailer_names\")\n",
    "fsegment04 = clean_credit.merge(right=segment4, how=\"inner\", left_on=\"retailer_names\", right_on=\"retailer_names\")\n",
    "fsegment05 = clean_credit.merge(right=segment5, how=\"inner\", left_on=\"retailer_names\", right_on=\"retailer_names\")"
   ]
  },
  {
   "cell_type": "code",
   "execution_count": 69,
   "id": "d7a62fe5",
   "metadata": {},
   "outputs": [
    {
     "data": {
      "text/html": [
       "<div>\n",
       "<style scoped>\n",
       "    .dataframe tbody tr th:only-of-type {\n",
       "        vertical-align: middle;\n",
       "    }\n",
       "\n",
       "    .dataframe tbody tr th {\n",
       "        vertical-align: top;\n",
       "    }\n",
       "\n",
       "    .dataframe thead th {\n",
       "        text-align: right;\n",
       "    }\n",
       "</style>\n",
       "<table border=\"1\" class=\"dataframe\">\n",
       "  <thead>\n",
       "    <tr style=\"text-align: right;\">\n",
       "      <th></th>\n",
       "      <th>Unnamed: 0</th>\n",
       "      <th>master_order_id</th>\n",
       "      <th>master_order_status</th>\n",
       "      <th>created</th>\n",
       "      <th>ordereditem_quantity</th>\n",
       "      <th>prod_names</th>\n",
       "      <th>ordereditem_unit_price_net</th>\n",
       "      <th>value</th>\n",
       "      <th>group</th>\n",
       "      <th>retailer_names</th>\n",
       "      <th>...</th>\n",
       "      <th>RelMonetaryValue</th>\n",
       "      <th>RecencyScore</th>\n",
       "      <th>FrequencyScore</th>\n",
       "      <th>MonetaryScore</th>\n",
       "      <th>RFM</th>\n",
       "      <th>last_order_within_4d</th>\n",
       "      <th>more_than_26_orders</th>\n",
       "      <th>value_higher_than_400k</th>\n",
       "      <th>CreditScore</th>\n",
       "      <th>FinalRFM</th>\n",
       "    </tr>\n",
       "  </thead>\n",
       "  <tbody>\n",
       "    <tr>\n",
       "      <th>0</th>\n",
       "      <td>1</td>\n",
       "      <td>25651</td>\n",
       "      <td>delivered</td>\n",
       "      <td>2017-12-18 10:41:00</td>\n",
       "      <td>5</td>\n",
       "      <td>ProdName1</td>\n",
       "      <td>43.00</td>\n",
       "      <td>215.00</td>\n",
       "      <td>Hyderabad</td>\n",
       "      <td>RetailerID2</td>\n",
       "      <td>...</td>\n",
       "      <td>361.820517</td>\n",
       "      <td>3</td>\n",
       "      <td>3</td>\n",
       "      <td>3</td>\n",
       "      <td>9</td>\n",
       "      <td>True</td>\n",
       "      <td>True</td>\n",
       "      <td>False</td>\n",
       "      <td>02. Good</td>\n",
       "      <td>02. High Engagement &amp; Low Value</td>\n",
       "    </tr>\n",
       "    <tr>\n",
       "      <th>1</th>\n",
       "      <td>2</td>\n",
       "      <td>25651</td>\n",
       "      <td>delivered</td>\n",
       "      <td>2017-12-18 10:41:00</td>\n",
       "      <td>5</td>\n",
       "      <td>ProdName2</td>\n",
       "      <td>35.54</td>\n",
       "      <td>177.70</td>\n",
       "      <td>Hyderabad</td>\n",
       "      <td>RetailerID2</td>\n",
       "      <td>...</td>\n",
       "      <td>361.820517</td>\n",
       "      <td>3</td>\n",
       "      <td>3</td>\n",
       "      <td>3</td>\n",
       "      <td>9</td>\n",
       "      <td>True</td>\n",
       "      <td>True</td>\n",
       "      <td>False</td>\n",
       "      <td>02. Good</td>\n",
       "      <td>02. High Engagement &amp; Low Value</td>\n",
       "    </tr>\n",
       "    <tr>\n",
       "      <th>2</th>\n",
       "      <td>143</td>\n",
       "      <td>25684</td>\n",
       "      <td>processed</td>\n",
       "      <td>2018-01-23 06:30:00</td>\n",
       "      <td>2</td>\n",
       "      <td>ProdName118</td>\n",
       "      <td>48.29</td>\n",
       "      <td>96.58</td>\n",
       "      <td>Hyderabad</td>\n",
       "      <td>RetailerID2</td>\n",
       "      <td>...</td>\n",
       "      <td>361.820517</td>\n",
       "      <td>3</td>\n",
       "      <td>3</td>\n",
       "      <td>3</td>\n",
       "      <td>9</td>\n",
       "      <td>True</td>\n",
       "      <td>True</td>\n",
       "      <td>False</td>\n",
       "      <td>02. Good</td>\n",
       "      <td>02. High Engagement &amp; Low Value</td>\n",
       "    </tr>\n",
       "  </tbody>\n",
       "</table>\n",
       "<p>3 rows × 37 columns</p>\n",
       "</div>"
      ],
      "text/plain": [
       "   Unnamed: 0  master_order_id master_order_status             created  \\\n",
       "0           1            25651           delivered 2017-12-18 10:41:00   \n",
       "1           2            25651           delivered 2017-12-18 10:41:00   \n",
       "2         143            25684           processed 2018-01-23 06:30:00   \n",
       "\n",
       "   ordereditem_quantity   prod_names  ordereditem_unit_price_net   value  \\\n",
       "0                     5    ProdName1                       43.00  215.00   \n",
       "1                     5    ProdName2                       35.54  177.70   \n",
       "2                     2  ProdName118                       48.29   96.58   \n",
       "\n",
       "       group retailer_names  ...  RelMonetaryValue  RecencyScore  \\\n",
       "0  Hyderabad    RetailerID2  ...        361.820517             3   \n",
       "1  Hyderabad    RetailerID2  ...        361.820517             3   \n",
       "2  Hyderabad    RetailerID2  ...        361.820517             3   \n",
       "\n",
       "   FrequencyScore MonetaryScore  RFM  last_order_within_4d  \\\n",
       "0               3             3    9                  True   \n",
       "1               3             3    9                  True   \n",
       "2               3             3    9                  True   \n",
       "\n",
       "   more_than_26_orders value_higher_than_400k  CreditScore  \\\n",
       "0                 True                  False     02. Good   \n",
       "1                 True                  False     02. Good   \n",
       "2                 True                  False     02. Good   \n",
       "\n",
       "                          FinalRFM  \n",
       "0  02. High Engagement & Low Value  \n",
       "1  02. High Engagement & Low Value  \n",
       "2  02. High Engagement & Low Value  \n",
       "\n",
       "[3 rows x 37 columns]"
      ]
     },
     "execution_count": 69,
     "metadata": {},
     "output_type": "execute_result"
    }
   ],
   "source": [
    "all_data = clean_credit.merge(right=customer_data, how=\"inner\", left_on=\"retailer_names\", right_on=\"retailer_names\")\n",
    "all_data.head(3)"
   ]
  },
  {
   "cell_type": "code",
   "execution_count": null,
   "id": "958969c9",
   "metadata": {},
   "outputs": [],
   "source": [
    "myFigure = sns.catplot(\n",
    "    x=\"FinalRFM\", y=\"survived\", hue=\"class\", kind=\"bar\",\n",
    "    hue_order=[\"First\", \"Second\", \"Third\"], data=all_data)\n",
    "myFigure.fig.suptitle(\"Titanic Survivors\", fontsize=15)"
   ]
  },
  {
   "cell_type": "code",
   "execution_count": 33,
   "id": "6a087bb9",
   "metadata": {},
   "outputs": [],
   "source": [
    "# create excel writer object\n",
    "writer = pd.ExcelWriter('rel_all_data2.xlsx')\n",
    "# write dataframe to excel\n",
    "rel_all_data.to_excel(writer)\n",
    "# save the excel\n",
    "writer.save()"
   ]
  },
  {
   "cell_type": "code",
   "execution_count": null,
   "id": "1bc58340",
   "metadata": {},
   "outputs": [],
   "source": [
    "segment5"
   ]
  },
  {
   "cell_type": "code",
   "execution_count": null,
   "id": "13d33ea6",
   "metadata": {},
   "outputs": [],
   "source": [
    "all_data_shop = pd.pivot_table(all_data, index = ['retailer_names','FinalRFM'], columns = 'group' , values = 'created', aggfunc ='count')\n",
    "all_data_shop.sort_values(['Hyderabad'], ascending=False,inplace=True)\n"
   ]
  },
  {
   "cell_type": "code",
   "execution_count": null,
   "id": "e73f6c18",
   "metadata": {},
   "outputs": [],
   "source": [
    "all_data_shop"
   ]
  },
  {
   "cell_type": "code",
   "execution_count": null,
   "id": "c675bc52",
   "metadata": {},
   "outputs": [],
   "source": [
    "all_group = all_data_shop.reset_index()"
   ]
  },
  {
   "cell_type": "code",
   "execution_count": null,
   "id": "e92cf750",
   "metadata": {},
   "outputs": [],
   "source": [
    "all_group"
   ]
  },
  {
   "cell_type": "code",
   "execution_count": null,
   "id": "7f6453f5",
   "metadata": {},
   "outputs": [],
   "source": [
    "all_group.pivot_table(index=\"FinalRFM\", \n",
    "                                              values=[\"created\", \"bill_amount\",'invoice_id'], \n",
    "                                              aggfunc={\"created\": [min, max], \"bill_amount\": sum, 'invoice_id':pd.Series.nunique})\n",
    "\n",
    "\n",
    "\n",
    "customer_data.head()"
   ]
  },
  {
   "cell_type": "code",
   "execution_count": null,
   "id": "133c86b8",
   "metadata": {},
   "outputs": [],
   "source": [
    "all_group.loc[(all_group.isna().sum(axis=1)) == 1]"
   ]
  },
  {
   "cell_type": "code",
   "execution_count": null,
   "id": "00a243e3",
   "metadata": {},
   "outputs": [],
   "source": [
    "null_group = all_group[all_group.isnull().any(axis=1)]\n",
    "null_group"
   ]
  },
  {
   "cell_type": "code",
   "execution_count": null,
   "id": "77b6320e",
   "metadata": {},
   "outputs": [],
   "source": [
    "null_group.groupby('FinalRFM')['retailer_names'].count()\n"
   ]
  },
  {
   "cell_type": "code",
   "execution_count": null,
   "id": "0ba13511",
   "metadata": {},
   "outputs": [],
   "source": []
  },
  {
   "cell_type": "markdown",
   "id": "e7aa255c",
   "metadata": {},
   "source": [
    "### Most Valuable Customer - High engagement & High value (27)"
   ]
  },
  {
   "cell_type": "code",
   "execution_count": 58,
   "id": "038df010",
   "metadata": {},
   "outputs": [
    {
     "data": {
      "text/plain": [
       "(11298, 36)"
      ]
     },
     "execution_count": 58,
     "metadata": {},
     "output_type": "execute_result"
    }
   ],
   "source": [
    "fsegment01.shape"
   ]
  },
  {
   "cell_type": "code",
   "execution_count": 57,
   "id": "87a39cc9",
   "metadata": {},
   "outputs": [
    {
     "name": "stderr",
     "output_type": "stream",
     "text": [
      "C:\\Users\\Acer\\AppData\\Local\\Temp\\ipykernel_6376\\2598173587.py:1: FutureWarning: Dropping invalid columns in DataFrameGroupBy.add is deprecated. In a future version, a TypeError will be raised. Before calling .add, select only columns which should be valid for the function.\n",
      "  shop = pd.pivot_table(fsegment01, index = 'retailer_names', columns = 'bill_amount' , values = 'created', aggfunc ='sum')\n"
     ]
    },
    {
     "data": {
      "text/html": [
       "<div>\n",
       "<style scoped>\n",
       "    .dataframe tbody tr th:only-of-type {\n",
       "        vertical-align: middle;\n",
       "    }\n",
       "\n",
       "    .dataframe tbody tr th {\n",
       "        vertical-align: top;\n",
       "    }\n",
       "\n",
       "    .dataframe thead th {\n",
       "        text-align: right;\n",
       "    }\n",
       "</style>\n",
       "<table border=\"1\" class=\"dataframe\">\n",
       "  <thead>\n",
       "    <tr style=\"text-align: right;\">\n",
       "      <th>bill_amount</th>\n",
       "    </tr>\n",
       "    <tr>\n",
       "      <th>retailer_names</th>\n",
       "    </tr>\n",
       "  </thead>\n",
       "  <tbody>\n",
       "    <tr>\n",
       "      <th>RetailerID1</th>\n",
       "    </tr>\n",
       "    <tr>\n",
       "      <th>RetailerID101</th>\n",
       "    </tr>\n",
       "    <tr>\n",
       "      <th>RetailerID115</th>\n",
       "    </tr>\n",
       "    <tr>\n",
       "      <th>RetailerID119</th>\n",
       "    </tr>\n",
       "    <tr>\n",
       "      <th>RetailerID123</th>\n",
       "    </tr>\n",
       "    <tr>\n",
       "      <th>RetailerID127</th>\n",
       "    </tr>\n",
       "    <tr>\n",
       "      <th>RetailerID13</th>\n",
       "    </tr>\n",
       "    <tr>\n",
       "      <th>RetailerID133</th>\n",
       "    </tr>\n",
       "    <tr>\n",
       "      <th>RetailerID146</th>\n",
       "    </tr>\n",
       "    <tr>\n",
       "      <th>RetailerID16</th>\n",
       "    </tr>\n",
       "    <tr>\n",
       "      <th>RetailerID20</th>\n",
       "    </tr>\n",
       "    <tr>\n",
       "      <th>RetailerID21</th>\n",
       "    </tr>\n",
       "    <tr>\n",
       "      <th>RetailerID27</th>\n",
       "    </tr>\n",
       "    <tr>\n",
       "      <th>RetailerID34</th>\n",
       "    </tr>\n",
       "    <tr>\n",
       "      <th>RetailerID35</th>\n",
       "    </tr>\n",
       "    <tr>\n",
       "      <th>RetailerID36</th>\n",
       "    </tr>\n",
       "    <tr>\n",
       "      <th>RetailerID37</th>\n",
       "    </tr>\n",
       "    <tr>\n",
       "      <th>RetailerID42</th>\n",
       "    </tr>\n",
       "    <tr>\n",
       "      <th>RetailerID43</th>\n",
       "    </tr>\n",
       "    <tr>\n",
       "      <th>RetailerID52</th>\n",
       "    </tr>\n",
       "    <tr>\n",
       "      <th>RetailerID55</th>\n",
       "    </tr>\n",
       "    <tr>\n",
       "      <th>RetailerID77</th>\n",
       "    </tr>\n",
       "    <tr>\n",
       "      <th>RetailerID79</th>\n",
       "    </tr>\n",
       "    <tr>\n",
       "      <th>RetailerID8</th>\n",
       "    </tr>\n",
       "    <tr>\n",
       "      <th>RetailerID81</th>\n",
       "    </tr>\n",
       "    <tr>\n",
       "      <th>RetailerID9</th>\n",
       "    </tr>\n",
       "    <tr>\n",
       "      <th>RetailerID95</th>\n",
       "    </tr>\n",
       "  </tbody>\n",
       "</table>\n",
       "</div>"
      ],
      "text/plain": [
       "Empty DataFrame\n",
       "Columns: []\n",
       "Index: [RetailerID1, RetailerID101, RetailerID115, RetailerID119, RetailerID123, RetailerID127, RetailerID13, RetailerID133, RetailerID146, RetailerID16, RetailerID20, RetailerID21, RetailerID27, RetailerID34, RetailerID35, RetailerID36, RetailerID37, RetailerID42, RetailerID43, RetailerID52, RetailerID55, RetailerID77, RetailerID79, RetailerID8, RetailerID81, RetailerID9, RetailerID95]"
      ]
     },
     "execution_count": 57,
     "metadata": {},
     "output_type": "execute_result"
    }
   ],
   "source": [
    "shop = pd.pivot_table(fsegment01, index = 'retailer_names', columns = 'group' , values = 'created', aggfunc ='count')\n",
    "shop.sort_values(['Hyderabad'], ascending=False,inplace=True)\n",
    "shop.shape"
   ]
  },
  {
   "cell_type": "markdown",
   "id": "5a10a368",
   "metadata": {},
   "source": [
    "Number of transactions made by each retailers by group. All the retailers have pharmacy outlets in all the locations"
   ]
  },
  {
   "cell_type": "markdown",
   "id": "5ce93aa4",
   "metadata": {},
   "source": [
    "#### Market basket analysis"
   ]
  },
  {
   "cell_type": "markdown",
   "id": "0d15bc98",
   "metadata": {},
   "source": [
    "Top 20 items ordered"
   ]
  },
  {
   "cell_type": "code",
   "execution_count": null,
   "id": "d77a10e4",
   "metadata": {},
   "outputs": [],
   "source": [
    "myfig = grouped_Univ.plot(kind='bar',logy=False, colormap='Set3_r',figsize=(15,10), fontsize=15) \n",
    "#plt.legend(bbox_to_anchor=(x,y))  \n",
    "#plt.yticks(rotation=0)\n",
    "plt.xticks(rotation=0, weight = 'bold')\n",
    "plt.xlabel('RFM Cluster', fontsize=15)\n",
    "plt.ylabel('Average RFM Scores', fontsize=15)\n",
    "plt.legend(fontsize=15) # using a size in points\n",
    "#plt.legend(loc=\"upper left\", bbox_to_anchor=(1,1),fontsize=12) \n",
    "plt.show()"
   ]
  },
  {
   "cell_type": "code",
   "execution_count": null,
   "id": "ae64f44d",
   "metadata": {},
   "outputs": [],
   "source": [
    "fsegment01['prod_names'].value_counts().head(10).plot(kind = 'barh',colormap='Accent_r',figsize=(15,10))\n"
   ]
  },
  {
   "cell_type": "code",
   "execution_count": null,
   "id": "ff5228ac",
   "metadata": {},
   "outputs": [],
   "source": [
    "basket01 = (fsegment01\n",
    "        .groupby(['invoice_id', 'prod_names'])['ordereditem_quantity']\n",
    "                .sum().unstack().reset_index().fillna(0)\n",
    "          .set_index('invoice_id'))"
   ]
  },
  {
   "cell_type": "code",
   "execution_count": null,
   "id": "25262026",
   "metadata": {},
   "outputs": [],
   "source": [
    "basket01"
   ]
  },
  {
   "cell_type": "code",
   "execution_count": null,
   "id": "f718f7fb",
   "metadata": {},
   "outputs": [],
   "source": [
    "def encode_units(x):\n",
    "    if x <= 0:\n",
    "        return 0\n",
    "    if x >= 1:\n",
    "        return 1"
   ]
  },
  {
   "cell_type": "code",
   "execution_count": null,
   "id": "bc64bf48",
   "metadata": {},
   "outputs": [],
   "source": [
    "basket01_sets = basket01.applymap(encode_units)"
   ]
  },
  {
   "cell_type": "code",
   "execution_count": null,
   "id": "053bcdad",
   "metadata": {},
   "outputs": [],
   "source": [
    "#we can generate frequent item sets that have a support of at least 10 occurence in 10000 transactions\n",
    "frequent01_itemsets = apriori(basket01_sets, min_support=0.001, use_colnames=True)\n",
    "frequent01_itemsets.sort_values('support', ascending = False, inplace=True)"
   ]
  },
  {
   "cell_type": "code",
   "execution_count": null,
   "id": "05a806f7",
   "metadata": {},
   "outputs": [],
   "source": [
    "#generate the rules with their corresponding support, confidence and lift\n",
    "#rules_h = association_rules(frequent_itemsets_h, metric=\"lift\", min_threshold=1)\n",
    "rules01 = association_rules(frequent01_itemsets, metric=\"lift\")\n",
    "rules01.head()\n",
    "\n",
    "#In this case, look for a large lift (6) and high confidence (.8):\n",
    "#rules_h[ (rules_h['lift'] >= 6) &\n",
    "     #  (rules_h['confidence'] >= 0.8) ]"
   ]
  },
  {
   "cell_type": "code",
   "execution_count": null,
   "id": "b83de8e5",
   "metadata": {},
   "outputs": [],
   "source": [
    "import matplotlib.pyplot as plt\n",
    "colors = [\"red\",\"green\",\"blue\",\"black\",\"yellow\",\"magenta\",\"cyan\", \"pink\",\"orange\",\"brown\"]\n",
    "plt.bar(x = list(range(1,21)), height = frequent01_itemsets.support[1:21], color=colors)\n",
    "plt.xticks(list(range(1,21)),frequent01_itemsets.itemsets[1:21],rotation = 45)\n",
    "plt.xlabel('item-sets');plt.ylabel('support')\n",
    "#plt.xticks(rotation = 45)"
   ]
  },
  {
   "cell_type": "markdown",
   "id": "7ba7a350",
   "metadata": {},
   "source": [
    "#### Efficient retailers with completed customer order status comes from efficient manufacturer"
   ]
  },
  {
   "cell_type": "code",
   "execution_count": null,
   "id": "cd9a87db",
   "metadata": {},
   "outputs": [],
   "source": [
    "delivery = fsegment01.groupby('retailer_names')['order_status','master_order_status'].apply(lambda x: (x=='processed').sum())"
   ]
  },
  {
   "cell_type": "markdown",
   "id": "52c70e3e",
   "metadata": {},
   "source": [
    "Relationship between manufacturer and retailer. More completed order from manufacturer means more completed order from retailer"
   ]
  },
  {
   "cell_type": "code",
   "execution_count": null,
   "id": "c90df779",
   "metadata": {},
   "outputs": [],
   "source": [
    "sns.relplot(x=\"master_order_status\", y=\"order_status\", kind=\"line\", \n",
    "            dashes=False,markers = True, data=delivery)"
   ]
  },
  {
   "cell_type": "code",
   "execution_count": null,
   "id": "dfa47eb2",
   "metadata": {},
   "outputs": [],
   "source": [
    "# each month brapa retailer yg restock (unique) --> almost every retailers restock\n",
    "fsegment01.groupby('created_year_month')['retailer_names'].nunique().plot.bar()"
   ]
  },
  {
   "cell_type": "code",
   "execution_count": null,
   "id": "e22ea3fc",
   "metadata": {},
   "outputs": [],
   "source": [
    "fsegment01.groupby('created_year_month')['retailer_names'].nunique().plot.bar()"
   ]
  },
  {
   "cell_type": "code",
   "execution_count": null,
   "id": "040428c8",
   "metadata": {},
   "outputs": [],
   "source": [
    "myFigure = fsegment01.groupby('created_dayofweek')['retailer_names'].nunique().plot(kind='bar')\n",
    "myFigure.set_xticklabels(labels=[\"Mon\", \"Tue\",'Wed','Thu','Fri','Sat','Sun'])\n",
    "#myFigure.fig\n",
    "plt.show()"
   ]
  },
  {
   "cell_type": "code",
   "execution_count": null,
   "id": "3dc6c5c2",
   "metadata": {},
   "outputs": [],
   "source": [
    "invoiceno_hour = fsegment01.groupby('created_hour')['invoice_id'].nunique()\n",
    "invoiceno_hour.index\n",
    "invoiceno_hour.plot.bar()\n",
    "\n",
    "# the highest number of orders are at 6am"
   ]
  },
  {
   "cell_type": "code",
   "execution_count": 52,
   "id": "b69d027c",
   "metadata": {},
   "outputs": [
    {
     "data": {
      "text/plain": [
       "<AxesSubplot:>"
      ]
     },
     "execution_count": 52,
     "metadata": {},
     "output_type": "execute_result"
    },
    {
     "data": {
      "image/png": "[encoded data removed]",
      "text/plain": [
       "<Figure size 432x288 with 1 Axes>"
      ]
     },
     "metadata": {
      "needs_background": "light"
     },
     "output_type": "display_data"
    }
   ],
   "source": [
    "fsegment01['bill_amount'].hist()"
   ]
  },
  {
   "cell_type": "markdown",
   "id": "2a3b72c1",
   "metadata": {},
   "source": [
    "#### How many different products they ordered"
   ]
  },
  {
   "cell_type": "code",
   "execution_count": null,
   "id": "50e2fdfc",
   "metadata": {},
   "outputs": [],
   "source": [
    "# brapa jenis produk diorang beli\n",
    "monopoly01 = fsegment01.groupby('retailer_names')['prod_names'].nunique().reset_index()\n",
    "monopoly01.describe()"
   ]
  },
  {
   "cell_type": "markdown",
   "id": "665eca6b",
   "metadata": {},
   "source": [
    "### Silver"
   ]
  },
  {
   "cell_type": "code",
   "execution_count": null,
   "id": "3dde2d6b",
   "metadata": {},
   "outputs": [],
   "source": [
    "shop02 = pd.pivot_table(fsegment02, index = 'retailer_names', columns = 'group' , values = 'created', aggfunc ='count')\n",
    "shop02.sort_values(['Hyderabad'], ascending=False,inplace=True)\n",
    "shop02\n",
    "test02 = shop02.reset_index()"
   ]
  },
  {
   "cell_type": "code",
   "execution_count": null,
   "id": "9686bc98",
   "metadata": {},
   "outputs": [],
   "source": [
    "test02"
   ]
  },
  {
   "cell_type": "code",
   "execution_count": null,
   "id": "f5848c00",
   "metadata": {},
   "outputs": [],
   "source": [
    "len(shop02)"
   ]
  },
  {
   "cell_type": "code",
   "execution_count": null,
   "id": "72258b84",
   "metadata": {},
   "outputs": [],
   "source": [
    "len(test02.loc[(test02.isna().sum(axis=1)) == 1])"
   ]
  },
  {
   "cell_type": "code",
   "execution_count": null,
   "id": "153a940b",
   "metadata": {},
   "outputs": [],
   "source": [
    "len(test02.isna().sum(axis=1) > 2)"
   ]
  },
  {
   "cell_type": "code",
   "execution_count": null,
   "id": "123ece21",
   "metadata": {},
   "outputs": [],
   "source": [
    "(len(shop02.dropna())/len(shop02))*100 #40 percent of retailers with outlets in all three group"
   ]
  },
  {
   "cell_type": "code",
   "execution_count": null,
   "id": "49534bbb",
   "metadata": {},
   "outputs": [],
   "source": [
    "#len(test02[(test02['Delhi-West'] == np.nan)])\n",
    "test02['Gurugram'].isna().sum()"
   ]
  },
  {
   "cell_type": "markdown",
   "id": "ab10a83b",
   "metadata": {},
   "source": [
    "#### Market basket Analysis"
   ]
  },
  {
   "cell_type": "code",
   "execution_count": null,
   "id": "c0ed1194",
   "metadata": {},
   "outputs": [],
   "source": [
    "fsegment02['prod_names'].value_counts().head(20).plot.bar()"
   ]
  },
  {
   "cell_type": "code",
   "execution_count": null,
   "id": "a68f4fca",
   "metadata": {},
   "outputs": [],
   "source": [
    "basket02 = (fsegment02\n",
    "        .groupby(['invoice_id', 'prod_names'])['ordereditem_quantity']\n",
    "                .sum().unstack().reset_index().fillna(0)\n",
    "          .set_index('invoice_id'))"
   ]
  },
  {
   "cell_type": "code",
   "execution_count": null,
   "id": "5d04e419",
   "metadata": {},
   "outputs": [],
   "source": [
    "basket02_sets = basket02.applymap(encode_units)\n",
    "basket02_sets"
   ]
  },
  {
   "cell_type": "code",
   "execution_count": null,
   "id": "61de69f0",
   "metadata": {},
   "outputs": [],
   "source": [
    "from mlxtend.frequent_patterns import apriori, association_rules\n",
    "#we can generate frequent item sets that have a support of at least 10 occurence in 10000 transactions\n",
    "frequent02_itemsets = apriori(basket02_sets, min_support=0.001, use_colnames=True)\n",
    "frequent02_itemsets.sort_values('support', ascending = False, inplace=True)\n"
   ]
  },
  {
   "cell_type": "code",
   "execution_count": null,
   "id": "07298e2b",
   "metadata": {},
   "outputs": [],
   "source": [
    "rules02 = association_rules(frequent02_itemsets, metric=\"lift\")\n",
    "rules02.head()"
   ]
  },
  {
   "cell_type": "code",
   "execution_count": null,
   "id": "a29bae71",
   "metadata": {},
   "outputs": [],
   "source": [
    "import matplotlib.pyplot as plt\n",
    "colors = [\"red\",\"green\",\"blue\",\"black\",\"yellow\",\"magenta\",\"cyan\", \"pink\",\"orange\",\"brown\"]\n",
    "plt.bar(x = list(range(1,21)), height = frequent02_itemsets.support[1:21], color=colors)\n",
    "plt.xticks(list(range(1,21)),frequent02_itemsets.itemsets[1:21],rotation = 45)\n",
    "plt.xlabel('item-sets');plt.ylabel('support')"
   ]
  },
  {
   "cell_type": "code",
   "execution_count": null,
   "id": "a7c3e42a",
   "metadata": {},
   "outputs": [],
   "source": [
    "# less product ordered\n",
    "monopoly02 = fsegment02.groupby('retailer_names')['prod_names'].nunique().reset_index()\n",
    "monopoly02.describe()"
   ]
  },
  {
   "cell_type": "code",
   "execution_count": null,
   "id": "6168bf0b",
   "metadata": {},
   "outputs": [],
   "source": [
    "monopoly02.loc[monopoly02[\"prod_names\"] == 1]"
   ]
  },
  {
   "cell_type": "code",
   "execution_count": null,
   "id": "28cc8742",
   "metadata": {},
   "outputs": [],
   "source": [
    "delivery02 = fsegment02.groupby('retailer_names')['order_status','master_order_status'].apply(lambda x: (x=='processed').sum())\n",
    "# Relationship between manufacturer and retailer. More completed order from manufacturer means more completed order from retailer\n",
    "sns.relplot(x=\"master_order_status\", y=\"order_status\", kind=\"line\", \n",
    "             data=delivery02)"
   ]
  },
  {
   "cell_type": "code",
   "execution_count": null,
   "id": "c4bddb1c",
   "metadata": {},
   "outputs": [],
   "source": [
    "# each month brapa retailer yg restock (unique) --> almost every retailers restock\n",
    "fsegment02.groupby('created_year_month')['retailer_names'].nunique().plot.bar()"
   ]
  },
  {
   "cell_type": "code",
   "execution_count": null,
   "id": "f54887d6",
   "metadata": {},
   "outputs": [],
   "source": [
    "myFigure = fsegment02.groupby('created_dayofweek')['retailer_names'].nunique().plot(kind='bar')\n",
    "myFigure.set_xticklabels(labels=[\"Mon\", \"Tue\",'Wed','Thu','Fri','Sat','Sun'])\n",
    "#myFigure.fig\n",
    "plt.show()\n"
   ]
  },
  {
   "cell_type": "code",
   "execution_count": null,
   "id": "5b2c847d",
   "metadata": {},
   "outputs": [],
   "source": [
    "invoiceno_hour = fsegment02.groupby('created_hour')['invoice_id'].nunique()\n",
    "invoiceno_hour.index\n",
    "invoiceno_hour.plot.bar()\n",
    "\n",
    "# the highest number of orders are at 6am"
   ]
  },
  {
   "cell_type": "markdown",
   "id": "99365f5e",
   "metadata": {},
   "source": [
    "### Recent and low frequency (62)"
   ]
  },
  {
   "cell_type": "code",
   "execution_count": null,
   "id": "cb09c856",
   "metadata": {},
   "outputs": [],
   "source": [
    "fsegment03.shape"
   ]
  },
  {
   "cell_type": "code",
   "execution_count": null,
   "id": "e3133699",
   "metadata": {},
   "outputs": [],
   "source": [
    "shop03 = pd.pivot_table(fsegment03, index = 'retailer_names', columns = 'group' , values = 'created', aggfunc ='count')\n",
    "shop03.sort_values(['Hyderabad'], ascending=False,inplace=True)\n",
    "shop03"
   ]
  },
  {
   "cell_type": "code",
   "execution_count": null,
   "id": "54af0e73",
   "metadata": {},
   "outputs": [],
   "source": [
    "test03 = shop03.reset_index()"
   ]
  },
  {
   "cell_type": "code",
   "execution_count": null,
   "id": "3b1f79b5",
   "metadata": {},
   "outputs": [],
   "source": [
    "len(shop03)"
   ]
  },
  {
   "cell_type": "code",
   "execution_count": null,
   "id": "58dab486",
   "metadata": {},
   "outputs": [],
   "source": [
    "len(test03.loc[(test03.isna().sum(axis=1)) == 2])"
   ]
  },
  {
   "cell_type": "code",
   "execution_count": null,
   "id": "2939485f",
   "metadata": {},
   "outputs": [],
   "source": [
    "(len(shop03.dropna())/len(shop03))*100 # only 21% of retailers with outlets in all three group"
   ]
  },
  {
   "cell_type": "markdown",
   "id": "32ce69c2",
   "metadata": {},
   "source": [
    "#### Market Basket Analysis"
   ]
  },
  {
   "cell_type": "code",
   "execution_count": null,
   "id": "e001c35f",
   "metadata": {},
   "outputs": [],
   "source": [
    "fsegment03['prod_names'].value_counts().head(20).plot.bar()"
   ]
  },
  {
   "cell_type": "code",
   "execution_count": null,
   "id": "e7164cdd",
   "metadata": {},
   "outputs": [],
   "source": [
    "basket03 = (fsegment03\n",
    "        .groupby(['invoice_id', 'prod_names'])['ordereditem_quantity']\n",
    "                .sum().unstack().reset_index().fillna(0)\n",
    "          .set_index('invoice_id'))"
   ]
  },
  {
   "cell_type": "code",
   "execution_count": null,
   "id": "ad4533ad",
   "metadata": {},
   "outputs": [],
   "source": [
    "def encode_units(x):\n",
    "    if x <= 0:\n",
    "        return 0\n",
    "    if x >= 1:\n",
    "        return 1\n",
    "basket03_sets = basket03.applymap(encode_units)"
   ]
  },
  {
   "cell_type": "code",
   "execution_count": null,
   "id": "3c2d7b87",
   "metadata": {},
   "outputs": [],
   "source": [
    "from mlxtend.frequent_patterns import apriori, association_rules\n",
    "frequent03_itemsets = apriori(basket03_sets, min_support=0.001, use_colnames=True)\n",
    "frequent03_itemsets.sort_values('support', ascending = False, inplace=True)"
   ]
  },
  {
   "cell_type": "code",
   "execution_count": null,
   "id": "49998c95",
   "metadata": {},
   "outputs": [],
   "source": [
    "rules03 = association_rules(frequent03_itemsets, metric=\"lift\")\n",
    "rules03.head()"
   ]
  },
  {
   "cell_type": "code",
   "execution_count": null,
   "id": "c25623b6",
   "metadata": {},
   "outputs": [],
   "source": [
    "import matplotlib.pyplot as plt\n",
    "colors = [\"red\",\"green\",\"blue\",\"black\",\"yellow\",\"magenta\",\"cyan\", \"pink\",\"orange\",\"brown\"]\n",
    "plt.bar(x = list(range(1,21)), height = frequent03_itemsets.support[1:21], color=colors)\n",
    "plt.xticks(list(range(1,21)),frequent03_itemsets.itemsets[1:21],rotation = 45)\n",
    "plt.xlabel('item-sets');plt.ylabel('support')"
   ]
  },
  {
   "cell_type": "code",
   "execution_count": null,
   "id": "c6ce562e",
   "metadata": {},
   "outputs": [],
   "source": [
    "# less product ordered\n",
    "monopoly03 = fsegment03.groupby('retailer_names')['prod_names'].nunique().reset_index()\n",
    "monopoly03.head()"
   ]
  },
  {
   "cell_type": "code",
   "execution_count": null,
   "id": "0ef706f0",
   "metadata": {},
   "outputs": [],
   "source": [
    "monopoly03.loc[monopoly03[\"prod_names\"] == 1]"
   ]
  },
  {
   "cell_type": "code",
   "execution_count": null,
   "id": "f64400ab",
   "metadata": {},
   "outputs": [],
   "source": [
    "sns.relplot(x='created', y='bill_amount', data=fsegment03, kind='line')"
   ]
  },
  {
   "cell_type": "code",
   "execution_count": null,
   "id": "0c7059cd",
   "metadata": {},
   "outputs": [],
   "source": [
    "delivery03 = fsegment03.groupby('retailer_names')['order_status','master_order_status'].apply(lambda x: (x=='processed').sum())\n",
    "# Relationship between manufacturer and retailer. More completed order from manufacturer means more completed order from retailer\n",
    "sns.relplot(x=\"master_order_status\", y=\"order_status\", kind=\"line\", \n",
    "             data=delivery03)"
   ]
  },
  {
   "cell_type": "code",
   "execution_count": 49,
   "id": "5c468766",
   "metadata": {},
   "outputs": [
    {
     "data": {
      "text/plain": [
       "<AxesSubplot:xlabel='created_year_month'>"
      ]
     },
     "execution_count": 49,
     "metadata": {},
     "output_type": "execute_result"
    },
    {
     "data": {
      "image/png": "[encoded data removed]",
      "text/plain": [
       "<Figure size 432x288 with 1 Axes>"
      ]
     },
     "metadata": {
      "needs_background": "light"
     },
     "output_type": "display_data"
    }
   ],
   "source": [
    "# each month brapa retailer yg restock (unique) --> almost every retailers restock\n",
    "fsegment03.groupby('created_year_month')['invoice_id'].nunique().plot.bar()"
   ]
  },
  {
   "cell_type": "code",
   "execution_count": null,
   "id": "b9f58635",
   "metadata": {},
   "outputs": [],
   "source": [
    "myFigure = fsegment03.groupby('created_dayofweek')['retailer_names'].nunique().plot(kind='bar')\n",
    "myFigure.set_xticklabels(labels=[\"Mon\", \"Tue\",'Wed','Thu','Fri','Sat','Sun'])\n",
    "#myFigure.fig\n",
    "plt.show()"
   ]
  },
  {
   "cell_type": "code",
   "execution_count": null,
   "id": "cfd5d2bf",
   "metadata": {},
   "outputs": [],
   "source": [
    "invoiceno_hour = fsegment03.groupby('created_hour')['invoice_id'].nunique()\n",
    "invoiceno_hour.index\n",
    "invoiceno_hour.plot.bar()\n",
    "\n",
    "# the highest number of orders are at 6am"
   ]
  },
  {
   "cell_type": "code",
   "execution_count": 50,
   "id": "d7620507",
   "metadata": {},
   "outputs": [
    {
     "data": {
      "text/plain": [
       "1458.47"
      ]
     },
     "execution_count": 50,
     "metadata": {},
     "output_type": "execute_result"
    }
   ],
   "source": [
    "fsegment03['bill_amount'].median()"
   ]
  },
  {
   "cell_type": "code",
   "execution_count": 47,
   "id": "60683bfe",
   "metadata": {},
   "outputs": [],
   "source": [
    "f03 = all_data.loc[all_data['CreditScore']=='03. Moderate']"
   ]
  },
  {
   "cell_type": "code",
   "execution_count": 48,
   "id": "402b1003",
   "metadata": {},
   "outputs": [
    {
     "data": {
      "text/plain": [
       "Timestamp('2018-11-03 07:58:00')"
      ]
     },
     "execution_count": 48,
     "metadata": {},
     "output_type": "execute_result"
    }
   ],
   "source": [
    "f03['created'].max()"
   ]
  },
  {
   "cell_type": "code",
   "execution_count": 42,
   "id": "3145a2f4",
   "metadata": {},
   "outputs": [
    {
     "data": {
      "text/plain": [
       "<AxesSubplot:>"
      ]
     },
     "execution_count": 42,
     "metadata": {},
     "output_type": "execute_result"
    },
    {
     "data": {
      "image/png": "[encoded data removed]",
      "text/plain": [
       "<Figure size 432x288 with 1 Axes>"
      ]
     },
     "metadata": {
      "needs_background": "light"
     },
     "output_type": "display_data"
    }
   ],
   "source": [
    "fsegment05['RecencyScore'].hist()"
   ]
  },
  {
   "cell_type": "markdown",
   "id": "445c0873",
   "metadata": {},
   "source": [
    "### promising"
   ]
  },
  {
   "cell_type": "code",
   "execution_count": null,
   "id": "6e762704",
   "metadata": {},
   "outputs": [],
   "source": [
    "# each month brapa retailer yg restock (unique) --> almost every retailers restock\n",
    "fsegment04.groupby('created_year_month')['retailer_names'].nunique().plot.bar()"
   ]
  },
  {
   "cell_type": "code",
   "execution_count": null,
   "id": "a136604b",
   "metadata": {},
   "outputs": [],
   "source": [
    "fsegment04['created'].max()"
   ]
  },
  {
   "cell_type": "code",
   "execution_count": null,
   "id": "2d0295a5",
   "metadata": {},
   "outputs": [],
   "source": [
    "shop04 = pd.pivot_table(fsegment04, index = 'retailer_names', columns = 'group' , values = 'created', aggfunc ='count')\n",
    "shop04.sort_values(['Hyderabad'], ascending=False,inplace=True)\n",
    "shop04"
   ]
  },
  {
   "cell_type": "code",
   "execution_count": null,
   "id": "45f6c4a2",
   "metadata": {},
   "outputs": [],
   "source": [
    "(len(shop04.dropna())/len(shop04))*100 # only 8% of retailers with outlets in all three group"
   ]
  },
  {
   "cell_type": "code",
   "execution_count": null,
   "id": "5c5b31ad",
   "metadata": {},
   "outputs": [],
   "source": [
    "len(shop04)"
   ]
  },
  {
   "cell_type": "code",
   "execution_count": null,
   "id": "fbf37ac7",
   "metadata": {},
   "outputs": [],
   "source": [
    "test04 = shop04.reset_index()"
   ]
  },
  {
   "cell_type": "code",
   "execution_count": null,
   "id": "0312c122",
   "metadata": {},
   "outputs": [],
   "source": [
    "len(test04.loc[(test04.isna().sum(axis=1)) == 1])"
   ]
  },
  {
   "cell_type": "code",
   "execution_count": null,
   "id": "1f97fdd3",
   "metadata": {},
   "outputs": [],
   "source": [
    "fsegment04['prod_names'].value_counts().head(10).plot.bar()"
   ]
  },
  {
   "cell_type": "code",
   "execution_count": null,
   "id": "9be96ffb",
   "metadata": {},
   "outputs": [],
   "source": [
    "# less product ordered\n",
    "monopoly04 = fsegment04.groupby('retailer_names')['prod_names'].nunique().reset_index()\n",
    "monopoly04.head()"
   ]
  },
  {
   "cell_type": "code",
   "execution_count": null,
   "id": "1c64a17c",
   "metadata": {},
   "outputs": [],
   "source": [
    "monopoly04.loc[monopoly04[\"prod_names\"] == 1]"
   ]
  },
  {
   "cell_type": "markdown",
   "id": "f5e55efc",
   "metadata": {},
   "source": [
    "### 05. dropout (72)"
   ]
  },
  {
   "cell_type": "code",
   "execution_count": null,
   "id": "e6a9a628",
   "metadata": {},
   "outputs": [],
   "source": [
    "# each month brapa retailer yg restock (unique) --> almost every retailers restock\n",
    "fsegment05.groupby('created_year_month')['retailer_names'].nunique().plot.bar()"
   ]
  },
  {
   "cell_type": "code",
   "execution_count": null,
   "id": "2f02f50f",
   "metadata": {},
   "outputs": [],
   "source": [
    "# less product ordered\n",
    "monopoly05 = fsegment05.groupby('retailer_names')['prod_names'].nunique().reset_index()\n",
    "monopoly05.head()"
   ]
  },
  {
   "cell_type": "code",
   "execution_count": null,
   "id": "09cdf371",
   "metadata": {},
   "outputs": [],
   "source": [
    "monopoly05.loc[monopoly05[\"prod_names\"] == 1]"
   ]
  },
  {
   "cell_type": "code",
   "execution_count": null,
   "id": "6d531f38",
   "metadata": {},
   "outputs": [],
   "source": [
    "shop05 = pd.pivot_table(fsegment05, index = 'retailer_names', columns = 'group' , values = 'created', aggfunc ='count')\n",
    "shop05.sort_values(['Hyderabad'], ascending=False,inplace=True)\n",
    "shop05"
   ]
  },
  {
   "cell_type": "code",
   "execution_count": null,
   "id": "003bb4e8",
   "metadata": {},
   "outputs": [],
   "source": [
    "len(test05.loc[(test05.isna().sum(axis=1)) == 2])"
   ]
  },
  {
   "cell_type": "code",
   "execution_count": null,
   "id": "20ad22fe",
   "metadata": {},
   "outputs": [],
   "source": [
    "test05 = shop05.reset_index()"
   ]
  },
  {
   "cell_type": "code",
   "execution_count": null,
   "id": "26ae230b",
   "metadata": {},
   "outputs": [],
   "source": [
    "len(shop05)"
   ]
  },
  {
   "cell_type": "code",
   "execution_count": null,
   "id": "c4f0f927",
   "metadata": {},
   "outputs": [],
   "source": [
    "(len(shop05.dropna())/len(shop05))*100 # only 4% of retailers with outlets in all three group"
   ]
  },
  {
   "cell_type": "code",
   "execution_count": null,
   "id": "ee443804",
   "metadata": {},
   "outputs": [],
   "source": [
    "# barplot\n",
    "import seaborn as sns\n",
    "sns.countplot(x=\"clust\", data=Univ)\n",
    "plt.show()\n",
    "# KIRA SETIAP CLUSTER ADA BRAPA NEGARA\n",
    "Univ.clust.value_counts()\n",
    "# Joint Plot ikut cluster untuk numerical variable je\n",
    "plt.figure(figsize=(30,25))\n",
    "grouped_Univ = Univ[['retailer_names', 'MonetaryValue', 'Frequency', 'Recency',\n",
    "       'Lifetime','clust']].groupby('clust').mean()\n",
    "axes = grouped_Univ.plot.bar(subplots=True)\n",
    "plt.show()\n",
    "\n",
    "# Profiling all features together\n",
    "grouped_Univ1.plot(kind='bar', colormap='Accent')    \n",
    "grouped_Univ1.plot(kind='bar',logy=True, colormap='Accent')    \n",
    "plt.show()"
   ]
  }
 ],
 "metadata": {
  "kernelspec": {
   "display_name": "Python 3 (ipykernel)",
   "language": "python",
   "name": "python3"
  },
  "language_info": {
   "codemirror_mode": {
    "name": "ipython",
    "version": 3
   },
   "file_extension": ".py",
   "mimetype": "text/x-python",
   "name": "python",
   "nbconvert_exporter": "python",
   "pygments_lexer": "ipython3",
   "version": "3.9.12"
  }
 },
 "nbformat": 4,
 "nbformat_minor": 5
}
