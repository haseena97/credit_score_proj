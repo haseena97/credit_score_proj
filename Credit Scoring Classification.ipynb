{
 "cells": [
  {
   "cell_type": "code",
   "execution_count": 1,
   "id": "c6b434db",
   "metadata": {},
   "outputs": [],
   "source": [
    "import pandas as pd\n",
    "import seaborn as sns\n",
    "import matplotlib.pyplot as plt"
   ]
  },
  {
   "cell_type": "code",
   "execution_count": 2,
   "id": "559a867f",
   "metadata": {},
   "outputs": [
    {
     "data": {
      "text/html": [
       "<div>\n",
       "<style scoped>\n",
       "    .dataframe tbody tr th:only-of-type {\n",
       "        vertical-align: middle;\n",
       "    }\n",
       "\n",
       "    .dataframe tbody tr th {\n",
       "        vertical-align: top;\n",
       "    }\n",
       "\n",
       "    .dataframe thead th {\n",
       "        text-align: right;\n",
       "    }\n",
       "</style>\n",
       "<table border=\"1\" class=\"dataframe\">\n",
       "  <thead>\n",
       "    <tr style=\"text-align: right;\">\n",
       "      <th></th>\n",
       "      <th>Unnamed: 0.1</th>\n",
       "      <th>Unnamed: 0</th>\n",
       "      <th>master_order_id</th>\n",
       "      <th>master_order_status</th>\n",
       "      <th>created</th>\n",
       "      <th>order_id</th>\n",
       "      <th>order_status</th>\n",
       "      <th>ordereditem_quantity</th>\n",
       "      <th>prod_names</th>\n",
       "      <th>ordereditem_unit_price_net</th>\n",
       "      <th>...</th>\n",
       "      <th>created_year</th>\n",
       "      <th>created_month</th>\n",
       "      <th>created_hour</th>\n",
       "      <th>created_year_month</th>\n",
       "      <th>created_dayofweek</th>\n",
       "      <th>MonetaryValue</th>\n",
       "      <th>Frequency</th>\n",
       "      <th>Recency</th>\n",
       "      <th>Lifetime</th>\n",
       "      <th>CreditScore</th>\n",
       "    </tr>\n",
       "  </thead>\n",
       "  <tbody>\n",
       "    <tr>\n",
       "      <th>0</th>\n",
       "      <td>0</td>\n",
       "      <td>1</td>\n",
       "      <td>25651</td>\n",
       "      <td>delivered</td>\n",
       "      <td>2017-12-18 10:41:00</td>\n",
       "      <td>25651</td>\n",
       "      <td>delivered</td>\n",
       "      <td>5</td>\n",
       "      <td>ProdName1</td>\n",
       "      <td>43.00</td>\n",
       "      <td>...</td>\n",
       "      <td>2017</td>\n",
       "      <td>12</td>\n",
       "      <td>10</td>\n",
       "      <td>2017_12</td>\n",
       "      <td>0</td>\n",
       "      <td>127477.66</td>\n",
       "      <td>77</td>\n",
       "      <td>2.552083</td>\n",
       "      <td>352.322917</td>\n",
       "      <td>01. Excellent</td>\n",
       "    </tr>\n",
       "    <tr>\n",
       "      <th>1</th>\n",
       "      <td>1</td>\n",
       "      <td>2</td>\n",
       "      <td>25651</td>\n",
       "      <td>delivered</td>\n",
       "      <td>2017-12-18 10:41:00</td>\n",
       "      <td>25651</td>\n",
       "      <td>delivered</td>\n",
       "      <td>5</td>\n",
       "      <td>ProdName2</td>\n",
       "      <td>35.54</td>\n",
       "      <td>...</td>\n",
       "      <td>2017</td>\n",
       "      <td>12</td>\n",
       "      <td>10</td>\n",
       "      <td>2017_12</td>\n",
       "      <td>0</td>\n",
       "      <td>127477.66</td>\n",
       "      <td>77</td>\n",
       "      <td>2.552083</td>\n",
       "      <td>352.322917</td>\n",
       "      <td>01. Excellent</td>\n",
       "    </tr>\n",
       "    <tr>\n",
       "      <th>2</th>\n",
       "      <td>2</td>\n",
       "      <td>143</td>\n",
       "      <td>25684</td>\n",
       "      <td>processed</td>\n",
       "      <td>2018-01-23 06:30:00</td>\n",
       "      <td>25688</td>\n",
       "      <td>processed</td>\n",
       "      <td>2</td>\n",
       "      <td>ProdName118</td>\n",
       "      <td>48.29</td>\n",
       "      <td>...</td>\n",
       "      <td>2018</td>\n",
       "      <td>1</td>\n",
       "      <td>6</td>\n",
       "      <td>2018_01</td>\n",
       "      <td>1</td>\n",
       "      <td>127477.66</td>\n",
       "      <td>77</td>\n",
       "      <td>2.552083</td>\n",
       "      <td>352.322917</td>\n",
       "      <td>01. Excellent</td>\n",
       "    </tr>\n",
       "  </tbody>\n",
       "</table>\n",
       "<p>3 rows × 29 columns</p>\n",
       "</div>"
      ],
      "text/plain": [
       "   Unnamed: 0.1  Unnamed: 0  master_order_id master_order_status  \\\n",
       "0             0           1            25651           delivered   \n",
       "1             1           2            25651           delivered   \n",
       "2             2         143            25684           processed   \n",
       "\n",
       "              created  order_id order_status  ordereditem_quantity  \\\n",
       "0 2017-12-18 10:41:00     25651    delivered                     5   \n",
       "1 2017-12-18 10:41:00     25651    delivered                     5   \n",
       "2 2018-01-23 06:30:00     25688    processed                     2   \n",
       "\n",
       "    prod_names  ordereditem_unit_price_net  ...  created_year  created_month  \\\n",
       "0    ProdName1                       43.00  ...          2017             12   \n",
       "1    ProdName2                       35.54  ...          2017             12   \n",
       "2  ProdName118                       48.29  ...          2018              1   \n",
       "\n",
       "  created_hour created_year_month created_dayofweek  MonetaryValue  Frequency  \\\n",
       "0           10            2017_12                 0      127477.66         77   \n",
       "1           10            2017_12                 0      127477.66         77   \n",
       "2            6            2018_01                 1      127477.66         77   \n",
       "\n",
       "    Recency    Lifetime    CreditScore  \n",
       "0  2.552083  352.322917  01. Excellent  \n",
       "1  2.552083  352.322917  01. Excellent  \n",
       "2  2.552083  352.322917  01. Excellent  \n",
       "\n",
       "[3 rows x 29 columns]"
      ]
     },
     "execution_count": 2,
     "metadata": {},
     "output_type": "execute_result"
    }
   ],
   "source": [
    "df = pd.read_excel(\"../final_cluster.xlsx\")\n",
    "df.head(3)"
   ]
  },
  {
   "cell_type": "code",
   "execution_count": 4,
   "id": "2df4ddbf",
   "metadata": {},
   "outputs": [
    {
     "data": {
      "text/plain": [
       "Unnamed: 0.1                    0\n",
       "Unnamed: 0                      0\n",
       "master_order_id                 0\n",
       "master_order_status             0\n",
       "created                         0\n",
       "order_id                        0\n",
       "order_status                    0\n",
       "ordereditem_quantity            0\n",
       "prod_names                      0\n",
       "ordereditem_unit_price_net      0\n",
       "ordereditem_product_id        161\n",
       "value                           0\n",
       "group                           0\n",
       "dist_names                      0\n",
       "retailer_names                  0\n",
       "bill_amount                     0\n",
       "dummy_name                      0\n",
       "dummy_group                     0\n",
       "invoice_id                      0\n",
       "created_year                    0\n",
       "created_month                   0\n",
       "created_hour                    0\n",
       "created_year_month              0\n",
       "created_dayofweek               0\n",
       "MonetaryValue                   0\n",
       "Frequency                       0\n",
       "Recency                         0\n",
       "Lifetime                        0\n",
       "CreditScore                     0\n",
       "dtype: int64"
      ]
     },
     "execution_count": 4,
     "metadata": {},
     "output_type": "execute_result"
    }
   ],
   "source": [
    "# missing values\n",
    "df.isnull().sum()"
   ]
  },
  {
   "cell_type": "code",
   "execution_count": 3,
   "id": "777c198f",
   "metadata": {},
   "outputs": [],
   "source": [
    "# drop columns\n",
    "df_2 = df.drop(['Unnamed: 0.1','Unnamed: 0','MonetaryValue', 'Frequency','Recency','Lifetime','ordereditem_product_id'], axis=1)"
   ]
  },
  {
   "cell_type": "code",
   "execution_count": 6,
   "id": "ae39cfc1",
   "metadata": {},
   "outputs": [
    {
     "data": {
      "text/html": [
       "<div>\n",
       "<style scoped>\n",
       "    .dataframe tbody tr th:only-of-type {\n",
       "        vertical-align: middle;\n",
       "    }\n",
       "\n",
       "    .dataframe tbody tr th {\n",
       "        vertical-align: top;\n",
       "    }\n",
       "\n",
       "    .dataframe thead th {\n",
       "        text-align: right;\n",
       "    }\n",
       "</style>\n",
       "<table border=\"1\" class=\"dataframe\">\n",
       "  <thead>\n",
       "    <tr style=\"text-align: right;\">\n",
       "      <th></th>\n",
       "      <th>master_order_id</th>\n",
       "      <th>order_id</th>\n",
       "      <th>ordereditem_quantity</th>\n",
       "      <th>ordereditem_unit_price_net</th>\n",
       "      <th>value</th>\n",
       "      <th>bill_amount</th>\n",
       "      <th>dummy_name</th>\n",
       "      <th>dummy_group</th>\n",
       "      <th>invoice_id</th>\n",
       "      <th>created_year</th>\n",
       "      <th>created_month</th>\n",
       "      <th>created_hour</th>\n",
       "      <th>created_dayofweek</th>\n",
       "    </tr>\n",
       "  </thead>\n",
       "  <tbody>\n",
       "    <tr>\n",
       "      <th>count</th>\n",
       "      <td>18468.000000</td>\n",
       "      <td>18468.000000</td>\n",
       "      <td>18468.000000</td>\n",
       "      <td>18468.000000</td>\n",
       "      <td>18468.000000</td>\n",
       "      <td>18468.000000</td>\n",
       "      <td>18468.000000</td>\n",
       "      <td>18468.000000</td>\n",
       "      <td>1.846800e+04</td>\n",
       "      <td>18468.000000</td>\n",
       "      <td>18468.000000</td>\n",
       "      <td>18468.000000</td>\n",
       "      <td>18468.000000</td>\n",
       "    </tr>\n",
       "    <tr>\n",
       "      <th>mean</th>\n",
       "      <td>26861.599524</td>\n",
       "      <td>27831.514782</td>\n",
       "      <td>3.317468</td>\n",
       "      <td>93.104943</td>\n",
       "      <td>217.026766</td>\n",
       "      <td>1877.670375</td>\n",
       "      <td>112.763537</td>\n",
       "      <td>1.873728</td>\n",
       "      <td>1.314343e+08</td>\n",
       "      <td>2017.995343</td>\n",
       "      <td>3.690817</td>\n",
       "      <td>7.524258</td>\n",
       "      <td>2.894412</td>\n",
       "    </tr>\n",
       "    <tr>\n",
       "      <th>std</th>\n",
       "      <td>695.451537</td>\n",
       "      <td>1252.620684</td>\n",
       "      <td>5.755208</td>\n",
       "      <td>128.952258</td>\n",
       "      <td>290.146693</td>\n",
       "      <td>1848.454522</td>\n",
       "      <td>68.901314</td>\n",
       "      <td>0.369370</td>\n",
       "      <td>9.430143e+07</td>\n",
       "      <td>0.068083</td>\n",
       "      <td>2.542992</td>\n",
       "      <td>3.727085</td>\n",
       "      <td>1.890833</td>\n",
       "    </tr>\n",
       "    <tr>\n",
       "      <th>min</th>\n",
       "      <td>25651.000000</td>\n",
       "      <td>25651.000000</td>\n",
       "      <td>1.000000</td>\n",
       "      <td>1.570000</td>\n",
       "      <td>2.810000</td>\n",
       "      <td>4.320000</td>\n",
       "      <td>0.000000</td>\n",
       "      <td>0.000000</td>\n",
       "      <td>2.662600e+04</td>\n",
       "      <td>2017.000000</td>\n",
       "      <td>1.000000</td>\n",
       "      <td>0.000000</td>\n",
       "      <td>0.000000</td>\n",
       "    </tr>\n",
       "    <tr>\n",
       "      <th>25%</th>\n",
       "      <td>26268.000000</td>\n",
       "      <td>26752.000000</td>\n",
       "      <td>1.000000</td>\n",
       "      <td>36.605000</td>\n",
       "      <td>80.710000</td>\n",
       "      <td>639.340000</td>\n",
       "      <td>31.000000</td>\n",
       "      <td>2.000000</td>\n",
       "      <td>2.272780e+07</td>\n",
       "      <td>2018.000000</td>\n",
       "      <td>2.000000</td>\n",
       "      <td>5.000000</td>\n",
       "      <td>1.000000</td>\n",
       "    </tr>\n",
       "    <tr>\n",
       "      <th>50%</th>\n",
       "      <td>26834.000000</td>\n",
       "      <td>27889.000000</td>\n",
       "      <td>2.000000</td>\n",
       "      <td>67.140000</td>\n",
       "      <td>140.400000</td>\n",
       "      <td>1256.450000</td>\n",
       "      <td>141.000000</td>\n",
       "      <td>2.000000</td>\n",
       "      <td>2.110268e+08</td>\n",
       "      <td>2018.000000</td>\n",
       "      <td>3.000000</td>\n",
       "      <td>6.000000</td>\n",
       "      <td>3.000000</td>\n",
       "    </tr>\n",
       "    <tr>\n",
       "      <th>75%</th>\n",
       "      <td>27473.000000</td>\n",
       "      <td>28943.000000</td>\n",
       "      <td>3.000000</td>\n",
       "      <td>107.150000</td>\n",
       "      <td>253.602500</td>\n",
       "      <td>2524.600000</td>\n",
       "      <td>169.000000</td>\n",
       "      <td>2.000000</td>\n",
       "      <td>2.161279e+08</td>\n",
       "      <td>2018.000000</td>\n",
       "      <td>3.000000</td>\n",
       "      <td>8.000000</td>\n",
       "      <td>4.000000</td>\n",
       "    </tr>\n",
       "    <tr>\n",
       "      <th>max</th>\n",
       "      <td>28068.000000</td>\n",
       "      <td>29913.000000</td>\n",
       "      <td>500.000000</td>\n",
       "      <td>4285.710000</td>\n",
       "      <td>11560.000000</td>\n",
       "      <td>16559.790000</td>\n",
       "      <td>214.000000</td>\n",
       "      <td>2.000000</td>\n",
       "      <td>2.214275e+08</td>\n",
       "      <td>2018.000000</td>\n",
       "      <td>12.000000</td>\n",
       "      <td>20.000000</td>\n",
       "      <td>6.000000</td>\n",
       "    </tr>\n",
       "  </tbody>\n",
       "</table>\n",
       "</div>"
      ],
      "text/plain": [
       "       master_order_id      order_id  ordereditem_quantity  \\\n",
       "count     18468.000000  18468.000000          18468.000000   \n",
       "mean      26861.599524  27831.514782              3.317468   \n",
       "std         695.451537   1252.620684              5.755208   \n",
       "min       25651.000000  25651.000000              1.000000   \n",
       "25%       26268.000000  26752.000000              1.000000   \n",
       "50%       26834.000000  27889.000000              2.000000   \n",
       "75%       27473.000000  28943.000000              3.000000   \n",
       "max       28068.000000  29913.000000            500.000000   \n",
       "\n",
       "       ordereditem_unit_price_net         value   bill_amount    dummy_name  \\\n",
       "count                18468.000000  18468.000000  18468.000000  18468.000000   \n",
       "mean                    93.104943    217.026766   1877.670375    112.763537   \n",
       "std                    128.952258    290.146693   1848.454522     68.901314   \n",
       "min                      1.570000      2.810000      4.320000      0.000000   \n",
       "25%                     36.605000     80.710000    639.340000     31.000000   \n",
       "50%                     67.140000    140.400000   1256.450000    141.000000   \n",
       "75%                    107.150000    253.602500   2524.600000    169.000000   \n",
       "max                   4285.710000  11560.000000  16559.790000    214.000000   \n",
       "\n",
       "        dummy_group    invoice_id  created_year  created_month  created_hour  \\\n",
       "count  18468.000000  1.846800e+04  18468.000000   18468.000000  18468.000000   \n",
       "mean       1.873728  1.314343e+08   2017.995343       3.690817      7.524258   \n",
       "std        0.369370  9.430143e+07      0.068083       2.542992      3.727085   \n",
       "min        0.000000  2.662600e+04   2017.000000       1.000000      0.000000   \n",
       "25%        2.000000  2.272780e+07   2018.000000       2.000000      5.000000   \n",
       "50%        2.000000  2.110268e+08   2018.000000       3.000000      6.000000   \n",
       "75%        2.000000  2.161279e+08   2018.000000       3.000000      8.000000   \n",
       "max        2.000000  2.214275e+08   2018.000000      12.000000     20.000000   \n",
       "\n",
       "       created_dayofweek  \n",
       "count       18468.000000  \n",
       "mean            2.894412  \n",
       "std             1.890833  \n",
       "min             0.000000  \n",
       "25%             1.000000  \n",
       "50%             3.000000  \n",
       "75%             4.000000  \n",
       "max             6.000000  "
      ]
     },
     "execution_count": 6,
     "metadata": {},
     "output_type": "execute_result"
    }
   ],
   "source": [
    "df_2.describe()"
   ]
  },
  {
   "cell_type": "code",
   "execution_count": null,
   "id": "c655e9fb",
   "metadata": {},
   "outputs": [],
   "source": [
    "# quick way to separate numeric columns \n",
    "df_2.describe().columns"
   ]
  },
  {
   "cell_type": "code",
   "execution_count": 5,
   "id": "173108f4",
   "metadata": {},
   "outputs": [],
   "source": [
    "# look at numeric and categorical values separately \n",
    "df_num = df_2[['ordereditem_quantity',\n",
    "       'ordereditem_unit_price_net', 'value',\n",
    "       'bill_amount']]\n",
    "df_cat = df_2[['created','master_order_status','order_status','prod_names','group','dist_names','retailer_names',\n",
    "               'CreditScore','created_year', 'created_month', 'created_hour', 'created_dayofweek','created_year_month','invoice_id']]"
   ]
  },
  {
   "cell_type": "code",
   "execution_count": 15,
   "id": "ef815a13",
   "metadata": {},
   "outputs": [
    {
     "data": {
      "image/png": "[encoded data removed]",
      "text/plain": [
       "<Figure size 432x288 with 1 Axes>"
      ]
     },
     "metadata": {
      "needs_background": "light"
     },
     "output_type": "display_data"
    },
    {
     "data": {
      "image/png": "[encoded data removed]",
      "text/plain": [
       "<Figure size 432x288 with 1 Axes>"
      ]
     },
     "metadata": {
      "needs_background": "light"
     },
     "output_type": "display_data"
    },
    {
     "data": {
      "image/png": "[encoded data removed]",
      "text/plain": [
       "<Figure size 432x288 with 1 Axes>"
      ]
     },
     "metadata": {
      "needs_background": "light"
     },
     "output_type": "display_data"
    },
    {
     "data": {
      "image/png": "[encoded data removed]",
      "text/plain": [
       "<Figure size 432x288 with 1 Axes>"
      ]
     },
     "metadata": {
      "needs_background": "light"
     },
     "output_type": "display_data"
    },
    {
     "data": {
      "image/png": "[encoded data removed]",
      "text/plain": [
       "<Figure size 432x288 with 1 Axes>"
      ]
     },
     "metadata": {
      "needs_background": "light"
     },
     "output_type": "display_data"
    }
   ],
   "source": [
    "# How is the distribution for numerical values\n",
    "# Histograms and boxplots\n",
    "#distributions for all numeric variables (df_num) --histogram\n",
    "for i in df_num.columns:\n",
    "    plt.hist(df_num[i])\n",
    "    plt.title(i)\n",
    "    plt.show()"
   ]
  },
  {
   "cell_type": "code",
   "execution_count": null,
   "id": "65c1909b",
   "metadata": {},
   "outputs": [],
   "source": [
    "#distributions for all numeric variables (df_num) --boxplot\n",
    "for i in df_num.columns:\n",
    "    plt.boxplot(df_num[i])\n",
    "    plt.title(i)\n",
    "    plt.show()"
   ]
  },
  {
   "cell_type": "code",
   "execution_count": 16,
   "id": "1f937ff1",
   "metadata": {},
   "outputs": [
    {
     "data": {
      "text/plain": [
       "<AxesSubplot:>"
      ]
     },
     "execution_count": 16,
     "metadata": {},
     "output_type": "execute_result"
    },
    {
     "data": {
      "image/png": "[encoded data removed]",
      "text/plain": [
       "<Figure size 432x288 with 2 Axes>"
      ]
     },
     "metadata": {
      "needs_background": "light"
     },
     "output_type": "display_data"
    }
   ],
   "source": [
    "correlation_matrix = df_num.corr().round(2)\n",
    "# annot = True to print the values inside the square\n",
    "sns.heatmap(data=correlation_matrix, annot=True)"
   ]
  },
  {
   "cell_type": "code",
   "execution_count": 24,
   "id": "ce417678",
   "metadata": {},
   "outputs": [
    {
     "data": {
      "text/html": [
       "<div>\n",
       "<style scoped>\n",
       "    .dataframe tbody tr th:only-of-type {\n",
       "        vertical-align: middle;\n",
       "    }\n",
       "\n",
       "    .dataframe tbody tr th {\n",
       "        vertical-align: top;\n",
       "    }\n",
       "\n",
       "    .dataframe thead th {\n",
       "        text-align: right;\n",
       "    }\n",
       "</style>\n",
       "<table border=\"1\" class=\"dataframe\">\n",
       "  <thead>\n",
       "    <tr style=\"text-align: right;\">\n",
       "      <th></th>\n",
       "      <th>bill_amount</th>\n",
       "      <th>ordereditem_quantity</th>\n",
       "      <th>ordereditem_unit_price_net</th>\n",
       "      <th>value</th>\n",
       "    </tr>\n",
       "    <tr>\n",
       "      <th>CreditScore</th>\n",
       "      <th></th>\n",
       "      <th></th>\n",
       "      <th></th>\n",
       "      <th></th>\n",
       "    </tr>\n",
       "  </thead>\n",
       "  <tbody>\n",
       "    <tr>\n",
       "      <th>01. Excellent</th>\n",
       "      <td>1262.010</td>\n",
       "      <td>2.0</td>\n",
       "      <td>67.96</td>\n",
       "      <td>142.825</td>\n",
       "    </tr>\n",
       "    <tr>\n",
       "      <th>02. Good</th>\n",
       "      <td>1242.090</td>\n",
       "      <td>2.0</td>\n",
       "      <td>61.64</td>\n",
       "      <td>127.140</td>\n",
       "    </tr>\n",
       "    <tr>\n",
       "      <th>03. Moderate</th>\n",
       "      <td>1353.090</td>\n",
       "      <td>2.0</td>\n",
       "      <td>68.13</td>\n",
       "      <td>140.360</td>\n",
       "    </tr>\n",
       "    <tr>\n",
       "      <th>04. Fair</th>\n",
       "      <td>888.055</td>\n",
       "      <td>2.0</td>\n",
       "      <td>52.50</td>\n",
       "      <td>144.455</td>\n",
       "    </tr>\n",
       "    <tr>\n",
       "      <th>05. Poor</th>\n",
       "      <td>308.500</td>\n",
       "      <td>6.5</td>\n",
       "      <td>23.16</td>\n",
       "      <td>84.355</td>\n",
       "    </tr>\n",
       "  </tbody>\n",
       "</table>\n",
       "</div>"
      ],
      "text/plain": [
       "               bill_amount  ordereditem_quantity  ordereditem_unit_price_net  \\\n",
       "CreditScore                                                                    \n",
       "01. Excellent     1262.010                   2.0                       67.96   \n",
       "02. Good          1242.090                   2.0                       61.64   \n",
       "03. Moderate      1353.090                   2.0                       68.13   \n",
       "04. Fair           888.055                   2.0                       52.50   \n",
       "05. Poor           308.500                   6.5                       23.16   \n",
       "\n",
       "                 value  \n",
       "CreditScore             \n",
       "01. Excellent  142.825  \n",
       "02. Good       127.140  \n",
       "03. Moderate   140.360  \n",
       "04. Fair       144.455  \n",
       "05. Poor        84.355  "
      ]
     },
     "execution_count": 24,
     "metadata": {},
     "output_type": "execute_result"
    }
   ],
   "source": [
    "# compare credit score across mean of numerical variables\n",
    "pd.pivot_table(df_2, index = 'CreditScore', values = ['value','ordereditem_quantity','bill_amount','ordereditem_unit_price_net'],aggfunc= 'median')"
   ]
  },
  {
   "cell_type": "code",
   "execution_count": 19,
   "id": "834a7496",
   "metadata": {},
   "outputs": [
    {
     "name": "stderr",
     "output_type": "stream",
     "text": [
      "C:\\Users\\Acer\\anaconda3\\lib\\site-packages\\seaborn\\_decorators.py:36: FutureWarning: Pass the following variables as keyword args: x, y. From version 0.12, the only valid positional argument will be `data`, and passing other arguments without an explicit keyword will result in an error or misinterpretation.\n",
      "  warnings.warn(\n"
     ]
    },
    {
     "data": {
      "image/png": "[encoded data removed]",
      "text/plain": [
       "<Figure size 432x288 with 1 Axes>"
      ]
     },
     "metadata": {
      "needs_background": "light"
     },
     "output_type": "display_data"
    },
    {
     "name": "stderr",
     "output_type": "stream",
     "text": [
      "C:\\Users\\Acer\\anaconda3\\lib\\site-packages\\seaborn\\_decorators.py:36: FutureWarning: Pass the following variables as keyword args: x, y. From version 0.12, the only valid positional argument will be `data`, and passing other arguments without an explicit keyword will result in an error or misinterpretation.\n",
      "  warnings.warn(\n"
     ]
    },
    {
     "data": {
      "image/png": "[encoded data removed]",
      "text/plain": [
       "<Figure size 432x288 with 1 Axes>"
      ]
     },
     "metadata": {
      "needs_background": "light"
     },
     "output_type": "display_data"
    },
    {
     "name": "stderr",
     "output_type": "stream",
     "text": [
      "C:\\Users\\Acer\\anaconda3\\lib\\site-packages\\seaborn\\_decorators.py:36: FutureWarning: Pass the following variables as keyword args: x, y. From version 0.12, the only valid positional argument will be `data`, and passing other arguments without an explicit keyword will result in an error or misinterpretation.\n",
      "  warnings.warn(\n"
     ]
    },
    {
     "data": {
      "image/png": "[encoded data removed]",
      "text/plain": [
       "<Figure size 432x288 with 1 Axes>"
      ]
     },
     "metadata": {
      "needs_background": "light"
     },
     "output_type": "display_data"
    },
    {
     "name": "stderr",
     "output_type": "stream",
     "text": [
      "C:\\Users\\Acer\\anaconda3\\lib\\site-packages\\seaborn\\_decorators.py:36: FutureWarning: Pass the following variables as keyword args: x, y. From version 0.12, the only valid positional argument will be `data`, and passing other arguments without an explicit keyword will result in an error or misinterpretation.\n",
      "  warnings.warn(\n"
     ]
    },
    {
     "data": {
      "image/png": "[encoded data removed]",
      "text/plain": [
       "<Figure size 432x288 with 1 Axes>"
      ]
     },
     "metadata": {
      "needs_background": "light"
     },
     "output_type": "display_data"
    },
    {
     "name": "stderr",
     "output_type": "stream",
     "text": [
      "C:\\Users\\Acer\\anaconda3\\lib\\site-packages\\seaborn\\_decorators.py:36: FutureWarning: Pass the following variables as keyword args: x, y. From version 0.12, the only valid positional argument will be `data`, and passing other arguments without an explicit keyword will result in an error or misinterpretation.\n",
      "  warnings.warn(\n"
     ]
    },
    {
     "data": {
      "image/png": "[encoded data removed]",
      "text/plain": [
       "<Figure size 432x288 with 1 Axes>"
      ]
     },
     "metadata": {
      "needs_background": "light"
     },
     "output_type": "display_data"
    },
    {
     "name": "stderr",
     "output_type": "stream",
     "text": [
      "C:\\Users\\Acer\\anaconda3\\lib\\site-packages\\seaborn\\_decorators.py:36: FutureWarning: Pass the following variables as keyword args: x, y. From version 0.12, the only valid positional argument will be `data`, and passing other arguments without an explicit keyword will result in an error or misinterpretation.\n",
      "  warnings.warn(\n"
     ]
    },
    {
     "data": {
      "image/png": "[encoded data removed]",
      "text/plain": [
       "<Figure size 432x288 with 1 Axes>"
      ]
     },
     "metadata": {
      "needs_background": "light"
     },
     "output_type": "display_data"
    },
    {
     "name": "stderr",
     "output_type": "stream",
     "text": [
      "C:\\Users\\Acer\\anaconda3\\lib\\site-packages\\seaborn\\_decorators.py:36: FutureWarning: Pass the following variables as keyword args: x, y. From version 0.12, the only valid positional argument will be `data`, and passing other arguments without an explicit keyword will result in an error or misinterpretation.\n",
      "  warnings.warn(\n"
     ]
    },
    {
     "data": {
      "image/png": "[encoded data removed]",
      "text/plain": [
       "<Figure size 432x288 with 1 Axes>"
      ]
     },
     "metadata": {
      "needs_background": "light"
     },
     "output_type": "display_data"
    },
    {
     "name": "stderr",
     "output_type": "stream",
     "text": [
      "C:\\Users\\Acer\\anaconda3\\lib\\site-packages\\seaborn\\_decorators.py:36: FutureWarning: Pass the following variables as keyword args: x, y. From version 0.12, the only valid positional argument will be `data`, and passing other arguments without an explicit keyword will result in an error or misinterpretation.\n",
      "  warnings.warn(\n"
     ]
    },
    {
     "data": {
      "image/png": "[encoded data removed]",
      "text/plain": [
       "<Figure size 432x288 with 1 Axes>"
      ]
     },
     "metadata": {
      "needs_background": "light"
     },
     "output_type": "display_data"
    },
    {
     "name": "stderr",
     "output_type": "stream",
     "text": [
      "C:\\Users\\Acer\\anaconda3\\lib\\site-packages\\seaborn\\_decorators.py:36: FutureWarning: Pass the following variables as keyword args: x, y. From version 0.12, the only valid positional argument will be `data`, and passing other arguments without an explicit keyword will result in an error or misinterpretation.\n",
      "  warnings.warn(\n"
     ]
    },
    {
     "data": {
      "image/png": "[encoded data removed]",
      "text/plain": [
       "<Figure size 432x288 with 1 Axes>"
      ]
     },
     "metadata": {
      "needs_background": "light"
     },
     "output_type": "display_data"
    },
    {
     "name": "stderr",
     "output_type": "stream",
     "text": [
      "C:\\Users\\Acer\\anaconda3\\lib\\site-packages\\seaborn\\_decorators.py:36: FutureWarning: Pass the following variables as keyword args: x, y. From version 0.12, the only valid positional argument will be `data`, and passing other arguments without an explicit keyword will result in an error or misinterpretation.\n",
      "  warnings.warn(\n"
     ]
    },
    {
     "data": {
      "image/png": "[encoded data removed]",
      "text/plain": [
       "<Figure size 432x288 with 1 Axes>"
      ]
     },
     "metadata": {
      "needs_background": "light"
     },
     "output_type": "display_data"
    },
    {
     "name": "stderr",
     "output_type": "stream",
     "text": [
      "C:\\Users\\Acer\\anaconda3\\lib\\site-packages\\seaborn\\_decorators.py:36: FutureWarning: Pass the following variables as keyword args: x, y. From version 0.12, the only valid positional argument will be `data`, and passing other arguments without an explicit keyword will result in an error or misinterpretation.\n",
      "  warnings.warn(\n"
     ]
    },
    {
     "data": {
      "image/png": "[encoded data removed]",
      "text/plain": [
       "<Figure size 432x288 with 1 Axes>"
      ]
     },
     "metadata": {
      "needs_background": "light"
     },
     "output_type": "display_data"
    },
    {
     "name": "stderr",
     "output_type": "stream",
     "text": [
      "C:\\Users\\Acer\\anaconda3\\lib\\site-packages\\seaborn\\_decorators.py:36: FutureWarning: Pass the following variables as keyword args: x, y. From version 0.12, the only valid positional argument will be `data`, and passing other arguments without an explicit keyword will result in an error or misinterpretation.\n",
      "  warnings.warn(\n"
     ]
    },
    {
     "data": {
      "image/png": "[encoded data removed]",
      "text/plain": [
       "<Figure size 432x288 with 1 Axes>"
      ]
     },
     "metadata": {
      "needs_background": "light"
     },
     "output_type": "display_data"
    },
    {
     "name": "stderr",
     "output_type": "stream",
     "text": [
      "C:\\Users\\Acer\\anaconda3\\lib\\site-packages\\seaborn\\_decorators.py:36: FutureWarning: Pass the following variables as keyword args: x, y. From version 0.12, the only valid positional argument will be `data`, and passing other arguments without an explicit keyword will result in an error or misinterpretation.\n",
      "  warnings.warn(\n"
     ]
    },
    {
     "data": {
      "image/png": "[encoded data removed]",
      "text/plain": [
       "<Figure size 432x288 with 1 Axes>"
      ]
     },
     "metadata": {
      "needs_background": "light"
     },
     "output_type": "display_data"
    },
    {
     "name": "stderr",
     "output_type": "stream",
     "text": [
      "C:\\Users\\Acer\\anaconda3\\lib\\site-packages\\seaborn\\_decorators.py:36: FutureWarning: Pass the following variables as keyword args: x, y. From version 0.12, the only valid positional argument will be `data`, and passing other arguments without an explicit keyword will result in an error or misinterpretation.\n",
      "  warnings.warn(\n"
     ]
    },
    {
     "data": {
      "image/png": "[encoded data removed]",
      "text/plain": [
       "<Figure size 432x288 with 1 Axes>"
      ]
     },
     "metadata": {
      "needs_background": "light"
     },
     "output_type": "display_data"
    }
   ],
   "source": [
    "# Distribution for categorical variable\n",
    "# Bar plot\n",
    "for i in df_cat.columns:\n",
    "    sns.barplot(df_cat[i].value_counts().index,df_cat[i].value_counts()).set_title(i)\n",
    "    plt.show()"
   ]
  },
  {
   "cell_type": "code",
   "execution_count": 20,
   "id": "5b47687d",
   "metadata": {},
   "outputs": [
    {
     "name": "stdout",
     "output_type": "stream",
     "text": [
      "master_order_status  Partially Delivered  accepted  delivered    new  \\\n",
      "CreditScore                                                            \n",
      "01. Excellent                      459.0    2295.0     1299.0  320.0   \n",
      "02. Good                            93.0     383.0      193.0   60.0   \n",
      "03. Moderate                        33.0     180.0       84.0   25.0   \n",
      "04. Fair                             9.0      27.0       26.0    6.0   \n",
      "05. Poor                             1.0       NaN        1.0    NaN   \n",
      "\n",
      "master_order_status  processed  shipped  \n",
      "CreditScore                              \n",
      "01. Excellent          10411.0     14.0  \n",
      "02. Good                1692.0      2.0  \n",
      "03. Moderate             762.0      1.0  \n",
      "04. Fair                  92.0      NaN  \n",
      "05. Poor                   NaN      NaN  \n",
      "\n",
      "order_status   accepted  cancelled  delivered    new  processed  rejected  \\\n",
      "CreditScore                                                                 \n",
      "01. Excellent    1471.0      205.0     1673.0  193.0    11103.0     140.0   \n",
      "02. Good          239.0       44.0      254.0   33.0     1822.0      29.0   \n",
      "03. Moderate      139.0       10.0      113.0   20.0      797.0       5.0   \n",
      "04. Fair           16.0        4.0       31.0    4.0      104.0       1.0   \n",
      "05. Poor            NaN        NaN        2.0    NaN        NaN       NaN   \n",
      "\n",
      "order_status   shipped  \n",
      "CreditScore             \n",
      "01. Excellent     13.0  \n",
      "02. Good           2.0  \n",
      "03. Moderate       1.0  \n",
      "04. Fair           NaN  \n",
      "05. Poor           NaN  \n",
      "\n",
      "prod_names     ProdName1  ProdName10  ProdName100  ProdName1000  ProdName1001  \\\n",
      "CreditScore                                                                     \n",
      "01. Excellent       17.0        55.0          7.0           7.0           2.0   \n",
      "02. Good             NaN         NaN          NaN           NaN           NaN   \n",
      "03. Moderate         NaN         NaN          NaN           NaN           NaN   \n",
      "04. Fair             NaN         NaN          NaN           NaN           NaN   \n",
      "05. Poor             NaN         NaN          NaN           NaN           NaN   \n",
      "\n",
      "prod_names     ProdName1002  ProdName1003  ProdName1004  ProdName1005  \\\n",
      "CreditScore                                                             \n",
      "01. Excellent           4.0          12.0           8.0           3.0   \n",
      "02. Good                NaN           NaN           NaN           NaN   \n",
      "03. Moderate            NaN           NaN           NaN           NaN   \n",
      "04. Fair                NaN           NaN           NaN           NaN   \n",
      "05. Poor                NaN           NaN           NaN           NaN   \n",
      "\n",
      "prod_names     ProdName1006  ...  ProdName990  ProdName991  ProdName992  \\\n",
      "CreditScore                  ...                                          \n",
      "01. Excellent           4.0  ...          NaN          1.0          NaN   \n",
      "02. Good                NaN  ...          NaN          NaN          1.0   \n",
      "03. Moderate            NaN  ...          8.0          NaN          NaN   \n",
      "04. Fair                NaN  ...          NaN          NaN          NaN   \n",
      "05. Poor                NaN  ...          NaN          NaN          NaN   \n",
      "\n",
      "prod_names     ProdName993  ProdName994  ProdName995  ProdName996  \\\n",
      "CreditScore                                                         \n",
      "01. Excellent          6.0          9.0          NaN          3.0   \n",
      "02. Good               NaN          NaN          NaN          NaN   \n",
      "03. Moderate           NaN          NaN          2.0          NaN   \n",
      "04. Fair               NaN          NaN          NaN          NaN   \n",
      "05. Poor               NaN          NaN          NaN          NaN   \n",
      "\n",
      "prod_names     ProdName997  ProdName998  ProdName999  \n",
      "CreditScore                                           \n",
      "01. Excellent          2.0          3.0          NaN  \n",
      "02. Good               NaN          NaN          1.0  \n",
      "03. Moderate           NaN          NaN          NaN  \n",
      "04. Fair               NaN          NaN          NaN  \n",
      "05. Poor               NaN          NaN          NaN  \n",
      "\n",
      "[5 rows x 5871 columns]\n",
      "\n",
      "group          Delhi-West  Gurugram  Hyderabad\n",
      "CreditScore                                   \n",
      "01. Excellent       199.0    1484.0    13115.0\n",
      "02. Good             28.0     240.0     2155.0\n",
      "03. Moderate          9.0      92.0      984.0\n",
      "04. Fair              5.0      32.0      123.0\n",
      "05. Poor              NaN       2.0        NaN\n",
      "\n",
      "dist_names     DistName1  DistName10  DistName11  DistName12  DistName13  \\\n",
      "CreditScore                                                                \n",
      "01. Excellent     6684.0         NaN         NaN         NaN         NaN   \n",
      "02. Good           935.0        79.0         7.0        13.0        24.0   \n",
      "03. Moderate       501.0        48.0         NaN         NaN         NaN   \n",
      "04. Fair            68.0         5.0         NaN         NaN         NaN   \n",
      "05. Poor             1.0         NaN         NaN         NaN         NaN   \n",
      "\n",
      "dist_names     DistName2  DistName3  DistName4  DistName5  DistName6  \\\n",
      "CreditScore                                                            \n",
      "01. Excellent      205.0     6139.0      340.0      123.0      436.0   \n",
      "02. Good            61.0      786.0      168.0        NaN      218.0   \n",
      "03. Moderate        87.0      372.0       29.0        NaN       36.0   \n",
      "04. Fair             1.0       51.0        9.0        NaN        NaN   \n",
      "05. Poor             NaN        1.0        NaN        NaN        NaN   \n",
      "\n",
      "dist_names     DistName7  DistName8  DistName9  \n",
      "CreditScore                                     \n",
      "01. Excellent      571.0      234.0       66.0  \n",
      "02. Good           132.0        NaN        NaN  \n",
      "03. Moderate        12.0        NaN        NaN  \n",
      "04. Fair            14.0       12.0        NaN  \n",
      "05. Poor             NaN        NaN        NaN  \n",
      "\n",
      "retailer_names  RetailerID1  RetailerID10  RetailerID100  RetailerID101  \\\n",
      "CreditScore                                                               \n",
      "01. Excellent         217.0           NaN            NaN          311.0   \n",
      "02. Good                NaN          37.0           60.0            NaN   \n",
      "03. Moderate            NaN           NaN            NaN            NaN   \n",
      "04. Fair                NaN           NaN            NaN            NaN   \n",
      "05. Poor                NaN           NaN            NaN            NaN   \n",
      "\n",
      "retailer_names  RetailerID102  RetailerID103  RetailerID104  RetailerID107  \\\n",
      "CreditScore                                                                  \n",
      "01. Excellent             NaN            NaN            NaN            NaN   \n",
      "02. Good                  NaN            NaN           41.0            NaN   \n",
      "03. Moderate             15.0           11.0            NaN            NaN   \n",
      "04. Fair                  NaN            NaN            NaN            9.0   \n",
      "05. Poor                  NaN            NaN            NaN            NaN   \n",
      "\n",
      "retailer_names  RetailerID108  RetailerID109  ...  RetailerID9  RetailerID90  \\\n",
      "CreditScore                                   ...                              \n",
      "01. Excellent             NaN          120.0  ...        370.0         211.0   \n",
      "02. Good                 33.0            NaN  ...          NaN           NaN   \n",
      "03. Moderate              NaN            NaN  ...          NaN           NaN   \n",
      "04. Fair                  NaN            NaN  ...          NaN           NaN   \n",
      "05. Poor                  NaN            NaN  ...          NaN           NaN   \n",
      "\n",
      "retailer_names  RetailerID91  RetailerID92  RetailerID94  RetailerID95  \\\n",
      "CreditScore                                                              \n",
      "01. Excellent          157.0           NaN         182.0         290.0   \n",
      "02. Good                 NaN           NaN           NaN           NaN   \n",
      "03. Moderate             NaN           NaN           NaN           NaN   \n",
      "04. Fair                 NaN           6.0           NaN           NaN   \n",
      "05. Poor                 NaN           NaN           NaN           NaN   \n",
      "\n",
      "retailer_names  RetailerID96  RetailerID97  RetailerID98  RetailerID99  \n",
      "CreditScore                                                             \n",
      "01. Excellent            NaN           NaN          98.0           NaN  \n",
      "02. Good                11.0           NaN           NaN           NaN  \n",
      "03. Moderate             NaN          38.0           NaN           NaN  \n",
      "04. Fair                 NaN           NaN           NaN           6.0  \n",
      "05. Poor                 NaN           NaN           NaN           NaN  \n",
      "\n",
      "[5 rows x 215 columns]\n"
     ]
    }
   ],
   "source": [
    "# Comparing survival and each of these categorical variables (mcm Excel)\n",
    "# index = row, values = brpa org yg kita kira pakai column yg xde missing values\n",
    "print(pd.pivot_table(df_2, index = 'CreditScore', columns = 'master_order_status' , values = 'created', aggfunc ='count'))\n",
    "print()\n",
    "print(pd.pivot_table(df_2, index = 'CreditScore', columns = 'order_status', values = 'created' ,aggfunc ='count'))\n",
    "print()\n",
    "print(pd.pivot_table(df_2, index = 'CreditScore', columns = 'prod_names', values = 'created' ,aggfunc ='count'))\n",
    "print()\n",
    "print(pd.pivot_table(df_2, index = 'CreditScore', columns = 'group', values = 'created' ,aggfunc ='count'))\n",
    "print()\n",
    "print(pd.pivot_table(df_2, index = 'CreditScore', columns = 'dist_names', values = 'created' ,aggfunc ='count'))\n",
    "print()\n",
    "print(pd.pivot_table(df_2, index = 'CreditScore', columns = 'retailer_names', values = 'created' ,aggfunc ='count'))\n",
    "#pd.pivot_table(df_2, index = 'CreditScore', values = ['value','ordereditem_quantity','bill_amount'])"
   ]
  },
  {
   "cell_type": "code",
   "execution_count": 21,
   "id": "ef30eab6",
   "metadata": {},
   "outputs": [
    {
     "name": "stdout",
     "output_type": "stream",
     "text": [
      "created_year   2017     2018\n",
      "CreditScore                 \n",
      "01. Excellent  71.0  14727.0\n",
      "02. Good        8.0   2415.0\n",
      "03. Moderate    7.0   1078.0\n",
      "04. Fair        NaN    160.0\n",
      "05. Poor        NaN      2.0\n",
      "\n",
      "created_month      1       2       3      4       5      6      7      8   \\\n",
      "CreditScore                                                                 \n",
      "01. Excellent  1107.0  3242.0  6777.0  538.0  1009.0  288.0  267.0  244.0   \n",
      "02. Good        186.0   554.0  1092.0   55.0   148.0   43.0   37.0   37.0   \n",
      "03. Moderate     81.0   227.0   553.0   31.0    81.0   15.0   19.0   24.0   \n",
      "04. Fair          6.0    32.0    73.0    8.0    18.0    5.0    1.0    4.0   \n",
      "05. Poor          NaN     NaN     NaN    NaN     NaN    NaN    NaN    NaN   \n",
      "\n",
      "created_month     9      10    11     12  \n",
      "CreditScore                               \n",
      "01. Excellent  388.0  360.0  83.0  495.0  \n",
      "02. Good        64.0   74.0   9.0  124.0  \n",
      "03. Moderate    19.0   24.0   4.0    7.0  \n",
      "04. Fair         5.0    7.0   NaN    1.0  \n",
      "05. Poor         1.0    1.0   NaN    NaN  \n",
      "\n",
      "created_dayofweek       0       1       2       3       4       5       6\n",
      "CreditScore                                                              \n",
      "01. Excellent      1927.0  2002.0  2963.0  1932.0  2558.0  1781.0  1635.0\n",
      "02. Good            345.0   332.0   378.0   328.0   436.0   303.0   301.0\n",
      "03. Moderate        138.0   144.0   214.0   143.0   199.0   135.0   112.0\n",
      "04. Fair             18.0    14.0    32.0    26.0    27.0    21.0    22.0\n",
      "05. Poor              1.0     1.0     NaN     NaN     NaN     NaN     NaN\n",
      "\n",
      "invoice_id     26626      26690      226537     227825     326827     \\\n",
      "CreditScore                                                            \n",
      "01. Excellent        3.0        1.0        NaN        NaN        1.0   \n",
      "02. Good             NaN        NaN        1.0        1.0        NaN   \n",
      "03. Moderate         NaN        NaN        NaN        NaN        NaN   \n",
      "04. Fair             NaN        NaN        NaN        NaN        NaN   \n",
      "05. Poor             NaN        NaN        NaN        NaN        NaN   \n",
      "\n",
      "invoice_id     326918     327887     328064     826570     927136     ...  \\\n",
      "CreditScore                                                           ...   \n",
      "01. Excellent        2.0        1.0        2.0        NaN        1.0  ...   \n",
      "02. Good             NaN        NaN        NaN        1.0        NaN  ...   \n",
      "03. Moderate         NaN        NaN        NaN        NaN        NaN  ...   \n",
      "04. Fair             NaN        NaN        NaN        NaN        NaN  ...   \n",
      "05. Poor             NaN        NaN        NaN        NaN        NaN  ...   \n",
      "\n",
      "invoice_id     221327979  221328023  221328024  221328026  221328038  \\\n",
      "CreditScore                                                            \n",
      "01. Excellent        1.0        1.0        1.0        1.0        1.0   \n",
      "02. Good             NaN        NaN        NaN        NaN        NaN   \n",
      "03. Moderate         NaN        NaN        NaN        NaN        NaN   \n",
      "04. Fair             NaN        NaN        NaN        NaN        NaN   \n",
      "05. Poor             NaN        NaN        NaN        NaN        NaN   \n",
      "\n",
      "invoice_id     221426418  221426425  221426508  221426781  221427467  \n",
      "CreditScore                                                           \n",
      "01. Excellent        NaN        NaN        NaN        NaN        NaN  \n",
      "02. Good             NaN        NaN        NaN        NaN        NaN  \n",
      "03. Moderate         NaN        NaN        NaN        NaN        NaN  \n",
      "04. Fair             1.0        1.0        1.0        1.0        1.0  \n",
      "05. Poor             NaN        NaN        NaN        NaN        NaN  \n",
      "\n",
      "[5 rows x 15428 columns]\n"
     ]
    }
   ],
   "source": [
    "print(pd.pivot_table(df_2, index = 'CreditScore', columns = 'created_year', values = 'created' ,aggfunc ='count'))\n",
    "print()\n",
    "print(pd.pivot_table(df_2, index = 'CreditScore', columns = 'created_month', values = 'created' ,aggfunc ='count'))\n",
    "print()\n",
    "print(pd.pivot_table(df_2, index = 'CreditScore', columns = 'created_dayofweek', values = 'created' ,aggfunc ='count'))\n",
    "print()\n",
    "print(pd.pivot_table(df_2, index = 'CreditScore', columns = 'invoice_id', values = 'created' ,aggfunc ='count'))\n",
    "\n"
   ]
  },
  {
   "cell_type": "code",
   "execution_count": 27,
   "id": "92adf25f",
   "metadata": {},
   "outputs": [
    {
     "name": "stdout",
     "output_type": "stream",
     "text": [
      "master_order_id  25651  25652  25653  25654  25655  25656  25657  25658  \\\n",
      "CreditScore                                                               \n",
      "01. Excellent      3.0    4.0   12.0    5.0    7.0    1.0    3.0    2.0   \n",
      "02. Good           2.0    NaN    2.0    NaN    NaN    NaN    1.0    1.0   \n",
      "03. Moderate       1.0    NaN    NaN    1.0    NaN    NaN    NaN    NaN   \n",
      "04. Fair           NaN    NaN    NaN    NaN    NaN    NaN    NaN    NaN   \n",
      "05. Poor           NaN    NaN    NaN    NaN    NaN    NaN    NaN    NaN   \n",
      "\n",
      "master_order_id  25659  25660  ...  28059  28060  28061  28062  28063  28064  \\\n",
      "CreditScore                    ...                                             \n",
      "01. Excellent      4.0    3.0  ...    5.0    4.0    2.0    9.0    1.0    4.0   \n",
      "02. Good           NaN    1.0  ...    NaN    1.0    NaN    NaN    NaN    NaN   \n",
      "03. Moderate       NaN    NaN  ...    NaN    NaN    NaN    NaN    NaN    NaN   \n",
      "04. Fair           NaN    NaN  ...    NaN    1.0    NaN    NaN    NaN    NaN   \n",
      "05. Poor           NaN    NaN  ...    NaN    NaN    NaN    NaN    NaN    NaN   \n",
      "\n",
      "master_order_id  28065  28066  28067  28068  \n",
      "CreditScore                                  \n",
      "01. Excellent      5.0   15.0    1.0    3.0  \n",
      "02. Good           NaN    3.0    1.0    NaN  \n",
      "03. Moderate       NaN    1.0    NaN    NaN  \n",
      "04. Fair           NaN    1.0    NaN    NaN  \n",
      "05. Poor           NaN    NaN    NaN    NaN  \n",
      "\n",
      "[5 rows x 2182 columns]\n"
     ]
    }
   ],
   "source": [
    "print(pd.pivot_table(df_2, index = 'CreditScore', columns = 'master_order_id', values = 'created' ,aggfunc ='count'))"
   ]
  },
  {
   "cell_type": "code",
   "execution_count": 45,
   "id": "060b98c1",
   "metadata": {},
   "outputs": [
    {
     "data": {
      "text/html": [
       "<div>\n",
       "<style scoped>\n",
       "    .dataframe tbody tr th:only-of-type {\n",
       "        vertical-align: middle;\n",
       "    }\n",
       "\n",
       "    .dataframe tbody tr th {\n",
       "        vertical-align: top;\n",
       "    }\n",
       "\n",
       "    .dataframe thead th {\n",
       "        text-align: right;\n",
       "    }\n",
       "</style>\n",
       "<table border=\"1\" class=\"dataframe\">\n",
       "  <thead>\n",
       "    <tr style=\"text-align: right;\">\n",
       "      <th>order_id</th>\n",
       "      <th>25651</th>\n",
       "      <th>25652</th>\n",
       "      <th>25653</th>\n",
       "      <th>25654</th>\n",
       "      <th>25655</th>\n",
       "      <th>25656</th>\n",
       "      <th>25657</th>\n",
       "      <th>25658</th>\n",
       "      <th>25659</th>\n",
       "      <th>25660</th>\n",
       "      <th>...</th>\n",
       "      <th>29787</th>\n",
       "      <th>29788</th>\n",
       "      <th>29789</th>\n",
       "      <th>29790</th>\n",
       "      <th>29791</th>\n",
       "      <th>29792</th>\n",
       "      <th>29793</th>\n",
       "      <th>29794</th>\n",
       "      <th>29802</th>\n",
       "      <th>29803</th>\n",
       "    </tr>\n",
       "    <tr>\n",
       "      <th>CreditScore</th>\n",
       "      <th></th>\n",
       "      <th></th>\n",
       "      <th></th>\n",
       "      <th></th>\n",
       "      <th></th>\n",
       "      <th></th>\n",
       "      <th></th>\n",
       "      <th></th>\n",
       "      <th></th>\n",
       "      <th></th>\n",
       "      <th></th>\n",
       "      <th></th>\n",
       "      <th></th>\n",
       "      <th></th>\n",
       "      <th></th>\n",
       "      <th></th>\n",
       "      <th></th>\n",
       "      <th></th>\n",
       "      <th></th>\n",
       "      <th></th>\n",
       "      <th></th>\n",
       "    </tr>\n",
       "  </thead>\n",
       "  <tbody>\n",
       "    <tr>\n",
       "      <th>01. Excellent</th>\n",
       "      <td>3.0</td>\n",
       "      <td>4.0</td>\n",
       "      <td>12.0</td>\n",
       "      <td>5.0</td>\n",
       "      <td>7.0</td>\n",
       "      <td>1.0</td>\n",
       "      <td>3.0</td>\n",
       "      <td>2.0</td>\n",
       "      <td>4.0</td>\n",
       "      <td>3.0</td>\n",
       "      <td>...</td>\n",
       "      <td>1.0</td>\n",
       "      <td>9.0</td>\n",
       "      <td>8.0</td>\n",
       "      <td>7.0</td>\n",
       "      <td>4.0</td>\n",
       "      <td>2.0</td>\n",
       "      <td>2.0</td>\n",
       "      <td>2.0</td>\n",
       "      <td>8.0</td>\n",
       "      <td>2.0</td>\n",
       "    </tr>\n",
       "    <tr>\n",
       "      <th>02. Good</th>\n",
       "      <td>2.0</td>\n",
       "      <td>NaN</td>\n",
       "      <td>2.0</td>\n",
       "      <td>NaN</td>\n",
       "      <td>NaN</td>\n",
       "      <td>NaN</td>\n",
       "      <td>1.0</td>\n",
       "      <td>1.0</td>\n",
       "      <td>NaN</td>\n",
       "      <td>1.0</td>\n",
       "      <td>...</td>\n",
       "      <td>NaN</td>\n",
       "      <td>2.0</td>\n",
       "      <td>NaN</td>\n",
       "      <td>NaN</td>\n",
       "      <td>NaN</td>\n",
       "      <td>2.0</td>\n",
       "      <td>NaN</td>\n",
       "      <td>1.0</td>\n",
       "      <td>NaN</td>\n",
       "      <td>NaN</td>\n",
       "    </tr>\n",
       "    <tr>\n",
       "      <th>03. Moderate</th>\n",
       "      <td>1.0</td>\n",
       "      <td>NaN</td>\n",
       "      <td>NaN</td>\n",
       "      <td>1.0</td>\n",
       "      <td>NaN</td>\n",
       "      <td>NaN</td>\n",
       "      <td>NaN</td>\n",
       "      <td>NaN</td>\n",
       "      <td>NaN</td>\n",
       "      <td>NaN</td>\n",
       "      <td>...</td>\n",
       "      <td>NaN</td>\n",
       "      <td>NaN</td>\n",
       "      <td>1.0</td>\n",
       "      <td>NaN</td>\n",
       "      <td>NaN</td>\n",
       "      <td>NaN</td>\n",
       "      <td>NaN</td>\n",
       "      <td>NaN</td>\n",
       "      <td>NaN</td>\n",
       "      <td>1.0</td>\n",
       "    </tr>\n",
       "    <tr>\n",
       "      <th>04. Fair</th>\n",
       "      <td>NaN</td>\n",
       "      <td>NaN</td>\n",
       "      <td>NaN</td>\n",
       "      <td>NaN</td>\n",
       "      <td>NaN</td>\n",
       "      <td>NaN</td>\n",
       "      <td>NaN</td>\n",
       "      <td>NaN</td>\n",
       "      <td>NaN</td>\n",
       "      <td>NaN</td>\n",
       "      <td>...</td>\n",
       "      <td>NaN</td>\n",
       "      <td>NaN</td>\n",
       "      <td>NaN</td>\n",
       "      <td>NaN</td>\n",
       "      <td>NaN</td>\n",
       "      <td>NaN</td>\n",
       "      <td>NaN</td>\n",
       "      <td>1.0</td>\n",
       "      <td>NaN</td>\n",
       "      <td>NaN</td>\n",
       "    </tr>\n",
       "    <tr>\n",
       "      <th>05. Poor</th>\n",
       "      <td>NaN</td>\n",
       "      <td>NaN</td>\n",
       "      <td>NaN</td>\n",
       "      <td>NaN</td>\n",
       "      <td>NaN</td>\n",
       "      <td>NaN</td>\n",
       "      <td>NaN</td>\n",
       "      <td>NaN</td>\n",
       "      <td>NaN</td>\n",
       "      <td>NaN</td>\n",
       "      <td>...</td>\n",
       "      <td>NaN</td>\n",
       "      <td>NaN</td>\n",
       "      <td>NaN</td>\n",
       "      <td>NaN</td>\n",
       "      <td>NaN</td>\n",
       "      <td>NaN</td>\n",
       "      <td>NaN</td>\n",
       "      <td>NaN</td>\n",
       "      <td>NaN</td>\n",
       "      <td>NaN</td>\n",
       "    </tr>\n",
       "  </tbody>\n",
       "</table>\n",
       "<p>5 rows × 3655 columns</p>\n",
       "</div>"
      ],
      "text/plain": [
       "order_id       25651  25652  25653  25654  25655  25656  25657  25658  25659  \\\n",
       "CreditScore                                                                    \n",
       "01. Excellent    3.0    4.0   12.0    5.0    7.0    1.0    3.0    2.0    4.0   \n",
       "02. Good         2.0    NaN    2.0    NaN    NaN    NaN    1.0    1.0    NaN   \n",
       "03. Moderate     1.0    NaN    NaN    1.0    NaN    NaN    NaN    NaN    NaN   \n",
       "04. Fair         NaN    NaN    NaN    NaN    NaN    NaN    NaN    NaN    NaN   \n",
       "05. Poor         NaN    NaN    NaN    NaN    NaN    NaN    NaN    NaN    NaN   \n",
       "\n",
       "order_id       25660  ...  29787  29788  29789  29790  29791  29792  29793  \\\n",
       "CreditScore           ...                                                    \n",
       "01. Excellent    3.0  ...    1.0    9.0    8.0    7.0    4.0    2.0    2.0   \n",
       "02. Good         1.0  ...    NaN    2.0    NaN    NaN    NaN    2.0    NaN   \n",
       "03. Moderate     NaN  ...    NaN    NaN    1.0    NaN    NaN    NaN    NaN   \n",
       "04. Fair         NaN  ...    NaN    NaN    NaN    NaN    NaN    NaN    NaN   \n",
       "05. Poor         NaN  ...    NaN    NaN    NaN    NaN    NaN    NaN    NaN   \n",
       "\n",
       "order_id       29794  29802  29803  \n",
       "CreditScore                         \n",
       "01. Excellent    2.0    8.0    2.0  \n",
       "02. Good         1.0    NaN    NaN  \n",
       "03. Moderate     NaN    NaN    1.0  \n",
       "04. Fair         1.0    NaN    NaN  \n",
       "05. Poor         NaN    NaN    NaN  \n",
       "\n",
       "[5 rows x 3655 columns]"
      ]
     },
     "execution_count": 45,
     "metadata": {},
     "output_type": "execute_result"
    }
   ],
   "source": [
    "df_2[df_2.master_order_id <  28000].pivot_table(index = 'CreditScore', columns = 'order_id', values = 'created' ,aggfunc ='count')"
   ]
  },
  {
   "cell_type": "code",
   "execution_count": 33,
   "id": "0b667396",
   "metadata": {},
   "outputs": [
    {
     "data": {
      "text/plain": [
       "count    18468.000000\n",
       "mean     26861.599524\n",
       "std        695.451537\n",
       "min      25651.000000\n",
       "25%      26268.000000\n",
       "50%      26834.000000\n",
       "75%      27473.000000\n",
       "max      28068.000000\n",
       "Name: master_order_id, dtype: float64"
      ]
     },
     "execution_count": 33,
     "metadata": {},
     "output_type": "execute_result"
    }
   ],
   "source": [
    "df_2.master_order_id.describe()"
   ]
  },
  {
   "cell_type": "code",
   "execution_count": 38,
   "id": "fc170731",
   "metadata": {},
   "outputs": [
    {
     "data": {
      "text/html": [
       "<div>\n",
       "<style scoped>\n",
       "    .dataframe tbody tr th:only-of-type {\n",
       "        vertical-align: middle;\n",
       "    }\n",
       "\n",
       "    .dataframe tbody tr th {\n",
       "        vertical-align: top;\n",
       "    }\n",
       "\n",
       "    .dataframe thead th {\n",
       "        text-align: right;\n",
       "    }\n",
       "</style>\n",
       "<table border=\"1\" class=\"dataframe\">\n",
       "  <thead>\n",
       "    <tr style=\"text-align: right;\">\n",
       "      <th></th>\n",
       "      <th></th>\n",
       "      <th>retailer_names</th>\n",
       "    </tr>\n",
       "    <tr>\n",
       "      <th>CreditScore</th>\n",
       "      <th>group</th>\n",
       "      <th></th>\n",
       "    </tr>\n",
       "  </thead>\n",
       "  <tbody>\n",
       "    <tr>\n",
       "      <th rowspan=\"3\" valign=\"top\">01. Excellent</th>\n",
       "      <th>Delhi-West</th>\n",
       "      <td>45</td>\n",
       "    </tr>\n",
       "    <tr>\n",
       "      <th>Gurugram</th>\n",
       "      <td>55</td>\n",
       "    </tr>\n",
       "    <tr>\n",
       "      <th>Hyderabad</th>\n",
       "      <td>55</td>\n",
       "    </tr>\n",
       "    <tr>\n",
       "      <th rowspan=\"3\" valign=\"top\">02. Good</th>\n",
       "      <th>Delhi-West</th>\n",
       "      <td>16</td>\n",
       "    </tr>\n",
       "    <tr>\n",
       "      <th>Gurugram</th>\n",
       "      <td>47</td>\n",
       "    </tr>\n",
       "    <tr>\n",
       "      <th>Hyderabad</th>\n",
       "      <td>74</td>\n",
       "    </tr>\n",
       "    <tr>\n",
       "      <th rowspan=\"3\" valign=\"top\">03. Moderate</th>\n",
       "      <th>Delhi-West</th>\n",
       "      <td>8</td>\n",
       "    </tr>\n",
       "    <tr>\n",
       "      <th>Gurugram</th>\n",
       "      <td>28</td>\n",
       "    </tr>\n",
       "    <tr>\n",
       "      <th>Hyderabad</th>\n",
       "      <td>48</td>\n",
       "    </tr>\n",
       "    <tr>\n",
       "      <th rowspan=\"3\" valign=\"top\">04. Fair</th>\n",
       "      <th>Delhi-West</th>\n",
       "      <td>4</td>\n",
       "    </tr>\n",
       "    <tr>\n",
       "      <th>Gurugram</th>\n",
       "      <td>17</td>\n",
       "    </tr>\n",
       "    <tr>\n",
       "      <th>Hyderabad</th>\n",
       "      <td>33</td>\n",
       "    </tr>\n",
       "    <tr>\n",
       "      <th>05. Poor</th>\n",
       "      <th>Gurugram</th>\n",
       "      <td>2</td>\n",
       "    </tr>\n",
       "  </tbody>\n",
       "</table>\n",
       "</div>"
      ],
      "text/plain": [
       "                          retailer_names\n",
       "CreditScore   group                     \n",
       "01. Excellent Delhi-West              45\n",
       "              Gurugram                55\n",
       "              Hyderabad               55\n",
       "02. Good      Delhi-West              16\n",
       "              Gurugram                47\n",
       "              Hyderabad               74\n",
       "03. Moderate  Delhi-West               8\n",
       "              Gurugram                28\n",
       "              Hyderabad               48\n",
       "04. Fair      Delhi-West               4\n",
       "              Gurugram                17\n",
       "              Hyderabad               33\n",
       "05. Poor      Gurugram                 2"
      ]
     },
     "execution_count": 38,
     "metadata": {},
     "output_type": "execute_result"
    }
   ],
   "source": [
    "# proportion of retailers performing transactions from all locations\n",
    "df_2.pivot_table(index=[\"CreditScore\",\"group\"], \n",
    "                                              values=[\"retailer_names\"], \n",
    "                                              aggfunc={ \"retailer_names\": pd.Series.nunique})"
   ]
  },
  {
   "cell_type": "code",
   "execution_count": 54,
   "id": "43843244",
   "metadata": {},
   "outputs": [
    {
     "name": "stdout",
     "output_type": "stream",
     "text": [
      "created_year_month  2017_12  2018_01  2018_02  2018_03  2018_04  2018_05  \\\n",
      "CreditScore                                                                \n",
      "01. Excellent          71.0   1107.0   3242.0   6777.0    538.0   1009.0   \n",
      "02. Good                8.0    186.0    554.0   1092.0     55.0    148.0   \n",
      "03. Moderate            7.0     81.0    227.0    553.0     31.0     81.0   \n",
      "04. Fair                NaN      6.0     32.0     73.0      8.0     18.0   \n",
      "05. Poor                NaN      NaN      NaN      NaN      NaN      NaN   \n",
      "\n",
      "created_year_month  2018_06  2018_07  2018_08  2018_09  2018_10  2018_11  \\\n",
      "CreditScore                                                                \n",
      "01. Excellent         288.0    267.0    244.0    388.0    360.0     83.0   \n",
      "02. Good               43.0     37.0     37.0     64.0     74.0      9.0   \n",
      "03. Moderate           15.0     19.0     24.0     19.0     24.0      4.0   \n",
      "04. Fair                5.0      1.0      4.0      5.0      7.0      NaN   \n",
      "05. Poor                NaN      NaN      NaN      1.0      1.0      NaN   \n",
      "\n",
      "created_year_month  2018_12  \n",
      "CreditScore                  \n",
      "01. Excellent         424.0  \n",
      "02. Good              116.0  \n",
      "03. Moderate            NaN  \n",
      "04. Fair                1.0  \n",
      "05. Poor                NaN  \n"
     ]
    }
   ],
   "source": [
    "print(pd.pivot_table(df_2, index = 'CreditScore', columns = 'created_year_month', values = 'created' ,aggfunc ='count'))\n"
   ]
  },
  {
   "cell_type": "markdown",
   "id": "154af54c",
   "metadata": {},
   "source": [
    "### Data Pre-processing"
   ]
  },
  {
   "cell_type": "markdown",
   "id": "7b0c4a38",
   "metadata": {},
   "source": [
    "#### Include only relevant variables (Since we have limited data, I wanted to exclude things like retailer name and order ID so that we could have a reasonable number of features for our models to deal with)"
   ]
  },
  {
   "cell_type": "code",
   "execution_count": 46,
   "id": "4fa8d0c1",
   "metadata": {},
   "outputs": [
    {
     "data": {
      "text/plain": [
       "Index(['master_order_id', 'master_order_status', 'created', 'order_id',\n",
       "       'order_status', 'ordereditem_quantity', 'prod_names',\n",
       "       'ordereditem_unit_price_net', 'value', 'group', 'dist_names',\n",
       "       'retailer_names', 'bill_amount', 'dummy_name', 'dummy_group',\n",
       "       'invoice_id', 'created_year', 'created_month', 'created_hour',\n",
       "       'created_year_month', 'created_dayofweek', 'CreditScore'],\n",
       "      dtype='object')"
      ]
     },
     "execution_count": 46,
     "metadata": {},
     "output_type": "execute_result"
    }
   ],
   "source": [
    "df_2.columns"
   ]
  },
  {
   "cell_type": "markdown",
   "id": "76ead513",
   "metadata": {},
   "source": [
    "#### Normalize numerical variables"
   ]
  },
  {
   "cell_type": "code",
   "execution_count": 4,
   "id": "fcff2249",
   "metadata": {},
   "outputs": [],
   "source": [
    "import numpy as np"
   ]
  },
  {
   "cell_type": "code",
   "execution_count": 5,
   "id": "4143329b",
   "metadata": {},
   "outputs": [],
   "source": [
    "df_2['norm_value'] = np.log(df_2.value)"
   ]
  },
  {
   "cell_type": "code",
   "execution_count": 6,
   "id": "e68e4582",
   "metadata": {},
   "outputs": [],
   "source": [
    "df_2['norm_ordereditem_quantity'] = np.log(df_2.ordereditem_quantity)"
   ]
  },
  {
   "cell_type": "code",
   "execution_count": 7,
   "id": "2668841d",
   "metadata": {},
   "outputs": [
    {
     "data": {
      "text/plain": [
       "<AxesSubplot:>"
      ]
     },
     "execution_count": 7,
     "metadata": {},
     "output_type": "execute_result"
    },
    {
     "data": {
      "image/png": "[encoded data removed]",
      "text/plain": [
       "<Figure size 432x288 with 1 Axes>"
      ]
     },
     "metadata": {
      "needs_background": "light"
     },
     "output_type": "display_data"
    }
   ],
   "source": [
    "df_2['norm_bill_amount'] = np.log(df_2.bill_amount)\n",
    "df_2['norm_bill_amount'].hist()"
   ]
  },
  {
   "cell_type": "code",
   "execution_count": 8,
   "id": "db0452c8",
   "metadata": {},
   "outputs": [
    {
     "data": {
      "text/plain": [
       "<AxesSubplot:>"
      ]
     },
     "execution_count": 8,
     "metadata": {},
     "output_type": "execute_result"
    },
    {
     "data": {
      "image/png": "[encoded data removed]",
      "text/plain": [
       "<Figure size 432x288 with 1 Axes>"
      ]
     },
     "metadata": {
      "needs_background": "light"
     },
     "output_type": "display_data"
    }
   ],
   "source": [
    "df_2['norm_ordereditem_unit_price_net'] = np.log(df_2.ordereditem_unit_price_net)\n",
    "df_2['norm_ordereditem_unit_price_net'].hist()"
   ]
  },
  {
   "cell_type": "code",
   "execution_count": 9,
   "id": "4c399733",
   "metadata": {},
   "outputs": [],
   "source": [
    "#created dummy variables from categories (also can use OneHotEncoder)\n",
    "all_dummies = pd.get_dummies(df_2[[ 'master_order_status','order_status', 'norm_ordereditem_quantity',\n",
    "                                   'norm_ordereditem_unit_price_net', 'group', 'dist_names', 'norm_bill_amount']])"
   ]
  },
  {
   "cell_type": "code",
   "execution_count": null,
   "id": "99bc9f05",
   "metadata": {},
   "outputs": [],
   "source": []
  },
  {
   "cell_type": "code",
   "execution_count": 10,
   "id": "18138eb7",
   "metadata": {},
   "outputs": [
    {
     "data": {
      "text/plain": [
       "(18468, 32)"
      ]
     },
     "execution_count": 10,
     "metadata": {},
     "output_type": "execute_result"
    }
   ],
   "source": [
    "X = all_dummies\n",
    "X.shape"
   ]
  },
  {
   "cell_type": "markdown",
   "id": "16d44eb4",
   "metadata": {},
   "source": [
    "#### Scale data"
   ]
  },
  {
   "cell_type": "code",
   "execution_count": 11,
   "id": "81122d6a",
   "metadata": {},
   "outputs": [],
   "source": [
    "# Scale data \n",
    "from sklearn.preprocessing import StandardScaler\n",
    "scale = StandardScaler()\n",
    "all_dummies_scaled = all_dummies.copy()\n",
    "all_dummies_scaled[['norm_ordereditem_quantity','norm_bill_amount','norm_ordereditem_unit_price_net']]= scale.fit_transform(all_dummies_scaled[['norm_ordereditem_quantity','norm_bill_amount','norm_ordereditem_unit_price_net']])\n",
    "all_dummies_scaled\n",
    "\n",
    "X_scaled = all_dummies_scaled"
   ]
  },
  {
   "cell_type": "code",
   "execution_count": 12,
   "id": "7896b13d",
   "metadata": {},
   "outputs": [],
   "source": [
    "from sklearn.preprocessing import LabelEncoder"
   ]
  },
  {
   "cell_type": "code",
   "execution_count": 13,
   "id": "6d8847fb",
   "metadata": {},
   "outputs": [],
   "source": [
    "le = LabelEncoder()\n",
    "y_dummies = le.fit_transform(df_2['CreditScore'])"
   ]
  },
  {
   "cell_type": "code",
   "execution_count": 14,
   "id": "730ad1ae",
   "metadata": {},
   "outputs": [],
   "source": [
    "Y = y_dummies"
   ]
  },
  {
   "cell_type": "code",
   "execution_count": 15,
   "id": "e0b32368",
   "metadata": {},
   "outputs": [],
   "source": [
    "from sklearn.model_selection import train_test_split\n",
    "X_train, X_test, y_train, y_test = train_test_split(X, Y, test_size=0.3)"
   ]
  },
  {
   "cell_type": "code",
   "execution_count": 16,
   "id": "2d97d9c0",
   "metadata": {},
   "outputs": [],
   "source": [
    "from sklearn.model_selection import train_test_split\n",
    "\n",
    "X_train_scaled, X_test_scaled, y_train, y_test = train_test_split(X_scaled, Y, test_size=0.3)"
   ]
  },
  {
   "cell_type": "code",
   "execution_count": 17,
   "id": "001aa310",
   "metadata": {},
   "outputs": [],
   "source": [
    "# to calculate cross validation scores\n",
    "from sklearn.model_selection import cross_val_score\n",
    "from sklearn.naive_bayes import GaussianNB\n",
    "from sklearn import tree\n",
    "from sklearn.neighbors import KNeighborsClassifier\n",
    "from sklearn.ensemble import RandomForestClassifier\n",
    "from sklearn.svm import SVC"
   ]
  },
  {
   "cell_type": "code",
   "execution_count": 53,
   "id": "ebf0e8e8",
   "metadata": {},
   "outputs": [
    {
     "name": "stderr",
     "output_type": "stream",
     "text": [
      "C:\\Users\\Acer\\anaconda3\\lib\\site-packages\\sklearn\\model_selection\\_split.py:680: UserWarning: The least populated class in y has only 1 members, which is less than n_splits=5.\n",
      "  warnings.warn(\n"
     ]
    },
    {
     "name": "stdout",
     "output_type": "stream",
     "text": [
      "[0.03596288 0.04098995 0.03481625 0.02901354 0.03210832]\n",
      "0.03457818546824816\n"
     ]
    }
   ],
   "source": [
    "gnb = GaussianNB()\n",
    "cv = cross_val_score(gnb,X_train_scaled,y_train,cv=5)\n",
    "print(cv)\n",
    "print(cv.mean())"
   ]
  },
  {
   "cell_type": "code",
   "execution_count": 54,
   "id": "90508f8e",
   "metadata": {},
   "outputs": [
    {
     "name": "stderr",
     "output_type": "stream",
     "text": [
      "C:\\Users\\Acer\\anaconda3\\lib\\site-packages\\sklearn\\model_selection\\_split.py:680: UserWarning: The least populated class in y has only 1 members, which is less than n_splits=5.\n",
      "  warnings.warn(\n"
     ]
    },
    {
     "name": "stdout",
     "output_type": "stream",
     "text": [
      "[0.64114462 0.6620263  0.64216634 0.65145068 0.62514507]\n",
      "0.6443866018630298\n"
     ]
    }
   ],
   "source": [
    "dt = tree.DecisionTreeClassifier(random_state = 1)\n",
    "cv = cross_val_score(dt,X_train,y_train,cv=5)\n",
    "print(cv)\n",
    "print(cv.mean())"
   ]
  },
  {
   "cell_type": "code",
   "execution_count": 55,
   "id": "a6dd3512",
   "metadata": {},
   "outputs": [
    {
     "name": "stderr",
     "output_type": "stream",
     "text": [
      "C:\\Users\\Acer\\anaconda3\\lib\\site-packages\\sklearn\\model_selection\\_split.py:680: UserWarning: The least populated class in y has only 1 members, which is less than n_splits=5.\n",
      "  warnings.warn(\n"
     ]
    },
    {
     "name": "stdout",
     "output_type": "stream",
     "text": [
      "[0.80897138 0.8062645  0.82591876 0.82514507 0.80618956]\n",
      "0.8144978540900938\n"
     ]
    }
   ],
   "source": [
    "dt = tree.DecisionTreeClassifier(random_state = 1)\n",
    "cv = cross_val_score(dt,X_train_scaled,y_train,cv=5)\n",
    "print(cv)\n",
    "print(cv.mean())"
   ]
  },
  {
   "cell_type": "code",
   "execution_count": 56,
   "id": "6d84d896",
   "metadata": {},
   "outputs": [
    {
     "name": "stderr",
     "output_type": "stream",
     "text": [
      "C:\\Users\\Acer\\anaconda3\\lib\\site-packages\\sklearn\\model_selection\\_split.py:680: UserWarning: The least populated class in y has only 1 members, which is less than n_splits=5.\n",
      "  warnings.warn(\n"
     ]
    },
    {
     "name": "stdout",
     "output_type": "stream",
     "text": [
      "[0.77300851 0.77571539 0.77988395 0.772147   0.772147  ]\n",
      "0.7745803695243396\n"
     ]
    }
   ],
   "source": [
    "rf = RandomForestClassifier(random_state = 1)\n",
    "cv = cross_val_score(rf,X_train,y_train,cv=5)\n",
    "print(cv)\n",
    "print(cv.mean())"
   ]
  },
  {
   "cell_type": "code",
   "execution_count": 57,
   "id": "a1a96502",
   "metadata": {},
   "outputs": [
    {
     "name": "stderr",
     "output_type": "stream",
     "text": [
      "C:\\Users\\Acer\\anaconda3\\lib\\site-packages\\sklearn\\model_selection\\_split.py:680: UserWarning: The least populated class in y has only 1 members, which is less than n_splits=5.\n",
      "  warnings.warn(\n"
     ]
    },
    {
     "name": "stdout",
     "output_type": "stream",
     "text": [
      "[0.80278422 0.8058778  0.81044487 0.81470019 0.80851064]\n",
      "0.8084635464583136\n"
     ]
    }
   ],
   "source": [
    "rf = RandomForestClassifier(random_state = 1)\n",
    "cv = cross_val_score(rf,X_train_scaled,y_train,cv=5)\n",
    "print(cv)\n",
    "print(cv.mean())"
   ]
  },
  {
   "cell_type": "code",
   "execution_count": 58,
   "id": "fa21a823",
   "metadata": {},
   "outputs": [
    {
     "name": "stderr",
     "output_type": "stream",
     "text": [
      "C:\\Users\\Acer\\anaconda3\\lib\\site-packages\\sklearn\\model_selection\\_split.py:680: UserWarning: The least populated class in y has only 1 members, which is less than n_splits=5.\n",
      "  warnings.warn(\n"
     ]
    },
    {
     "name": "stdout",
     "output_type": "stream",
     "text": [
      "[0.79969064 0.79969064 0.79961315 0.8        0.8       ]\n",
      "0.7997988873281365\n"
     ]
    }
   ],
   "source": [
    "svc = SVC(probability = True)\n",
    "cv = cross_val_score(svc,X_train_scale,y_train,cv=5)\n",
    "print(cv)\n",
    "print(cv.mean())"
   ]
  },
  {
   "cell_type": "code",
   "execution_count": 59,
   "id": "227514f6",
   "metadata": {},
   "outputs": [
    {
     "name": "stderr",
     "output_type": "stream",
     "text": [
      "C:\\Users\\Acer\\anaconda3\\lib\\site-packages\\sklearn\\model_selection\\_split.py:680: UserWarning: The least populated class in y has only 1 members, which is less than n_splits=5.\n",
      "  warnings.warn(\n",
      "C:\\Users\\Acer\\anaconda3\\lib\\site-packages\\xgboost\\sklearn.py:1224: UserWarning: The use of label encoder in XGBClassifier is deprecated and will be removed in a future release. To remove this warning, do the following: 1) Pass option use_label_encoder=False when constructing XGBClassifier object; and 2) Encode your labels (y) as integers starting with 0, i.e. 0, 1, 2, ..., [num_class - 1].\n",
      "  warnings.warn(label_encoder_deprecation_msg, UserWarning)\n",
      "C:\\Users\\Acer\\anaconda3\\lib\\site-packages\\xgboost\\data.py:250: FutureWarning: pandas.Int64Index is deprecated and will be removed from pandas in a future version. Use pandas.Index with the appropriate dtype instead.\n",
      "  elif isinstance(data.columns, (pd.Int64Index, pd.RangeIndex)):\n"
     ]
    },
    {
     "name": "stdout",
     "output_type": "stream",
     "text": [
      "[08:46:56] WARNING: C:\\Windows\\Temp\\abs_557yfx631l\\croots\\recipe\\xgboost-split_1659548953302\\work\\src\\learner.cc:1115: Starting in XGBoost 1.3.0, the default evaluation metric used with the objective 'multi:softprob' was changed from 'merror' to 'mlogloss'. Explicitly set eval_metric if you'd like to restore the old behavior.\n"
     ]
    },
    {
     "name": "stderr",
     "output_type": "stream",
     "text": [
      "C:\\Users\\Acer\\anaconda3\\lib\\site-packages\\xgboost\\sklearn.py:1224: UserWarning: The use of label encoder in XGBClassifier is deprecated and will be removed in a future release. To remove this warning, do the following: 1) Pass option use_label_encoder=False when constructing XGBClassifier object; and 2) Encode your labels (y) as integers starting with 0, i.e. 0, 1, 2, ..., [num_class - 1].\n",
      "  warnings.warn(label_encoder_deprecation_msg, UserWarning)\n",
      "C:\\Users\\Acer\\anaconda3\\lib\\site-packages\\xgboost\\data.py:250: FutureWarning: pandas.Int64Index is deprecated and will be removed from pandas in a future version. Use pandas.Index with the appropriate dtype instead.\n",
      "  elif isinstance(data.columns, (pd.Int64Index, pd.RangeIndex)):\n"
     ]
    },
    {
     "name": "stdout",
     "output_type": "stream",
     "text": [
      "[08:47:07] WARNING: C:\\Windows\\Temp\\abs_557yfx631l\\croots\\recipe\\xgboost-split_1659548953302\\work\\src\\learner.cc:1115: Starting in XGBoost 1.3.0, the default evaluation metric used with the objective 'multi:softprob' was changed from 'merror' to 'mlogloss'. Explicitly set eval_metric if you'd like to restore the old behavior.\n"
     ]
    },
    {
     "name": "stderr",
     "output_type": "stream",
     "text": [
      "C:\\Users\\Acer\\anaconda3\\lib\\site-packages\\xgboost\\sklearn.py:1224: UserWarning: The use of label encoder in XGBClassifier is deprecated and will be removed in a future release. To remove this warning, do the following: 1) Pass option use_label_encoder=False when constructing XGBClassifier object; and 2) Encode your labels (y) as integers starting with 0, i.e. 0, 1, 2, ..., [num_class - 1].\n",
      "  warnings.warn(label_encoder_deprecation_msg, UserWarning)\n",
      "C:\\Users\\Acer\\anaconda3\\lib\\site-packages\\xgboost\\data.py:250: FutureWarning: pandas.Int64Index is deprecated and will be removed from pandas in a future version. Use pandas.Index with the appropriate dtype instead.\n",
      "  elif isinstance(data.columns, (pd.Int64Index, pd.RangeIndex)):\n"
     ]
    },
    {
     "name": "stdout",
     "output_type": "stream",
     "text": [
      "[08:47:16] WARNING: C:\\Windows\\Temp\\abs_557yfx631l\\croots\\recipe\\xgboost-split_1659548953302\\work\\src\\learner.cc:1115: Starting in XGBoost 1.3.0, the default evaluation metric used with the objective 'multi:softprob' was changed from 'merror' to 'mlogloss'. Explicitly set eval_metric if you'd like to restore the old behavior.\n"
     ]
    },
    {
     "name": "stderr",
     "output_type": "stream",
     "text": [
      "C:\\Users\\Acer\\anaconda3\\lib\\site-packages\\xgboost\\sklearn.py:1224: UserWarning: The use of label encoder in XGBClassifier is deprecated and will be removed in a future release. To remove this warning, do the following: 1) Pass option use_label_encoder=False when constructing XGBClassifier object; and 2) Encode your labels (y) as integers starting with 0, i.e. 0, 1, 2, ..., [num_class - 1].\n",
      "  warnings.warn(label_encoder_deprecation_msg, UserWarning)\n",
      "C:\\Users\\Acer\\anaconda3\\lib\\site-packages\\xgboost\\data.py:250: FutureWarning: pandas.Int64Index is deprecated and will be removed from pandas in a future version. Use pandas.Index with the appropriate dtype instead.\n",
      "  elif isinstance(data.columns, (pd.Int64Index, pd.RangeIndex)):\n"
     ]
    },
    {
     "name": "stdout",
     "output_type": "stream",
     "text": [
      "[08:47:25] WARNING: C:\\Windows\\Temp\\abs_557yfx631l\\croots\\recipe\\xgboost-split_1659548953302\\work\\src\\learner.cc:1115: Starting in XGBoost 1.3.0, the default evaluation metric used with the objective 'multi:softprob' was changed from 'merror' to 'mlogloss'. Explicitly set eval_metric if you'd like to restore the old behavior.\n"
     ]
    },
    {
     "name": "stderr",
     "output_type": "stream",
     "text": [
      "C:\\Users\\Acer\\anaconda3\\lib\\site-packages\\xgboost\\sklearn.py:1224: UserWarning: The use of label encoder in XGBClassifier is deprecated and will be removed in a future release. To remove this warning, do the following: 1) Pass option use_label_encoder=False when constructing XGBClassifier object; and 2) Encode your labels (y) as integers starting with 0, i.e. 0, 1, 2, ..., [num_class - 1].\n",
      "  warnings.warn(label_encoder_deprecation_msg, UserWarning)\n",
      "C:\\Users\\Acer\\anaconda3\\lib\\site-packages\\xgboost\\data.py:250: FutureWarning: pandas.Int64Index is deprecated and will be removed from pandas in a future version. Use pandas.Index with the appropriate dtype instead.\n",
      "  elif isinstance(data.columns, (pd.Int64Index, pd.RangeIndex)):\n"
     ]
    },
    {
     "name": "stdout",
     "output_type": "stream",
     "text": [
      "[08:47:35] WARNING: C:\\Windows\\Temp\\abs_557yfx631l\\croots\\recipe\\xgboost-split_1659548953302\\work\\src\\learner.cc:1115: Starting in XGBoost 1.3.0, the default evaluation metric used with the objective 'multi:softprob' was changed from 'merror' to 'mlogloss'. Explicitly set eval_metric if you'd like to restore the old behavior.\n",
      "[0.8391338  0.84880124 0.84719536 0.85299807 0.85029014]\n",
      "0.8476837187593963\n"
     ]
    }
   ],
   "source": [
    "from xgboost import XGBClassifier\n",
    "xgb = XGBClassifier(random_state =1)\n",
    "cv = cross_val_score(xgb,X_train_scaled,y_train,cv=5)\n",
    "print(cv)\n",
    "print(cv.mean())"
   ]
  },
  {
   "cell_type": "code",
   "execution_count": 19,
   "id": "94927ee6",
   "metadata": {},
   "outputs": [],
   "source": [
    "from sklearn.tree import DecisionTreeClassifier as DT"
   ]
  },
  {
   "cell_type": "code",
   "execution_count": 24,
   "id": "fe3d7901",
   "metadata": {},
   "outputs": [
    {
     "name": "stdout",
     "output_type": "stream",
     "text": [
      "Predictions     0    1    2   3  4\n",
      "Actual                            \n",
      "0            3447  687  306  32  0\n",
      "1             533   94   46   3  1\n",
      "2             261   46   28   4  0\n",
      "3              42    7    4   0  0\n",
      "Test Data Accuracy 0.6441075618119473\n",
      "Predictions      0     1    2    3  4\n",
      "Actual                               \n",
      "0            10326     0    0    0  0\n",
      "1               10  1736    0    0  0\n",
      "2                1     0  745    0  0\n",
      "3                2     0    0  105  0\n",
      "4                0     0    0    0  2\n",
      "Train Data Accuracy 0.998994352904773\n",
      "0\n"
     ]
    }
   ],
   "source": [
    "# Decision Tree\n",
    "dt = DT(criterion = 'entropy')\n",
    "dt.fit(X_train, y_train)\n",
    "\n",
    "# Prediction on Test Data\n",
    "preds_test = dt.predict(X_test)\n",
    "print(pd.crosstab(y_test, preds_test, rownames=['Actual'], colnames=['Predictions']))\n",
    "\n",
    "print('Test Data Accuracy',np.mean(preds_test == y_test)) # Test Data Accuracy \n",
    "\n",
    "# Prediction on Train Data\n",
    "preds_train = dt.predict(X_train)\n",
    "print(pd.crosstab(y_train, preds_train, rownames = ['Actual'], colnames = ['Predictions']))\n",
    "\n",
    "print('Train Data Accuracy',np.mean(preds_train == y_train)) # Train Data Accuracy\n",
    "\n",
    "from datetime import datetime as dt\n",
    "\n",
    "start = dt.now()\n",
    "# process stuff\n",
    "running_secs = (dt.now() - start).microseconds\n",
    "print(running_secs)"
   ]
  },
  {
   "cell_type": "code",
   "execution_count": 25,
   "id": "72ee1799",
   "metadata": {},
   "outputs": [
    {
     "name": "stdout",
     "output_type": "stream",
     "text": [
      "Predictions     0    1   2  3\n",
      "Actual                       \n",
      "0            4236  176  52  8\n",
      "1             641   25  11  0\n",
      "2             319   13   3  4\n",
      "3              51    1   1  0\n",
      "Test Data Accuracy 0.769536184804187\n",
      "Predictions      0     1    2   3  4\n",
      "Actual                              \n",
      "0            10317     7    1   1  0\n",
      "1              142  1603    1   0  0\n",
      "2               68     1  677   0  0\n",
      "3               17     1    0  89  0\n",
      "4                0     0    0   0  2\n",
      "Train Data Accuracy 0.9815115649415951\n",
      "0\n"
     ]
    }
   ],
   "source": [
    "# Random Forest\n",
    "rf = RandomForestClassifier(n_jobs=2, n_estimators=15, criterion=\"entropy\")\n",
    "\n",
    "rf.fit(X_train, y_train) # Fitting RandomForestClassifier model from sklearn.ensemble  \n",
    "# Prediction on Test Data\n",
    "rfpreds_test = rf.predict(X_test)\n",
    "print(pd.crosstab(y_test, rfpreds_test, rownames=['Actual'], colnames=['Predictions']))\n",
    "\n",
    "print('Test Data Accuracy',np.mean(rfpreds_test == y_test)) # Test Data Accuracy \n",
    "\n",
    "# Prediction on Train Data\n",
    "rfpreds_train = rf.predict(X_train)\n",
    "print(pd.crosstab(y_train, rfpreds_train, rownames = ['Actual'], colnames = ['Predictions']))\n",
    "\n",
    "print('Train Data Accuracy',np.mean(rfpreds_train == y_train)) # Train Data Accuracy\n"
   ]
  },
  {
   "cell_type": "code",
   "execution_count": 26,
   "id": "58e99544",
   "metadata": {},
   "outputs": [
    {
     "name": "stdout",
     "output_type": "stream",
     "text": [
      "Predictions  0    1   2     3     4\n",
      "Actual                             \n",
      "0            7  128  79  1619  2639\n",
      "1            0   23  15   236   403\n",
      "2            0   10   9   120   200\n",
      "3            0    3   2    16    32\n",
      "Test Data Accuracy 0.009926006136076521\n",
      "Predictions   0    1    2     3     4\n",
      "Actual                               \n",
      "0            14  291  224  3794  6003\n",
      "1             0   58   31   654  1003\n",
      "2             0   11   20   272   443\n",
      "3             0    0    0    41    66\n",
      "4             0    0    0     0     2\n",
      "Train Data Accuracy 0.010443258296588535\n",
      "0\n"
     ]
    }
   ],
   "source": [
    "# Naive Bayes\n",
    "classifier = GaussianNB()\n",
    "classifier.fit(X_train, y_train)\n",
    "\n",
    "nbpred = classifier.predict(X_test)\n",
    "\n",
    "# Evaluate the model\n",
    "from sklearn.metrics import accuracy_score\n",
    "print(pd.crosstab(y_test, nbpred, rownames=['Actual'],colnames= ['Predictions']))\n",
    "print('Test Data Accuracy',accuracy_score(y_test, nbpred))\n",
    "\n",
    "# error on train data\n",
    "nbpred_train = classifier.predict(X_train)\n",
    "print(pd.crosstab(y_train, nbpred_train, rownames=['Actual'],colnames= ['Predictions'])) \n",
    "print('Train Data Accuracy',accuracy_score(y_train, nbpred_train))"
   ]
  },
  {
   "cell_type": "code",
   "execution_count": 27,
   "id": "1c1b4da9",
   "metadata": {},
   "outputs": [],
   "source": [
    "# scale data for SVM\n",
    "from sklearn import preprocessing\n",
    "X_train_scale = preprocessing.scale(X_train)\n",
    "X_test_scale = preprocessing.scale(X_test)"
   ]
  },
  {
   "cell_type": "code",
   "execution_count": 28,
   "id": "8e7778f6",
   "metadata": {},
   "outputs": [
    {
     "name": "stdout",
     "output_type": "stream",
     "text": [
      "Predictions     0  1\n",
      "Actual              \n",
      "0            4471  1\n",
      "1             677  0\n",
      "2             339  0\n",
      "3              53  0\n",
      "Test Data Accuracy 0.8068940624436023\n",
      "Predictions      0  1\n",
      "Actual               \n",
      "0            10325  1\n",
      "1             1737  9\n",
      "2              746  0\n",
      "3              107  0\n",
      "4                2  0\n",
      "Train Data Accuracy 0.7994120832366365\n",
      "0\n"
     ]
    }
   ],
   "source": [
    "# SVM\n",
    "# kernel = rbf\n",
    "model_rbf = SVC(kernel = \"rbf\")\n",
    "model_rbf.fit(X_train_scale, y_train)\n",
    "# Prediction on Test Data\n",
    "pred_test_rbf = model_rbf.predict(X_test_scale)\n",
    "print(pd.crosstab(y_test, pred_test_rbf , rownames=['Actual'], colnames=['Predictions']))\n",
    "print('Test Data Accuracy',np.mean(pred_test_rbf==y_test))# Test Data Accuracy \n",
    "# Prediction on Train Data\n",
    "pred_train_rbf = model_rbf.predict(X_train_scale)\n",
    "print(pd.crosstab(y_train, pred_train_rbf, rownames = ['Actual'], colnames = ['Predictions']))\n",
    "\n",
    "print('Train Data Accuracy',np.mean(pred_train_rbf == y_train)) # Train Data Accuracy\n"
   ]
  },
  {
   "cell_type": "code",
   "execution_count": 29,
   "id": "1223b11c",
   "metadata": {},
   "outputs": [
    {
     "name": "stderr",
     "output_type": "stream",
     "text": [
      "C:\\Users\\Acer\\anaconda3\\lib\\site-packages\\xgboost\\compat.py:36: FutureWarning: pandas.Int64Index is deprecated and will be removed from pandas in a future version. Use pandas.Index with the appropriate dtype instead.\n",
      "  from pandas import MultiIndex, Int64Index\n",
      "C:\\Users\\Acer\\anaconda3\\lib\\site-packages\\xgboost\\sklearn.py:1224: UserWarning: The use of label encoder in XGBClassifier is deprecated and will be removed in a future release. To remove this warning, do the following: 1) Pass option use_label_encoder=False when constructing XGBClassifier object; and 2) Encode your labels (y) as integers starting with 0, i.e. 0, 1, 2, ..., [num_class - 1].\n",
      "  warnings.warn(label_encoder_deprecation_msg, UserWarning)\n",
      "C:\\Users\\Acer\\anaconda3\\lib\\site-packages\\xgboost\\data.py:250: FutureWarning: pandas.Int64Index is deprecated and will be removed from pandas in a future version. Use pandas.Index with the appropriate dtype instead.\n",
      "  elif isinstance(data.columns, (pd.Int64Index, pd.RangeIndex)):\n"
     ]
    },
    {
     "name": "stdout",
     "output_type": "stream",
     "text": [
      "[15:25:11] WARNING: C:\\Windows\\Temp\\abs_557yfx631l\\croots\\recipe\\xgboost-split_1659548953302\\work\\src\\learner.cc:1115: Starting in XGBoost 1.3.0, the default evaluation metric used with the objective 'multi:softprob' was changed from 'merror' to 'mlogloss'. Explicitly set eval_metric if you'd like to restore the old behavior.\n",
      "Predictions     0    1   2  3\n",
      "Actual                       \n",
      "0            4428   34  10  0\n",
      "1             462  212   3  0\n",
      "2             240   17  82  0\n",
      "3              46    2   2  3\n",
      "Test Data Accuracy 0.852734163508392\n",
      "Predictions      0    1    2   3  4\n",
      "Actual                             \n",
      "0            10306   15    5   0  0\n",
      "1              903  842    1   0  0\n",
      "2              382   13  351   0  0\n",
      "3               40    0    1  66  0\n",
      "4                1    0    0   0  1\n",
      "Train Data Accuracy 0.8947164848766148\n"
     ]
    }
   ],
   "source": [
    "import xgboost as xgb\n",
    "xgb_cl = xgb.XGBClassifier()\n",
    "# Fit\n",
    "xgb_cl.fit(X_train_scaled, y_train)\n",
    "# Predict\n",
    "preds_xgb = xgb_cl.predict(X_test_scaled)\n",
    "print(pd.crosstab(y_test, preds_xgb, rownames=['Actual'],colnames= ['Predictions']))\n",
    "print('Test Data Accuracy',accuracy_score(y_test, preds_xgb))\n",
    "# error on train data\n",
    "xgbpred_train = xgb_cl.predict(X_train_scaled)\n",
    "print(pd.crosstab(y_train, xgbpred_train, rownames=['Actual'],colnames= ['Predictions'])) \n",
    "print('Train Data Accuracy',accuracy_score(y_train, xgbpred_train))"
   ]
  },
  {
   "cell_type": "code",
   "execution_count": 3,
   "id": "09dcbaa7",
   "metadata": {},
   "outputs": [],
   "source": [
    "from tabulate import tabulate"
   ]
  },
  {
   "cell_type": "code",
   "execution_count": 66,
   "id": "54b49a2d",
   "metadata": {},
   "outputs": [],
   "source": [
    "info = {'Model': ['Decision Tree', 'Random Forest','Naive Bayes', 'SVM','XGBoost'], 'Train Accuracy Score': [0.99922, 0.982903, 0.019726,0.80026,0.8951032], 'Test Accuracy Score': [0.649882, 0.77116, 0.01624, 0.80454,0.85742]}"
   ]
  },
  {
   "cell_type": "code",
   "execution_count": 67,
   "id": "9f8b36c4",
   "metadata": {},
   "outputs": [
    {
     "name": "stdout",
     "output_type": "stream",
     "text": [
      "Model            Train Accuracy Score    Test Accuracy Score\n",
      "-------------  ----------------------  ---------------------\n",
      "Decision Tree                0.99922                0.649882\n",
      "Random Forest                0.982903               0.77116\n",
      "Naive Bayes                  0.019726               0.01624\n",
      "SVM                          0.80026                0.80454\n",
      "XGBoost                      0.895103               0.85742\n"
     ]
    }
   ],
   "source": [
    "print(tabulate(info, headers='keys'))"
   ]
  },
  {
   "cell_type": "markdown",
   "id": "ce0b300c",
   "metadata": {},
   "source": [
    "#### Model chosen: XGBoost"
   ]
  },
  {
   "cell_type": "code",
   "execution_count": 23,
   "id": "9a97637e",
   "metadata": {},
   "outputs": [
    {
     "name": "stderr",
     "output_type": "stream",
     "text": [
      "C:\\Users\\Acer\\anaconda3\\lib\\site-packages\\xgboost\\sklearn.py:1224: UserWarning: The use of label encoder in XGBClassifier is deprecated and will be removed in a future release. To remove this warning, do the following: 1) Pass option use_label_encoder=False when constructing XGBClassifier object; and 2) Encode your labels (y) as integers starting with 0, i.e. 0, 1, 2, ..., [num_class - 1].\n",
      "  warnings.warn(label_encoder_deprecation_msg, UserWarning)\n",
      "C:\\Users\\Acer\\anaconda3\\lib\\site-packages\\xgboost\\data.py:250: FutureWarning: pandas.Int64Index is deprecated and will be removed from pandas in a future version. Use pandas.Index with the appropriate dtype instead.\n",
      "  elif isinstance(data.columns, (pd.Int64Index, pd.RangeIndex)):\n"
     ]
    },
    {
     "name": "stdout",
     "output_type": "stream",
     "text": [
      "[11:39:50] WARNING: C:\\Windows\\Temp\\abs_557yfx631l\\croots\\recipe\\xgboost-split_1659548953302\\work\\src\\learner.cc:1115: Starting in XGBoost 1.3.0, the default evaluation metric used with the objective 'multi:softprob' was changed from 'merror' to 'mlogloss'. Explicitly set eval_metric if you'd like to restore the old behavior.\n",
      "Predictions     0    1   2  3\n",
      "Actual                       \n",
      "0            4385   31  14  0\n",
      "1             512  227   6  0\n",
      "2             221   19  74  0\n",
      "3              42    5   2  1\n",
      "4               2    0   0  0\n",
      "Test Data Accuracy 0.8458761956325573\n",
      "Predictions      0    1    2   3\n",
      "Actual                          \n",
      "0            10354   11    3   0\n",
      "1              890  785    3   0\n",
      "2              372   15  384   0\n",
      "3               55    0    2  53\n",
      "Train Data Accuracy 0.8954900595652511\n"
     ]
    }
   ],
   "source": [
    "from sklearn.metrics import accuracy_score\n",
    "import xgboost as xgb\n",
    "model = xgb.XGBClassifier()\n",
    "model.fit(X_train_scaled, y_train)\n",
    "# Predict\n",
    "preds_xgb = model.predict(X_test_scaled)\n",
    "print(pd.crosstab(y_test, preds_xgb, rownames=['Actual'],colnames= ['Predictions']))\n",
    "print('Test Data Accuracy',accuracy_score(y_test, preds_xgb))\n",
    "# error on train data\n",
    "xgbpred_train = model.predict(X_train_scaled)\n",
    "print(pd.crosstab(y_train, xgbpred_train, rownames=['Actual'],colnames= ['Predictions'])) \n",
    "print('Train Data Accuracy',accuracy_score(y_train, xgbpred_train))"
   ]
  },
  {
   "cell_type": "code",
   "execution_count": 24,
   "id": "4f830ced",
   "metadata": {},
   "outputs": [],
   "source": [
    "# save model \n",
    "import pickle\n",
    "pickl = {'model': model}\n",
    "pickle.dump( pickl, open( 'model_file' + \".p\", \"wb\" ) )"
   ]
  },
  {
   "cell_type": "code",
   "execution_count": 25,
   "id": "44c668a3",
   "metadata": {},
   "outputs": [],
   "source": [
    "file_name = \"model_file.p\"\n",
    "with open(file_name, 'rb') as pickled:\n",
    "    data = pickle.load(pickled)\n",
    "    model = data['model']\n"
   ]
  },
  {
   "cell_type": "code",
   "execution_count": 19,
   "id": "34bb49aa",
   "metadata": {},
   "outputs": [
    {
     "data": {
      "text/plain": [
       "[-1.0829921985897752,\n",
       " 0.41739645861184566,\n",
       " 0.7227211297973594,\n",
       " 0.0,\n",
       " 1.0,\n",
       " 0.0,\n",
       " 0.0,\n",
       " 0.0,\n",
       " 0.0,\n",
       " 0.0,\n",
       " 0.0,\n",
       " 0.0,\n",
       " 0.0,\n",
       " 1.0,\n",
       " 0.0,\n",
       " 0.0,\n",
       " 0.0,\n",
       " 0.0,\n",
       " 1.0,\n",
       " 1.0,\n",
       " 0.0,\n",
       " 0.0,\n",
       " 0.0,\n",
       " 0.0,\n",
       " 0.0,\n",
       " 0.0,\n",
       " 0.0,\n",
       " 0.0,\n",
       " 0.0,\n",
       " 0.0,\n",
       " 0.0,\n",
       " 0.0]"
      ]
     },
     "execution_count": 19,
     "metadata": {},
     "output_type": "execute_result"
    }
   ],
   "source": [
    "# data_in for flask API\n",
    "list(X_test_scaled.iloc[1,:])"
   ]
  },
  {
   "cell_type": "code",
   "execution_count": 26,
   "id": "e53e3ec8",
   "metadata": {},
   "outputs": [
    {
     "data": {
      "text/plain": [
       "array([0])"
      ]
     },
     "execution_count": 26,
     "metadata": {},
     "output_type": "execute_result"
    }
   ],
   "source": [
    "# test predict first row\n",
    "model.predict(X_test_scaled.iloc[1,:].values.reshape(1,-1))"
   ]
  },
  {
   "cell_type": "code",
   "execution_count": null,
   "id": "4524e4d8",
   "metadata": {},
   "outputs": [],
   "source": []
  }
 ],
 "metadata": {
  "kernelspec": {
   "display_name": "Python 3 (ipykernel)",
   "language": "python",
   "name": "python3"
  },
  "language_info": {
   "codemirror_mode": {
    "name": "ipython",
    "version": 3
   },
   "file_extension": ".py",
   "mimetype": "text/x-python",
   "name": "python",
   "nbconvert_exporter": "python",
   "pygments_lexer": "ipython3",
   "version": "3.9.12"
  }
 },
 "nbformat": 4,
 "nbformat_minor": 5
}
