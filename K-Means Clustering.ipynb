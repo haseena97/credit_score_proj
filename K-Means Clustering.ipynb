{
 "cells": [
  {
   "cell_type": "code",
   "execution_count": 1,
   "id": "a5b365fa",
   "metadata": {},
   "outputs": [],
   "source": [
    "import pandas as pd\n",
    "import seaborn as sns\n",
    "import matplotlib.pyplot as plt\n",
    "import numpy as np\n",
    "from scipy import stats\n",
    "from sklearn.preprocessing import StandardScaler\n",
    "from sklearn.cluster import\tKMeans"
   ]
  },
  {
   "cell_type": "markdown",
   "id": "13d82305",
   "metadata": {},
   "source": [
    "### Read data"
   ]
  },
  {
   "cell_type": "code",
   "execution_count": 2,
   "id": "c6eca118",
   "metadata": {},
   "outputs": [
    {
     "data": {
      "text/html": [
       "<div>\n",
       "<style scoped>\n",
       "    .dataframe tbody tr th:only-of-type {\n",
       "        vertical-align: middle;\n",
       "    }\n",
       "\n",
       "    .dataframe tbody tr th {\n",
       "        vertical-align: top;\n",
       "    }\n",
       "\n",
       "    .dataframe thead th {\n",
       "        text-align: right;\n",
       "    }\n",
       "</style>\n",
       "<table border=\"1\" class=\"dataframe\">\n",
       "  <thead>\n",
       "    <tr style=\"text-align: right;\">\n",
       "      <th></th>\n",
       "      <th>Unnamed: 0</th>\n",
       "      <th>master_order_id</th>\n",
       "      <th>master_order_status</th>\n",
       "      <th>created</th>\n",
       "      <th>order_id</th>\n",
       "      <th>order_status</th>\n",
       "      <th>ordereditem_quantity</th>\n",
       "      <th>prod_names</th>\n",
       "      <th>ordereditem_unit_price_net</th>\n",
       "      <th>ordereditem_product_id</th>\n",
       "      <th>value</th>\n",
       "      <th>group</th>\n",
       "      <th>dist_names</th>\n",
       "      <th>retailer_names</th>\n",
       "      <th>bill_amount</th>\n",
       "    </tr>\n",
       "  </thead>\n",
       "  <tbody>\n",
       "    <tr>\n",
       "      <th>0</th>\n",
       "      <td>1</td>\n",
       "      <td>25651</td>\n",
       "      <td>delivered</td>\n",
       "      <td>12/18/2017 10:41</td>\n",
       "      <td>25651</td>\n",
       "      <td>delivered</td>\n",
       "      <td>5</td>\n",
       "      <td>ProdName1</td>\n",
       "      <td>43.00</td>\n",
       "      <td>1744.0</td>\n",
       "      <td>215.00</td>\n",
       "      <td>Hyderabad</td>\n",
       "      <td>DistName1</td>\n",
       "      <td>RetailerID2</td>\n",
       "      <td>809.0</td>\n",
       "    </tr>\n",
       "    <tr>\n",
       "      <th>1</th>\n",
       "      <td>2</td>\n",
       "      <td>25651</td>\n",
       "      <td>delivered</td>\n",
       "      <td>12/18/2017 10:41</td>\n",
       "      <td>25651</td>\n",
       "      <td>delivered</td>\n",
       "      <td>5</td>\n",
       "      <td>ProdName2</td>\n",
       "      <td>35.54</td>\n",
       "      <td>965.0</td>\n",
       "      <td>177.70</td>\n",
       "      <td>Hyderabad</td>\n",
       "      <td>DistName1</td>\n",
       "      <td>RetailerID2</td>\n",
       "      <td>809.0</td>\n",
       "    </tr>\n",
       "    <tr>\n",
       "      <th>2</th>\n",
       "      <td>3</td>\n",
       "      <td>25651</td>\n",
       "      <td>delivered</td>\n",
       "      <td>12/18/2017 10:41</td>\n",
       "      <td>25651</td>\n",
       "      <td>delivered</td>\n",
       "      <td>2</td>\n",
       "      <td>ProdName3</td>\n",
       "      <td>52.80</td>\n",
       "      <td>705.0</td>\n",
       "      <td>105.60</td>\n",
       "      <td>Hyderabad</td>\n",
       "      <td>DistName3</td>\n",
       "      <td>RetailerID29</td>\n",
       "      <td>809.0</td>\n",
       "    </tr>\n",
       "    <tr>\n",
       "      <th>3</th>\n",
       "      <td>4</td>\n",
       "      <td>25651</td>\n",
       "      <td>delivered</td>\n",
       "      <td>12/18/2017 10:41</td>\n",
       "      <td>25651</td>\n",
       "      <td>delivered</td>\n",
       "      <td>2</td>\n",
       "      <td>ProdName4</td>\n",
       "      <td>118.28</td>\n",
       "      <td>264.0</td>\n",
       "      <td>236.56</td>\n",
       "      <td>Hyderabad</td>\n",
       "      <td>DistName1</td>\n",
       "      <td>RetailerID87</td>\n",
       "      <td>809.0</td>\n",
       "    </tr>\n",
       "    <tr>\n",
       "      <th>4</th>\n",
       "      <td>5</td>\n",
       "      <td>25651</td>\n",
       "      <td>delivered</td>\n",
       "      <td>12/18/2017 10:41</td>\n",
       "      <td>25651</td>\n",
       "      <td>delivered</td>\n",
       "      <td>3</td>\n",
       "      <td>ProdName5</td>\n",
       "      <td>32.22</td>\n",
       "      <td>1025.0</td>\n",
       "      <td>96.66</td>\n",
       "      <td>Hyderabad</td>\n",
       "      <td>DistName4</td>\n",
       "      <td>RetailerID118</td>\n",
       "      <td>809.0</td>\n",
       "    </tr>\n",
       "  </tbody>\n",
       "</table>\n",
       "</div>"
      ],
      "text/plain": [
       "   Unnamed: 0  master_order_id master_order_status           created  \\\n",
       "0           1            25651           delivered  12/18/2017 10:41   \n",
       "1           2            25651           delivered  12/18/2017 10:41   \n",
       "2           3            25651           delivered  12/18/2017 10:41   \n",
       "3           4            25651           delivered  12/18/2017 10:41   \n",
       "4           5            25651           delivered  12/18/2017 10:41   \n",
       "\n",
       "   order_id order_status  ordereditem_quantity prod_names  \\\n",
       "0     25651    delivered                     5  ProdName1   \n",
       "1     25651    delivered                     5  ProdName2   \n",
       "2     25651    delivered                     2  ProdName3   \n",
       "3     25651    delivered                     2  ProdName4   \n",
       "4     25651    delivered                     3  ProdName5   \n",
       "\n",
       "   ordereditem_unit_price_net  ordereditem_product_id   value      group  \\\n",
       "0                       43.00                  1744.0  215.00  Hyderabad   \n",
       "1                       35.54                   965.0  177.70  Hyderabad   \n",
       "2                       52.80                   705.0  105.60  Hyderabad   \n",
       "3                      118.28                   264.0  236.56  Hyderabad   \n",
       "4                       32.22                  1025.0   96.66  Hyderabad   \n",
       "\n",
       "  dist_names retailer_names  bill_amount  \n",
       "0  DistName1    RetailerID2        809.0  \n",
       "1  DistName1    RetailerID2        809.0  \n",
       "2  DistName3   RetailerID29        809.0  \n",
       "3  DistName1   RetailerID87        809.0  \n",
       "4  DistName4  RetailerID118        809.0  "
      ]
     },
     "execution_count": 2,
     "metadata": {},
     "output_type": "execute_result"
    }
   ],
   "source": [
    "credit = pd.read_excel('../LIVE PROJECT/CreditAnalysis_data.xlsx')\n",
    "credit.head()"
   ]
  },
  {
   "cell_type": "markdown",
   "id": "8ffa70be",
   "metadata": {},
   "source": [
    "We remove all the unnecessary information decided earlier and save into `clean_credit`."
   ]
  },
  {
   "cell_type": "code",
   "execution_count": 3,
   "id": "951feb63",
   "metadata": {},
   "outputs": [],
   "source": [
    "clean_credit = credit[(credit['value']!= 0)]"
   ]
  },
  {
   "cell_type": "code",
   "execution_count": 4,
   "id": "7dcdf40d",
   "metadata": {},
   "outputs": [],
   "source": [
    "clean_credit = clean_credit[(clean_credit['master_order_status'] != 'cancelled') & (clean_credit['master_order_status'] != 'rejected')]"
   ]
  },
  {
   "cell_type": "markdown",
   "id": "970b90d9",
   "metadata": {},
   "source": [
    "All missing values have been handled. Unnecessary rows are removed (rejected, cancelled and new orders)."
   ]
  },
  {
   "cell_type": "markdown",
   "id": "ce80d951",
   "metadata": {},
   "source": [
    "Since `master_order_id` not unique to each retailers, so we have to create a new column with order id unique to each retailers:"
   ]
  },
  {
   "cell_type": "code",
   "execution_count": 5,
   "id": "8b97eaf9",
   "metadata": {},
   "outputs": [],
   "source": [
    "from sklearn.preprocessing import LabelEncoder\n",
    "le = LabelEncoder()\n",
    "clean_credit['dummy_name'] = le.fit_transform(clean_credit.retailer_names.values)\n",
    "clean_credit['dummy_group'] = le.fit_transform(clean_credit.group.values)\n",
    "clean_credit['invoice_id'] = clean_credit.dummy_group.astype(str) + clean_credit.dummy_name.astype(str) + clean_credit.master_order_id.astype(str)\n"
   ]
  },
  {
   "cell_type": "code",
   "execution_count": 6,
   "id": "764a07d8",
   "metadata": {},
   "outputs": [
    {
     "data": {
      "text/html": [
       "<div>\n",
       "<style scoped>\n",
       "    .dataframe tbody tr th:only-of-type {\n",
       "        vertical-align: middle;\n",
       "    }\n",
       "\n",
       "    .dataframe tbody tr th {\n",
       "        vertical-align: top;\n",
       "    }\n",
       "\n",
       "    .dataframe thead th {\n",
       "        text-align: right;\n",
       "    }\n",
       "</style>\n",
       "<table border=\"1\" class=\"dataframe\">\n",
       "  <thead>\n",
       "    <tr style=\"text-align: right;\">\n",
       "      <th></th>\n",
       "      <th>Unnamed: 0</th>\n",
       "      <th>master_order_id</th>\n",
       "      <th>master_order_status</th>\n",
       "      <th>created</th>\n",
       "      <th>order_id</th>\n",
       "      <th>order_status</th>\n",
       "      <th>ordereditem_quantity</th>\n",
       "      <th>prod_names</th>\n",
       "      <th>ordereditem_unit_price_net</th>\n",
       "      <th>ordereditem_product_id</th>\n",
       "      <th>value</th>\n",
       "      <th>group</th>\n",
       "      <th>dist_names</th>\n",
       "      <th>retailer_names</th>\n",
       "      <th>bill_amount</th>\n",
       "      <th>dummy_name</th>\n",
       "      <th>dummy_group</th>\n",
       "      <th>invoice_id</th>\n",
       "    </tr>\n",
       "  </thead>\n",
       "  <tbody>\n",
       "    <tr>\n",
       "      <th>0</th>\n",
       "      <td>1</td>\n",
       "      <td>25651</td>\n",
       "      <td>delivered</td>\n",
       "      <td>12/18/2017 10:41</td>\n",
       "      <td>25651</td>\n",
       "      <td>delivered</td>\n",
       "      <td>5</td>\n",
       "      <td>ProdName1</td>\n",
       "      <td>43.00</td>\n",
       "      <td>1744.0</td>\n",
       "      <td>215.00</td>\n",
       "      <td>Hyderabad</td>\n",
       "      <td>DistName1</td>\n",
       "      <td>RetailerID2</td>\n",
       "      <td>809.0</td>\n",
       "      <td>99</td>\n",
       "      <td>2</td>\n",
       "      <td>29925651</td>\n",
       "    </tr>\n",
       "    <tr>\n",
       "      <th>1</th>\n",
       "      <td>2</td>\n",
       "      <td>25651</td>\n",
       "      <td>delivered</td>\n",
       "      <td>12/18/2017 10:41</td>\n",
       "      <td>25651</td>\n",
       "      <td>delivered</td>\n",
       "      <td>5</td>\n",
       "      <td>ProdName2</td>\n",
       "      <td>35.54</td>\n",
       "      <td>965.0</td>\n",
       "      <td>177.70</td>\n",
       "      <td>Hyderabad</td>\n",
       "      <td>DistName1</td>\n",
       "      <td>RetailerID2</td>\n",
       "      <td>809.0</td>\n",
       "      <td>99</td>\n",
       "      <td>2</td>\n",
       "      <td>29925651</td>\n",
       "    </tr>\n",
       "    <tr>\n",
       "      <th>2</th>\n",
       "      <td>3</td>\n",
       "      <td>25651</td>\n",
       "      <td>delivered</td>\n",
       "      <td>12/18/2017 10:41</td>\n",
       "      <td>25651</td>\n",
       "      <td>delivered</td>\n",
       "      <td>2</td>\n",
       "      <td>ProdName3</td>\n",
       "      <td>52.80</td>\n",
       "      <td>705.0</td>\n",
       "      <td>105.60</td>\n",
       "      <td>Hyderabad</td>\n",
       "      <td>DistName3</td>\n",
       "      <td>RetailerID29</td>\n",
       "      <td>809.0</td>\n",
       "      <td>141</td>\n",
       "      <td>2</td>\n",
       "      <td>214125651</td>\n",
       "    </tr>\n",
       "    <tr>\n",
       "      <th>3</th>\n",
       "      <td>4</td>\n",
       "      <td>25651</td>\n",
       "      <td>delivered</td>\n",
       "      <td>12/18/2017 10:41</td>\n",
       "      <td>25651</td>\n",
       "      <td>delivered</td>\n",
       "      <td>2</td>\n",
       "      <td>ProdName4</td>\n",
       "      <td>118.28</td>\n",
       "      <td>264.0</td>\n",
       "      <td>236.56</td>\n",
       "      <td>Hyderabad</td>\n",
       "      <td>DistName1</td>\n",
       "      <td>RetailerID87</td>\n",
       "      <td>809.0</td>\n",
       "      <td>202</td>\n",
       "      <td>2</td>\n",
       "      <td>220225651</td>\n",
       "    </tr>\n",
       "    <tr>\n",
       "      <th>4</th>\n",
       "      <td>5</td>\n",
       "      <td>25651</td>\n",
       "      <td>delivered</td>\n",
       "      <td>12/18/2017 10:41</td>\n",
       "      <td>25651</td>\n",
       "      <td>delivered</td>\n",
       "      <td>3</td>\n",
       "      <td>ProdName5</td>\n",
       "      <td>32.22</td>\n",
       "      <td>1025.0</td>\n",
       "      <td>96.66</td>\n",
       "      <td>Hyderabad</td>\n",
       "      <td>DistName4</td>\n",
       "      <td>RetailerID118</td>\n",
       "      <td>809.0</td>\n",
       "      <td>16</td>\n",
       "      <td>2</td>\n",
       "      <td>21625651</td>\n",
       "    </tr>\n",
       "    <tr>\n",
       "      <th>5</th>\n",
       "      <td>6</td>\n",
       "      <td>25651</td>\n",
       "      <td>delivered</td>\n",
       "      <td>12/18/2017 10:41</td>\n",
       "      <td>25651</td>\n",
       "      <td>delivered</td>\n",
       "      <td>2</td>\n",
       "      <td>ProdName6</td>\n",
       "      <td>12.60</td>\n",
       "      <td>NaN</td>\n",
       "      <td>25.20</td>\n",
       "      <td>Hyderabad</td>\n",
       "      <td>DistName7</td>\n",
       "      <td>RetailerID112</td>\n",
       "      <td>809.0</td>\n",
       "      <td>11</td>\n",
       "      <td>2</td>\n",
       "      <td>21125651</td>\n",
       "    </tr>\n",
       "    <tr>\n",
       "      <th>6</th>\n",
       "      <td>7</td>\n",
       "      <td>25652</td>\n",
       "      <td>delivered</td>\n",
       "      <td>12/19/2017 6:48</td>\n",
       "      <td>25652</td>\n",
       "      <td>delivered</td>\n",
       "      <td>2</td>\n",
       "      <td>ProdName7</td>\n",
       "      <td>107.86</td>\n",
       "      <td>5192.0</td>\n",
       "      <td>215.72</td>\n",
       "      <td>Hyderabad</td>\n",
       "      <td>DistName1</td>\n",
       "      <td>RetailerID116</td>\n",
       "      <td>566.0</td>\n",
       "      <td>14</td>\n",
       "      <td>2</td>\n",
       "      <td>21425652</td>\n",
       "    </tr>\n",
       "    <tr>\n",
       "      <th>7</th>\n",
       "      <td>8</td>\n",
       "      <td>25652</td>\n",
       "      <td>delivered</td>\n",
       "      <td>12/19/2017 6:48</td>\n",
       "      <td>25652</td>\n",
       "      <td>delivered</td>\n",
       "      <td>3</td>\n",
       "      <td>ProdName8</td>\n",
       "      <td>31.25</td>\n",
       "      <td>5452.0</td>\n",
       "      <td>93.75</td>\n",
       "      <td>Hyderabad</td>\n",
       "      <td>DistName6</td>\n",
       "      <td>RetailerID55</td>\n",
       "      <td>566.0</td>\n",
       "      <td>170</td>\n",
       "      <td>2</td>\n",
       "      <td>217025652</td>\n",
       "    </tr>\n",
       "    <tr>\n",
       "      <th>8</th>\n",
       "      <td>9</td>\n",
       "      <td>25652</td>\n",
       "      <td>delivered</td>\n",
       "      <td>12/19/2017 6:48</td>\n",
       "      <td>25652</td>\n",
       "      <td>delivered</td>\n",
       "      <td>2</td>\n",
       "      <td>ProdName9</td>\n",
       "      <td>61.88</td>\n",
       "      <td>4383.0</td>\n",
       "      <td>123.76</td>\n",
       "      <td>Hyderabad</td>\n",
       "      <td>DistName1</td>\n",
       "      <td>RetailerID13</td>\n",
       "      <td>566.0</td>\n",
       "      <td>27</td>\n",
       "      <td>2</td>\n",
       "      <td>22725652</td>\n",
       "    </tr>\n",
       "    <tr>\n",
       "      <th>9</th>\n",
       "      <td>10</td>\n",
       "      <td>25654</td>\n",
       "      <td>delivered</td>\n",
       "      <td>12/19/2017 7:57</td>\n",
       "      <td>25654</td>\n",
       "      <td>delivered</td>\n",
       "      <td>5</td>\n",
       "      <td>ProdName10</td>\n",
       "      <td>19.44</td>\n",
       "      <td>922.0</td>\n",
       "      <td>97.20</td>\n",
       "      <td>Hyderabad</td>\n",
       "      <td>DistName1</td>\n",
       "      <td>RetailerID56</td>\n",
       "      <td>468.0</td>\n",
       "      <td>171</td>\n",
       "      <td>2</td>\n",
       "      <td>217125654</td>\n",
       "    </tr>\n",
       "  </tbody>\n",
       "</table>\n",
       "</div>"
      ],
      "text/plain": [
       "   Unnamed: 0  master_order_id master_order_status           created  \\\n",
       "0           1            25651           delivered  12/18/2017 10:41   \n",
       "1           2            25651           delivered  12/18/2017 10:41   \n",
       "2           3            25651           delivered  12/18/2017 10:41   \n",
       "3           4            25651           delivered  12/18/2017 10:41   \n",
       "4           5            25651           delivered  12/18/2017 10:41   \n",
       "5           6            25651           delivered  12/18/2017 10:41   \n",
       "6           7            25652           delivered   12/19/2017 6:48   \n",
       "7           8            25652           delivered   12/19/2017 6:48   \n",
       "8           9            25652           delivered   12/19/2017 6:48   \n",
       "9          10            25654           delivered   12/19/2017 7:57   \n",
       "\n",
       "   order_id order_status  ordereditem_quantity  prod_names  \\\n",
       "0     25651    delivered                     5   ProdName1   \n",
       "1     25651    delivered                     5   ProdName2   \n",
       "2     25651    delivered                     2   ProdName3   \n",
       "3     25651    delivered                     2   ProdName4   \n",
       "4     25651    delivered                     3   ProdName5   \n",
       "5     25651    delivered                     2   ProdName6   \n",
       "6     25652    delivered                     2   ProdName7   \n",
       "7     25652    delivered                     3   ProdName8   \n",
       "8     25652    delivered                     2   ProdName9   \n",
       "9     25654    delivered                     5  ProdName10   \n",
       "\n",
       "   ordereditem_unit_price_net  ordereditem_product_id   value      group  \\\n",
       "0                       43.00                  1744.0  215.00  Hyderabad   \n",
       "1                       35.54                   965.0  177.70  Hyderabad   \n",
       "2                       52.80                   705.0  105.60  Hyderabad   \n",
       "3                      118.28                   264.0  236.56  Hyderabad   \n",
       "4                       32.22                  1025.0   96.66  Hyderabad   \n",
       "5                       12.60                     NaN   25.20  Hyderabad   \n",
       "6                      107.86                  5192.0  215.72  Hyderabad   \n",
       "7                       31.25                  5452.0   93.75  Hyderabad   \n",
       "8                       61.88                  4383.0  123.76  Hyderabad   \n",
       "9                       19.44                   922.0   97.20  Hyderabad   \n",
       "\n",
       "  dist_names retailer_names  bill_amount  dummy_name  dummy_group invoice_id  \n",
       "0  DistName1    RetailerID2        809.0          99            2   29925651  \n",
       "1  DistName1    RetailerID2        809.0          99            2   29925651  \n",
       "2  DistName3   RetailerID29        809.0         141            2  214125651  \n",
       "3  DistName1   RetailerID87        809.0         202            2  220225651  \n",
       "4  DistName4  RetailerID118        809.0          16            2   21625651  \n",
       "5  DistName7  RetailerID112        809.0          11            2   21125651  \n",
       "6  DistName1  RetailerID116        566.0          14            2   21425652  \n",
       "7  DistName6   RetailerID55        566.0         170            2  217025652  \n",
       "8  DistName1   RetailerID13        566.0          27            2   22725652  \n",
       "9  DistName1   RetailerID56        468.0         171            2  217125654  "
      ]
     },
     "execution_count": 6,
     "metadata": {},
     "output_type": "execute_result"
    }
   ],
   "source": [
    "clean_credit.head(10)"
   ]
  },
  {
   "cell_type": "markdown",
   "id": "58dcc668",
   "metadata": {},
   "source": [
    "## Calculate RFM Values"
   ]
  },
  {
   "cell_type": "code",
   "execution_count": 8,
   "id": "8732fbbe",
   "metadata": {},
   "outputs": [],
   "source": [
    "import datetime as dt\n",
    "from datetime import timedelta"
   ]
  },
  {
   "cell_type": "code",
   "execution_count": 7,
   "id": "fcd64e5d",
   "metadata": {},
   "outputs": [
    {
     "data": {
      "text/plain": [
       "Timestamp('2017-12-18 10:41:00')"
      ]
     },
     "execution_count": 7,
     "metadata": {},
     "output_type": "execute_result"
    }
   ],
   "source": [
    "# Let's observe the last transaction date.\n",
    "# So we can determine the performans/measurement date for calculating how recent retailer's latest purchase was.\n",
    "clean_credit['created'] = pd.to_datetime(clean_credit['created'])\n",
    "clean_credit['created'].max()\n",
    "clean_credit['created'].min()"
   ]
  },
  {
   "cell_type": "code",
   "execution_count": null,
   "id": "699d7450",
   "metadata": {},
   "outputs": [],
   "source": [
    "clean_credit['created'].describe()"
   ]
  },
  {
   "cell_type": "code",
   "execution_count": null,
   "id": "121d032b",
   "metadata": {},
   "outputs": [],
   "source": [
    "clean_credit['created'].max() - clean_credit['created'].min()"
   ]
  },
  {
   "cell_type": "code",
   "execution_count": null,
   "id": "fe06c878",
   "metadata": {},
   "outputs": [],
   "source": [
    "clean_credit"
   ]
  },
  {
   "cell_type": "code",
   "execution_count": 9,
   "id": "eb95cf58",
   "metadata": {},
   "outputs": [],
   "source": [
    "clean_credit['created_year'] = clean_credit['created'].dt.year\n",
    "clean_credit['created_month'] = clean_credit['created'].dt.month\n",
    "clean_credit['created_hour'] = clean_credit['created'].dt.hour\n",
    "clean_credit['created_year_month'] = (\n",
    "    clean_credit['created'].dt.year.astype('str') + '_' +\n",
    "    clean_credit['created'].dt.month.astype('str').str.zfill(2)\n",
    ")\n",
    "clean_credit['created_dayofweek'] = clean_credit['created'].dt.dayofweek"
   ]
  },
  {
   "cell_type": "code",
   "execution_count": null,
   "id": "d4048762",
   "metadata": {},
   "outputs": [],
   "source": [
    "clean_credit.head()"
   ]
  },
  {
   "cell_type": "markdown",
   "id": "f768abb0",
   "metadata": {},
   "source": [
    "- Calculating Recency: \n",
    "For each customer ID, we need to calculate the days since the last transaction.\n",
    "To calculate Days Since Last Transaction, a hypothetical date (Maximum Date + 2) is created to make it seem like we are working on the data 2 days after it was extracted.\n",
    "Finally, the difference between the Maximum InvoiceDate for each customer and the hypothetical Date created gives us the Date Since the last transaction."
   ]
  },
  {
   "cell_type": "code",
   "execution_count": 10,
   "id": "eabd2863",
   "metadata": {},
   "outputs": [
    {
     "data": {
      "text/plain": [
       "Timestamp('2018-12-05 18:26:00')"
      ]
     },
     "execution_count": 10,
     "metadata": {},
     "output_type": "execute_result"
    }
   ],
   "source": [
    "# Assign \"performans_date\" as 2 days after the last transaction date of purchase:\n",
    "performans_date = clean_credit[\"created\"].max() + timedelta(days=2)\n",
    "performans_date"
   ]
  },
  {
   "cell_type": "markdown",
   "id": "8f29edea",
   "metadata": {},
   "source": [
    "Let's create a new dataframe called `customer_data` for calculating Recency, Frequency and Monetary values.\n",
    "1. Recency : the number of days between performans_date and the last purchase date of each retailer.\n",
    "2. Frequency: the number of transactions of each retailer.\n",
    "3. Monetary : the sum of TotalPrice of each retailer."
   ]
  },
  {
   "cell_type": "code",
   "execution_count": 11,
   "id": "0a022e80",
   "metadata": {},
   "outputs": [
    {
     "data": {
      "text/html": [
       "<div>\n",
       "<style scoped>\n",
       "    .dataframe tbody tr th:only-of-type {\n",
       "        vertical-align: middle;\n",
       "    }\n",
       "\n",
       "    .dataframe tbody tr th {\n",
       "        vertical-align: top;\n",
       "    }\n",
       "\n",
       "    .dataframe thead tr th {\n",
       "        text-align: left;\n",
       "    }\n",
       "\n",
       "    .dataframe thead tr:last-of-type th {\n",
       "        text-align: right;\n",
       "    }\n",
       "</style>\n",
       "<table border=\"1\" class=\"dataframe\">\n",
       "  <thead>\n",
       "    <tr>\n",
       "      <th></th>\n",
       "      <th>bill_amount</th>\n",
       "      <th colspan=\"2\" halign=\"left\">created</th>\n",
       "      <th>invoice_id</th>\n",
       "    </tr>\n",
       "    <tr>\n",
       "      <th></th>\n",
       "      <th>sum</th>\n",
       "      <th>max</th>\n",
       "      <th>min</th>\n",
       "      <th>nunique</th>\n",
       "    </tr>\n",
       "    <tr>\n",
       "      <th>retailer_names</th>\n",
       "      <th></th>\n",
       "      <th></th>\n",
       "      <th></th>\n",
       "      <th></th>\n",
       "    </tr>\n",
       "  </thead>\n",
       "  <tbody>\n",
       "    <tr>\n",
       "      <th>RetailerID1</th>\n",
       "      <td>421557.97</td>\n",
       "      <td>2018-12-03 16:52:00</td>\n",
       "      <td>2018-01-02 06:56:00</td>\n",
       "      <td>189</td>\n",
       "    </tr>\n",
       "    <tr>\n",
       "      <th>RetailerID10</th>\n",
       "      <td>68787.08</td>\n",
       "      <td>2018-12-03 06:54:00</td>\n",
       "      <td>2018-01-23 06:30:00</td>\n",
       "      <td>36</td>\n",
       "    </tr>\n",
       "    <tr>\n",
       "      <th>RetailerID100</th>\n",
       "      <td>107256.37</td>\n",
       "      <td>2018-12-02 08:01:00</td>\n",
       "      <td>2018-01-03 05:53:00</td>\n",
       "      <td>57</td>\n",
       "    </tr>\n",
       "    <tr>\n",
       "      <th>RetailerID101</th>\n",
       "      <td>574727.13</td>\n",
       "      <td>2018-12-03 15:33:00</td>\n",
       "      <td>2017-12-19 07:31:00</td>\n",
       "      <td>265</td>\n",
       "    </tr>\n",
       "    <tr>\n",
       "      <th>RetailerID102</th>\n",
       "      <td>35524.84</td>\n",
       "      <td>2018-11-03 13:57:00</td>\n",
       "      <td>2018-01-30 06:51:00</td>\n",
       "      <td>14</td>\n",
       "    </tr>\n",
       "  </tbody>\n",
       "</table>\n",
       "</div>"
      ],
      "text/plain": [
       "               bill_amount             created                     invoice_id\n",
       "                       sum                 max                 min    nunique\n",
       "retailer_names                                                               \n",
       "RetailerID1      421557.97 2018-12-03 16:52:00 2018-01-02 06:56:00        189\n",
       "RetailerID10      68787.08 2018-12-03 06:54:00 2018-01-23 06:30:00         36\n",
       "RetailerID100    107256.37 2018-12-02 08:01:00 2018-01-03 05:53:00         57\n",
       "RetailerID101    574727.13 2018-12-03 15:33:00 2017-12-19 07:31:00        265\n",
       "RetailerID102     35524.84 2018-11-03 13:57:00 2018-01-30 06:51:00         14"
      ]
     },
     "execution_count": 11,
     "metadata": {},
     "output_type": "execute_result"
    }
   ],
   "source": [
    "# Aggregate at customer level\n",
    "customer_data = pd.DataFrame(clean_credit.pivot_table(index=\"retailer_names\", \n",
    "                values=[\"created\", \"bill_amount\",'invoice_id'], \n",
    "            aggfunc={\"created\": [min, max], \"bill_amount\": sum, 'invoice_id':pd.Series.nunique}))\n",
    "\n",
    "\n",
    "\n",
    "customer_data.head()"
   ]
  },
  {
   "cell_type": "code",
   "execution_count": 12,
   "id": "b30bc8e2",
   "metadata": {},
   "outputs": [
    {
     "data": {
      "text/html": [
       "<div>\n",
       "<style scoped>\n",
       "    .dataframe tbody tr th:only-of-type {\n",
       "        vertical-align: middle;\n",
       "    }\n",
       "\n",
       "    .dataframe tbody tr th {\n",
       "        vertical-align: top;\n",
       "    }\n",
       "\n",
       "    .dataframe thead th {\n",
       "        text-align: right;\n",
       "    }\n",
       "</style>\n",
       "<table border=\"1\" class=\"dataframe\">\n",
       "  <thead>\n",
       "    <tr style=\"text-align: right;\">\n",
       "      <th></th>\n",
       "      <th>MonetaryValue</th>\n",
       "      <th>LastInvoiceDate</th>\n",
       "      <th>FirstInvoiceDate</th>\n",
       "      <th>Frequency</th>\n",
       "    </tr>\n",
       "    <tr>\n",
       "      <th>retailer_names</th>\n",
       "      <th></th>\n",
       "      <th></th>\n",
       "      <th></th>\n",
       "      <th></th>\n",
       "    </tr>\n",
       "  </thead>\n",
       "  <tbody>\n",
       "    <tr>\n",
       "      <th>RetailerID1</th>\n",
       "      <td>421557.97</td>\n",
       "      <td>2018-12-03 16:52:00</td>\n",
       "      <td>2018-01-02 06:56:00</td>\n",
       "      <td>189</td>\n",
       "    </tr>\n",
       "    <tr>\n",
       "      <th>RetailerID10</th>\n",
       "      <td>68787.08</td>\n",
       "      <td>2018-12-03 06:54:00</td>\n",
       "      <td>2018-01-23 06:30:00</td>\n",
       "      <td>36</td>\n",
       "    </tr>\n",
       "    <tr>\n",
       "      <th>RetailerID100</th>\n",
       "      <td>107256.37</td>\n",
       "      <td>2018-12-02 08:01:00</td>\n",
       "      <td>2018-01-03 05:53:00</td>\n",
       "      <td>57</td>\n",
       "    </tr>\n",
       "    <tr>\n",
       "      <th>RetailerID101</th>\n",
       "      <td>574727.13</td>\n",
       "      <td>2018-12-03 15:33:00</td>\n",
       "      <td>2017-12-19 07:31:00</td>\n",
       "      <td>265</td>\n",
       "    </tr>\n",
       "    <tr>\n",
       "      <th>RetailerID102</th>\n",
       "      <td>35524.84</td>\n",
       "      <td>2018-11-03 13:57:00</td>\n",
       "      <td>2018-01-30 06:51:00</td>\n",
       "      <td>14</td>\n",
       "    </tr>\n",
       "  </tbody>\n",
       "</table>\n",
       "</div>"
      ],
      "text/plain": [
       "                MonetaryValue     LastInvoiceDate    FirstInvoiceDate  \\\n",
       "retailer_names                                                          \n",
       "RetailerID1         421557.97 2018-12-03 16:52:00 2018-01-02 06:56:00   \n",
       "RetailerID10         68787.08 2018-12-03 06:54:00 2018-01-23 06:30:00   \n",
       "RetailerID100       107256.37 2018-12-02 08:01:00 2018-01-03 05:53:00   \n",
       "RetailerID101       574727.13 2018-12-03 15:33:00 2017-12-19 07:31:00   \n",
       "RetailerID102        35524.84 2018-11-03 13:57:00 2018-01-30 06:51:00   \n",
       "\n",
       "                Frequency  \n",
       "retailer_names             \n",
       "RetailerID1           189  \n",
       "RetailerID10           36  \n",
       "RetailerID100          57  \n",
       "RetailerID101         265  \n",
       "RetailerID102          14  "
      ]
     },
     "execution_count": 12,
     "metadata": {},
     "output_type": "execute_result"
    }
   ],
   "source": [
    "# Rename columns\n",
    "customer_data.columns = [\"MonetaryValue\", \"LastInvoiceDate\", \"FirstInvoiceDate\", \"Frequency\"]\n",
    "customer_data.head()"
   ]
  },
  {
   "cell_type": "code",
   "execution_count": 13,
   "id": "fef1a3e5",
   "metadata": {},
   "outputs": [
    {
     "data": {
      "text/plain": [
       "<AxesSubplot:>"
      ]
     },
     "execution_count": 13,
     "metadata": {},
     "output_type": "execute_result"
    },
    {
     "data": {
      "image/png": "[encoded data removed]",
      "text/plain": [
       "<Figure size 432x288 with 1 Axes>"
      ]
     },
     "metadata": {
      "needs_background": "light"
     },
     "output_type": "display_data"
    }
   ],
   "source": [
    "# Calculate recency: the interval (days) between the last transation day and today\n",
    "customer_data[\"Recency\"] = (performans_date - customer_data[\"LastInvoiceDate\"]) / np.timedelta64(1, 'D')\n",
    "\n",
    "customer_data[\"Recency\"].hist()"
   ]
  },
  {
   "cell_type": "code",
   "execution_count": null,
   "id": "edfa16fd",
   "metadata": {},
   "outputs": [],
   "source": [
    "#customer_data[\"Frequency\"].hist()\n",
    "\n",
    "sns.distplot( customer_data[\"MonetaryValue\"] , color=\"darkblue\")\n",
    "print(\"Skewness: %f\" % customer_data[\"MonetaryValue\"].skew())\n",
    "print(\"Kurtosis: %f\" % customer_data[\"MonetaryValue\"].kurt())\n"
   ]
  },
  {
   "cell_type": "code",
   "execution_count": 14,
   "id": "4a12d12c",
   "metadata": {},
   "outputs": [
    {
     "data": {
      "text/plain": [
       "<AxesSubplot:>"
      ]
     },
     "execution_count": 14,
     "metadata": {},
     "output_type": "execute_result"
    },
    {
     "data": {
      "image/png": "[encoded data removed]",
      "text/plain": [
       "<Figure size 432x288 with 1 Axes>"
      ]
     },
     "metadata": {
      "needs_background": "light"
     },
     "output_type": "display_data"
    }
   ],
   "source": [
    "# Calculate retailer lifetime: the interval (days) between the first transaction day and today\n",
    "customer_data[\"Lifetime\"] = (performans_date - customer_data[\"FirstInvoiceDate\"]) / np.timedelta64(1, 'D')\n",
    "\n",
    "customer_data[\"Lifetime\"].hist()"
   ]
  },
  {
   "cell_type": "code",
   "execution_count": null,
   "id": "72be6de4",
   "metadata": {},
   "outputs": [],
   "source": [
    "plt.boxplot(customer_data.Lifetime) "
   ]
  },
  {
   "cell_type": "code",
   "execution_count": null,
   "id": "1dbe8959",
   "metadata": {},
   "outputs": [],
   "source": [
    "customer_data[\"Frequency\"].hist()"
   ]
  },
  {
   "cell_type": "code",
   "execution_count": null,
   "id": "b255299d",
   "metadata": {},
   "outputs": [],
   "source": [
    "customer_data[\"MonetaryValue\"].describe() "
   ]
  },
  {
   "cell_type": "code",
   "execution_count": null,
   "id": "b6e3ed00",
   "metadata": {},
   "outputs": [],
   "source": [
    "sns.displot(customer_data, x=\"Lifetime\", kind=\"kde\", bw_adjust=2)"
   ]
  },
  {
   "cell_type": "code",
   "execution_count": null,
   "id": "0ce79326",
   "metadata": {},
   "outputs": [],
   "source": [
    "customer_data[\"Recency\"].describe()"
   ]
  },
  {
   "cell_type": "code",
   "execution_count": null,
   "id": "c788e6b6",
   "metadata": {},
   "outputs": [],
   "source": [
    "customer_data[\"MonetaryValue\"].describe()"
   ]
  },
  {
   "cell_type": "code",
   "execution_count": null,
   "id": "33be8b68",
   "metadata": {},
   "outputs": [],
   "source": [
    "customer_data[\"MonetaryValue\"].hist()\n",
    "# There are some outliers in terms of monetary value."
   ]
  },
  {
   "cell_type": "code",
   "execution_count": 17,
   "id": "fc1b192d",
   "metadata": {},
   "outputs": [],
   "source": [
    "Univ1 = customer_data.reset_index() # convert into dataframe"
   ]
  },
  {
   "cell_type": "markdown",
   "id": "77c41ad8",
   "metadata": {},
   "source": [
    "### K-Means Clustering of RFM Values"
   ]
  },
  {
   "cell_type": "code",
   "execution_count": 19,
   "id": "1ac0d96b",
   "metadata": {},
   "outputs": [],
   "source": [
    "Univ = Univ1[['retailer_names','MonetaryValue', 'Frequency', 'Recency','Lifetime']]"
   ]
  },
  {
   "cell_type": "code",
   "execution_count": 20,
   "id": "f0855ca8",
   "metadata": {},
   "outputs": [],
   "source": [
    "Univ_num = Univ1[['MonetaryValue', 'Frequency', 'Recency','Lifetime']]"
   ]
  },
  {
   "cell_type": "code",
   "execution_count": 22,
   "id": "1c2b9370",
   "metadata": {},
   "outputs": [],
   "source": [
    "## Function to check skewness\n",
    "def check_skew(df_skew, column):\n",
    "    skew = stats.skew(df_skew[column])\n",
    "    skewtest = stats.skewtest(df_skew[column])\n",
    "    plt.title('Distribution of ' + column)\n",
    "    sns.distplot(df_skew[column])\n",
    "    print(\"{}'s: Skew: {}, : {}\".format(column, skew, skewtest))\n",
    "    return"
   ]
  },
  {
   "cell_type": "code",
   "execution_count": 23,
   "id": "a8a72f3d",
   "metadata": {},
   "outputs": [
    {
     "name": "stderr",
     "output_type": "stream",
     "text": [
      "C:\\Users\\Acer\\anaconda3\\lib\\site-packages\\seaborn\\distributions.py:2619: FutureWarning: `distplot` is a deprecated function and will be removed in a future version. Please adapt your code to use either `displot` (a figure-level function with similar flexibility) or `histplot` (an axes-level function for histograms).\n",
      "  warnings.warn(msg, FutureWarning)\n",
      "C:\\Users\\Acer\\anaconda3\\lib\\site-packages\\seaborn\\distributions.py:2619: FutureWarning: `distplot` is a deprecated function and will be removed in a future version. Please adapt your code to use either `displot` (a figure-level function with similar flexibility) or `histplot` (an axes-level function for histograms).\n",
      "  warnings.warn(msg, FutureWarning)\n"
     ]
    },
    {
     "name": "stdout",
     "output_type": "stream",
     "text": [
      "Recency's: Skew: 1.1915843590096797, : SkewtestResult(statistic=6.000440984814466, pvalue=1.967823629232138e-09)\n",
      "Frequency's: Skew: 3.9209491681371786, : SkewtestResult(statistic=11.799722791237931, pvalue=3.915993394533396e-32)\n"
     ]
    },
    {
     "name": "stderr",
     "output_type": "stream",
     "text": [
      "C:\\Users\\Acer\\anaconda3\\lib\\site-packages\\seaborn\\distributions.py:2619: FutureWarning: `distplot` is a deprecated function and will be removed in a future version. Please adapt your code to use either `displot` (a figure-level function with similar flexibility) or `histplot` (an axes-level function for histograms).\n",
      "  warnings.warn(msg, FutureWarning)\n"
     ]
    },
    {
     "name": "stdout",
     "output_type": "stream",
     "text": [
      "MonetaryValue's: Skew: 5.932043326086408, : SkewtestResult(statistic=13.962009490410134, pvalue=2.6583151996944115e-44)\n"
     ]
    },
    {
     "data": {
      "image/png": "[encoded data removed]",
      "text/plain": [
       "<Figure size 648x648 with 3 Axes>"
      ]
     },
     "metadata": {
      "needs_background": "light"
     },
     "output_type": "display_data"
    }
   ],
   "source": [
    "plt.figure(figsize=(9, 9))\n",
    "plt.subplot(3, 1, 1)\n",
    "check_skew(Univ_num,'Recency')\n",
    "plt.subplot(3, 1, 2)\n",
    "check_skew(Univ_num,'Frequency')\n",
    "plt.subplot(3, 1, 3)\n",
    "check_skew(Univ_num,'MonetaryValue')\n"
   ]
  },
  {
   "cell_type": "markdown",
   "id": "1ee48316",
   "metadata": {},
   "source": [
    "Normalize the values"
   ]
  },
  {
   "cell_type": "code",
   "execution_count": 21,
   "id": "519cbc83",
   "metadata": {},
   "outputs": [],
   "source": [
    "#Removing Skewness\n",
    "df_rfm_log = np.log(Univ_num)"
   ]
  },
  {
   "cell_type": "code",
   "execution_count": 26,
   "id": "48d3119e",
   "metadata": {},
   "outputs": [
    {
     "name": "stderr",
     "output_type": "stream",
     "text": [
      "C:\\Users\\Acer\\anaconda3\\lib\\site-packages\\seaborn\\distributions.py:2619: FutureWarning: `distplot` is a deprecated function and will be removed in a future version. Please adapt your code to use either `displot` (a figure-level function with similar flexibility) or `histplot` (an axes-level function for histograms).\n",
      "  warnings.warn(msg, FutureWarning)\n",
      "C:\\Users\\Acer\\anaconda3\\lib\\site-packages\\seaborn\\distributions.py:2619: FutureWarning: `distplot` is a deprecated function and will be removed in a future version. Please adapt your code to use either `displot` (a figure-level function with similar flexibility) or `histplot` (an axes-level function for histograms).\n",
      "  warnings.warn(msg, FutureWarning)\n"
     ]
    },
    {
     "name": "stdout",
     "output_type": "stream",
     "text": [
      "Recency's: Skew: 0.5032504491659885, : SkewtestResult(statistic=2.9547366887798567, pvalue=0.0031293600912372637)\n",
      "Frequency's: Skew: -0.048870662730500815, : SkewtestResult(statistic=-0.30182823252158597, pvalue=0.7627830075426971)\n"
     ]
    },
    {
     "name": "stderr",
     "output_type": "stream",
     "text": [
      "C:\\Users\\Acer\\anaconda3\\lib\\site-packages\\seaborn\\distributions.py:2619: FutureWarning: `distplot` is a deprecated function and will be removed in a future version. Please adapt your code to use either `displot` (a figure-level function with similar flexibility) or `histplot` (an axes-level function for histograms).\n",
      "  warnings.warn(msg, FutureWarning)\n"
     ]
    },
    {
     "name": "stdout",
     "output_type": "stream",
     "text": [
      "MonetaryValue's: Skew: -0.37057837205613325, : SkewtestResult(statistic=-2.224253018442685, pvalue=0.026131425731922207)\n"
     ]
    },
    {
     "data": {
      "image/png": "[encoded data removed]",
      "text/plain": [
       "<Figure size 648x648 with 3 Axes>"
      ]
     },
     "metadata": {
      "needs_background": "light"
     },
     "output_type": "display_data"
    }
   ],
   "source": [
    "plt.figure(figsize=(9, 9))\n",
    "plt.subplot(3, 1, 1)\n",
    "check_skew(df_rfm_log,'Recency')\n",
    "plt.subplot(3, 1, 2)\n",
    "check_skew(df_rfm_log,'Frequency')\n",
    "plt.subplot(3, 1, 3)\n",
    "check_skew(df_rfm_log,'MonetaryValue')\n"
   ]
  },
  {
   "cell_type": "code",
   "execution_count": 22,
   "id": "f8f35a66",
   "metadata": {},
   "outputs": [
    {
     "data": {
      "text/html": [
       "<div>\n",
       "<style scoped>\n",
       "    .dataframe tbody tr th:only-of-type {\n",
       "        vertical-align: middle;\n",
       "    }\n",
       "\n",
       "    .dataframe tbody tr th {\n",
       "        vertical-align: top;\n",
       "    }\n",
       "\n",
       "    .dataframe thead th {\n",
       "        text-align: right;\n",
       "    }\n",
       "</style>\n",
       "<table border=\"1\" class=\"dataframe\">\n",
       "  <thead>\n",
       "    <tr style=\"text-align: right;\">\n",
       "      <th></th>\n",
       "      <th>MonetaryValue</th>\n",
       "      <th>Frequency</th>\n",
       "      <th>Recency</th>\n",
       "      <th>Lifetime</th>\n",
       "    </tr>\n",
       "  </thead>\n",
       "  <tbody>\n",
       "    <tr>\n",
       "      <th>0</th>\n",
       "      <td>1.277300</td>\n",
       "      <td>1.330597</td>\n",
       "      <td>-0.902163</td>\n",
       "      <td>0.411699</td>\n",
       "    </tr>\n",
       "    <tr>\n",
       "      <th>1</th>\n",
       "      <td>0.211215</td>\n",
       "      <td>0.194697</td>\n",
       "      <td>-0.809165</td>\n",
       "      <td>0.016590</td>\n",
       "    </tr>\n",
       "    <tr>\n",
       "      <th>2</th>\n",
       "      <td>0.472427</td>\n",
       "      <td>0.509480</td>\n",
       "      <td>-0.644074</td>\n",
       "      <td>0.394233</td>\n",
       "    </tr>\n",
       "    <tr>\n",
       "      <th>3</th>\n",
       "      <td>1.459557</td>\n",
       "      <td>1.562118</td>\n",
       "      <td>-0.888856</td>\n",
       "      <td>0.661468</td>\n",
       "    </tr>\n",
       "    <tr>\n",
       "      <th>4</th>\n",
       "      <td>-0.177353</td>\n",
       "      <td>-0.452268</td>\n",
       "      <td>0.491799</td>\n",
       "      <td>-0.121367</td>\n",
       "    </tr>\n",
       "  </tbody>\n",
       "</table>\n",
       "</div>"
      ],
      "text/plain": [
       "   MonetaryValue  Frequency   Recency  Lifetime\n",
       "0       1.277300   1.330597 -0.902163  0.411699\n",
       "1       0.211215   0.194697 -0.809165  0.016590\n",
       "2       0.472427   0.509480 -0.644074  0.394233\n",
       "3       1.459557   1.562118 -0.888856  0.661468\n",
       "4      -0.177353  -0.452268  0.491799 -0.121367"
      ]
     },
     "execution_count": 22,
     "metadata": {},
     "output_type": "execute_result"
    }
   ],
   "source": [
    "# scale data\n",
    "scaler = StandardScaler()\n",
    "scaler.fit(df_rfm_log)\n",
    "df_norm= scaler.transform(df_rfm_log)\n",
    "df_norm = pd.DataFrame(df_norm, columns = df_rfm_log.columns)\n",
    "df_norm.head()"
   ]
  },
  {
   "cell_type": "code",
   "execution_count": 28,
   "id": "fb004d87",
   "metadata": {},
   "outputs": [
    {
     "name": "stderr",
     "output_type": "stream",
     "text": [
      "C:\\Users\\Acer\\anaconda3\\lib\\site-packages\\sklearn\\cluster\\_kmeans.py:1332: UserWarning: KMeans is known to have a memory leak on Windows with MKL, when there are less chunks than available threads. You can avoid it by setting the environment variable OMP_NUM_THREADS=1.\n",
      "  warnings.warn(\n",
      "C:\\Users\\Acer\\anaconda3\\lib\\site-packages\\sklearn\\cluster\\_kmeans.py:1332: UserWarning: KMeans is known to have a memory leak on Windows with MKL, when there are less chunks than available threads. You can avoid it by setting the environment variable OMP_NUM_THREADS=1.\n",
      "  warnings.warn(\n",
      "C:\\Users\\Acer\\anaconda3\\lib\\site-packages\\sklearn\\cluster\\_kmeans.py:1332: UserWarning: KMeans is known to have a memory leak on Windows with MKL, when there are less chunks than available threads. You can avoid it by setting the environment variable OMP_NUM_THREADS=1.\n",
      "  warnings.warn(\n",
      "C:\\Users\\Acer\\anaconda3\\lib\\site-packages\\sklearn\\cluster\\_kmeans.py:1332: UserWarning: KMeans is known to have a memory leak on Windows with MKL, when there are less chunks than available threads. You can avoid it by setting the environment variable OMP_NUM_THREADS=1.\n",
      "  warnings.warn(\n",
      "C:\\Users\\Acer\\anaconda3\\lib\\site-packages\\sklearn\\cluster\\_kmeans.py:1332: UserWarning: KMeans is known to have a memory leak on Windows with MKL, when there are less chunks than available threads. You can avoid it by setting the environment variable OMP_NUM_THREADS=1.\n",
      "  warnings.warn(\n",
      "C:\\Users\\Acer\\anaconda3\\lib\\site-packages\\sklearn\\cluster\\_kmeans.py:1332: UserWarning: KMeans is known to have a memory leak on Windows with MKL, when there are less chunks than available threads. You can avoid it by setting the environment variable OMP_NUM_THREADS=1.\n",
      "  warnings.warn(\n",
      "C:\\Users\\Acer\\anaconda3\\lib\\site-packages\\sklearn\\cluster\\_kmeans.py:1332: UserWarning: KMeans is known to have a memory leak on Windows with MKL, when there are less chunks than available threads. You can avoid it by setting the environment variable OMP_NUM_THREADS=1.\n",
      "  warnings.warn(\n"
     ]
    },
    {
     "data": {
      "text/plain": [
       "Text(0, 0.5, 'total_within_SS')"
      ]
     },
     "execution_count": 28,
     "metadata": {},
     "output_type": "execute_result"
    },
    {
     "data": {
      "image/png": "[encoded data removed]",
      "text/plain": [
       "<Figure size 432x288 with 1 Axes>"
      ]
     },
     "metadata": {
      "needs_background": "light"
     },
     "output_type": "display_data"
    }
   ],
   "source": [
    "# elbow curve \n",
    "TWSS = []\n",
    "k = list(range(2,9))\n",
    "\n",
    "for i in k:\n",
    "    kmeans = KMeans(n_clusters = i)\n",
    "    kmeans.fit(df_norm)\n",
    "    TWSS.append(kmeans.inertia_)\n",
    "\n",
    "TWSS\n",
    "# Scree plot (elbow curve)\n",
    "plt.plot(k, TWSS, 'ro-');plt.xlabel(\"No_of_Clusters\");plt.ylabel(\"total_within_SS\")"
   ]
  },
  {
   "cell_type": "code",
   "execution_count": 23,
   "id": "6ff2e87e",
   "metadata": {},
   "outputs": [
    {
     "name": "stderr",
     "output_type": "stream",
     "text": [
      "C:\\Users\\Acer\\anaconda3\\lib\\site-packages\\sklearn\\cluster\\_kmeans.py:1332: UserWarning: KMeans is known to have a memory leak on Windows with MKL, when there are less chunks than available threads. You can avoid it by setting the environment variable OMP_NUM_THREADS=1.\n",
      "  warnings.warn(\n"
     ]
    },
    {
     "data": {
      "text/html": [
       "<style>#sk-container-id-1 {color: black;background-color: white;}#sk-container-id-1 pre{padding: 0;}#sk-container-id-1 div.sk-toggleable {background-color: white;}#sk-container-id-1 label.sk-toggleable__label {cursor: pointer;display: block;width: 100%;margin-bottom: 0;padding: 0.3em;box-sizing: border-box;text-align: center;}#sk-container-id-1 label.sk-toggleable__label-arrow:before {content: \"▸\";float: left;margin-right: 0.25em;color: #696969;}#sk-container-id-1 label.sk-toggleable__label-arrow:hover:before {color: black;}#sk-container-id-1 div.sk-estimator:hover label.sk-toggleable__label-arrow:before {color: black;}#sk-container-id-1 div.sk-toggleable__content {max-height: 0;max-width: 0;overflow: hidden;text-align: left;background-color: #f0f8ff;}#sk-container-id-1 div.sk-toggleable__content pre {margin: 0.2em;color: black;border-radius: 0.25em;background-color: #f0f8ff;}#sk-container-id-1 input.sk-toggleable__control:checked~div.sk-toggleable__content {max-height: 200px;max-width: 100%;overflow: auto;}#sk-container-id-1 input.sk-toggleable__control:checked~label.sk-toggleable__label-arrow:before {content: \"▾\";}#sk-container-id-1 div.sk-estimator input.sk-toggleable__control:checked~label.sk-toggleable__label {background-color: #d4ebff;}#sk-container-id-1 div.sk-label input.sk-toggleable__control:checked~label.sk-toggleable__label {background-color: #d4ebff;}#sk-container-id-1 input.sk-hidden--visually {border: 0;clip: rect(1px 1px 1px 1px);clip: rect(1px, 1px, 1px, 1px);height: 1px;margin: -1px;overflow: hidden;padding: 0;position: absolute;width: 1px;}#sk-container-id-1 div.sk-estimator {font-family: monospace;background-color: #f0f8ff;border: 1px dotted black;border-radius: 0.25em;box-sizing: border-box;margin-bottom: 0.5em;}#sk-container-id-1 div.sk-estimator:hover {background-color: #d4ebff;}#sk-container-id-1 div.sk-parallel-item::after {content: \"\";width: 100%;border-bottom: 1px solid gray;flex-grow: 1;}#sk-container-id-1 div.sk-label:hover label.sk-toggleable__label {background-color: #d4ebff;}#sk-container-id-1 div.sk-serial::before {content: \"\";position: absolute;border-left: 1px solid gray;box-sizing: border-box;top: 0;bottom: 0;left: 50%;z-index: 0;}#sk-container-id-1 div.sk-serial {display: flex;flex-direction: column;align-items: center;background-color: white;padding-right: 0.2em;padding-left: 0.2em;position: relative;}#sk-container-id-1 div.sk-item {position: relative;z-index: 1;}#sk-container-id-1 div.sk-parallel {display: flex;align-items: stretch;justify-content: center;background-color: white;position: relative;}#sk-container-id-1 div.sk-item::before, #sk-container-id-1 div.sk-parallel-item::before {content: \"\";position: absolute;border-left: 1px solid gray;box-sizing: border-box;top: 0;bottom: 0;left: 50%;z-index: -1;}#sk-container-id-1 div.sk-parallel-item {display: flex;flex-direction: column;z-index: 1;position: relative;background-color: white;}#sk-container-id-1 div.sk-parallel-item:first-child::after {align-self: flex-end;width: 50%;}#sk-container-id-1 div.sk-parallel-item:last-child::after {align-self: flex-start;width: 50%;}#sk-container-id-1 div.sk-parallel-item:only-child::after {width: 0;}#sk-container-id-1 div.sk-dashed-wrapped {border: 1px dashed gray;margin: 0 0.4em 0.5em 0.4em;box-sizing: border-box;padding-bottom: 0.4em;background-color: white;}#sk-container-id-1 div.sk-label label {font-family: monospace;font-weight: bold;display: inline-block;line-height: 1.2em;}#sk-container-id-1 div.sk-label-container {text-align: center;}#sk-container-id-1 div.sk-container {/* jupyter's `normalize.less` sets `[hidden] { display: none; }` but bootstrap.min.css set `[hidden] { display: none !important; }` so we also need the `!important` here to be able to override the default hidden behavior on the sphinx rendered scikit-learn.org. See: https://github.com/scikit-learn/scikit-learn/issues/21755 */display: inline-block !important;position: relative;}#sk-container-id-1 div.sk-text-repr-fallback {display: none;}</style><div id=\"sk-container-id-1\" class=\"sk-top-container\"><div class=\"sk-text-repr-fallback\"><pre>KMeans(n_clusters=5)</pre><b>In a Jupyter environment, please rerun this cell to show the HTML representation or trust the notebook. <br />On GitHub, the HTML representation is unable to render, please try loading this page with nbviewer.org.</b></div><div class=\"sk-container\" hidden><div class=\"sk-item\"><div class=\"sk-estimator sk-toggleable\"><input class=\"sk-toggleable__control sk-hidden--visually\" id=\"sk-estimator-id-1\" type=\"checkbox\" checked><label for=\"sk-estimator-id-1\" class=\"sk-toggleable__label sk-toggleable__label-arrow\">KMeans</label><div class=\"sk-toggleable__content\"><pre>KMeans(n_clusters=5)</pre></div></div></div></div></div>"
      ],
      "text/plain": [
       "KMeans(n_clusters=5)"
      ]
     },
     "execution_count": 23,
     "metadata": {},
     "output_type": "execute_result"
    }
   ],
   "source": [
    "# Selecting 5 clusters from the above scree plot which is the optimum number of clusters \n",
    "model = KMeans(n_clusters = 5)\n",
    "model.fit(df_norm)"
   ]
  },
  {
   "cell_type": "code",
   "execution_count": 24,
   "id": "dc43f144",
   "metadata": {},
   "outputs": [
    {
     "name": "stderr",
     "output_type": "stream",
     "text": [
      "C:\\Users\\Acer\\AppData\\Local\\Temp\\ipykernel_6552\\2535878820.py:3: SettingWithCopyWarning: \n",
      "A value is trying to be set on a copy of a slice from a DataFrame.\n",
      "Try using .loc[row_indexer,col_indexer] = value instead\n",
      "\n",
      "See the caveats in the documentation: https://pandas.pydata.org/pandas-docs/stable/user_guide/indexing.html#returning-a-view-versus-a-copy\n",
      "  Univ['clust'] = mb # creating a  new column and assigning it to new column\n"
     ]
    }
   ],
   "source": [
    "model.labels_ # getting the labels of clusters assigned to each row \n",
    "mb = pd.Series(model.labels_)  # converting numpy array into pandas series object \n",
    "Univ['clust'] = mb # creating a  new column  "
   ]
  },
  {
   "cell_type": "code",
   "execution_count": 25,
   "id": "23f4722e",
   "metadata": {},
   "outputs": [
    {
     "name": "stderr",
     "output_type": "stream",
     "text": [
      "C:\\Users\\Acer\\AppData\\Local\\Temp\\ipykernel_6552\\1652505865.py:1: SettingWithCopyWarning: \n",
      "A value is trying to be set on a copy of a slice from a DataFrame\n",
      "\n",
      "See the caveats in the documentation: https://pandas.pydata.org/pandas-docs/stable/user_guide/indexing.html#returning-a-view-versus-a-copy\n",
      "  Univ.rename(columns={'clust': 'CreditScore'}, inplace=True)\n"
     ]
    },
    {
     "data": {
      "text/html": [
       "<div>\n",
       "<style scoped>\n",
       "    .dataframe tbody tr th:only-of-type {\n",
       "        vertical-align: middle;\n",
       "    }\n",
       "\n",
       "    .dataframe tbody tr th {\n",
       "        vertical-align: top;\n",
       "    }\n",
       "\n",
       "    .dataframe thead th {\n",
       "        text-align: right;\n",
       "    }\n",
       "</style>\n",
       "<table border=\"1\" class=\"dataframe\">\n",
       "  <thead>\n",
       "    <tr style=\"text-align: right;\">\n",
       "      <th></th>\n",
       "      <th>retailer_names</th>\n",
       "      <th>MonetaryValue</th>\n",
       "      <th>Frequency</th>\n",
       "      <th>Recency</th>\n",
       "      <th>Lifetime</th>\n",
       "      <th>CreditScore</th>\n",
       "    </tr>\n",
       "  </thead>\n",
       "  <tbody>\n",
       "    <tr>\n",
       "      <th>0</th>\n",
       "      <td>RetailerID1</td>\n",
       "      <td>421557.97</td>\n",
       "      <td>189</td>\n",
       "      <td>2.065278</td>\n",
       "      <td>337.479167</td>\n",
       "      <td>0</td>\n",
       "    </tr>\n",
       "    <tr>\n",
       "      <th>1</th>\n",
       "      <td>RetailerID10</td>\n",
       "      <td>68787.08</td>\n",
       "      <td>36</td>\n",
       "      <td>2.480556</td>\n",
       "      <td>316.497222</td>\n",
       "      <td>3</td>\n",
       "    </tr>\n",
       "    <tr>\n",
       "      <th>2</th>\n",
       "      <td>RetailerID100</td>\n",
       "      <td>107256.37</td>\n",
       "      <td>57</td>\n",
       "      <td>3.434028</td>\n",
       "      <td>336.522917</td>\n",
       "      <td>3</td>\n",
       "    </tr>\n",
       "    <tr>\n",
       "      <th>3</th>\n",
       "      <td>RetailerID101</td>\n",
       "      <td>574727.13</td>\n",
       "      <td>265</td>\n",
       "      <td>2.120139</td>\n",
       "      <td>351.454861</td>\n",
       "      <td>0</td>\n",
       "    </tr>\n",
       "    <tr>\n",
       "      <th>4</th>\n",
       "      <td>RetailerID102</td>\n",
       "      <td>35524.84</td>\n",
       "      <td>14</td>\n",
       "      <td>32.186806</td>\n",
       "      <td>309.482639</td>\n",
       "      <td>4</td>\n",
       "    </tr>\n",
       "  </tbody>\n",
       "</table>\n",
       "</div>"
      ],
      "text/plain": [
       "  retailer_names  MonetaryValue  Frequency    Recency    Lifetime  CreditScore\n",
       "0    RetailerID1      421557.97        189   2.065278  337.479167            0\n",
       "1   RetailerID10       68787.08         36   2.480556  316.497222            3\n",
       "2  RetailerID100      107256.37         57   3.434028  336.522917            3\n",
       "3  RetailerID101      574727.13        265   2.120139  351.454861            0\n",
       "4  RetailerID102       35524.84         14  32.186806  309.482639            4"
      ]
     },
     "execution_count": 25,
     "metadata": {},
     "output_type": "execute_result"
    }
   ],
   "source": [
    "Univ.rename(columns={'clust': 'CreditScore'}, inplace=True)\n",
    "Univ.head()"
   ]
  },
  {
   "cell_type": "code",
   "execution_count": 26,
   "id": "2ef76c16",
   "metadata": {},
   "outputs": [
    {
     "data": {
      "image/png": "[encoded data removed]",
      "text/plain": [
       "<Figure size 1080x720 with 1 Axes>"
      ]
     },
     "metadata": {
      "needs_background": "light"
     },
     "output_type": "display_data"
    }
   ],
   "source": [
    "grouped_Univ = Univ[['retailer_names', 'MonetaryValue', 'Frequency', 'Recency',\n",
    "       'CreditScore']].groupby('CreditScore').median()\n",
    "grouped_Univ.sort_values(['MonetaryValue'], ascending=False,inplace=True)\n",
    "myfig = grouped_Univ.plot(kind='bar',logy=True, colormap='Set3_r', fontsize=15, figsize=(15,10)) \n",
    "#plt.legend(bbox_to_anchor=(x,y))  \n",
    "#plt.yticks(rotation=0)\n",
    "plt.title(\"K-Means Clustering\")\n",
    "#plt.text(v, i, \" \"+str(v), color='blue', va='center', fontweight='bold')\n",
    "plt.xticks(rotation=0)\n",
    "plt.xlabel('Credit Score Segment', fontsize=15)\n",
    "plt.ylabel('Values', fontsize=15)\n",
    "plt.legend(fontsize=15) # using a size in points\n",
    "#plt.legend(loc=\"upper left\", bbox_to_anchor=(1,1),fontsize=12) \n",
    "plt.show()"
   ]
  },
  {
   "cell_type": "code",
   "execution_count": 28,
   "id": "91b1f53e",
   "metadata": {},
   "outputs": [
    {
     "name": "stderr",
     "output_type": "stream",
     "text": [
      "C:\\Users\\Acer\\AppData\\Local\\Temp\\ipykernel_6552\\3211324422.py:2: SettingWithCopyWarning: \n",
      "A value is trying to be set on a copy of a slice from a DataFrame.\n",
      "Try using .loc[row_indexer,col_indexer] = value instead\n",
      "\n",
      "See the caveats in the documentation: https://pandas.pydata.org/pandas-docs/stable/user_guide/indexing.html#returning-a-view-versus-a-copy\n",
      "  Univ.loc[Univ['CreditScore'] == 0,'CreditScore'] ='01. Excellent'\n"
     ]
    }
   ],
   "source": [
    "# Rename clusters with credit score segment\n",
    "Univ.loc[Univ['CreditScore'] == 0,'CreditScore'] ='01. Excellent'\n",
    "Univ.loc[Univ['CreditScore'] == 3,'CreditScore'] ='02. Good'\n",
    "Univ.loc[Univ['CreditScore'] == 4,'CreditScore'] ='03. Moderate'\n",
    "Univ.loc[Univ['CreditScore'] == 1,'CreditScore'] ='04. Fair'\n",
    "Univ.loc[Univ['CreditScore'] == 2,'CreditScore'] ='05. Poor'"
   ]
  },
  {
   "cell_type": "code",
   "execution_count": 29,
   "id": "a385eaac",
   "metadata": {},
   "outputs": [
    {
     "data": {
      "text/html": [
       "<div>\n",
       "<style scoped>\n",
       "    .dataframe tbody tr th:only-of-type {\n",
       "        vertical-align: middle;\n",
       "    }\n",
       "\n",
       "    .dataframe tbody tr th {\n",
       "        vertical-align: top;\n",
       "    }\n",
       "\n",
       "    .dataframe thead tr th {\n",
       "        text-align: left;\n",
       "    }\n",
       "\n",
       "    .dataframe thead tr:last-of-type th {\n",
       "        text-align: right;\n",
       "    }\n",
       "</style>\n",
       "<table border=\"1\" class=\"dataframe\">\n",
       "  <thead>\n",
       "    <tr>\n",
       "      <th></th>\n",
       "      <th colspan=\"3\" halign=\"left\">Frequency</th>\n",
       "      <th colspan=\"4\" halign=\"left\">Lifetime</th>\n",
       "      <th colspan=\"3\" halign=\"left\">MonetaryValue</th>\n",
       "      <th colspan=\"3\" halign=\"left\">Recency</th>\n",
       "    </tr>\n",
       "    <tr>\n",
       "      <th></th>\n",
       "      <th>amax</th>\n",
       "      <th>amin</th>\n",
       "      <th>median</th>\n",
       "      <th>amax</th>\n",
       "      <th>amin</th>\n",
       "      <th>count</th>\n",
       "      <th>median</th>\n",
       "      <th>amax</th>\n",
       "      <th>amin</th>\n",
       "      <th>median</th>\n",
       "      <th>amax</th>\n",
       "      <th>amin</th>\n",
       "      <th>median</th>\n",
       "    </tr>\n",
       "    <tr>\n",
       "      <th>CreditScore</th>\n",
       "      <th></th>\n",
       "      <th></th>\n",
       "      <th></th>\n",
       "      <th></th>\n",
       "      <th></th>\n",
       "      <th></th>\n",
       "      <th></th>\n",
       "      <th></th>\n",
       "      <th></th>\n",
       "      <th></th>\n",
       "      <th></th>\n",
       "      <th></th>\n",
       "      <th></th>\n",
       "    </tr>\n",
       "  </thead>\n",
       "  <tbody>\n",
       "    <tr>\n",
       "      <th>01. Excellent</th>\n",
       "      <td>1022</td>\n",
       "      <td>74</td>\n",
       "      <td>180.0</td>\n",
       "      <td>352.322917</td>\n",
       "      <td>317.390278</td>\n",
       "      <td>55</td>\n",
       "      <td>348.587500</td>\n",
       "      <td>3562912.89</td>\n",
       "      <td>117631.62</td>\n",
       "      <td>402308.790</td>\n",
       "      <td>32.436111</td>\n",
       "      <td>2.000000</td>\n",
       "      <td>2.190972</td>\n",
       "    </tr>\n",
       "    <tr>\n",
       "      <th>02. Good</th>\n",
       "      <td>59</td>\n",
       "      <td>4</td>\n",
       "      <td>31.5</td>\n",
       "      <td>352.322917</td>\n",
       "      <td>263.547917</td>\n",
       "      <td>74</td>\n",
       "      <td>316.491319</td>\n",
       "      <td>178500.88</td>\n",
       "      <td>5614.12</td>\n",
       "      <td>58261.915</td>\n",
       "      <td>3.661806</td>\n",
       "      <td>2.120139</td>\n",
       "      <td>2.526389</td>\n",
       "    </tr>\n",
       "    <tr>\n",
       "      <th>03. Moderate</th>\n",
       "      <td>77</td>\n",
       "      <td>7</td>\n",
       "      <td>16.5</td>\n",
       "      <td>352.322917</td>\n",
       "      <td>285.529861</td>\n",
       "      <td>48</td>\n",
       "      <td>314.375000</td>\n",
       "      <td>187520.97</td>\n",
       "      <td>9862.04</td>\n",
       "      <td>35502.560</td>\n",
       "      <td>254.425694</td>\n",
       "      <td>32.172222</td>\n",
       "      <td>109.275000</td>\n",
       "    </tr>\n",
       "    <tr>\n",
       "      <th>04. Fair</th>\n",
       "      <td>9</td>\n",
       "      <td>1</td>\n",
       "      <td>5.0</td>\n",
       "      <td>336.264583</td>\n",
       "      <td>216.000000</td>\n",
       "      <td>36</td>\n",
       "      <td>284.468403</td>\n",
       "      <td>21175.44</td>\n",
       "      <td>425.42</td>\n",
       "      <td>4924.910</td>\n",
       "      <td>284.584722</td>\n",
       "      <td>2.552083</td>\n",
       "      <td>215.542014</td>\n",
       "    </tr>\n",
       "    <tr>\n",
       "      <th>05. Poor</th>\n",
       "      <td>1</td>\n",
       "      <td>1</td>\n",
       "      <td>1.0</td>\n",
       "      <td>93.199306</td>\n",
       "      <td>64.538194</td>\n",
       "      <td>2</td>\n",
       "      <td>78.868750</td>\n",
       "      <td>336.00</td>\n",
       "      <td>281.00</td>\n",
       "      <td>308.500</td>\n",
       "      <td>93.199306</td>\n",
       "      <td>64.538194</td>\n",
       "      <td>78.868750</td>\n",
       "    </tr>\n",
       "  </tbody>\n",
       "</table>\n",
       "</div>"
      ],
      "text/plain": [
       "              Frequency                Lifetime                                \\\n",
       "                   amax amin median        amax        amin count      median   \n",
       "CreditScore                                                                     \n",
       "01. Excellent      1022   74  180.0  352.322917  317.390278    55  348.587500   \n",
       "02. Good             59    4   31.5  352.322917  263.547917    74  316.491319   \n",
       "03. Moderate         77    7   16.5  352.322917  285.529861    48  314.375000   \n",
       "04. Fair              9    1    5.0  336.264583  216.000000    36  284.468403   \n",
       "05. Poor              1    1    1.0   93.199306   64.538194     2   78.868750   \n",
       "\n",
       "              MonetaryValue                            Recency             \\\n",
       "                       amax       amin      median        amax       amin   \n",
       "CreditScore                                                                 \n",
       "01. Excellent    3562912.89  117631.62  402308.790   32.436111   2.000000   \n",
       "02. Good          178500.88    5614.12   58261.915    3.661806   2.120139   \n",
       "03. Moderate      187520.97    9862.04   35502.560  254.425694  32.172222   \n",
       "04. Fair           21175.44     425.42    4924.910  284.584722   2.552083   \n",
       "05. Poor             336.00     281.00     308.500   93.199306  64.538194   \n",
       "\n",
       "                           \n",
       "                   median  \n",
       "CreditScore                \n",
       "01. Excellent    2.190972  \n",
       "02. Good         2.526389  \n",
       "03. Moderate   109.275000  \n",
       "04. Fair       215.542014  \n",
       "05. Poor        78.868750  "
      ]
     },
     "execution_count": 29,
     "metadata": {},
     "output_type": "execute_result"
    }
   ],
   "source": [
    "Univ.pivot_table(index=[\"CreditScore\"], \n",
    "                          values=[\"Recency\", \"Frequency\", \"MonetaryValue\", \"Lifetime\"], \n",
    "                          aggfunc={\"Recency\": [np.min, np.median, np.max], \n",
    "                                   \"Frequency\": [np.min, np.median, np.max], \n",
    "                                   \"MonetaryValue\": [np.min, np.median, np.max], \n",
    "                                   \"Lifetime\": [np.min, np.median, np.max, \"count\"]})"
   ]
  },
  {
   "cell_type": "code",
   "execution_count": 30,
   "id": "083d0b92",
   "metadata": {},
   "outputs": [
    {
     "data": {
      "text/html": [
       "<div>\n",
       "<style scoped>\n",
       "    .dataframe tbody tr th:only-of-type {\n",
       "        vertical-align: middle;\n",
       "    }\n",
       "\n",
       "    .dataframe tbody tr th {\n",
       "        vertical-align: top;\n",
       "    }\n",
       "\n",
       "    .dataframe thead th {\n",
       "        text-align: right;\n",
       "    }\n",
       "</style>\n",
       "<table border=\"1\" class=\"dataframe\">\n",
       "  <thead>\n",
       "    <tr style=\"text-align: right;\">\n",
       "      <th></th>\n",
       "      <th>retailer_names</th>\n",
       "      <th>MonetaryValue</th>\n",
       "      <th>Frequency</th>\n",
       "      <th>Recency</th>\n",
       "      <th>Lifetime</th>\n",
       "      <th>CreditScore</th>\n",
       "    </tr>\n",
       "  </thead>\n",
       "  <tbody>\n",
       "    <tr>\n",
       "      <th>0</th>\n",
       "      <td>RetailerID1</td>\n",
       "      <td>421557.97</td>\n",
       "      <td>189</td>\n",
       "      <td>2.065278</td>\n",
       "      <td>337.479167</td>\n",
       "      <td>01. Excellent</td>\n",
       "    </tr>\n",
       "    <tr>\n",
       "      <th>1</th>\n",
       "      <td>RetailerID10</td>\n",
       "      <td>68787.08</td>\n",
       "      <td>36</td>\n",
       "      <td>2.480556</td>\n",
       "      <td>316.497222</td>\n",
       "      <td>02. Good</td>\n",
       "    </tr>\n",
       "    <tr>\n",
       "      <th>2</th>\n",
       "      <td>RetailerID100</td>\n",
       "      <td>107256.37</td>\n",
       "      <td>57</td>\n",
       "      <td>3.434028</td>\n",
       "      <td>336.522917</td>\n",
       "      <td>02. Good</td>\n",
       "    </tr>\n",
       "    <tr>\n",
       "      <th>3</th>\n",
       "      <td>RetailerID101</td>\n",
       "      <td>574727.13</td>\n",
       "      <td>265</td>\n",
       "      <td>2.120139</td>\n",
       "      <td>351.454861</td>\n",
       "      <td>01. Excellent</td>\n",
       "    </tr>\n",
       "    <tr>\n",
       "      <th>4</th>\n",
       "      <td>RetailerID102</td>\n",
       "      <td>35524.84</td>\n",
       "      <td>14</td>\n",
       "      <td>32.186806</td>\n",
       "      <td>309.482639</td>\n",
       "      <td>03. Moderate</td>\n",
       "    </tr>\n",
       "  </tbody>\n",
       "</table>\n",
       "</div>"
      ],
      "text/plain": [
       "  retailer_names  MonetaryValue  Frequency    Recency    Lifetime  \\\n",
       "0    RetailerID1      421557.97        189   2.065278  337.479167   \n",
       "1   RetailerID10       68787.08         36   2.480556  316.497222   \n",
       "2  RetailerID100      107256.37         57   3.434028  336.522917   \n",
       "3  RetailerID101      574727.13        265   2.120139  351.454861   \n",
       "4  RetailerID102       35524.84         14  32.186806  309.482639   \n",
       "\n",
       "     CreditScore  \n",
       "0  01. Excellent  \n",
       "1       02. Good  \n",
       "2       02. Good  \n",
       "3  01. Excellent  \n",
       "4   03. Moderate  "
      ]
     },
     "execution_count": 30,
     "metadata": {},
     "output_type": "execute_result"
    }
   ],
   "source": [
    "Univ.head()"
   ]
  },
  {
   "cell_type": "markdown",
   "id": "25eb874c",
   "metadata": {},
   "source": [
    "### Data merged with retailer credit score clusters"
   ]
  },
  {
   "cell_type": "code",
   "execution_count": 31,
   "id": "bb432f4c",
   "metadata": {},
   "outputs": [
    {
     "data": {
      "text/html": [
       "<div>\n",
       "<style scoped>\n",
       "    .dataframe tbody tr th:only-of-type {\n",
       "        vertical-align: middle;\n",
       "    }\n",
       "\n",
       "    .dataframe tbody tr th {\n",
       "        vertical-align: top;\n",
       "    }\n",
       "\n",
       "    .dataframe thead th {\n",
       "        text-align: right;\n",
       "    }\n",
       "</style>\n",
       "<table border=\"1\" class=\"dataframe\">\n",
       "  <thead>\n",
       "    <tr style=\"text-align: right;\">\n",
       "      <th></th>\n",
       "      <th>Unnamed: 0</th>\n",
       "      <th>master_order_id</th>\n",
       "      <th>master_order_status</th>\n",
       "      <th>created</th>\n",
       "      <th>order_id</th>\n",
       "      <th>order_status</th>\n",
       "      <th>ordereditem_quantity</th>\n",
       "      <th>prod_names</th>\n",
       "      <th>ordereditem_unit_price_net</th>\n",
       "      <th>ordereditem_product_id</th>\n",
       "      <th>...</th>\n",
       "      <th>created_year</th>\n",
       "      <th>created_month</th>\n",
       "      <th>created_hour</th>\n",
       "      <th>created_year_month</th>\n",
       "      <th>created_dayofweek</th>\n",
       "      <th>MonetaryValue</th>\n",
       "      <th>Frequency</th>\n",
       "      <th>Recency</th>\n",
       "      <th>Lifetime</th>\n",
       "      <th>CreditScore</th>\n",
       "    </tr>\n",
       "  </thead>\n",
       "  <tbody>\n",
       "    <tr>\n",
       "      <th>0</th>\n",
       "      <td>1</td>\n",
       "      <td>25651</td>\n",
       "      <td>delivered</td>\n",
       "      <td>2017-12-18 10:41:00</td>\n",
       "      <td>25651</td>\n",
       "      <td>delivered</td>\n",
       "      <td>5</td>\n",
       "      <td>ProdName1</td>\n",
       "      <td>43.00</td>\n",
       "      <td>1744.0</td>\n",
       "      <td>...</td>\n",
       "      <td>2017</td>\n",
       "      <td>12</td>\n",
       "      <td>10</td>\n",
       "      <td>2017_12</td>\n",
       "      <td>0</td>\n",
       "      <td>127477.66</td>\n",
       "      <td>77</td>\n",
       "      <td>2.552083</td>\n",
       "      <td>352.322917</td>\n",
       "      <td>01. Excellent</td>\n",
       "    </tr>\n",
       "    <tr>\n",
       "      <th>1</th>\n",
       "      <td>2</td>\n",
       "      <td>25651</td>\n",
       "      <td>delivered</td>\n",
       "      <td>2017-12-18 10:41:00</td>\n",
       "      <td>25651</td>\n",
       "      <td>delivered</td>\n",
       "      <td>5</td>\n",
       "      <td>ProdName2</td>\n",
       "      <td>35.54</td>\n",
       "      <td>965.0</td>\n",
       "      <td>...</td>\n",
       "      <td>2017</td>\n",
       "      <td>12</td>\n",
       "      <td>10</td>\n",
       "      <td>2017_12</td>\n",
       "      <td>0</td>\n",
       "      <td>127477.66</td>\n",
       "      <td>77</td>\n",
       "      <td>2.552083</td>\n",
       "      <td>352.322917</td>\n",
       "      <td>01. Excellent</td>\n",
       "    </tr>\n",
       "    <tr>\n",
       "      <th>2</th>\n",
       "      <td>143</td>\n",
       "      <td>25684</td>\n",
       "      <td>processed</td>\n",
       "      <td>2018-01-23 06:30:00</td>\n",
       "      <td>25688</td>\n",
       "      <td>processed</td>\n",
       "      <td>2</td>\n",
       "      <td>ProdName118</td>\n",
       "      <td>48.29</td>\n",
       "      <td>1728.0</td>\n",
       "      <td>...</td>\n",
       "      <td>2018</td>\n",
       "      <td>1</td>\n",
       "      <td>6</td>\n",
       "      <td>2018_01</td>\n",
       "      <td>1</td>\n",
       "      <td>127477.66</td>\n",
       "      <td>77</td>\n",
       "      <td>2.552083</td>\n",
       "      <td>352.322917</td>\n",
       "      <td>01. Excellent</td>\n",
       "    </tr>\n",
       "  </tbody>\n",
       "</table>\n",
       "<p>3 rows × 28 columns</p>\n",
       "</div>"
      ],
      "text/plain": [
       "   Unnamed: 0  master_order_id master_order_status             created  \\\n",
       "0           1            25651           delivered 2017-12-18 10:41:00   \n",
       "1           2            25651           delivered 2017-12-18 10:41:00   \n",
       "2         143            25684           processed 2018-01-23 06:30:00   \n",
       "\n",
       "   order_id order_status  ordereditem_quantity   prod_names  \\\n",
       "0     25651    delivered                     5    ProdName1   \n",
       "1     25651    delivered                     5    ProdName2   \n",
       "2     25688    processed                     2  ProdName118   \n",
       "\n",
       "   ordereditem_unit_price_net  ordereditem_product_id  ...  created_year  \\\n",
       "0                       43.00                  1744.0  ...          2017   \n",
       "1                       35.54                   965.0  ...          2017   \n",
       "2                       48.29                  1728.0  ...          2018   \n",
       "\n",
       "  created_month created_hour created_year_month  created_dayofweek  \\\n",
       "0            12           10            2017_12                  0   \n",
       "1            12           10            2017_12                  0   \n",
       "2             1            6            2018_01                  1   \n",
       "\n",
       "   MonetaryValue  Frequency   Recency    Lifetime    CreditScore  \n",
       "0      127477.66         77  2.552083  352.322917  01. Excellent  \n",
       "1      127477.66         77  2.552083  352.322917  01. Excellent  \n",
       "2      127477.66         77  2.552083  352.322917  01. Excellent  \n",
       "\n",
       "[3 rows x 28 columns]"
      ]
     },
     "execution_count": 31,
     "metadata": {},
     "output_type": "execute_result"
    }
   ],
   "source": [
    "final_cluster = clean_credit.merge(right=Univ, how=\"inner\", left_on=\"retailer_names\", right_on=\"retailer_names\")\n",
    "final_cluster.head(3)"
   ]
  },
  {
   "cell_type": "code",
   "execution_count": 32,
   "id": "2f1d5596",
   "metadata": {},
   "outputs": [],
   "source": [
    "# create excel writer object\n",
    "writer = pd.ExcelWriter('final_cluster.xlsx')\n",
    "# write dataframe to excel\n",
    "final_cluster.to_excel(writer)\n",
    "# save the excel\n",
    "writer.save()"
   ]
  }
 ],
 "metadata": {
  "kernelspec": {
   "display_name": "Python 3 (ipykernel)",
   "language": "python",
   "name": "python3"
  },
  "language_info": {
   "codemirror_mode": {
    "name": "ipython",
    "version": 3
   },
   "file_extension": ".py",
   "mimetype": "text/x-python",
   "name": "python",
   "nbconvert_exporter": "python",
   "pygments_lexer": "ipython3",
   "version": "3.9.12"
  }
 },
 "nbformat": 4,
 "nbformat_minor": 5
}
