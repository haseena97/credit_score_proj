{
 "cells": [
  {
   "cell_type": "markdown",
   "id": "817c5c30",
   "metadata": {},
   "source": [
    "# Questions to ask"
   ]
  },
  {
   "cell_type": "markdown",
   "id": "b464485f",
   "metadata": {},
   "source": [
    "1. Who are the loyal customers?\n",
    "2. Who have highest sales?\n",
    "3. Who have highest probability of restock (buying) product?\n",
    "4. Who buy the highest quantity?\n",
    "5. Most bought product?\n",
    "6. Which month give highest sales (highest number of people restock)?\n",
    "7. Which location bring highest sales?\n",
    "8. Why does each master_id have a number of retailer name and distributor name?\n",
    "9. Market basket analysis --> Most likely product to buy together\n",
    "10. Each product should have unique id, price, name \n",
    "11. Does each order_id have multiple retailer and distributor?\n",
    "12. Any irrelevant features?\n",
    "13. Which retailer have customer that cancelled order?\n",
    "14. Which retailer have history of cancelling master order?\n",
    "\n"
   ]
  },
  {
   "cell_type": "code",
   "execution_count": 1,
   "id": "a5b365fa",
   "metadata": {},
   "outputs": [],
   "source": [
    "import pandas as pd\n",
    "import seaborn as sns\n",
    "import matplotlib.pyplot as plt\n",
    "import numpy as np"
   ]
  },
  {
   "cell_type": "markdown",
   "id": "13d82305",
   "metadata": {},
   "source": [
    "# Read data"
   ]
  },
  {
   "cell_type": "code",
   "execution_count": 2,
   "id": "c6eca118",
   "metadata": {},
   "outputs": [
    {
     "data": {
      "text/html": [
       "<div>\n",
       "<style scoped>\n",
       "    .dataframe tbody tr th:only-of-type {\n",
       "        vertical-align: middle;\n",
       "    }\n",
       "\n",
       "    .dataframe tbody tr th {\n",
       "        vertical-align: top;\n",
       "    }\n",
       "\n",
       "    .dataframe thead th {\n",
       "        text-align: right;\n",
       "    }\n",
       "</style>\n",
       "<table border=\"1\" class=\"dataframe\">\n",
       "  <thead>\n",
       "    <tr style=\"text-align: right;\">\n",
       "      <th></th>\n",
       "      <th>Unnamed: 0</th>\n",
       "      <th>master_order_id</th>\n",
       "      <th>master_order_status</th>\n",
       "      <th>created</th>\n",
       "      <th>order_id</th>\n",
       "      <th>order_status</th>\n",
       "      <th>ordereditem_quantity</th>\n",
       "      <th>prod_names</th>\n",
       "      <th>ordereditem_unit_price_net</th>\n",
       "      <th>ordereditem_product_id</th>\n",
       "      <th>value</th>\n",
       "      <th>group</th>\n",
       "      <th>dist_names</th>\n",
       "      <th>retailer_names</th>\n",
       "      <th>bill_amount</th>\n",
       "    </tr>\n",
       "  </thead>\n",
       "  <tbody>\n",
       "    <tr>\n",
       "      <th>0</th>\n",
       "      <td>1</td>\n",
       "      <td>25651</td>\n",
       "      <td>delivered</td>\n",
       "      <td>12/18/2017 10:41</td>\n",
       "      <td>25651</td>\n",
       "      <td>delivered</td>\n",
       "      <td>5</td>\n",
       "      <td>ProdName1</td>\n",
       "      <td>43.00</td>\n",
       "      <td>1744.0</td>\n",
       "      <td>215.00</td>\n",
       "      <td>Hyderabad</td>\n",
       "      <td>DistName1</td>\n",
       "      <td>RetailerID2</td>\n",
       "      <td>809.0</td>\n",
       "    </tr>\n",
       "    <tr>\n",
       "      <th>1</th>\n",
       "      <td>2</td>\n",
       "      <td>25651</td>\n",
       "      <td>delivered</td>\n",
       "      <td>12/18/2017 10:41</td>\n",
       "      <td>25651</td>\n",
       "      <td>delivered</td>\n",
       "      <td>5</td>\n",
       "      <td>ProdName2</td>\n",
       "      <td>35.54</td>\n",
       "      <td>965.0</td>\n",
       "      <td>177.70</td>\n",
       "      <td>Hyderabad</td>\n",
       "      <td>DistName1</td>\n",
       "      <td>RetailerID2</td>\n",
       "      <td>809.0</td>\n",
       "    </tr>\n",
       "    <tr>\n",
       "      <th>2</th>\n",
       "      <td>3</td>\n",
       "      <td>25651</td>\n",
       "      <td>delivered</td>\n",
       "      <td>12/18/2017 10:41</td>\n",
       "      <td>25651</td>\n",
       "      <td>delivered</td>\n",
       "      <td>2</td>\n",
       "      <td>ProdName3</td>\n",
       "      <td>52.80</td>\n",
       "      <td>705.0</td>\n",
       "      <td>105.60</td>\n",
       "      <td>Hyderabad</td>\n",
       "      <td>DistName3</td>\n",
       "      <td>RetailerID29</td>\n",
       "      <td>809.0</td>\n",
       "    </tr>\n",
       "    <tr>\n",
       "      <th>3</th>\n",
       "      <td>4</td>\n",
       "      <td>25651</td>\n",
       "      <td>delivered</td>\n",
       "      <td>12/18/2017 10:41</td>\n",
       "      <td>25651</td>\n",
       "      <td>delivered</td>\n",
       "      <td>2</td>\n",
       "      <td>ProdName4</td>\n",
       "      <td>118.28</td>\n",
       "      <td>264.0</td>\n",
       "      <td>236.56</td>\n",
       "      <td>Hyderabad</td>\n",
       "      <td>DistName1</td>\n",
       "      <td>RetailerID87</td>\n",
       "      <td>809.0</td>\n",
       "    </tr>\n",
       "    <tr>\n",
       "      <th>4</th>\n",
       "      <td>5</td>\n",
       "      <td>25651</td>\n",
       "      <td>delivered</td>\n",
       "      <td>12/18/2017 10:41</td>\n",
       "      <td>25651</td>\n",
       "      <td>delivered</td>\n",
       "      <td>3</td>\n",
       "      <td>ProdName5</td>\n",
       "      <td>32.22</td>\n",
       "      <td>1025.0</td>\n",
       "      <td>96.66</td>\n",
       "      <td>Hyderabad</td>\n",
       "      <td>DistName4</td>\n",
       "      <td>RetailerID118</td>\n",
       "      <td>809.0</td>\n",
       "    </tr>\n",
       "  </tbody>\n",
       "</table>\n",
       "</div>"
      ],
      "text/plain": [
       "   Unnamed: 0  master_order_id master_order_status           created  \\\n",
       "0           1            25651           delivered  12/18/2017 10:41   \n",
       "1           2            25651           delivered  12/18/2017 10:41   \n",
       "2           3            25651           delivered  12/18/2017 10:41   \n",
       "3           4            25651           delivered  12/18/2017 10:41   \n",
       "4           5            25651           delivered  12/18/2017 10:41   \n",
       "\n",
       "   order_id order_status  ordereditem_quantity prod_names  \\\n",
       "0     25651    delivered                     5  ProdName1   \n",
       "1     25651    delivered                     5  ProdName2   \n",
       "2     25651    delivered                     2  ProdName3   \n",
       "3     25651    delivered                     2  ProdName4   \n",
       "4     25651    delivered                     3  ProdName5   \n",
       "\n",
       "   ordereditem_unit_price_net  ordereditem_product_id   value      group  \\\n",
       "0                       43.00                  1744.0  215.00  Hyderabad   \n",
       "1                       35.54                   965.0  177.70  Hyderabad   \n",
       "2                       52.80                   705.0  105.60  Hyderabad   \n",
       "3                      118.28                   264.0  236.56  Hyderabad   \n",
       "4                       32.22                  1025.0   96.66  Hyderabad   \n",
       "\n",
       "  dist_names retailer_names  bill_amount  \n",
       "0  DistName1    RetailerID2        809.0  \n",
       "1  DistName1    RetailerID2        809.0  \n",
       "2  DistName3   RetailerID29        809.0  \n",
       "3  DistName1   RetailerID87        809.0  \n",
       "4  DistName4  RetailerID118        809.0  "
      ]
     },
     "execution_count": 2,
     "metadata": {},
     "output_type": "execute_result"
    }
   ],
   "source": [
    "credit = pd.read_excel('C:/Users/Acer/Desktop/Data Science/LIVE PROJECT/CreditAnalysis_data.xlsx')\n",
    "credit.head()"
   ]
  },
  {
   "cell_type": "markdown",
   "id": "8ffa70be",
   "metadata": {},
   "source": [
    "We remove all the unnecessary information decided earlier and save into `clean_credit`."
   ]
  },
  {
   "cell_type": "code",
   "execution_count": 3,
   "id": "951feb63",
   "metadata": {},
   "outputs": [],
   "source": [
    "clean_credit = credit.drop([953,  3655,  5657,  6451,  6455,  6913,  7255,  7296,  8045,\n",
    "             8989,  9004,  9019,  9041,  9378,  9565, 10558, 11411, 15305,\n",
    "            15327], axis=0)"
   ]
  },
  {
   "cell_type": "code",
   "execution_count": 4,
   "id": "b7e25e0c",
   "metadata": {},
   "outputs": [],
   "source": [
    "clean_credit = clean_credit.drop(['ordereditem_product_id','dist_names','order_id','order_status'], axis=1)"
   ]
  },
  {
   "cell_type": "code",
   "execution_count": null,
   "id": "02ee93ec",
   "metadata": {
    "scrolled": true
   },
   "outputs": [],
   "source": [
    "clean_credit.head()"
   ]
  },
  {
   "cell_type": "code",
   "execution_count": 5,
   "id": "7dcdf40d",
   "metadata": {},
   "outputs": [],
   "source": [
    "clean_credit = clean_credit[(clean_credit['master_order_status'] != 'cancelled') & (clean_credit['master_order_status'] != 'rejected')]"
   ]
  },
  {
   "cell_type": "markdown",
   "id": "970b90d9",
   "metadata": {},
   "source": [
    "All missing values have been handled. Unnecessary rows are removed (rejected, cancelled and new orders)."
   ]
  },
  {
   "cell_type": "markdown",
   "id": "ce80d951",
   "metadata": {},
   "source": [
    "Since `master_order_id` not unique to each retailers, so we have to create a new column with order id unique to each retailers:"
   ]
  },
  {
   "cell_type": "code",
   "execution_count": 6,
   "id": "8b97eaf9",
   "metadata": {},
   "outputs": [],
   "source": [
    "from sklearn.preprocessing import LabelEncoder\n",
    "le = LabelEncoder()\n",
    "clean_credit['dummy_name'] = le.fit_transform(clean_credit.retailer_names.values)\n",
    "clean_credit['dummy_group'] = le.fit_transform(clean_credit.group.values)\n",
    "clean_credit['invoice_id'] = clean_credit.dummy_group.astype(str) + clean_credit.dummy_name.astype(str) + clean_credit.master_order_id.astype(str)\n"
   ]
  },
  {
   "cell_type": "code",
   "execution_count": null,
   "id": "764a07d8",
   "metadata": {},
   "outputs": [],
   "source": [
    "clean_credit.head(10)"
   ]
  },
  {
   "cell_type": "markdown",
   "id": "58dcc668",
   "metadata": {},
   "source": [
    "# RFM Analysis"
   ]
  },
  {
   "cell_type": "markdown",
   "id": "d513295e",
   "metadata": {},
   "source": [
    "Since there are only 215 retailers in the dataset, this means that there are retailers ordering items from several locations. Thus the duplications. We assume that several retailers have outlets in few other locations."
   ]
  },
  {
   "cell_type": "code",
   "execution_count": null,
   "id": "8dcb3aa8",
   "metadata": {},
   "outputs": [],
   "source": [
    "pd.pivot_table(clean_credit, index = 'retailer_names', columns = 'group' , values = 'created', aggfunc ='count')\n"
   ]
  },
  {
   "cell_type": "markdown",
   "id": "f4b6073e",
   "metadata": {},
   "source": [
    "If we consider one location for each retailers, we get the same output where majority of orders come from Hyderabad, followed by Gurugram and then Delhi-West"
   ]
  },
  {
   "cell_type": "code",
   "execution_count": null,
   "id": "41ee1969",
   "metadata": {},
   "outputs": [],
   "source": [
    "# Checking categorical data from df.Country\n",
    "# unique, counts = np.unique(df.Country, return_counts=True)\n",
    "# print(dict(zip(unique, counts)))\n",
    "country_set = clean_credit[['group', 'invoice_id']]\n",
    "country_set = country_set.pivot_table(columns='group', aggfunc='count')\n",
    "country_set.sort_values('invoice_id', axis=1, ascending=False).T"
   ]
  },
  {
   "cell_type": "code",
   "execution_count": null,
   "id": "132349f7",
   "metadata": {},
   "outputs": [],
   "source": [
    "# Plotting InvoiceNo distribution per Country\n",
    "plt.figure(figsize=(14,6))\n",
    "plt.title('Distribuition of orders according to Locations');\n",
    "sns.countplot(y='group', data=clean_credit);"
   ]
  },
  {
   "cell_type": "markdown",
   "id": "c201ebc2",
   "metadata": {},
   "source": [
    "### How are the sales from each group?"
   ]
  },
  {
   "cell_type": "markdown",
   "id": "a465918e",
   "metadata": {},
   "source": [
    "## Frequent sets and association rules with apriori:"
   ]
  },
  {
   "cell_type": "markdown",
   "id": "f9c1f7eb",
   "metadata": {},
   "source": [
    "This analysis requires that all the data for a transaction be included in 1 row and the items should be 1-hot encoded. Since we can't use this data the way it is, we got to further convert this into a format that is accepted by Apriori algorithm."
   ]
  },
  {
   "cell_type": "markdown",
   "id": "c2d94c36",
   "metadata": {},
   "source": [
    "### Convert order data into format expected by the association rules function"
   ]
  },
  {
   "cell_type": "markdown",
   "id": "0bf8ccbf",
   "metadata": {},
   "source": [
    "#### Hyderabad"
   ]
  },
  {
   "cell_type": "code",
   "execution_count": null,
   "id": "68e980e2",
   "metadata": {},
   "outputs": [],
   "source": [
    "basket_h = (df_Hyderabad\n",
    "        .groupby(['invoice_id', 'prod_names'])['ordereditem_quantity']\n",
    "                .sum().unstack().reset_index().fillna(0)\n",
    "          .set_index('invoice_id'))"
   ]
  },
  {
   "cell_type": "code",
   "execution_count": null,
   "id": "f69464a6",
   "metadata": {},
   "outputs": [],
   "source": [
    "basket_h"
   ]
  },
  {
   "cell_type": "code",
   "execution_count": null,
   "id": "6b970932",
   "metadata": {},
   "outputs": [],
   "source": [
    "# complete the one-hot encoding, anything> 0 --> 1\n",
    "def encode_units(x):\n",
    "    if x <= 0:\n",
    "        return 0\n",
    "    if x >= 1:\n",
    "        return 1"
   ]
  },
  {
   "cell_type": "code",
   "execution_count": null,
   "id": "27550e9c",
   "metadata": {},
   "outputs": [],
   "source": [
    "basket_h_sets = basket_h.applymap(encode_units)"
   ]
  },
  {
   "cell_type": "code",
   "execution_count": null,
   "id": "4e8f4f41",
   "metadata": {},
   "outputs": [],
   "source": [
    "basket_h_sets"
   ]
  },
  {
   "cell_type": "markdown",
   "id": "b3dcdd00",
   "metadata": {},
   "source": [
    "### Association Rules "
   ]
  },
  {
   "cell_type": "markdown",
   "id": "4fce150f",
   "metadata": {},
   "source": [
    "#### Calculate support, confidence and lift"
   ]
  },
  {
   "cell_type": "markdown",
   "id": "21f15102",
   "metadata": {},
   "source": [
    "#### - Hyderabad"
   ]
  },
  {
   "cell_type": "code",
   "execution_count": null,
   "id": "ad090ba6",
   "metadata": {},
   "outputs": [],
   "source": [
    "from mlxtend.frequent_patterns import apriori, association_rules"
   ]
  },
  {
   "cell_type": "code",
   "execution_count": null,
   "id": "5df66cc0",
   "metadata": {},
   "outputs": [],
   "source": [
    "#we can generate frequent item sets that have a support of at least 10 occurence in 10000 transactions\n",
    "frequent_itemsets_h = apriori(basket_h_sets, min_support=0.001, use_colnames=True)\n",
    "frequent_itemsets_h.sort_values('support', ascending = False, inplace=True)"
   ]
  },
  {
   "cell_type": "code",
   "execution_count": null,
   "id": "9b756f71",
   "metadata": {},
   "outputs": [],
   "source": [
    "frequent_itemsets_h"
   ]
  },
  {
   "cell_type": "code",
   "execution_count": null,
   "id": "ccfda9c3",
   "metadata": {},
   "outputs": [],
   "source": [
    "#generate the rules with their corresponding support, confidence and lift\n",
    "#rules_h = association_rules(frequent_itemsets_h, metric=\"lift\", min_threshold=1)\n",
    "rules_h = association_rules(frequent_itemsets_h, metric=\"lift\")\n",
    "rules_h.head()\n",
    "\n",
    "#In this case, look for a large lift (6) and high confidence (.8):\n",
    "#rules_h[ (rules_h['lift'] >= 6) &\n",
    "     #  (rules_h['confidence'] >= 0.8) ]\n"
   ]
  },
  {
   "cell_type": "markdown",
   "id": "093e2e68",
   "metadata": {},
   "source": [
    "In Hyderabad group, there are no itemsets with significant support:"
   ]
  },
  {
   "cell_type": "code",
   "execution_count": null,
   "id": "483e3096",
   "metadata": {},
   "outputs": [],
   "source": [
    "import matplotlib.pyplot as plt\n",
    "colors = [\"red\",\"green\",\"blue\",\"black\",\"yellow\",\"magenta\",\"cyan\", \"pink\",\"orange\",\"brown\"]\n",
    "plt.bar(x = list(range(1,21)), height = frequent_itemsets_h.support[1:21], color=colors)\n",
    "plt.xticks(list(range(1,21)),frequent_itemsets_h.itemsets[1:21],rotation = 45)\n",
    "plt.xlabel('item-sets');plt.ylabel('support')\n",
    "#plt.xticks(rotation = 45)"
   ]
  },
  {
   "cell_type": "markdown",
   "id": "afbcb6b6",
   "metadata": {},
   "source": [
    "## Calculate RFM Metrics"
   ]
  },
  {
   "cell_type": "code",
   "execution_count": 7,
   "id": "fcd64e5d",
   "metadata": {},
   "outputs": [
    {
     "data": {
      "text/plain": [
       "Timestamp('2017-12-18 10:41:00')"
      ]
     },
     "execution_count": 7,
     "metadata": {},
     "output_type": "execute_result"
    }
   ],
   "source": [
    "# Let's observe the last transaction date.\n",
    "# So we can determine the performans/measurement date for calculating how recent retailer's latest purchase was.\n",
    "clean_credit['created'] = pd.to_datetime(clean_credit['created'])\n",
    "clean_credit['created'].max()\n",
    "clean_credit['created'].min()"
   ]
  },
  {
   "cell_type": "code",
   "execution_count": null,
   "id": "699d7450",
   "metadata": {},
   "outputs": [],
   "source": [
    "clean_credit['created'].describe()"
   ]
  },
  {
   "cell_type": "code",
   "execution_count": 8,
   "id": "8732fbbe",
   "metadata": {},
   "outputs": [],
   "source": [
    "import datetime as dt\n",
    "from datetime import timedelta\n",
    "#from data_prep import *\n",
    "#from eda import *"
   ]
  },
  {
   "cell_type": "markdown",
   "id": "d465e0c3",
   "metadata": {},
   "source": [
    "Paling lama retailer yg x restock ada 350 hari (lowest recency):"
   ]
  },
  {
   "cell_type": "code",
   "execution_count": null,
   "id": "121d032b",
   "metadata": {},
   "outputs": [],
   "source": [
    "clean_credit['created'].max() - clean_credit['created'].min()"
   ]
  },
  {
   "cell_type": "code",
   "execution_count": null,
   "id": "fe06c878",
   "metadata": {},
   "outputs": [],
   "source": [
    "clean_credit"
   ]
  },
  {
   "cell_type": "code",
   "execution_count": 9,
   "id": "eb95cf58",
   "metadata": {},
   "outputs": [],
   "source": [
    "clean_credit['created_year'] = clean_credit['created'].dt.year\n",
    "clean_credit['created_month'] = clean_credit['created'].dt.month\n",
    "clean_credit['created_hour'] = clean_credit['created'].dt.hour\n",
    "clean_credit['created_year_month'] = (\n",
    "    clean_credit['created'].dt.year.astype('str') + '_' +\n",
    "    clean_credit['created'].dt.month.astype('str').str.zfill(2)\n",
    ")\n",
    "clean_credit['created_dayofweek'] = clean_credit['created'].dt.dayofweek"
   ]
  },
  {
   "cell_type": "code",
   "execution_count": null,
   "id": "d4048762",
   "metadata": {},
   "outputs": [],
   "source": [
    "clean_credit.head()"
   ]
  },
  {
   "cell_type": "markdown",
   "id": "f768abb0",
   "metadata": {},
   "source": [
    "- Calculating Recency: \n",
    "For each customer ID, we need to calculate the days since the last transaction.\n",
    "To calculate Days Since Last Transaction, a hypothetical date (Maximum Date + 2) is created to make it seem like we are working on the data 2 days after it was extracted.\n",
    "Finally, the difference between the Maximum InvoiceDate for each customer and the hypothetical Date created gives us the Date Since the last transaction."
   ]
  },
  {
   "cell_type": "code",
   "execution_count": 10,
   "id": "eabd2863",
   "metadata": {},
   "outputs": [
    {
     "data": {
      "text/plain": [
       "Timestamp('2018-12-05 18:26:00')"
      ]
     },
     "execution_count": 10,
     "metadata": {},
     "output_type": "execute_result"
    }
   ],
   "source": [
    "# Assign \"performans_date\" as 2 days after the last transaction date of purchase:\n",
    "\n",
    "performans_date = clean_credit[\"created\"].max() + timedelta(days=2)\n",
    "performans_date"
   ]
  },
  {
   "cell_type": "code",
   "execution_count": null,
   "id": "50cc6f39",
   "metadata": {},
   "outputs": [],
   "source": [
    "# create excel writer object\n",
    "writer = pd.ExcelWriter('customer_abs.xlsx')\n",
    "# write dataframe to excel\n",
    "customer_data.to_excel(writer)\n",
    "# save the excel\n",
    "writer.save()"
   ]
  },
  {
   "cell_type": "markdown",
   "id": "8f29edea",
   "metadata": {},
   "source": [
    "Let's create a new dataframe called `customer_data` for calculating Recency, Frequency and Monetary values.\n",
    "1. Recency : the number of days between performans_date and the last purchase date of each retailer.\n",
    "2. Frequency: the number of transactions of each retailer.\n",
    "3. Monetary : the sum of TotalPrice of each retailer."
   ]
  },
  {
   "cell_type": "markdown",
   "id": "60533392",
   "metadata": {},
   "source": [
    "### Assigning RFM Scores"
   ]
  },
  {
   "cell_type": "markdown",
   "id": "0d6ae2b1",
   "metadata": {},
   "source": [
    "- RFM analysis numerically scale each of these three categories for each customer 1 to 5. This is the higher the number, the better the result. The \"Best\" customer would receive a top score in every category whereas for Receny score, this is the opposite, because the most valueable customer is that has recently made purchasing so Recency score is labeled as 1.\n",
    "\n",
    "- The max number of Frequency and Monetary metrics mean that the customer is purchasing frequently and spending more money, so the highest score should be given as 5 to represent best customers."
   ]
  },
  {
   "cell_type": "markdown",
   "id": "0f0a3fe7",
   "metadata": {},
   "source": [
    "## RFM Analysis"
   ]
  },
  {
   "cell_type": "code",
   "execution_count": null,
   "id": "2194d796",
   "metadata": {},
   "outputs": [],
   "source": []
  },
  {
   "cell_type": "code",
   "execution_count": 11,
   "id": "0a022e80",
   "metadata": {},
   "outputs": [
    {
     "data": {
      "text/html": [
       "<div>\n",
       "<style scoped>\n",
       "    .dataframe tbody tr th:only-of-type {\n",
       "        vertical-align: middle;\n",
       "    }\n",
       "\n",
       "    .dataframe tbody tr th {\n",
       "        vertical-align: top;\n",
       "    }\n",
       "\n",
       "    .dataframe thead tr th {\n",
       "        text-align: left;\n",
       "    }\n",
       "\n",
       "    .dataframe thead tr:last-of-type th {\n",
       "        text-align: right;\n",
       "    }\n",
       "</style>\n",
       "<table border=\"1\" class=\"dataframe\">\n",
       "  <thead>\n",
       "    <tr>\n",
       "      <th></th>\n",
       "      <th>bill_amount</th>\n",
       "      <th colspan=\"2\" halign=\"left\">created</th>\n",
       "      <th>invoice_id</th>\n",
       "    </tr>\n",
       "    <tr>\n",
       "      <th></th>\n",
       "      <th>sum</th>\n",
       "      <th>max</th>\n",
       "      <th>min</th>\n",
       "      <th>nunique</th>\n",
       "    </tr>\n",
       "    <tr>\n",
       "      <th>retailer_names</th>\n",
       "      <th></th>\n",
       "      <th></th>\n",
       "      <th></th>\n",
       "      <th></th>\n",
       "    </tr>\n",
       "  </thead>\n",
       "  <tbody>\n",
       "    <tr>\n",
       "      <th>RetailerID1</th>\n",
       "      <td>421557.97</td>\n",
       "      <td>2018-12-03 16:52:00</td>\n",
       "      <td>2018-01-02 06:56:00</td>\n",
       "      <td>189</td>\n",
       "    </tr>\n",
       "    <tr>\n",
       "      <th>RetailerID10</th>\n",
       "      <td>68787.08</td>\n",
       "      <td>2018-12-03 06:54:00</td>\n",
       "      <td>2018-01-23 06:30:00</td>\n",
       "      <td>36</td>\n",
       "    </tr>\n",
       "    <tr>\n",
       "      <th>RetailerID100</th>\n",
       "      <td>107256.37</td>\n",
       "      <td>2018-12-02 08:01:00</td>\n",
       "      <td>2018-01-03 05:53:00</td>\n",
       "      <td>57</td>\n",
       "    </tr>\n",
       "    <tr>\n",
       "      <th>RetailerID101</th>\n",
       "      <td>574727.13</td>\n",
       "      <td>2018-12-03 15:33:00</td>\n",
       "      <td>2017-12-19 07:31:00</td>\n",
       "      <td>265</td>\n",
       "    </tr>\n",
       "    <tr>\n",
       "      <th>RetailerID102</th>\n",
       "      <td>35524.84</td>\n",
       "      <td>2018-11-03 13:57:00</td>\n",
       "      <td>2018-01-30 06:51:00</td>\n",
       "      <td>14</td>\n",
       "    </tr>\n",
       "  </tbody>\n",
       "</table>\n",
       "</div>"
      ],
      "text/plain": [
       "               bill_amount             created                     invoice_id\n",
       "                       sum                 max                 min    nunique\n",
       "retailer_names                                                               \n",
       "RetailerID1      421557.97 2018-12-03 16:52:00 2018-01-02 06:56:00        189\n",
       "RetailerID10      68787.08 2018-12-03 06:54:00 2018-01-23 06:30:00         36\n",
       "RetailerID100    107256.37 2018-12-02 08:01:00 2018-01-03 05:53:00         57\n",
       "RetailerID101    574727.13 2018-12-03 15:33:00 2017-12-19 07:31:00        265\n",
       "RetailerID102     35524.84 2018-11-03 13:57:00 2018-01-30 06:51:00         14"
      ]
     },
     "execution_count": 11,
     "metadata": {},
     "output_type": "execute_result"
    }
   ],
   "source": [
    "# Aggregate at customer level\n",
    "customer_data = pd.DataFrame(clean_credit.pivot_table(index=\"retailer_names\", \n",
    "                                              values=[\"created\", \"bill_amount\",'invoice_id'], \n",
    "                                              aggfunc={\"created\": [min, max], \"bill_amount\": sum, 'invoice_id':pd.Series.nunique}))\n",
    "\n",
    "\n",
    "\n",
    "customer_data.head()"
   ]
  },
  {
   "cell_type": "code",
   "execution_count": 12,
   "id": "b30bc8e2",
   "metadata": {},
   "outputs": [
    {
     "data": {
      "text/html": [
       "<div>\n",
       "<style scoped>\n",
       "    .dataframe tbody tr th:only-of-type {\n",
       "        vertical-align: middle;\n",
       "    }\n",
       "\n",
       "    .dataframe tbody tr th {\n",
       "        vertical-align: top;\n",
       "    }\n",
       "\n",
       "    .dataframe thead th {\n",
       "        text-align: right;\n",
       "    }\n",
       "</style>\n",
       "<table border=\"1\" class=\"dataframe\">\n",
       "  <thead>\n",
       "    <tr style=\"text-align: right;\">\n",
       "      <th></th>\n",
       "      <th>MonetaryValue</th>\n",
       "      <th>LastInvoiceDate</th>\n",
       "      <th>FirstInvoiceDate</th>\n",
       "      <th>Frequency</th>\n",
       "    </tr>\n",
       "    <tr>\n",
       "      <th>retailer_names</th>\n",
       "      <th></th>\n",
       "      <th></th>\n",
       "      <th></th>\n",
       "      <th></th>\n",
       "    </tr>\n",
       "  </thead>\n",
       "  <tbody>\n",
       "    <tr>\n",
       "      <th>RetailerID1</th>\n",
       "      <td>421557.97</td>\n",
       "      <td>2018-12-03 16:52:00</td>\n",
       "      <td>2018-01-02 06:56:00</td>\n",
       "      <td>189</td>\n",
       "    </tr>\n",
       "    <tr>\n",
       "      <th>RetailerID10</th>\n",
       "      <td>68787.08</td>\n",
       "      <td>2018-12-03 06:54:00</td>\n",
       "      <td>2018-01-23 06:30:00</td>\n",
       "      <td>36</td>\n",
       "    </tr>\n",
       "    <tr>\n",
       "      <th>RetailerID100</th>\n",
       "      <td>107256.37</td>\n",
       "      <td>2018-12-02 08:01:00</td>\n",
       "      <td>2018-01-03 05:53:00</td>\n",
       "      <td>57</td>\n",
       "    </tr>\n",
       "    <tr>\n",
       "      <th>RetailerID101</th>\n",
       "      <td>574727.13</td>\n",
       "      <td>2018-12-03 15:33:00</td>\n",
       "      <td>2017-12-19 07:31:00</td>\n",
       "      <td>265</td>\n",
       "    </tr>\n",
       "    <tr>\n",
       "      <th>RetailerID102</th>\n",
       "      <td>35524.84</td>\n",
       "      <td>2018-11-03 13:57:00</td>\n",
       "      <td>2018-01-30 06:51:00</td>\n",
       "      <td>14</td>\n",
       "    </tr>\n",
       "  </tbody>\n",
       "</table>\n",
       "</div>"
      ],
      "text/plain": [
       "                MonetaryValue     LastInvoiceDate    FirstInvoiceDate  \\\n",
       "retailer_names                                                          \n",
       "RetailerID1         421557.97 2018-12-03 16:52:00 2018-01-02 06:56:00   \n",
       "RetailerID10         68787.08 2018-12-03 06:54:00 2018-01-23 06:30:00   \n",
       "RetailerID100       107256.37 2018-12-02 08:01:00 2018-01-03 05:53:00   \n",
       "RetailerID101       574727.13 2018-12-03 15:33:00 2017-12-19 07:31:00   \n",
       "RetailerID102        35524.84 2018-11-03 13:57:00 2018-01-30 06:51:00   \n",
       "\n",
       "                Frequency  \n",
       "retailer_names             \n",
       "RetailerID1           189  \n",
       "RetailerID10           36  \n",
       "RetailerID100          57  \n",
       "RetailerID101         265  \n",
       "RetailerID102          14  "
      ]
     },
     "execution_count": 12,
     "metadata": {},
     "output_type": "execute_result"
    }
   ],
   "source": [
    "# Rename columns\n",
    "customer_data.columns = [\"MonetaryValue\", \"LastInvoiceDate\", \"FirstInvoiceDate\", \"Frequency\"]\n",
    "#customer_data.columns = [\"LastInvoiceDate\", \"FirstInvoiceDate\", \"Frequency\", \"MonetaryValue\"]\n",
    "customer_data.head()"
   ]
  },
  {
   "cell_type": "code",
   "execution_count": null,
   "id": "3417bf5e",
   "metadata": {},
   "outputs": [],
   "source": [
    "customer_data"
   ]
  },
  {
   "cell_type": "code",
   "execution_count": null,
   "id": "863da72b",
   "metadata": {},
   "outputs": [],
   "source": [
    "performans_date"
   ]
  },
  {
   "cell_type": "code",
   "execution_count": 13,
   "id": "fef1a3e5",
   "metadata": {},
   "outputs": [
    {
     "data": {
      "text/plain": [
       "<AxesSubplot:>"
      ]
     },
     "execution_count": 13,
     "metadata": {},
     "output_type": "execute_result"
    },
    {
     "data": {
      "image/png": "[encoded data removed]",
      "text/plain": [
       "<Figure size 432x288 with 1 Axes>"
      ]
     },
     "metadata": {
      "needs_background": "light"
     },
     "output_type": "display_data"
    }
   ],
   "source": [
    "# Calculate recency: the interval (days) between the last transation day and today\n",
    "customer_data[\"Recency\"] = (performans_date - customer_data[\"LastInvoiceDate\"]) / np.timedelta64(1, 'D')\n",
    "customer_data[\"Recency\"].hist()"
   ]
  },
  {
   "cell_type": "code",
   "execution_count": null,
   "id": "edfa16fd",
   "metadata": {},
   "outputs": [],
   "source": [
    "#customer_data[\"Frequency\"].hist()\n",
    "\n",
    "sns.distplot( customer_data[\"MonetaryValue\"] , color=\"darkblue\")\n",
    "print(\"Skewness: %f\" % customer_data[\"MonetaryValue\"].skew())\n",
    "print(\"Kurtosis: %f\" % customer_data[\"MonetaryValue\"].kurt())\n"
   ]
  },
  {
   "cell_type": "code",
   "execution_count": 14,
   "id": "4a12d12c",
   "metadata": {},
   "outputs": [
    {
     "data": {
      "text/plain": [
       "<AxesSubplot:>"
      ]
     },
     "execution_count": 14,
     "metadata": {},
     "output_type": "execute_result"
    },
    {
     "data": {
      "image/png": "[encoded data removed]",
      "text/plain": [
       "<Figure size 432x288 with 1 Axes>"
      ]
     },
     "metadata": {
      "needs_background": "light"
     },
     "output_type": "display_data"
    }
   ],
   "source": [
    "# Calculate customer lifetime: the interval (days) between the first transation day and today\n",
    "customer_data[\"Lifetime\"] = (performans_date - customer_data[\"FirstInvoiceDate\"]) / np.timedelta64(1, 'D')\n",
    "customer_data[\"Lifetime\"].hist()"
   ]
  },
  {
   "cell_type": "code",
   "execution_count": null,
   "id": "72be6de4",
   "metadata": {},
   "outputs": [],
   "source": [
    "plt.boxplot(customer_data.Lifetime) "
   ]
  },
  {
   "cell_type": "code",
   "execution_count": null,
   "id": "1dbe8959",
   "metadata": {},
   "outputs": [],
   "source": [
    "customer_data[\"Frequency\"].hist()"
   ]
  },
  {
   "cell_type": "code",
   "execution_count": null,
   "id": "cfebbb1a",
   "metadata": {},
   "outputs": [],
   "source": [
    "#customer_data[customer_data[\"Frequency\"] > 1000]\n",
    "customer_data[customer_data[\"MonetaryValue\"] >np.percentile(customer_data[\"MonetaryValue\"], 99.5)]"
   ]
  },
  {
   "cell_type": "code",
   "execution_count": null,
   "id": "b255299d",
   "metadata": {},
   "outputs": [],
   "source": [
    "customer_data[\"MonetaryValue\"].describe() "
   ]
  },
  {
   "cell_type": "code",
   "execution_count": null,
   "id": "b6e3ed00",
   "metadata": {},
   "outputs": [],
   "source": [
    "sns.displot(customer_data, x=\"Lifetime\", kind=\"kde\", bw_adjust=2)"
   ]
  },
  {
   "cell_type": "code",
   "execution_count": null,
   "id": "4730cca0",
   "metadata": {},
   "outputs": [],
   "source": [
    "customer_data.loc[customer_data[\"Lifetime\"] < 100]\n",
    "# only 2 new customers (below 100 days) but only 1 transaction (frequency)\n",
    "# average lifetime is 318 days\n",
    "# 34 customers lifetime slightly below average, so not really considered as new customers, just low frequency\n",
    "# group low engagement and low value (frequency >= 2 sampai 18 - 43(max)"
   ]
  },
  {
   "cell_type": "code",
   "execution_count": null,
   "id": "ea91df6a",
   "metadata": {},
   "outputs": [],
   "source": [
    "customer_data = customer_data[customer_data[\"Lifetime\"] > 100]"
   ]
  },
  {
   "cell_type": "code",
   "execution_count": 15,
   "id": "d71faebc",
   "metadata": {},
   "outputs": [
    {
     "data": {
      "text/plain": [
       "<AxesSubplot:>"
      ]
     },
     "execution_count": 15,
     "metadata": {},
     "output_type": "execute_result"
    },
    {
     "data": {
      "image/png": "[encoded data removed]",
      "text/plain": [
       "<Figure size 432x288 with 1 Axes>"
      ]
     },
     "metadata": {
      "needs_background": "light"
     },
     "output_type": "display_data"
    }
   ],
   "source": [
    "# Calculate the relative recency: recency / customer lifetime\n",
    "# Note: this is to normalise the fact that newer customers have lower lifetime and thus lower recency\n",
    "# by nature.\n",
    "customer_data[\"RelRecency\"] = 1 - customer_data[\"Recency\"] / customer_data[\"Lifetime\"]\n",
    "customer_data[\"RelRecency\"].hist()"
   ]
  },
  {
   "cell_type": "code",
   "execution_count": null,
   "id": "0ce79326",
   "metadata": {},
   "outputs": [],
   "source": [
    "customer_data[\"Recency\"].describe()"
   ]
  },
  {
   "cell_type": "code",
   "execution_count": null,
   "id": "2c695d00",
   "metadata": {},
   "outputs": [],
   "source": [
    "customer_data[\"RelRecency\"].describe()"
   ]
  },
  {
   "cell_type": "code",
   "execution_count": null,
   "id": "10db2fb4",
   "metadata": {},
   "outputs": [],
   "source": [
    "customer_data[\"RelRecency\"].hist()"
   ]
  },
  {
   "cell_type": "code",
   "execution_count": null,
   "id": "da39bd1b",
   "metadata": {},
   "outputs": [],
   "source": [
    "sum(customer_data[\"RelRecency\"]==0) / len(customer_data)\n",
    "# This shows that 2.8% customers --> around 6 retailers only had one transactions."
   ]
  },
  {
   "cell_type": "code",
   "execution_count": null,
   "id": "fd7c4e4d",
   "metadata": {},
   "outputs": [],
   "source": [
    "customer_data.loc[customer_data[\"RelRecency\"]==0]"
   ]
  },
  {
   "cell_type": "code",
   "execution_count": 16,
   "id": "6739aab3",
   "metadata": {},
   "outputs": [
    {
     "data": {
      "text/plain": [
       "False    215\n",
       "Name: RelFrequency, dtype: int64"
      ]
     },
     "execution_count": 16,
     "metadata": {},
     "output_type": "execute_result"
    }
   ],
   "source": [
    "# Calculate the relative frequency: frequency / customer lifetime\n",
    "# Note: this is to normalise the fact that newer customers have lower lifetime and thus lower frequency\n",
    "# by nature.\n",
    "customer_data[\"RelFrequency\"] = customer_data[\"Frequency\"] / customer_data[\"Lifetime\"]\n",
    "customer_data[\"RelFrequency\"].apply(lambda x: np.isinf(x)).value_counts()\n",
    "# No record with inifinity value  --> No zero recency/zero lifetime"
   ]
  },
  {
   "cell_type": "code",
   "execution_count": 17,
   "id": "3e8f7406",
   "metadata": {},
   "outputs": [
    {
     "data": {
      "text/plain": [
       "<AxesSubplot:>"
      ]
     },
     "execution_count": 17,
     "metadata": {},
     "output_type": "execute_result"
    },
    {
     "data": {
      "image/png": "[encoded data removed]",
      "text/plain": [
       "<Figure size 432x288 with 1 Axes>"
      ]
     },
     "metadata": {
      "needs_background": "light"
     },
     "output_type": "display_data"
    }
   ],
   "source": [
    "customer_data = customer_data[customer_data[\"RelFrequency\"].apply(lambda x: np.isinf(x))==False]\n",
    "customer_data[\"RelFrequency\"].hist()\n",
    "# There are some outliers in terms of frequency"
   ]
  },
  {
   "cell_type": "code",
   "execution_count": null,
   "id": "ce4ab818",
   "metadata": {},
   "outputs": [],
   "source": [
    "customer_data[\"RelFrequency\"].describe()"
   ]
  },
  {
   "cell_type": "code",
   "execution_count": null,
   "id": "c788e6b6",
   "metadata": {},
   "outputs": [],
   "source": [
    "customer_data[\"MonetaryValue\"].describe()"
   ]
  },
  {
   "cell_type": "code",
   "execution_count": null,
   "id": "33be8b68",
   "metadata": {},
   "outputs": [],
   "source": [
    "customer_data[\"MonetaryValue\"].hist()\n",
    "# There are some outliers in terms of monetary value."
   ]
  },
  {
   "cell_type": "code",
   "execution_count": null,
   "id": "e0fc4015",
   "metadata": {},
   "outputs": [],
   "source": [
    "#np.percentile(customer_data[\"MonetaryValue\"], 50) # give median of monetary value\n",
    "np.percentile(customer_data[\"MonetaryValue\"], 99.5) # give 99th percentile of monetary value ==> 1.7e+06\n",
    "# The 99% percentile of monetary value is 1.7e+06, i.e., 0.5% * 215 = 2 retailers have value higher than 1.7e+06.\n",
    "# We should exclude these outliers from our analysis."
   ]
  },
  {
   "cell_type": "code",
   "execution_count": null,
   "id": "6edfe45b",
   "metadata": {},
   "outputs": [],
   "source": [
    "customer_data = customer_data[customer_data[\"MonetaryValue\"]<=np.percentile(customer_data[\"MonetaryValue\"], 99.5)]"
   ]
  },
  {
   "cell_type": "code",
   "execution_count": null,
   "id": "747486b1",
   "metadata": {},
   "outputs": [],
   "source": [
    "len(customer_data)"
   ]
  },
  {
   "cell_type": "code",
   "execution_count": 18,
   "id": "3b310d1f",
   "metadata": {},
   "outputs": [
    {
     "data": {
      "text/plain": [
       "<AxesSubplot:>"
      ]
     },
     "execution_count": 18,
     "metadata": {},
     "output_type": "execute_result"
    },
    {
     "data": {
      "image/png": "[encoded data removed]",
      "text/plain": [
       "<Figure size 432x288 with 1 Axes>"
      ]
     },
     "metadata": {
      "needs_background": "light"
     },
     "output_type": "display_data"
    }
   ],
   "source": [
    "customer_data[\"RelMonetaryValue\"] = customer_data[\"MonetaryValue\"] / customer_data[\"Lifetime\"]\n",
    "customer_data[\"RelMonetaryValue\"].hist()"
   ]
  },
  {
   "cell_type": "code",
   "execution_count": null,
   "id": "d153a103",
   "metadata": {},
   "outputs": [],
   "source": [
    "customer_data[\"RelMonetaryValue\"].describe()"
   ]
  },
  {
   "cell_type": "markdown",
   "id": "867fecd3",
   "metadata": {},
   "source": [
    "### Create RFM buckets using absolute values"
   ]
  },
  {
   "cell_type": "code",
   "execution_count": null,
   "id": "fc548954",
   "metadata": {},
   "outputs": [],
   "source": [
    "# Create RFM buckets using absolute values\n",
    "# For this analysis, we take the medians and 75% quartiles of relative recency, relative frequency and relative monetary value and use them for\n",
    "# 4 bins for each variable. We label those bins as 1, 2, 3 and 4 and use them as the scores for R, F and M respectively.\n",
    "# We then create \n",
    "# By doing so we end up with 10 clusters ()"
   ]
  },
  {
   "cell_type": "code",
   "execution_count": 19,
   "id": "092d0e5c",
   "metadata": {},
   "outputs": [
    {
     "data": {
      "text/plain": [
       "4    56\n",
       "1    54\n",
       "2    53\n",
       "3    52\n",
       "Name: RecencyScore, dtype: int64"
      ]
     },
     "execution_count": 19,
     "metadata": {},
     "output_type": "execute_result"
    }
   ],
   "source": [
    "customer_data['RecencyScore'] = pd.cut(customer_data[\"Recency\"], \n",
    "                                       bins=[-1, \n",
    "                                             np.percentile(customer_data[\"Recency\"], 25), \n",
    "                                             np.percentile(customer_data[\"Recency\"], 50), \n",
    "                                             np.percentile(customer_data[\"Recency\"], 75), \n",
    "                                             customer_data[\"Recency\"].max()], \n",
    "                                       labels=[4, 3, 2, 1]).astype(\"int\")\n",
    "customer_data[\"RecencyScore\"].value_counts()"
   ]
  },
  {
   "cell_type": "code",
   "execution_count": 20,
   "id": "223b4edb",
   "metadata": {},
   "outputs": [
    {
     "data": {
      "text/plain": [
       "1    55\n",
       "4    54\n",
       "2    54\n",
       "3    52\n",
       "Name: FrequencyScore, dtype: int64"
      ]
     },
     "execution_count": 20,
     "metadata": {},
     "output_type": "execute_result"
    }
   ],
   "source": [
    "customer_data[\"FrequencyScore\"] = pd.cut(customer_data[\"Frequency\"], \n",
    "                                       bins=[-1, \n",
    "                                             np.percentile(customer_data[\"Frequency\"], 25), \n",
    "                                             np.percentile(customer_data[\"Frequency\"], 50), \n",
    "                                             np.percentile(customer_data[\"Frequency\"], 75), \n",
    "                                             customer_data[\"Frequency\"].max()], \n",
    "                                       labels=[1, 2, 3, 4]).astype(\"int\")\n",
    "customer_data[\"FrequencyScore\"].value_counts()"
   ]
  },
  {
   "cell_type": "code",
   "execution_count": 21,
   "id": "8fa2d4ef",
   "metadata": {},
   "outputs": [
    {
     "data": {
      "text/plain": [
       "4    54\n",
       "2    54\n",
       "1    54\n",
       "3    53\n",
       "Name: MonetaryScore, dtype: int64"
      ]
     },
     "execution_count": 21,
     "metadata": {},
     "output_type": "execute_result"
    }
   ],
   "source": [
    "customer_data[\"MonetaryScore\"] = pd.cut(customer_data[\"MonetaryValue\"], \n",
    "                                       bins=[customer_data[\"MonetaryValue\"].min()-1, \n",
    "                                             np.percentile(customer_data[\"MonetaryValue\"], 25),\n",
    "                                             np.percentile(customer_data[\"MonetaryValue\"], 50), \n",
    "                                             np.percentile(customer_data[\"MonetaryValue\"], 75), \n",
    "                                             customer_data[\"MonetaryValue\"].max()], \n",
    "                                       labels=[1, 2, 3, 4]).astype(\"int\")\n",
    "customer_data[\"MonetaryScore\"].value_counts()"
   ]
  },
  {
   "cell_type": "code",
   "execution_count": 22,
   "id": "eb3f3b01",
   "metadata": {},
   "outputs": [
    {
     "data": {
      "text/plain": [
       "12    37\n",
       "3     30\n",
       "6     23\n",
       "9     20\n",
       "5     20\n",
       "8     19\n",
       "4     19\n",
       "10    17\n",
       "7     17\n",
       "11    13\n",
       "Name: RFM, dtype: int64"
      ]
     },
     "execution_count": 22,
     "metadata": {},
     "output_type": "execute_result"
    }
   ],
   "source": [
    "customer_data[\"RFM\"] = customer_data[\"RecencyScore\"] + customer_data[\"FrequencyScore\"] + customer_data[\"MonetaryScore\"]\n",
    "customer_data[\"RFM\"].value_counts()"
   ]
  },
  {
   "cell_type": "code",
   "execution_count": 23,
   "id": "01de972c",
   "metadata": {},
   "outputs": [
    {
     "data": {
      "text/html": [
       "<div>\n",
       "<style scoped>\n",
       "    .dataframe tbody tr th:only-of-type {\n",
       "        vertical-align: middle;\n",
       "    }\n",
       "\n",
       "    .dataframe tbody tr th {\n",
       "        vertical-align: top;\n",
       "    }\n",
       "\n",
       "    .dataframe thead tr th {\n",
       "        text-align: left;\n",
       "    }\n",
       "\n",
       "    .dataframe thead tr:last-of-type th {\n",
       "        text-align: right;\n",
       "    }\n",
       "</style>\n",
       "<table border=\"1\" class=\"dataframe\">\n",
       "  <thead>\n",
       "    <tr>\n",
       "      <th></th>\n",
       "      <th colspan=\"3\" halign=\"left\">Frequency</th>\n",
       "      <th colspan=\"4\" halign=\"left\">Lifetime</th>\n",
       "      <th colspan=\"3\" halign=\"left\">MonetaryValue</th>\n",
       "      <th colspan=\"3\" halign=\"left\">Recency</th>\n",
       "    </tr>\n",
       "    <tr>\n",
       "      <th></th>\n",
       "      <th>amax</th>\n",
       "      <th>amin</th>\n",
       "      <th>median</th>\n",
       "      <th>amax</th>\n",
       "      <th>amin</th>\n",
       "      <th>count</th>\n",
       "      <th>median</th>\n",
       "      <th>amax</th>\n",
       "      <th>amin</th>\n",
       "      <th>median</th>\n",
       "      <th>amax</th>\n",
       "      <th>amin</th>\n",
       "      <th>median</th>\n",
       "    </tr>\n",
       "    <tr>\n",
       "      <th>RFM</th>\n",
       "      <th></th>\n",
       "      <th></th>\n",
       "      <th></th>\n",
       "      <th></th>\n",
       "      <th></th>\n",
       "      <th></th>\n",
       "      <th></th>\n",
       "      <th></th>\n",
       "      <th></th>\n",
       "      <th></th>\n",
       "      <th></th>\n",
       "      <th></th>\n",
       "      <th></th>\n",
       "    </tr>\n",
       "  </thead>\n",
       "  <tbody>\n",
       "    <tr>\n",
       "      <th>3</th>\n",
       "      <td>9</td>\n",
       "      <td>1</td>\n",
       "      <td>5.0</td>\n",
       "      <td>315.531250</td>\n",
       "      <td>216.513889</td>\n",
       "      <td>30</td>\n",
       "      <td>285.962500</td>\n",
       "      <td>17664.91</td>\n",
       "      <td>425.42</td>\n",
       "      <td>5769.415</td>\n",
       "      <td>284.584722</td>\n",
       "      <td>94.464583</td>\n",
       "      <td>231.270486</td>\n",
       "    </tr>\n",
       "    <tr>\n",
       "      <th>4</th>\n",
       "      <td>11</td>\n",
       "      <td>1</td>\n",
       "      <td>6.0</td>\n",
       "      <td>337.477083</td>\n",
       "      <td>64.538194</td>\n",
       "      <td>19</td>\n",
       "      <td>305.273611</td>\n",
       "      <td>35759.46</td>\n",
       "      <td>281.00</td>\n",
       "      <td>10158.290</td>\n",
       "      <td>252.075694</td>\n",
       "      <td>3.434028</td>\n",
       "      <td>64.538194</td>\n",
       "    </tr>\n",
       "    <tr>\n",
       "      <th>5</th>\n",
       "      <td>24</td>\n",
       "      <td>2</td>\n",
       "      <td>12.5</td>\n",
       "      <td>337.355556</td>\n",
       "      <td>216.000000</td>\n",
       "      <td>20</td>\n",
       "      <td>309.884722</td>\n",
       "      <td>50796.17</td>\n",
       "      <td>4801.71</td>\n",
       "      <td>26693.640</td>\n",
       "      <td>250.075694</td>\n",
       "      <td>2.520833</td>\n",
       "      <td>125.017361</td>\n",
       "    </tr>\n",
       "    <tr>\n",
       "      <th>6</th>\n",
       "      <td>35</td>\n",
       "      <td>6</td>\n",
       "      <td>19.0</td>\n",
       "      <td>352.322917</td>\n",
       "      <td>289.467361</td>\n",
       "      <td>23</td>\n",
       "      <td>310.513889</td>\n",
       "      <td>62700.18</td>\n",
       "      <td>10668.44</td>\n",
       "      <td>32508.890</td>\n",
       "      <td>251.040278</td>\n",
       "      <td>2.393056</td>\n",
       "      <td>64.447222</td>\n",
       "    </tr>\n",
       "    <tr>\n",
       "      <th>7</th>\n",
       "      <td>64</td>\n",
       "      <td>10</td>\n",
       "      <td>18.0</td>\n",
       "      <td>351.436806</td>\n",
       "      <td>295.533333</td>\n",
       "      <td>17</td>\n",
       "      <td>309.376389</td>\n",
       "      <td>139577.10</td>\n",
       "      <td>18077.71</td>\n",
       "      <td>35567.330</td>\n",
       "      <td>124.591667</td>\n",
       "      <td>2.485417</td>\n",
       "      <td>2.529167</td>\n",
       "    </tr>\n",
       "    <tr>\n",
       "      <th>8</th>\n",
       "      <td>59</td>\n",
       "      <td>17</td>\n",
       "      <td>35.0</td>\n",
       "      <td>351.454861</td>\n",
       "      <td>295.575694</td>\n",
       "      <td>19</td>\n",
       "      <td>336.459028</td>\n",
       "      <td>123344.78</td>\n",
       "      <td>29832.55</td>\n",
       "      <td>82634.370</td>\n",
       "      <td>93.102778</td>\n",
       "      <td>2.190972</td>\n",
       "      <td>3.495833</td>\n",
       "    </tr>\n",
       "    <tr>\n",
       "      <th>9</th>\n",
       "      <td>74</td>\n",
       "      <td>21</td>\n",
       "      <td>47.5</td>\n",
       "      <td>351.484722</td>\n",
       "      <td>304.622917</td>\n",
       "      <td>20</td>\n",
       "      <td>336.523958</td>\n",
       "      <td>170724.47</td>\n",
       "      <td>54525.09</td>\n",
       "      <td>86594.250</td>\n",
       "      <td>63.523611</td>\n",
       "      <td>2.120139</td>\n",
       "      <td>2.521528</td>\n",
       "    </tr>\n",
       "    <tr>\n",
       "      <th>10</th>\n",
       "      <td>165</td>\n",
       "      <td>30</td>\n",
       "      <td>53.0</td>\n",
       "      <td>352.322917</td>\n",
       "      <td>314.400000</td>\n",
       "      <td>17</td>\n",
       "      <td>336.483333</td>\n",
       "      <td>458681.75</td>\n",
       "      <td>58500.43</td>\n",
       "      <td>97087.960</td>\n",
       "      <td>63.455556</td>\n",
       "      <td>2.000000</td>\n",
       "      <td>2.461111</td>\n",
       "    </tr>\n",
       "    <tr>\n",
       "      <th>11</th>\n",
       "      <td>157</td>\n",
       "      <td>87</td>\n",
       "      <td>111.0</td>\n",
       "      <td>351.454861</td>\n",
       "      <td>336.522917</td>\n",
       "      <td>13</td>\n",
       "      <td>351.400694</td>\n",
       "      <td>364510.71</td>\n",
       "      <td>117631.62</td>\n",
       "      <td>211942.770</td>\n",
       "      <td>3.423611</td>\n",
       "      <td>2.120139</td>\n",
       "      <td>2.510417</td>\n",
       "    </tr>\n",
       "    <tr>\n",
       "      <th>12</th>\n",
       "      <td>1022</td>\n",
       "      <td>85</td>\n",
       "      <td>226.0</td>\n",
       "      <td>352.322917</td>\n",
       "      <td>336.450694</td>\n",
       "      <td>37</td>\n",
       "      <td>348.587500</td>\n",
       "      <td>3562912.89</td>\n",
       "      <td>146959.20</td>\n",
       "      <td>506338.440</td>\n",
       "      <td>2.480556</td>\n",
       "      <td>2.000000</td>\n",
       "      <td>2.093056</td>\n",
       "    </tr>\n",
       "  </tbody>\n",
       "</table>\n",
       "</div>"
      ],
      "text/plain": [
       "    Frequency                Lifetime                                \\\n",
       "         amax amin median        amax        amin count      median   \n",
       "RFM                                                                   \n",
       "3           9    1    5.0  315.531250  216.513889    30  285.962500   \n",
       "4          11    1    6.0  337.477083   64.538194    19  305.273611   \n",
       "5          24    2   12.5  337.355556  216.000000    20  309.884722   \n",
       "6          35    6   19.0  352.322917  289.467361    23  310.513889   \n",
       "7          64   10   18.0  351.436806  295.533333    17  309.376389   \n",
       "8          59   17   35.0  351.454861  295.575694    19  336.459028   \n",
       "9          74   21   47.5  351.484722  304.622917    20  336.523958   \n",
       "10        165   30   53.0  352.322917  314.400000    17  336.483333   \n",
       "11        157   87  111.0  351.454861  336.522917    13  351.400694   \n",
       "12       1022   85  226.0  352.322917  336.450694    37  348.587500   \n",
       "\n",
       "    MonetaryValue                            Recency                         \n",
       "             amax       amin      median        amax       amin      median  \n",
       "RFM                                                                          \n",
       "3        17664.91     425.42    5769.415  284.584722  94.464583  231.270486  \n",
       "4        35759.46     281.00   10158.290  252.075694   3.434028   64.538194  \n",
       "5        50796.17    4801.71   26693.640  250.075694   2.520833  125.017361  \n",
       "6        62700.18   10668.44   32508.890  251.040278   2.393056   64.447222  \n",
       "7       139577.10   18077.71   35567.330  124.591667   2.485417    2.529167  \n",
       "8       123344.78   29832.55   82634.370   93.102778   2.190972    3.495833  \n",
       "9       170724.47   54525.09   86594.250   63.523611   2.120139    2.521528  \n",
       "10      458681.75   58500.43   97087.960   63.455556   2.000000    2.461111  \n",
       "11      364510.71  117631.62  211942.770    3.423611   2.120139    2.510417  \n",
       "12     3562912.89  146959.20  506338.440    2.480556   2.000000    2.093056  "
      ]
     },
     "execution_count": 23,
     "metadata": {},
     "output_type": "execute_result"
    }
   ],
   "source": [
    "rfm_abs = pd.DataFrame(customer_data.pivot_table(index=[\"RFM\"], \n",
    "                                    values=[\"Recency\", \"Frequency\", \"MonetaryValue\", \"Lifetime\"], \n",
    "                                    aggfunc={\"Recency\": [np.min, np.median, np.max], \n",
    "                                             \"Frequency\": [np.min, np.median, np.max], \n",
    "                                             \"MonetaryValue\": [np.min, np.median, np.max], \n",
    "                                             \"Lifetime\": [np.min, np.median, np.max, \"count\"]}))\n",
    "rfm_abs"
   ]
  },
  {
   "cell_type": "code",
   "execution_count": null,
   "id": "3f012263",
   "metadata": {},
   "outputs": [],
   "source": [
    "customer_data.head(5)"
   ]
  },
  {
   "cell_type": "code",
   "execution_count": null,
   "id": "52143f8e",
   "metadata": {},
   "outputs": [],
   "source": [
    "# create excel writer object\n",
    "writer = pd.ExcelWriter('relative2.xlsx')\n",
    "# write dataframe to excel\n",
    "customer_data.to_excel(writer)\n",
    "# save the excel\n",
    "writer.save()"
   ]
  },
  {
   "cell_type": "code",
   "execution_count": null,
   "id": "24222138",
   "metadata": {},
   "outputs": [],
   "source": [
    "# Create a Pandas Excel writer using XlsxWriter as the engine.\n",
    "writer = pd.ExcelWriter('relative_2.xlsx', engine='xlsxwriter')\n",
    "\n",
    "# Convert the dataframe to an XlsxWriter Excel object.\n",
    "customer_data.to_excel(writer, sheet_name='Sheet1')\n",
    "\n",
    "# Close the Pandas Excel writer and output the Excel file.\n",
    "writer.save()"
   ]
  },
  {
   "cell_type": "markdown",
   "id": "eb1f791c",
   "metadata": {},
   "source": [
    "At the first row, the retailer have RFM score of 3 (very low) due to low activity(frequency), low monetary, and have not ordered in many days, thus a low engaging retailer but have been with the company quite long (long lifetime). Compared to the second row, this is a new retailer with very short lifetime. As we can see, the groups have very different median days of lifetime, especially for new retailers. This suggests potential bias associated with retailer sign up date."
   ]
  },
  {
   "cell_type": "markdown",
   "id": "5f4b46ce",
   "metadata": {},
   "source": [
    "### Create RFM buckets using relative values"
   ]
  },
  {
   "cell_type": "code",
   "execution_count": 24,
   "id": "ca0c28c3",
   "metadata": {},
   "outputs": [
    {
     "data": {
      "text/plain": [
       "4    54\n",
       "2    54\n",
       "1    54\n",
       "3    53\n",
       "Name: RecencyScore, dtype: int64"
      ]
     },
     "execution_count": 24,
     "metadata": {},
     "output_type": "execute_result"
    }
   ],
   "source": [
    "# Create RFM buckets using relative values\n",
    "# For this analysis, we take the medians and 75% quartiles of relative recency, relative frequency and relative monetary value and use them for\n",
    "# 4 bins for each variable. We label those bins as 1, 2, 3 and 4 and use them as the scores for R, F and M respectively.\n",
    "# We then create \n",
    "# By doing so we end up with 10 clusters ()\n",
    "customer_data[\"RecencyScore\"] = pd.cut(customer_data[\"RelRecency\"], \n",
    "                                       bins=[-1, \n",
    "                                             np.percentile(customer_data[\"RelRecency\"], 25), \n",
    "                                             np.percentile(customer_data[\"RelRecency\"], 50), \n",
    "                                             np.percentile(customer_data[\"RelRecency\"], 75), \n",
    "                                             customer_data[\"RelRecency\"].max()], \n",
    "                                       labels=[1, 2, 3, 4]).astype(\"int\")\n",
    "customer_data[\"RecencyScore\"].value_counts()"
   ]
  },
  {
   "cell_type": "code",
   "execution_count": 25,
   "id": "ad9434a8",
   "metadata": {},
   "outputs": [
    {
     "data": {
      "text/plain": [
       "1    55\n",
       "4    54\n",
       "3    53\n",
       "2    53\n",
       "Name: FrequencyScore, dtype: int64"
      ]
     },
     "execution_count": 25,
     "metadata": {},
     "output_type": "execute_result"
    }
   ],
   "source": [
    "customer_data[\"FrequencyScore\"] = pd.cut(customer_data[\"RelFrequency\"], \n",
    "                                       bins=[-1, \n",
    "                                             np.percentile(customer_data[\"RelFrequency\"], 25), \n",
    "                                             np.percentile(customer_data[\"RelFrequency\"], 50), \n",
    "                                             np.percentile(customer_data[\"RelFrequency\"], 75), \n",
    "                                             customer_data[\"RelFrequency\"].max()], \n",
    "                                       labels=[1, 2, 3, 4]).astype(\"int\")\n",
    "customer_data[\"FrequencyScore\"].value_counts()"
   ]
  },
  {
   "cell_type": "code",
   "execution_count": 26,
   "id": "b7bb934d",
   "metadata": {},
   "outputs": [
    {
     "data": {
      "text/plain": [
       "4    54\n",
       "2    54\n",
       "1    54\n",
       "3    53\n",
       "Name: MonetaryScore, dtype: int64"
      ]
     },
     "execution_count": 26,
     "metadata": {},
     "output_type": "execute_result"
    }
   ],
   "source": [
    "customer_data[\"MonetaryScore\"] = pd.cut(customer_data[\"RelMonetaryValue\"], \n",
    "                                       bins=[customer_data[\"RelMonetaryValue\"].min()-1, \n",
    "                                             np.percentile(customer_data[\"RelMonetaryValue\"], 25),\n",
    "                                             np.percentile(customer_data[\"RelMonetaryValue\"], 50), \n",
    "                                             np.percentile(customer_data[\"RelMonetaryValue\"], 75), \n",
    "                                             customer_data[\"RelMonetaryValue\"].max()], \n",
    "                                       labels=[1, 2, 3, 4]).astype(\"int\")\n",
    "customer_data[\"MonetaryScore\"].value_counts()"
   ]
  },
  {
   "cell_type": "code",
   "execution_count": null,
   "id": "2ebecd53",
   "metadata": {},
   "outputs": [],
   "source": [
    "customer_data.loc[customer_data[\"RFM\"] < 6]"
   ]
  },
  {
   "cell_type": "code",
   "execution_count": 27,
   "id": "83bb9bc8",
   "metadata": {},
   "outputs": [
    {
     "data": {
      "text/plain": [
       "12    38\n",
       "3     30\n",
       "4     22\n",
       "9     21\n",
       "6     20\n",
       "8     19\n",
       "7     19\n",
       "5     18\n",
       "10    16\n",
       "11    12\n",
       "Name: RFM, dtype: int64"
      ]
     },
     "execution_count": 27,
     "metadata": {},
     "output_type": "execute_result"
    }
   ],
   "source": [
    "customer_data[\"RFM\"] = customer_data[\"RecencyScore\"] + customer_data[\"FrequencyScore\"] + customer_data[\"MonetaryScore\"]\n",
    "customer_data[\"RFM\"].value_counts()"
   ]
  },
  {
   "cell_type": "code",
   "execution_count": null,
   "id": "bbf6a27f",
   "metadata": {},
   "outputs": [],
   "source": [
    "customer_data.head(5)"
   ]
  },
  {
   "cell_type": "code",
   "execution_count": 28,
   "id": "439a152e",
   "metadata": {},
   "outputs": [
    {
     "data": {
      "text/html": [
       "<div>\n",
       "<style scoped>\n",
       "    .dataframe tbody tr th:only-of-type {\n",
       "        vertical-align: middle;\n",
       "    }\n",
       "\n",
       "    .dataframe tbody tr th {\n",
       "        vertical-align: top;\n",
       "    }\n",
       "\n",
       "    .dataframe thead tr th {\n",
       "        text-align: left;\n",
       "    }\n",
       "\n",
       "    .dataframe thead tr:last-of-type th {\n",
       "        text-align: right;\n",
       "    }\n",
       "</style>\n",
       "<table border=\"1\" class=\"dataframe\">\n",
       "  <thead>\n",
       "    <tr>\n",
       "      <th></th>\n",
       "      <th colspan=\"3\" halign=\"left\">Frequency</th>\n",
       "      <th colspan=\"4\" halign=\"left\">Lifetime</th>\n",
       "      <th colspan=\"3\" halign=\"left\">MonetaryValue</th>\n",
       "      <th colspan=\"3\" halign=\"left\">Recency</th>\n",
       "    </tr>\n",
       "    <tr>\n",
       "      <th></th>\n",
       "      <th>amax</th>\n",
       "      <th>amin</th>\n",
       "      <th>median</th>\n",
       "      <th>amax</th>\n",
       "      <th>amin</th>\n",
       "      <th>count</th>\n",
       "      <th>median</th>\n",
       "      <th>amax</th>\n",
       "      <th>amin</th>\n",
       "      <th>median</th>\n",
       "      <th>amax</th>\n",
       "      <th>amin</th>\n",
       "      <th>median</th>\n",
       "    </tr>\n",
       "    <tr>\n",
       "      <th>RFM</th>\n",
       "      <th></th>\n",
       "      <th></th>\n",
       "      <th></th>\n",
       "      <th></th>\n",
       "      <th></th>\n",
       "      <th></th>\n",
       "      <th></th>\n",
       "      <th></th>\n",
       "      <th></th>\n",
       "      <th></th>\n",
       "      <th></th>\n",
       "      <th></th>\n",
       "      <th></th>\n",
       "    </tr>\n",
       "  </thead>\n",
       "  <tbody>\n",
       "    <tr>\n",
       "      <th>3</th>\n",
       "      <td>9</td>\n",
       "      <td>1</td>\n",
       "      <td>4.0</td>\n",
       "      <td>315.531250</td>\n",
       "      <td>64.538194</td>\n",
       "      <td>30</td>\n",
       "      <td>284.468403</td>\n",
       "      <td>14272.10</td>\n",
       "      <td>281.00</td>\n",
       "      <td>4788.215</td>\n",
       "      <td>284.584722</td>\n",
       "      <td>64.538194</td>\n",
       "      <td>231.270486</td>\n",
       "    </tr>\n",
       "    <tr>\n",
       "      <th>4</th>\n",
       "      <td>12</td>\n",
       "      <td>2</td>\n",
       "      <td>7.0</td>\n",
       "      <td>337.477083</td>\n",
       "      <td>216.000000</td>\n",
       "      <td>22</td>\n",
       "      <td>306.832292</td>\n",
       "      <td>35759.46</td>\n",
       "      <td>1206.30</td>\n",
       "      <td>12726.505</td>\n",
       "      <td>252.075694</td>\n",
       "      <td>2.552083</td>\n",
       "      <td>93.484375</td>\n",
       "    </tr>\n",
       "    <tr>\n",
       "      <th>5</th>\n",
       "      <td>24</td>\n",
       "      <td>4</td>\n",
       "      <td>12.5</td>\n",
       "      <td>337.355556</td>\n",
       "      <td>263.547917</td>\n",
       "      <td>18</td>\n",
       "      <td>308.935764</td>\n",
       "      <td>50796.17</td>\n",
       "      <td>5614.12</td>\n",
       "      <td>26693.640</td>\n",
       "      <td>250.075694</td>\n",
       "      <td>2.393056</td>\n",
       "      <td>125.017361</td>\n",
       "    </tr>\n",
       "    <tr>\n",
       "      <th>6</th>\n",
       "      <td>30</td>\n",
       "      <td>10</td>\n",
       "      <td>18.5</td>\n",
       "      <td>352.322917</td>\n",
       "      <td>289.467361</td>\n",
       "      <td>20</td>\n",
       "      <td>313.417361</td>\n",
       "      <td>55148.01</td>\n",
       "      <td>12559.42</td>\n",
       "      <td>33738.075</td>\n",
       "      <td>251.040278</td>\n",
       "      <td>2.526389</td>\n",
       "      <td>64.471528</td>\n",
       "    </tr>\n",
       "    <tr>\n",
       "      <th>7</th>\n",
       "      <td>64</td>\n",
       "      <td>10</td>\n",
       "      <td>18.0</td>\n",
       "      <td>351.454861</td>\n",
       "      <td>295.533333</td>\n",
       "      <td>19</td>\n",
       "      <td>310.377083</td>\n",
       "      <td>139577.10</td>\n",
       "      <td>18077.71</td>\n",
       "      <td>36496.140</td>\n",
       "      <td>215.613889</td>\n",
       "      <td>2.485417</td>\n",
       "      <td>2.543750</td>\n",
       "    </tr>\n",
       "    <tr>\n",
       "      <th>8</th>\n",
       "      <td>59</td>\n",
       "      <td>17</td>\n",
       "      <td>35.0</td>\n",
       "      <td>337.473611</td>\n",
       "      <td>295.575694</td>\n",
       "      <td>19</td>\n",
       "      <td>335.083333</td>\n",
       "      <td>123344.78</td>\n",
       "      <td>29832.55</td>\n",
       "      <td>82634.370</td>\n",
       "      <td>93.102778</td>\n",
       "      <td>2.190972</td>\n",
       "      <td>3.506944</td>\n",
       "    </tr>\n",
       "    <tr>\n",
       "      <th>9</th>\n",
       "      <td>77</td>\n",
       "      <td>21</td>\n",
       "      <td>47.0</td>\n",
       "      <td>352.322917</td>\n",
       "      <td>304.622917</td>\n",
       "      <td>21</td>\n",
       "      <td>336.459028</td>\n",
       "      <td>165260.21</td>\n",
       "      <td>54525.09</td>\n",
       "      <td>70594.020</td>\n",
       "      <td>63.523611</td>\n",
       "      <td>2.120139</td>\n",
       "      <td>2.516667</td>\n",
       "    </tr>\n",
       "    <tr>\n",
       "      <th>10</th>\n",
       "      <td>165</td>\n",
       "      <td>34</td>\n",
       "      <td>57.0</td>\n",
       "      <td>352.322917</td>\n",
       "      <td>314.400000</td>\n",
       "      <td>16</td>\n",
       "      <td>337.434375</td>\n",
       "      <td>458681.75</td>\n",
       "      <td>58114.42</td>\n",
       "      <td>134216.130</td>\n",
       "      <td>63.455556</td>\n",
       "      <td>2.190972</td>\n",
       "      <td>2.509722</td>\n",
       "    </tr>\n",
       "    <tr>\n",
       "      <th>11</th>\n",
       "      <td>262</td>\n",
       "      <td>74</td>\n",
       "      <td>102.5</td>\n",
       "      <td>351.454861</td>\n",
       "      <td>336.470833</td>\n",
       "      <td>12</td>\n",
       "      <td>337.529167</td>\n",
       "      <td>582629.53</td>\n",
       "      <td>117631.62</td>\n",
       "      <td>190888.165</td>\n",
       "      <td>2.552083</td>\n",
       "      <td>2.000000</td>\n",
       "      <td>2.494792</td>\n",
       "    </tr>\n",
       "    <tr>\n",
       "      <th>12</th>\n",
       "      <td>1022</td>\n",
       "      <td>85</td>\n",
       "      <td>220.5</td>\n",
       "      <td>352.322917</td>\n",
       "      <td>336.450694</td>\n",
       "      <td>38</td>\n",
       "      <td>350.456597</td>\n",
       "      <td>3562912.89</td>\n",
       "      <td>179337.49</td>\n",
       "      <td>481420.875</td>\n",
       "      <td>2.510417</td>\n",
       "      <td>2.000000</td>\n",
       "      <td>2.093056</td>\n",
       "    </tr>\n",
       "  </tbody>\n",
       "</table>\n",
       "</div>"
      ],
      "text/plain": [
       "    Frequency                Lifetime                                \\\n",
       "         amax amin median        amax        amin count      median   \n",
       "RFM                                                                   \n",
       "3           9    1    4.0  315.531250   64.538194    30  284.468403   \n",
       "4          12    2    7.0  337.477083  216.000000    22  306.832292   \n",
       "5          24    4   12.5  337.355556  263.547917    18  308.935764   \n",
       "6          30   10   18.5  352.322917  289.467361    20  313.417361   \n",
       "7          64   10   18.0  351.454861  295.533333    19  310.377083   \n",
       "8          59   17   35.0  337.473611  295.575694    19  335.083333   \n",
       "9          77   21   47.0  352.322917  304.622917    21  336.459028   \n",
       "10        165   34   57.0  352.322917  314.400000    16  337.434375   \n",
       "11        262   74  102.5  351.454861  336.470833    12  337.529167   \n",
       "12       1022   85  220.5  352.322917  336.450694    38  350.456597   \n",
       "\n",
       "    MonetaryValue                            Recency                         \n",
       "             amax       amin      median        amax       amin      median  \n",
       "RFM                                                                          \n",
       "3        14272.10     281.00    4788.215  284.584722  64.538194  231.270486  \n",
       "4        35759.46    1206.30   12726.505  252.075694   2.552083   93.484375  \n",
       "5        50796.17    5614.12   26693.640  250.075694   2.393056  125.017361  \n",
       "6        55148.01   12559.42   33738.075  251.040278   2.526389   64.471528  \n",
       "7       139577.10   18077.71   36496.140  215.613889   2.485417    2.543750  \n",
       "8       123344.78   29832.55   82634.370   93.102778   2.190972    3.506944  \n",
       "9       165260.21   54525.09   70594.020   63.523611   2.120139    2.516667  \n",
       "10      458681.75   58114.42  134216.130   63.455556   2.190972    2.509722  \n",
       "11      582629.53  117631.62  190888.165    2.552083   2.000000    2.494792  \n",
       "12     3562912.89  179337.49  481420.875    2.510417   2.000000    2.093056  "
      ]
     },
     "execution_count": 28,
     "metadata": {},
     "output_type": "execute_result"
    }
   ],
   "source": [
    "# using relative values\n",
    "rfm_rel = pd.DataFrame(customer_data.pivot_table(index=[\"RFM\"], \n",
    "                                    values=[\"Recency\", \"Frequency\", \"MonetaryValue\", \"Lifetime\"], \n",
    "                                    aggfunc={\"Recency\": [np.min, np.median, np.max], \n",
    "                                             \"Frequency\": [np.min, np.median, np.max], \n",
    "                                             \"MonetaryValue\": [np.min, np.median, np.max], \n",
    "                                             \"Lifetime\": [np.min, np.median, np.max, \"count\"]}))\n",
    "rfm_rel\n",
    "# Note that the median lifetime is rather constant across clusters. This is a good news \n",
    "# our segmentation is not biased by the lifetime of the customers."
   ]
  },
  {
   "cell_type": "code",
   "execution_count": null,
   "id": "3996e0a1",
   "metadata": {},
   "outputs": [],
   "source": [
    "fig, axes = plt.subplots(nrows=2, ncols=1)\n",
    "fig.suptitle('Median Lifetime of RFM Segments (Absolute vs Relative)')\n",
    "rfm_abs[\"Lifetime\"][\"median\"].plot(ax=axes[0], kind=\"bar\")\n",
    "rfm_rel[\"Lifetime\"][\"median\"].plot(ax=axes[1], kind=\"bar\")\n",
    "plt.show()\n",
    "# dont really change sbb xde new customers pon"
   ]
  },
  {
   "cell_type": "markdown",
   "id": "8b0aa567",
   "metadata": {},
   "source": [
    "## Is there correlation between RFM Values?"
   ]
  },
  {
   "cell_type": "code",
   "execution_count": null,
   "id": "370de582",
   "metadata": {},
   "outputs": [],
   "source": [
    "# Visualise segments using 3D plot\n",
    "x = customer_data[\"RelRecency\"]\n",
    "y = customer_data[\"RelFrequency\"]\n",
    "z = (customer_data[\"RelMonetaryValue\"] - customer_data[\"RelMonetaryValue\"].min()) / customer_data[\"RelMonetaryValue\"].max()\n",
    "c = customer_data[\"RFM\"]\n",
    "fig = plt.figure(figsize=(10, 8))\n",
    "ax = fig.add_subplot(111, projection='3d')\n",
    "ax.scatter(xs=x, ys=y, zs=z, c=c, s=30, alpha=0.5)\n",
    "ax.set_title(\"RFM Visualisation\")\n",
    "ax.set_xlabel(\"Relative Recency\")\n",
    "ax.set_ylabel(\"Relative Frequency\")\n",
    "ax.set_zlabel(\"Relative Monetary Value (with Min-Max Standardisation)\")\n",
    "plt.show()"
   ]
  },
  {
   "cell_type": "code",
   "execution_count": null,
   "id": "f24896c1",
   "metadata": {},
   "outputs": [],
   "source": [
    "fig, axs = plt.subplots(nrows=3, ncols=1, sharex=True, sharey=True, figsize=(5, 15))\n",
    "fig.suptitle('Correlation between R, F and M')\n",
    "\n",
    "axs[0].scatter(x, y, alpha=0.5) # alpha for transparency of plot\n",
    "axs[0].set_title(\"Relative Recency (x) vs Relative Frequency (y)\")\n",
    "\n",
    "axs[1].scatter(y, z, alpha=0.5)\n",
    "axs[1].set_title(\"Relative Frequency (x) vs Relative Monetary Value (y)\")\n",
    "\n",
    "axs[2].scatter(x, z, alpha=0.5)\n",
    "axs[2].set_title(\"Relative Recency (x) vs Relative Monetary Value (y)\")\n",
    "\n",
    "# higher frequency give higher monetary value"
   ]
  },
  {
   "cell_type": "code",
   "execution_count": null,
   "id": "cfd4f89e",
   "metadata": {},
   "outputs": [],
   "source": [
    "# Visualise segments using 3D plot\n",
    "x = customer_data[\"Recency\"]\n",
    "y = customer_data[\"Frequency\"]\n",
    "z = (customer_data[\"MonetaryValue\"] - customer_data[\"MonetaryValue\"].min()) / customer_data[\"MonetaryValue\"].max()\n",
    "c = customer_data[\"RFM\"]\n",
    "fig = plt.figure(figsize=(10, 8))\n",
    "ax = fig.add_subplot(111, projection='3d')\n",
    "ax.scatter(xs=x, ys=y, zs=z, c=c, s=30, alpha=0.5)\n",
    "ax.set_title(\"RFM Visualisation\")\n",
    "ax.set_xlabel(\"Recency\")\n",
    "ax.set_ylabel(\"Frequency\")\n",
    "ax.set_zlabel(\"Monetary Value (with Min-Max Standardisation)\")\n",
    "plt.show()"
   ]
  },
  {
   "cell_type": "code",
   "execution_count": null,
   "id": "2a43b04a",
   "metadata": {},
   "outputs": [],
   "source": [
    "fig, axs = plt.subplots(nrows=3, ncols=1, sharex=True, sharey=True, figsize=(5, 15))\n",
    "fig.suptitle('Correlation between R, F and M')\n",
    "\n",
    "axs[0].scatter(x, y, alpha=0.5) # alpha for transparency of plot\n",
    "axs[0].set_title(\"Recency (x) vs Frequency (y)\")\n",
    "\n",
    "axs[1].scatter(y, z, alpha=0.5)\n",
    "axs[1].set_title(\"Frequency (x) vs Monetary Value (y)\")\n",
    "\n",
    "axs[2].scatter(x, z, alpha=0.5)\n",
    "axs[2].set_title(\"Recency (x) vs Monetary Value (y)\")\n",
    "\n",
    "# higher frequency give higher monetary value"
   ]
  },
  {
   "cell_type": "code",
   "execution_count": null,
   "id": "f699371d",
   "metadata": {},
   "outputs": [],
   "source": [
    "sns.regplot(x=customer_data['Frequency'],y=customer_data['MonetaryValue'])"
   ]
  },
  {
   "cell_type": "code",
   "execution_count": null,
   "id": "cd12b873",
   "metadata": {},
   "outputs": [],
   "source": [
    "sns.relplot(x=\"Frequency\", y=\"MonetaryValue\", data=customer_data, kind = 'scatter')"
   ]
  },
  {
   "cell_type": "code",
   "execution_count": null,
   "id": "d529c793",
   "metadata": {},
   "outputs": [],
   "source": [
    "import seaborn as sns\n",
    "sns.pairplot(customer_data.iloc[:,[0,3,4]])\n",
    "                             \n",
    "# Correlation matrix \n",
    "#cars.corr()"
   ]
  },
  {
   "cell_type": "code",
   "execution_count": null,
   "id": "f444eda3",
   "metadata": {},
   "outputs": [],
   "source": [
    "np.corrcoef(customer_data.Frequency, customer_data.Recency) "
   ]
  },
  {
   "cell_type": "code",
   "execution_count": null,
   "id": "8e290b8a",
   "metadata": {},
   "outputs": [],
   "source": [
    "\n",
    "# Create a Pandas Excel writer using XlsxWriter as the engine.\n",
    "writer = pd.ExcelWriter('customer2.xlsx', engine='xlsxwriter')\n",
    "\n",
    "# Convert the dataframe to an XlsxWriter Excel object.\n",
    "customer_data.to_excel(writer, sheet_name='Sheet1')\n",
    "\n",
    "# Close the Pandas Excel writer and output the Excel file.\n",
    "writer.save()"
   ]
  },
  {
   "cell_type": "code",
   "execution_count": null,
   "id": "a9ad5473",
   "metadata": {},
   "outputs": [],
   "source": [
    "house = customer_data.iloc[:,[0,3,4]]\n",
    "house.head(3)"
   ]
  },
  {
   "cell_type": "code",
   "execution_count": null,
   "id": "c0d2be58",
   "metadata": {},
   "outputs": [],
   "source": [
    "correlation_matrix = house.corr().round(2)\n",
    "# annot = True to print the values inside the square\n",
    "sns.heatmap(data=correlation_matrix, annot=True)"
   ]
  },
  {
   "cell_type": "code",
   "execution_count": null,
   "id": "59e6ec59",
   "metadata": {},
   "outputs": [],
   "source": [
    "# From these statistics we can generate some heuristic business rules to simplify our segmentation.\n",
    "# For example, RFM score 3 and 4 can be combined, because these two groups tend to have only one transaction.\n",
    "# Create new columns with our learnings\n",
    "customer_data.describe()\n"
   ]
  },
  {
   "cell_type": "code",
   "execution_count": null,
   "id": "d977990e",
   "metadata": {},
   "outputs": [],
   "source": [
    "rfm_rel"
   ]
  },
  {
   "cell_type": "code",
   "execution_count": 29,
   "id": "5b166c24",
   "metadata": {},
   "outputs": [
    {
     "data": {
      "text/plain": [
       "last_order_within_4d  more_than_26_orders  value_higher_than_400k\n",
       "False                 False                False                     72\n",
       "                      True                 False                     13\n",
       "                                           True                       1\n",
       "True                  False                False                     34\n",
       "                      True                 False                     68\n",
       "                                           True                      27\n",
       "Name: Lifetime, dtype: int64"
      ]
     },
     "execution_count": 29,
     "metadata": {},
     "output_type": "execute_result"
    }
   ],
   "source": [
    "customer_data[\"last_order_within_4d\"] = customer_data[\"Recency\"]<4 # Had transactions in the last 4 days\n",
    "customer_data[\"more_than_26_orders\"] = customer_data[\"Frequency\"]>26 # made more than 26 orders\n",
    "customer_data[\"value_higher_than_400k\"] = customer_data[\"MonetaryValue\"]>400000 # Sum of value higher than 180K\n",
    "customer_data.groupby([\"last_order_within_4d\", \"more_than_26_orders\", \"value_higher_than_400k\"]).count()[\"Lifetime\"]"
   ]
  },
  {
   "cell_type": "code",
   "execution_count": 67,
   "id": "e107a074",
   "metadata": {},
   "outputs": [
    {
     "data": {
      "text/plain": [
       "05. Low Engagement & Low Value              72\n",
       "02. High Engagement & Low Value             68\n",
       "04. Low Frequency but Recently Active       34\n",
       "01. High Engagement & High Value            27\n",
       "03. High Frequency but Recently Inactive    14\n",
       "Name: FinalRFM, dtype: int64"
      ]
     },
     "execution_count": 67,
     "metadata": {},
     "output_type": "execute_result"
    }
   ],
   "source": [
    "conditions = [\n",
    "    (customer_data[\"last_order_within_4d\"]==True)&(customer_data[\"more_than_26_orders\"]==True)&(customer_data[\"value_higher_than_400k\"]==True),\n",
    "    (customer_data[\"last_order_within_4d\"]==True)&(customer_data[\"more_than_26_orders\"]==True)&(customer_data[\"value_higher_than_400k\"]==False),\n",
    "    (customer_data[\"last_order_within_4d\"]==False)&(customer_data[\"more_than_26_orders\"]==True),\n",
    "    (customer_data[\"last_order_within_4d\"]==True)&(customer_data[\"more_than_26_orders\"]==False),\n",
    "    (customer_data[\"last_order_within_4d\"]==False)&(customer_data[\"more_than_26_orders\"]==False)\n",
    "]\n",
    "mappings = [\"01. High Engagement & High Value\", \n",
    "            \"02. High Engagement & Low Value\", \n",
    "           \"03. High Frequency but Recently Inactive\", \n",
    "              \"04. Low Frequency but Recently Active\", \n",
    "            \"05. Low Engagement & Low Value\"]\n",
    "customer_data['FinalRFM'] = np.select(conditions, mappings, default=\"Others\")\n",
    "customer_data['FinalRFM'].value_counts()\n",
    "\n"
   ]
  },
  {
   "cell_type": "code",
   "execution_count": 68,
   "id": "0509f841",
   "metadata": {},
   "outputs": [
    {
     "data": {
      "text/html": [
       "<div>\n",
       "<style scoped>\n",
       "    .dataframe tbody tr th:only-of-type {\n",
       "        vertical-align: middle;\n",
       "    }\n",
       "\n",
       "    .dataframe tbody tr th {\n",
       "        vertical-align: top;\n",
       "    }\n",
       "\n",
       "    .dataframe thead tr th {\n",
       "        text-align: left;\n",
       "    }\n",
       "\n",
       "    .dataframe thead tr:last-of-type th {\n",
       "        text-align: right;\n",
       "    }\n",
       "</style>\n",
       "<table border=\"1\" class=\"dataframe\">\n",
       "  <thead>\n",
       "    <tr>\n",
       "      <th></th>\n",
       "      <th colspan=\"3\" halign=\"left\">Frequency</th>\n",
       "      <th colspan=\"4\" halign=\"left\">Lifetime</th>\n",
       "      <th colspan=\"3\" halign=\"left\">MonetaryValue</th>\n",
       "      <th colspan=\"3\" halign=\"left\">Recency</th>\n",
       "    </tr>\n",
       "    <tr>\n",
       "      <th></th>\n",
       "      <th>amax</th>\n",
       "      <th>amin</th>\n",
       "      <th>median</th>\n",
       "      <th>amax</th>\n",
       "      <th>amin</th>\n",
       "      <th>count</th>\n",
       "      <th>median</th>\n",
       "      <th>amax</th>\n",
       "      <th>amin</th>\n",
       "      <th>median</th>\n",
       "      <th>amax</th>\n",
       "      <th>amin</th>\n",
       "      <th>median</th>\n",
       "    </tr>\n",
       "    <tr>\n",
       "      <th>FinalRFM</th>\n",
       "      <th></th>\n",
       "      <th></th>\n",
       "      <th></th>\n",
       "      <th></th>\n",
       "      <th></th>\n",
       "      <th></th>\n",
       "      <th></th>\n",
       "      <th></th>\n",
       "      <th></th>\n",
       "      <th></th>\n",
       "      <th></th>\n",
       "      <th></th>\n",
       "      <th></th>\n",
       "    </tr>\n",
       "  </thead>\n",
       "  <tbody>\n",
       "    <tr>\n",
       "      <th>01. High Engagement &amp; High Value</th>\n",
       "      <td>1022</td>\n",
       "      <td>180</td>\n",
       "      <td>261.0</td>\n",
       "      <td>351.484722</td>\n",
       "      <td>336.450694</td>\n",
       "      <td>27</td>\n",
       "      <td>348.587500</td>\n",
       "      <td>3562912.89</td>\n",
       "      <td>402308.79</td>\n",
       "      <td>574727.130</td>\n",
       "      <td>2.475694</td>\n",
       "      <td>2.000000</td>\n",
       "      <td>2.068750</td>\n",
       "    </tr>\n",
       "    <tr>\n",
       "      <th>02. High Engagement &amp; Low Value</th>\n",
       "      <td>198</td>\n",
       "      <td>29</td>\n",
       "      <td>54.0</td>\n",
       "      <td>352.322917</td>\n",
       "      <td>295.575694</td>\n",
       "      <td>68</td>\n",
       "      <td>337.378472</td>\n",
       "      <td>364510.71</td>\n",
       "      <td>37326.46</td>\n",
       "      <td>106643.145</td>\n",
       "      <td>3.661806</td>\n",
       "      <td>2.000000</td>\n",
       "      <td>2.510417</td>\n",
       "    </tr>\n",
       "    <tr>\n",
       "      <th>03. High Frequency but Recently Inactive</th>\n",
       "      <td>165</td>\n",
       "      <td>27</td>\n",
       "      <td>35.5</td>\n",
       "      <td>351.436806</td>\n",
       "      <td>309.439583</td>\n",
       "      <td>14</td>\n",
       "      <td>326.235764</td>\n",
       "      <td>458681.75</td>\n",
       "      <td>36496.14</td>\n",
       "      <td>82842.475</td>\n",
       "      <td>215.613889</td>\n",
       "      <td>32.436111</td>\n",
       "      <td>64.030903</td>\n",
       "    </tr>\n",
       "    <tr>\n",
       "      <th>04. Low Frequency but Recently Active</th>\n",
       "      <td>26</td>\n",
       "      <td>2</td>\n",
       "      <td>16.5</td>\n",
       "      <td>337.513194</td>\n",
       "      <td>216.000000</td>\n",
       "      <td>34</td>\n",
       "      <td>309.948958</td>\n",
       "      <td>74577.47</td>\n",
       "      <td>4801.71</td>\n",
       "      <td>23371.020</td>\n",
       "      <td>3.570139</td>\n",
       "      <td>2.120139</td>\n",
       "      <td>2.531944</td>\n",
       "    </tr>\n",
       "    <tr>\n",
       "      <th>05. Low Engagement &amp; Low Value</th>\n",
       "      <td>25</td>\n",
       "      <td>1</td>\n",
       "      <td>7.5</td>\n",
       "      <td>352.322917</td>\n",
       "      <td>64.538194</td>\n",
       "      <td>72</td>\n",
       "      <td>304.823611</td>\n",
       "      <td>55148.01</td>\n",
       "      <td>281.00</td>\n",
       "      <td>11469.985</td>\n",
       "      <td>284.584722</td>\n",
       "      <td>32.172222</td>\n",
       "      <td>186.502778</td>\n",
       "    </tr>\n",
       "  </tbody>\n",
       "</table>\n",
       "</div>"
      ],
      "text/plain": [
       "                                         Frequency                Lifetime  \\\n",
       "                                              amax amin median        amax   \n",
       "FinalRFM                                                                     \n",
       "01. High Engagement & High Value              1022  180  261.0  351.484722   \n",
       "02. High Engagement & Low Value                198   29   54.0  352.322917   \n",
       "03. High Frequency but Recently Inactive       165   27   35.5  351.436806   \n",
       "04. Low Frequency but Recently Active           26    2   16.5  337.513194   \n",
       "05. Low Engagement & Low Value                  25    1    7.5  352.322917   \n",
       "\n",
       "                                                                        \\\n",
       "                                                amin count      median   \n",
       "FinalRFM                                                                 \n",
       "01. High Engagement & High Value          336.450694    27  348.587500   \n",
       "02. High Engagement & Low Value           295.575694    68  337.378472   \n",
       "03. High Frequency but Recently Inactive  309.439583    14  326.235764   \n",
       "04. Low Frequency but Recently Active     216.000000    34  309.948958   \n",
       "05. Low Engagement & Low Value             64.538194    72  304.823611   \n",
       "\n",
       "                                         MonetaryValue                         \\\n",
       "                                                  amax       amin      median   \n",
       "FinalRFM                                                                        \n",
       "01. High Engagement & High Value            3562912.89  402308.79  574727.130   \n",
       "02. High Engagement & Low Value              364510.71   37326.46  106643.145   \n",
       "03. High Frequency but Recently Inactive     458681.75   36496.14   82842.475   \n",
       "04. Low Frequency but Recently Active         74577.47    4801.71   23371.020   \n",
       "05. Low Engagement & Low Value                55148.01     281.00   11469.985   \n",
       "\n",
       "                                             Recency                         \n",
       "                                                amax       amin      median  \n",
       "FinalRFM                                                                     \n",
       "01. High Engagement & High Value            2.475694   2.000000    2.068750  \n",
       "02. High Engagement & Low Value             3.661806   2.000000    2.510417  \n",
       "03. High Frequency but Recently Inactive  215.613889  32.436111   64.030903  \n",
       "04. Low Frequency but Recently Active       3.570139   2.120139    2.531944  \n",
       "05. Low Engagement & Low Value            284.584722  32.172222  186.502778  "
      ]
     },
     "execution_count": 68,
     "metadata": {},
     "output_type": "execute_result"
    }
   ],
   "source": [
    "customer_data.pivot_table(index=[\"FinalRFM\"], \n",
    "                          values=[\"Recency\", \"Frequency\", \"MonetaryValue\", \"Lifetime\"], \n",
    "                          aggfunc={\"Recency\": [np.min, np.median, np.max], \n",
    "                                   \"Frequency\": [np.min, np.median, np.max], \n",
    "                                   \"MonetaryValue\": [np.min, np.median, np.max], \n",
    "                                   \"Lifetime\": [np.min, np.median, np.max, \"count\"]})"
   ]
  },
  {
   "cell_type": "markdown",
   "id": "e3571c11",
   "metadata": {},
   "source": [
    " I had concerns about the impact of customer life time on frequency and recency, and the impact of outliers in my monetary values."
   ]
  },
  {
   "cell_type": "markdown",
   "id": "3b1ed817",
   "metadata": {},
   "source": [
    "- **High Engagement & High Value (27)** are those who had their last transactions in the last 4 days, made more than 26 transactions, and contributed more than 600K on average.\n",
    "- **High Engagement & Low Value (68)** are those who are as active as Group1 and contributed less than 600K.\n",
    "- **Recent Activity & Low Frequency (34)** are those who had their last transactions in the last 4 days but made no more than 26 transactions. These customers also have a lower monetary value..\n",
    "- **“Old” Activity & High Frequency (14)** are those who did not have any transactions in the last 4 days. However, on average they had more than 26 transactions. These customers were very active at the beginning of their journey but are not that active recently. We need to find ways to reengage them.\n",
    "- **Low Engagement & Low Value (72)** are those who did not have any transactions in the last 4 days, made no more than 26 transactions, and contributed the lowest revenue. Apparently, several customers in this group are recently acquired customers (their average lifetime is less than 100 days) but only made 1 transaction.\n",
    " "
   ]
  },
  {
   "cell_type": "code",
   "execution_count": null,
   "id": "d39c3d46",
   "metadata": {},
   "outputs": [],
   "source": [
    "cust = customer_data.reset_index()"
   ]
  },
  {
   "cell_type": "code",
   "execution_count": 34,
   "id": "52e9638f",
   "metadata": {},
   "outputs": [
    {
     "data": {
      "text/plain": [
       "<AxesSubplot:>"
      ]
     },
     "execution_count": 34,
     "metadata": {},
     "output_type": "execute_result"
    },
    {
     "data": {
      "image/png": "[encoded data removed]",
      "text/plain": [
       "<Figure size 432x288 with 1 Axes>"
      ]
     },
     "metadata": {
      "needs_background": "light"
     },
     "output_type": "display_data"
    }
   ],
   "source": [
    "customer_data['FrequencyScore'].hist()"
   ]
  },
  {
   "cell_type": "code",
   "execution_count": null,
   "id": "9c96f1af",
   "metadata": {},
   "outputs": [],
   "source": [
    "# Create a Pandas Excel writer using XlsxWriter as the engine.\n",
    "writer = pd.ExcelWriter('fsegment05.xlsx', engine='xlsxwriter')\n",
    "\n",
    "# Convert the dataframe to an XlsxWriter Excel object.\n",
    "all_data.to_excel(writer, sheet_name='Sheet1')\n",
    "\n",
    "# Close the Pandas Excel writer and output the Excel file.\n",
    "writer.save()"
   ]
  },
  {
   "cell_type": "code",
   "execution_count": 82,
   "id": "410e764a",
   "metadata": {},
   "outputs": [],
   "source": [
    "grouped_Univ = all_data[['retailer_names', 'MonetaryValue', 'Frequency', 'Recency',\n",
    "       'FinalRFM']].groupby('FinalRFM').median()\n",
    "grouped_Univ.sort_values(['MonetaryValue'], ascending=False,inplace=True)\n"
   ]
  },
  {
   "cell_type": "code",
   "execution_count": 88,
   "id": "66c43c5f",
   "metadata": {},
   "outputs": [
    {
     "data": {
      "image/png": "[encoded data removed]",
      "text/plain": [
       "<Figure size 1080x720 with 1 Axes>"
      ]
     },
     "metadata": {
      "needs_background": "light"
     },
     "output_type": "display_data"
    }
   ],
   "source": [
    "#plt.figure(figsize=(25,20))\n",
    "grouped_Univ = all_data[['retailer_names', 'MonetaryValue', 'Frequency', 'Recency',\n",
    "       'FinalRFM']].groupby('FinalRFM').median()\n",
    "grouped_Univ.sort_values(['MonetaryValue'], ascending=False,inplace=True)\n",
    "myfig = grouped_Univ.plot(kind='bar',logy=True, colormap='Set3_r', fontsize=15, figsize=(15,10)) \n",
    "#plt.legend(bbox_to_anchor=(x,y))  \n",
    "#plt.yticks(rotation=0)\n",
    "plt.xticks(rotation=10)\n",
    "plt.xlabel('RFM Segment', fontsize=15)\n",
    "plt.ylabel('Values', fontsize=15)\n",
    "plt.legend(fontsize=15) # using a size in points\n",
    "#plt.legend(loc=\"upper left\", bbox_to_anchor=(1,1),fontsize=12) \n",
    "plt.show()\n",
    "\n"
   ]
  },
  {
   "cell_type": "markdown",
   "id": "cd015445",
   "metadata": {},
   "source": [
    "You can now start to analyze the characteristics and purchasing behavior of this group and try to understand what distinguishes them from typical customers. Do they tend to buy a subset of your products or services? Do they live in demographically similar neighborhoods? Are their lifestyles and/or life stages similar? Why do they perceive more value in your business than the folks who you see once or twice?"
   ]
  },
  {
   "cell_type": "code",
   "execution_count": 35,
   "id": "c85fa2a2",
   "metadata": {},
   "outputs": [],
   "source": [
    "segment1 = customer_data.loc[customer_data.CreditScore == '01. Excellent'].reset_index()\n",
    "segment2 = customer_data.loc[customer_data.CreditScore == '02. Good'].reset_index()\n",
    "segment3 = customer_data.loc[customer_data.CreditScore == '03. Moderate'].reset_index()\n",
    "segment4 = customer_data.loc[customer_data.CreditScore == '04. Fair'].reset_index()\n",
    "segment5 = customer_data.loc[customer_data.CreditScore == '05. Poor'].reset_index()\n",
    "\n",
    "fsegment01 = clean_credit.merge(right=segment1, how=\"inner\", left_on=\"retailer_names\", right_on=\"retailer_names\")\n",
    "fsegment02 = clean_credit.merge(right=segment2, how=\"inner\", left_on=\"retailer_names\", right_on=\"retailer_names\")\n",
    "fsegment03 = clean_credit.merge(right=segment3, how=\"inner\", left_on=\"retailer_names\", right_on=\"retailer_names\")\n",
    "fsegment04 = clean_credit.merge(right=segment4, how=\"inner\", left_on=\"retailer_names\", right_on=\"retailer_names\")\n",
    "fsegment05 = clean_credit.merge(right=segment5, how=\"inner\", left_on=\"retailer_names\", right_on=\"retailer_names\")"
   ]
  },
  {
   "cell_type": "code",
   "execution_count": 69,
   "id": "d7a62fe5",
   "metadata": {},
   "outputs": [
    {
     "data": {
      "text/html": [
       "<div>\n",
       "<style scoped>\n",
       "    .dataframe tbody tr th:only-of-type {\n",
       "        vertical-align: middle;\n",
       "    }\n",
       "\n",
       "    .dataframe tbody tr th {\n",
       "        vertical-align: top;\n",
       "    }\n",
       "\n",
       "    .dataframe thead th {\n",
       "        text-align: right;\n",
       "    }\n",
       "</style>\n",
       "<table border=\"1\" class=\"dataframe\">\n",
       "  <thead>\n",
       "    <tr style=\"text-align: right;\">\n",
       "      <th></th>\n",
       "      <th>Unnamed: 0</th>\n",
       "      <th>master_order_id</th>\n",
       "      <th>master_order_status</th>\n",
       "      <th>created</th>\n",
       "      <th>ordereditem_quantity</th>\n",
       "      <th>prod_names</th>\n",
       "      <th>ordereditem_unit_price_net</th>\n",
       "      <th>value</th>\n",
       "      <th>group</th>\n",
       "      <th>retailer_names</th>\n",
       "      <th>...</th>\n",
       "      <th>RelMonetaryValue</th>\n",
       "      <th>RecencyScore</th>\n",
       "      <th>FrequencyScore</th>\n",
       "      <th>MonetaryScore</th>\n",
       "      <th>RFM</th>\n",
       "      <th>last_order_within_4d</th>\n",
       "      <th>more_than_26_orders</th>\n",
       "      <th>value_higher_than_400k</th>\n",
       "      <th>CreditScore</th>\n",
       "      <th>FinalRFM</th>\n",
       "    </tr>\n",
       "  </thead>\n",
       "  <tbody>\n",
       "    <tr>\n",
       "      <th>0</th>\n",
       "      <td>1</td>\n",
       "      <td>25651</td>\n",
       "      <td>delivered</td>\n",
       "      <td>2017-12-18 10:41:00</td>\n",
       "      <td>5</td>\n",
       "      <td>ProdName1</td>\n",
       "      <td>43.00</td>\n",
       "      <td>215.00</td>\n",
       "      <td>Hyderabad</td>\n",
       "      <td>RetailerID2</td>\n",
       "      <td>...</td>\n",
       "      <td>361.820517</td>\n",
       "      <td>3</td>\n",
       "      <td>3</td>\n",
       "      <td>3</td>\n",
       "      <td>9</td>\n",
       "      <td>True</td>\n",
       "      <td>True</td>\n",
       "      <td>False</td>\n",
       "      <td>02. Good</td>\n",
       "      <td>02. High Engagement &amp; Low Value</td>\n",
       "    </tr>\n",
       "    <tr>\n",
       "      <th>1</th>\n",
       "      <td>2</td>\n",
       "      <td>25651</td>\n",
       "      <td>delivered</td>\n",
       "      <td>2017-12-18 10:41:00</td>\n",
       "      <td>5</td>\n",
       "      <td>ProdName2</td>\n",
       "      <td>35.54</td>\n",
       "      <td>177.70</td>\n",
       "      <td>Hyderabad</td>\n",
       "      <td>RetailerID2</td>\n",
       "      <td>...</td>\n",
       "      <td>361.820517</td>\n",
       "      <td>3</td>\n",
       "      <td>3</td>\n",
       "      <td>3</td>\n",
       "      <td>9</td>\n",
       "      <td>True</td>\n",
       "      <td>True</td>\n",
       "      <td>False</td>\n",
       "      <td>02. Good</td>\n",
       "      <td>02. High Engagement &amp; Low Value</td>\n",
       "    </tr>\n",
       "    <tr>\n",
       "      <th>2</th>\n",
       "      <td>143</td>\n",
       "      <td>25684</td>\n",
       "      <td>processed</td>\n",
       "      <td>2018-01-23 06:30:00</td>\n",
       "      <td>2</td>\n",
       "      <td>ProdName118</td>\n",
       "      <td>48.29</td>\n",
       "      <td>96.58</td>\n",
       "      <td>Hyderabad</td>\n",
       "      <td>RetailerID2</td>\n",
       "      <td>...</td>\n",
       "      <td>361.820517</td>\n",
       "      <td>3</td>\n",
       "      <td>3</td>\n",
       "      <td>3</td>\n",
       "      <td>9</td>\n",
       "      <td>True</td>\n",
       "      <td>True</td>\n",
       "      <td>False</td>\n",
       "      <td>02. Good</td>\n",
       "      <td>02. High Engagement &amp; Low Value</td>\n",
       "    </tr>\n",
       "  </tbody>\n",
       "</table>\n",
       "<p>3 rows × 37 columns</p>\n",
       "</div>"
      ],
      "text/plain": [
       "   Unnamed: 0  master_order_id master_order_status             created  \\\n",
       "0           1            25651           delivered 2017-12-18 10:41:00   \n",
       "1           2            25651           delivered 2017-12-18 10:41:00   \n",
       "2         143            25684           processed 2018-01-23 06:30:00   \n",
       "\n",
       "   ordereditem_quantity   prod_names  ordereditem_unit_price_net   value  \\\n",
       "0                     5    ProdName1                       43.00  215.00   \n",
       "1                     5    ProdName2                       35.54  177.70   \n",
       "2                     2  ProdName118                       48.29   96.58   \n",
       "\n",
       "       group retailer_names  ...  RelMonetaryValue  RecencyScore  \\\n",
       "0  Hyderabad    RetailerID2  ...        361.820517             3   \n",
       "1  Hyderabad    RetailerID2  ...        361.820517             3   \n",
       "2  Hyderabad    RetailerID2  ...        361.820517             3   \n",
       "\n",
       "   FrequencyScore MonetaryScore  RFM  last_order_within_4d  \\\n",
       "0               3             3    9                  True   \n",
       "1               3             3    9                  True   \n",
       "2               3             3    9                  True   \n",
       "\n",
       "   more_than_26_orders value_higher_than_400k  CreditScore  \\\n",
       "0                 True                  False     02. Good   \n",
       "1                 True                  False     02. Good   \n",
       "2                 True                  False     02. Good   \n",
       "\n",
       "                          FinalRFM  \n",
       "0  02. High Engagement & Low Value  \n",
       "1  02. High Engagement & Low Value  \n",
       "2  02. High Engagement & Low Value  \n",
       "\n",
       "[3 rows x 37 columns]"
      ]
     },
     "execution_count": 69,
     "metadata": {},
     "output_type": "execute_result"
    }
   ],
   "source": [
    "all_data = clean_credit.merge(right=customer_data, how=\"inner\", left_on=\"retailer_names\", right_on=\"retailer_names\")\n",
    "all_data.head(3)"
   ]
  },
  {
   "cell_type": "code",
   "execution_count": null,
   "id": "958969c9",
   "metadata": {},
   "outputs": [],
   "source": [
    "myFigure = sns.catplot(\n",
    "    x=\"FinalRFM\", y=\"survived\", hue=\"class\", kind=\"bar\",\n",
    "    hue_order=[\"First\", \"Second\", \"Third\"], data=all_data)\n",
    "myFigure.fig.suptitle(\"Titanic Survivors\", fontsize=15)"
   ]
  },
  {
   "cell_type": "code",
   "execution_count": 33,
   "id": "6a087bb9",
   "metadata": {},
   "outputs": [],
   "source": [
    "# create excel writer object\n",
    "writer = pd.ExcelWriter('rel_all_data2.xlsx')\n",
    "# write dataframe to excel\n",
    "rel_all_data.to_excel(writer)\n",
    "# save the excel\n",
    "writer.save()"
   ]
  },
  {
   "cell_type": "code",
   "execution_count": null,
   "id": "1bc58340",
   "metadata": {},
   "outputs": [],
   "source": [
    "segment5"
   ]
  },
  {
   "cell_type": "code",
   "execution_count": null,
   "id": "13d33ea6",
   "metadata": {},
   "outputs": [],
   "source": [
    "all_data_shop = pd.pivot_table(all_data, index = ['retailer_names','FinalRFM'], columns = 'group' , values = 'created', aggfunc ='count')\n",
    "all_data_shop.sort_values(['Hyderabad'], ascending=False,inplace=True)\n"
   ]
  },
  {
   "cell_type": "code",
   "execution_count": null,
   "id": "e73f6c18",
   "metadata": {},
   "outputs": [],
   "source": [
    "all_data_shop"
   ]
  },
  {
   "cell_type": "code",
   "execution_count": null,
   "id": "c675bc52",
   "metadata": {},
   "outputs": [],
   "source": [
    "all_group = all_data_shop.reset_index()"
   ]
  },
  {
   "cell_type": "code",
   "execution_count": null,
   "id": "e92cf750",
   "metadata": {},
   "outputs": [],
   "source": [
    "all_group"
   ]
  },
  {
   "cell_type": "code",
   "execution_count": null,
   "id": "7f6453f5",
   "metadata": {},
   "outputs": [],
   "source": [
    "all_group.pivot_table(index=\"FinalRFM\", \n",
    "                                              values=[\"created\", \"bill_amount\",'invoice_id'], \n",
    "                                              aggfunc={\"created\": [min, max], \"bill_amount\": sum, 'invoice_id':pd.Series.nunique})\n",
    "\n",
    "\n",
    "\n",
    "customer_data.head()"
   ]
  },
  {
   "cell_type": "code",
   "execution_count": null,
   "id": "133c86b8",
   "metadata": {},
   "outputs": [],
   "source": [
    "all_group.loc[(all_group.isna().sum(axis=1)) == 1]"
   ]
  },
  {
   "cell_type": "code",
   "execution_count": null,
   "id": "00a243e3",
   "metadata": {},
   "outputs": [],
   "source": [
    "null_group = all_group[all_group.isnull().any(axis=1)]\n",
    "null_group"
   ]
  },
  {
   "cell_type": "code",
   "execution_count": null,
   "id": "77b6320e",
   "metadata": {},
   "outputs": [],
   "source": [
    "null_group.groupby('FinalRFM')['retailer_names'].count()\n"
   ]
  },
  {
   "cell_type": "code",
   "execution_count": null,
   "id": "0ba13511",
   "metadata": {},
   "outputs": [],
   "source": []
  },
  {
   "cell_type": "markdown",
   "id": "e7aa255c",
   "metadata": {},
   "source": [
    "### Most Valuable Customer - High engagement & High value (27)"
   ]
  },
  {
   "cell_type": "code",
   "execution_count": 58,
   "id": "038df010",
   "metadata": {},
   "outputs": [
    {
     "data": {
      "text/plain": [
       "(11298, 36)"
      ]
     },
     "execution_count": 58,
     "metadata": {},
     "output_type": "execute_result"
    }
   ],
   "source": [
    "fsegment01.shape"
   ]
  },
  {
   "cell_type": "code",
   "execution_count": 57,
   "id": "87a39cc9",
   "metadata": {},
   "outputs": [
    {
     "name": "stderr",
     "output_type": "stream",
     "text": [
      "C:\\Users\\Acer\\AppData\\Local\\Temp\\ipykernel_6376\\2598173587.py:1: FutureWarning: Dropping invalid columns in DataFrameGroupBy.add is deprecated. In a future version, a TypeError will be raised. Before calling .add, select only columns which should be valid for the function.\n",
      "  shop = pd.pivot_table(fsegment01, index = 'retailer_names', columns = 'bill_amount' , values = 'created', aggfunc ='sum')\n"
     ]
    },
    {
     "data": {
      "text/html": [
       "<div>\n",
       "<style scoped>\n",
       "    .dataframe tbody tr th:only-of-type {\n",
       "        vertical-align: middle;\n",
       "    }\n",
       "\n",
       "    .dataframe tbody tr th {\n",
       "        vertical-align: top;\n",
       "    }\n",
       "\n",
       "    .dataframe thead th {\n",
       "        text-align: right;\n",
       "    }\n",
       "</style>\n",
       "<table border=\"1\" class=\"dataframe\">\n",
       "  <thead>\n",
       "    <tr style=\"text-align: right;\">\n",
       "      <th>bill_amount</th>\n",
       "    </tr>\n",
       "    <tr>\n",
       "      <th>retailer_names</th>\n",
       "    </tr>\n",
       "  </thead>\n",
       "  <tbody>\n",
       "    <tr>\n",
       "      <th>RetailerID1</th>\n",
       "    </tr>\n",
       "    <tr>\n",
       "      <th>RetailerID101</th>\n",
       "    </tr>\n",
       "    <tr>\n",
       "      <th>RetailerID115</th>\n",
       "    </tr>\n",
       "    <tr>\n",
       "      <th>RetailerID119</th>\n",
       "    </tr>\n",
       "    <tr>\n",
       "      <th>RetailerID123</th>\n",
       "    </tr>\n",
       "    <tr>\n",
       "      <th>RetailerID127</th>\n",
       "    </tr>\n",
       "    <tr>\n",
       "      <th>RetailerID13</th>\n",
       "    </tr>\n",
       "    <tr>\n",
       "      <th>RetailerID133</th>\n",
       "    </tr>\n",
       "    <tr>\n",
       "      <th>RetailerID146</th>\n",
       "    </tr>\n",
       "    <tr>\n",
       "      <th>RetailerID16</th>\n",
       "    </tr>\n",
       "    <tr>\n",
       "      <th>RetailerID20</th>\n",
       "    </tr>\n",
       "    <tr>\n",
       "      <th>RetailerID21</th>\n",
       "    </tr>\n",
       "    <tr>\n",
       "      <th>RetailerID27</th>\n",
       "    </tr>\n",
       "    <tr>\n",
       "      <th>RetailerID34</th>\n",
       "    </tr>\n",
       "    <tr>\n",
       "      <th>RetailerID35</th>\n",
       "    </tr>\n",
       "    <tr>\n",
       "      <th>RetailerID36</th>\n",
       "    </tr>\n",
       "    <tr>\n",
       "      <th>RetailerID37</th>\n",
       "    </tr>\n",
       "    <tr>\n",
       "      <th>RetailerID42</th>\n",
       "    </tr>\n",
       "    <tr>\n",
       "      <th>RetailerID43</th>\n",
       "    </tr>\n",
       "    <tr>\n",
       "      <th>RetailerID52</th>\n",
       "    </tr>\n",
       "    <tr>\n",
       "      <th>RetailerID55</th>\n",
       "    </tr>\n",
       "    <tr>\n",
       "      <th>RetailerID77</th>\n",
       "    </tr>\n",
       "    <tr>\n",
       "      <th>RetailerID79</th>\n",
       "    </tr>\n",
       "    <tr>\n",
       "      <th>RetailerID8</th>\n",
       "    </tr>\n",
       "    <tr>\n",
       "      <th>RetailerID81</th>\n",
       "    </tr>\n",
       "    <tr>\n",
       "      <th>RetailerID9</th>\n",
       "    </tr>\n",
       "    <tr>\n",
       "      <th>RetailerID95</th>\n",
       "    </tr>\n",
       "  </tbody>\n",
       "</table>\n",
       "</div>"
      ],
      "text/plain": [
       "Empty DataFrame\n",
       "Columns: []\n",
       "Index: [RetailerID1, RetailerID101, RetailerID115, RetailerID119, RetailerID123, RetailerID127, RetailerID13, RetailerID133, RetailerID146, RetailerID16, RetailerID20, RetailerID21, RetailerID27, RetailerID34, RetailerID35, RetailerID36, RetailerID37, RetailerID42, RetailerID43, RetailerID52, RetailerID55, RetailerID77, RetailerID79, RetailerID8, RetailerID81, RetailerID9, RetailerID95]"
      ]
     },
     "execution_count": 57,
     "metadata": {},
     "output_type": "execute_result"
    }
   ],
   "source": [
    "shop = pd.pivot_table(fsegment01, index = 'retailer_names', columns = 'group' , values = 'created', aggfunc ='count')\n",
    "shop.sort_values(['Hyderabad'], ascending=False,inplace=True)\n",
    "shop.shape"
   ]
  },
  {
   "cell_type": "markdown",
   "id": "5a10a368",
   "metadata": {},
   "source": [
    "Number of transactions made by each retailers by group. All the retailers have pharmacy outlets in all the locations"
   ]
  },
  {
   "cell_type": "markdown",
   "id": "5ce93aa4",
   "metadata": {},
   "source": [
    "#### Market basket analysis"
   ]
  },
  {
   "cell_type": "markdown",
   "id": "0d15bc98",
   "metadata": {},
   "source": [
    "Top 20 items ordered"
   ]
  },
  {
   "cell_type": "code",
   "execution_count": null,
   "id": "d77a10e4",
   "metadata": {},
   "outputs": [],
   "source": [
    "myfig = grouped_Univ.plot(kind='bar',logy=False, colormap='Set3_r',figsize=(15,10), fontsize=15) \n",
    "#plt.legend(bbox_to_anchor=(x,y))  \n",
    "#plt.yticks(rotation=0)\n",
    "plt.xticks(rotation=0, weight = 'bold')\n",
    "plt.xlabel('RFM Cluster', fontsize=15)\n",
    "plt.ylabel('Average RFM Scores', fontsize=15)\n",
    "plt.legend(fontsize=15) # using a size in points\n",
    "#plt.legend(loc=\"upper left\", bbox_to_anchor=(1,1),fontsize=12) \n",
    "plt.show()"
   ]
  },
  {
   "cell_type": "code",
   "execution_count": null,
   "id": "ae64f44d",
   "metadata": {},
   "outputs": [],
   "source": [
    "fsegment01['prod_names'].value_counts().head(10).plot(kind = 'barh',colormap='Accent_r',figsize=(15,10))\n"
   ]
  },
  {
   "cell_type": "code",
   "execution_count": null,
   "id": "ff5228ac",
   "metadata": {},
   "outputs": [],
   "source": [
    "basket01 = (fsegment01\n",
    "        .groupby(['invoice_id', 'prod_names'])['ordereditem_quantity']\n",
    "                .sum().unstack().reset_index().fillna(0)\n",
    "          .set_index('invoice_id'))"
   ]
  },
  {
   "cell_type": "code",
   "execution_count": null,
   "id": "25262026",
   "metadata": {},
   "outputs": [],
   "source": [
    "basket01"
   ]
  },
  {
   "cell_type": "code",
   "execution_count": null,
   "id": "f718f7fb",
   "metadata": {},
   "outputs": [],
   "source": [
    "def encode_units(x):\n",
    "    if x <= 0:\n",
    "        return 0\n",
    "    if x >= 1:\n",
    "        return 1"
   ]
  },
  {
   "cell_type": "code",
   "execution_count": null,
   "id": "bc64bf48",
   "metadata": {},
   "outputs": [],
   "source": [
    "basket01_sets = basket01.applymap(encode_units)"
   ]
  },
  {
   "cell_type": "code",
   "execution_count": null,
   "id": "053bcdad",
   "metadata": {},
   "outputs": [],
   "source": [
    "#we can generate frequent item sets that have a support of at least 10 occurence in 10000 transactions\n",
    "frequent01_itemsets = apriori(basket01_sets, min_support=0.001, use_colnames=True)\n",
    "frequent01_itemsets.sort_values('support', ascending = False, inplace=True)"
   ]
  },
  {
   "cell_type": "code",
   "execution_count": null,
   "id": "05a806f7",
   "metadata": {},
   "outputs": [],
   "source": [
    "#generate the rules with their corresponding support, confidence and lift\n",
    "#rules_h = association_rules(frequent_itemsets_h, metric=\"lift\", min_threshold=1)\n",
    "rules01 = association_rules(frequent01_itemsets, metric=\"lift\")\n",
    "rules01.head()\n",
    "\n",
    "#In this case, look for a large lift (6) and high confidence (.8):\n",
    "#rules_h[ (rules_h['lift'] >= 6) &\n",
    "     #  (rules_h['confidence'] >= 0.8) ]"
   ]
  },
  {
   "cell_type": "code",
   "execution_count": null,
   "id": "b83de8e5",
   "metadata": {},
   "outputs": [],
   "source": [
    "import matplotlib.pyplot as plt\n",
    "colors = [\"red\",\"green\",\"blue\",\"black\",\"yellow\",\"magenta\",\"cyan\", \"pink\",\"orange\",\"brown\"]\n",
    "plt.bar(x = list(range(1,21)), height = frequent01_itemsets.support[1:21], color=colors)\n",
    "plt.xticks(list(range(1,21)),frequent01_itemsets.itemsets[1:21],rotation = 45)\n",
    "plt.xlabel('item-sets');plt.ylabel('support')\n",
    "#plt.xticks(rotation = 45)"
   ]
  },
  {
   "cell_type": "markdown",
   "id": "7ba7a350",
   "metadata": {},
   "source": [
    "#### Efficient retailers with completed customer order status comes from efficient manufacturer"
   ]
  },
  {
   "cell_type": "code",
   "execution_count": null,
   "id": "cd9a87db",
   "metadata": {},
   "outputs": [],
   "source": [
    "delivery = fsegment01.groupby('retailer_names')['order_status','master_order_status'].apply(lambda x: (x=='processed').sum())"
   ]
  },
  {
   "cell_type": "markdown",
   "id": "52c70e3e",
   "metadata": {},
   "source": [
    "Relationship between manufacturer and retailer. More completed order from manufacturer means more completed order from retailer"
   ]
  },
  {
   "cell_type": "code",
   "execution_count": null,
   "id": "c90df779",
   "metadata": {},
   "outputs": [],
   "source": [
    "sns.relplot(x=\"master_order_status\", y=\"order_status\", kind=\"line\", \n",
    "            dashes=False,markers = True, data=delivery)"
   ]
  },
  {
   "cell_type": "code",
   "execution_count": null,
   "id": "dfa47eb2",
   "metadata": {},
   "outputs": [],
   "source": [
    "# each month brapa retailer yg restock (unique) --> almost every retailers restock\n",
    "fsegment01.groupby('created_year_month')['retailer_names'].nunique().plot.bar()"
   ]
  },
  {
   "cell_type": "code",
   "execution_count": null,
   "id": "e22ea3fc",
   "metadata": {},
   "outputs": [],
   "source": [
    "fsegment01.groupby('created_year_month')['retailer_names'].nunique().plot.bar()"
   ]
  },
  {
   "cell_type": "code",
   "execution_count": null,
   "id": "040428c8",
   "metadata": {},
   "outputs": [],
   "source": [
    "myFigure = fsegment01.groupby('created_dayofweek')['retailer_names'].nunique().plot(kind='bar')\n",
    "myFigure.set_xticklabels(labels=[\"Mon\", \"Tue\",'Wed','Thu','Fri','Sat','Sun'])\n",
    "#myFigure.fig\n",
    "plt.show()"
   ]
  },
  {
   "cell_type": "code",
   "execution_count": null,
   "id": "3dc6c5c2",
   "metadata": {},
   "outputs": [],
   "source": [
    "invoiceno_hour = fsegment01.groupby('created_hour')['invoice_id'].nunique()\n",
    "invoiceno_hour.index\n",
    "invoiceno_hour.plot.bar()\n",
    "\n",
    "# the highest number of orders are at 6am"
   ]
  },
  {
   "cell_type": "code",
   "execution_count": 52,
   "id": "b69d027c",
   "metadata": {},
   "outputs": [
    {
     "data": {
      "text/plain": [
       "<AxesSubplot:>"
      ]
     },
     "execution_count": 52,
     "metadata": {},
     "output_type": "execute_result"
    },
    {
     "data": {
      "image/png": "[encoded data removed]",
      "text/plain": [
       "<Figure size 432x288 with 1 Axes>"
      ]
     },
     "metadata": {
      "needs_background": "light"
     },
     "output_type": "display_data"
    }
   ],
   "source": [
    "fsegment01['bill_amount'].hist()"
   ]
  },
  {
   "cell_type": "markdown",
   "id": "2a3b72c1",
   "metadata": {},
   "source": [
    "#### How many different products they ordered"
   ]
  },
  {
   "cell_type": "code",
   "execution_count": null,
   "id": "50e2fdfc",
   "metadata": {},
   "outputs": [],
   "source": [
    "# brapa jenis produk diorang beli\n",
    "monopoly01 = fsegment01.groupby('retailer_names')['prod_names'].nunique().reset_index()\n",
    "monopoly01.describe()"
   ]
  },
  {
   "cell_type": "markdown",
   "id": "665eca6b",
   "metadata": {},
   "source": [
    "### Silver"
   ]
  },
  {
   "cell_type": "code",
   "execution_count": null,
   "id": "3dde2d6b",
   "metadata": {},
   "outputs": [],
   "source": [
    "shop02 = pd.pivot_table(fsegment02, index = 'retailer_names', columns = 'group' , values = 'created', aggfunc ='count')\n",
    "shop02.sort_values(['Hyderabad'], ascending=False,inplace=True)\n",
    "shop02\n",
    "test02 = shop02.reset_index()"
   ]
  },
  {
   "cell_type": "code",
   "execution_count": null,
   "id": "9686bc98",
   "metadata": {},
   "outputs": [],
   "source": [
    "test02"
   ]
  },
  {
   "cell_type": "code",
   "execution_count": null,
   "id": "f5848c00",
   "metadata": {},
   "outputs": [],
   "source": [
    "len(shop02)"
   ]
  },
  {
   "cell_type": "code",
   "execution_count": null,
   "id": "72258b84",
   "metadata": {},
   "outputs": [],
   "source": [
    "len(test02.loc[(test02.isna().sum(axis=1)) == 1])"
   ]
  },
  {
   "cell_type": "code",
   "execution_count": null,
   "id": "153a940b",
   "metadata": {},
   "outputs": [],
   "source": [
    "len(test02.isna().sum(axis=1) > 2)"
   ]
  },
  {
   "cell_type": "code",
   "execution_count": null,
   "id": "123ece21",
   "metadata": {},
   "outputs": [],
   "source": [
    "(len(shop02.dropna())/len(shop02))*100 #40 percent of retailers with outlets in all three group"
   ]
  },
  {
   "cell_type": "code",
   "execution_count": null,
   "id": "49534bbb",
   "metadata": {},
   "outputs": [],
   "source": [
    "#len(test02[(test02['Delhi-West'] == np.nan)])\n",
    "test02['Gurugram'].isna().sum()"
   ]
  },
  {
   "cell_type": "markdown",
   "id": "ab10a83b",
   "metadata": {},
   "source": [
    "#### Market basket Analysis"
   ]
  },
  {
   "cell_type": "code",
   "execution_count": null,
   "id": "c0ed1194",
   "metadata": {},
   "outputs": [],
   "source": [
    "fsegment02['prod_names'].value_counts().head(20).plot.bar()"
   ]
  },
  {
   "cell_type": "code",
   "execution_count": null,
   "id": "a68f4fca",
   "metadata": {},
   "outputs": [],
   "source": [
    "basket02 = (fsegment02\n",
    "        .groupby(['invoice_id', 'prod_names'])['ordereditem_quantity']\n",
    "                .sum().unstack().reset_index().fillna(0)\n",
    "          .set_index('invoice_id'))"
   ]
  },
  {
   "cell_type": "code",
   "execution_count": null,
   "id": "5d04e419",
   "metadata": {},
   "outputs": [],
   "source": [
    "basket02_sets = basket02.applymap(encode_units)\n",
    "basket02_sets"
   ]
  },
  {
   "cell_type": "code",
   "execution_count": null,
   "id": "61de69f0",
   "metadata": {},
   "outputs": [],
   "source": [
    "from mlxtend.frequent_patterns import apriori, association_rules\n",
    "#we can generate frequent item sets that have a support of at least 10 occurence in 10000 transactions\n",
    "frequent02_itemsets = apriori(basket02_sets, min_support=0.001, use_colnames=True)\n",
    "frequent02_itemsets.sort_values('support', ascending = False, inplace=True)\n"
   ]
  },
  {
   "cell_type": "code",
   "execution_count": null,
   "id": "07298e2b",
   "metadata": {},
   "outputs": [],
   "source": [
    "rules02 = association_rules(frequent02_itemsets, metric=\"lift\")\n",
    "rules02.head()"
   ]
  },
  {
   "cell_type": "code",
   "execution_count": null,
   "id": "a29bae71",
   "metadata": {},
   "outputs": [],
   "source": [
    "import matplotlib.pyplot as plt\n",
    "colors = [\"red\",\"green\",\"blue\",\"black\",\"yellow\",\"magenta\",\"cyan\", \"pink\",\"orange\",\"brown\"]\n",
    "plt.bar(x = list(range(1,21)), height = frequent02_itemsets.support[1:21], color=colors)\n",
    "plt.xticks(list(range(1,21)),frequent02_itemsets.itemsets[1:21],rotation = 45)\n",
    "plt.xlabel('item-sets');plt.ylabel('support')"
   ]
  },
  {
   "cell_type": "code",
   "execution_count": null,
   "id": "a7c3e42a",
   "metadata": {},
   "outputs": [],
   "source": [
    "# less product ordered\n",
    "monopoly02 = fsegment02.groupby('retailer_names')['prod_names'].nunique().reset_index()\n",
    "monopoly02.describe()"
   ]
  },
  {
   "cell_type": "code",
   "execution_count": null,
   "id": "6168bf0b",
   "metadata": {},
   "outputs": [],
   "source": [
    "monopoly02.loc[monopoly02[\"prod_names\"] == 1]"
   ]
  },
  {
   "cell_type": "code",
   "execution_count": null,
   "id": "28cc8742",
   "metadata": {},
   "outputs": [],
   "source": [
    "delivery02 = fsegment02.groupby('retailer_names')['order_status','master_order_status'].apply(lambda x: (x=='processed').sum())\n",
    "# Relationship between manufacturer and retailer. More completed order from manufacturer means more completed order from retailer\n",
    "sns.relplot(x=\"master_order_status\", y=\"order_status\", kind=\"line\", \n",
    "             data=delivery02)"
   ]
  },
  {
   "cell_type": "code",
   "execution_count": null,
   "id": "c4bddb1c",
   "metadata": {},
   "outputs": [],
   "source": [
    "# each month brapa retailer yg restock (unique) --> almost every retailers restock\n",
    "fsegment02.groupby('created_year_month')['retailer_names'].nunique().plot.bar()"
   ]
  },
  {
   "cell_type": "code",
   "execution_count": null,
   "id": "f54887d6",
   "metadata": {},
   "outputs": [],
   "source": [
    "myFigure = fsegment02.groupby('created_dayofweek')['retailer_names'].nunique().plot(kind='bar')\n",
    "myFigure.set_xticklabels(labels=[\"Mon\", \"Tue\",'Wed','Thu','Fri','Sat','Sun'])\n",
    "#myFigure.fig\n",
    "plt.show()\n"
   ]
  },
  {
   "cell_type": "code",
   "execution_count": null,
   "id": "5b2c847d",
   "metadata": {},
   "outputs": [],
   "source": [
    "invoiceno_hour = fsegment02.groupby('created_hour')['invoice_id'].nunique()\n",
    "invoiceno_hour.index\n",
    "invoiceno_hour.plot.bar()\n",
    "\n",
    "# the highest number of orders are at 6am"
   ]
  },
  {
   "cell_type": "markdown",
   "id": "99365f5e",
   "metadata": {},
   "source": [
    "### Recent and low frequency (62)"
   ]
  },
  {
   "cell_type": "code",
   "execution_count": null,
   "id": "cb09c856",
   "metadata": {},
   "outputs": [],
   "source": [
    "fsegment03.shape"
   ]
  },
  {
   "cell_type": "code",
   "execution_count": null,
   "id": "e3133699",
   "metadata": {},
   "outputs": [],
   "source": [
    "shop03 = pd.pivot_table(fsegment03, index = 'retailer_names', columns = 'group' , values = 'created', aggfunc ='count')\n",
    "shop03.sort_values(['Hyderabad'], ascending=False,inplace=True)\n",
    "shop03"
   ]
  },
  {
   "cell_type": "code",
   "execution_count": null,
   "id": "54af0e73",
   "metadata": {},
   "outputs": [],
   "source": [
    "test03 = shop03.reset_index()"
   ]
  },
  {
   "cell_type": "code",
   "execution_count": null,
   "id": "3b1f79b5",
   "metadata": {},
   "outputs": [],
   "source": [
    "len(shop03)"
   ]
  },
  {
   "cell_type": "code",
   "execution_count": null,
   "id": "58dab486",
   "metadata": {},
   "outputs": [],
   "source": [
    "len(test03.loc[(test03.isna().sum(axis=1)) == 2])"
   ]
  },
  {
   "cell_type": "code",
   "execution_count": null,
   "id": "2939485f",
   "metadata": {},
   "outputs": [],
   "source": [
    "(len(shop03.dropna())/len(shop03))*100 # only 21% of retailers with outlets in all three group"
   ]
  },
  {
   "cell_type": "markdown",
   "id": "32ce69c2",
   "metadata": {},
   "source": [
    "#### Market Basket Analysis"
   ]
  },
  {
   "cell_type": "code",
   "execution_count": null,
   "id": "e001c35f",
   "metadata": {},
   "outputs": [],
   "source": [
    "fsegment03['prod_names'].value_counts().head(20).plot.bar()"
   ]
  },
  {
   "cell_type": "code",
   "execution_count": null,
   "id": "e7164cdd",
   "metadata": {},
   "outputs": [],
   "source": [
    "basket03 = (fsegment03\n",
    "        .groupby(['invoice_id', 'prod_names'])['ordereditem_quantity']\n",
    "                .sum().unstack().reset_index().fillna(0)\n",
    "          .set_index('invoice_id'))"
   ]
  },
  {
   "cell_type": "code",
   "execution_count": null,
   "id": "ad4533ad",
   "metadata": {},
   "outputs": [],
   "source": [
    "def encode_units(x):\n",
    "    if x <= 0:\n",
    "        return 0\n",
    "    if x >= 1:\n",
    "        return 1\n",
    "basket03_sets = basket03.applymap(encode_units)"
   ]
  },
  {
   "cell_type": "code",
   "execution_count": null,
   "id": "3c2d7b87",
   "metadata": {},
   "outputs": [],
   "source": [
    "from mlxtend.frequent_patterns import apriori, association_rules\n",
    "frequent03_itemsets = apriori(basket03_sets, min_support=0.001, use_colnames=True)\n",
    "frequent03_itemsets.sort_values('support', ascending = False, inplace=True)"
   ]
  },
  {
   "cell_type": "code",
   "execution_count": null,
   "id": "49998c95",
   "metadata": {},
   "outputs": [],
   "source": [
    "rules03 = association_rules(frequent03_itemsets, metric=\"lift\")\n",
    "rules03.head()"
   ]
  },
  {
   "cell_type": "code",
   "execution_count": null,
   "id": "c25623b6",
   "metadata": {},
   "outputs": [],
   "source": [
    "import matplotlib.pyplot as plt\n",
    "colors = [\"red\",\"green\",\"blue\",\"black\",\"yellow\",\"magenta\",\"cyan\", \"pink\",\"orange\",\"brown\"]\n",
    "plt.bar(x = list(range(1,21)), height = frequent03_itemsets.support[1:21], color=colors)\n",
    "plt.xticks(list(range(1,21)),frequent03_itemsets.itemsets[1:21],rotation = 45)\n",
    "plt.xlabel('item-sets');plt.ylabel('support')"
   ]
  },
  {
   "cell_type": "code",
   "execution_count": null,
   "id": "c6ce562e",
   "metadata": {},
   "outputs": [],
   "source": [
    "# less product ordered\n",
    "monopoly03 = fsegment03.groupby('retailer_names')['prod_names'].nunique().reset_index()\n",
    "monopoly03.head()"
   ]
  },
  {
   "cell_type": "code",
   "execution_count": null,
   "id": "0ef706f0",
   "metadata": {},
   "outputs": [],
   "source": [
    "monopoly03.loc[monopoly03[\"prod_names\"] == 1]"
   ]
  },
  {
   "cell_type": "code",
   "execution_count": null,
   "id": "f64400ab",
   "metadata": {},
   "outputs": [],
   "source": [
    "sns.relplot(x='created', y='bill_amount', data=fsegment03, kind='line')"
   ]
  },
  {
   "cell_type": "code",
   "execution_count": null,
   "id": "0c7059cd",
   "metadata": {},
   "outputs": [],
   "source": [
    "delivery03 = fsegment03.groupby('retailer_names')['order_status','master_order_status'].apply(lambda x: (x=='processed').sum())\n",
    "# Relationship between manufacturer and retailer. More completed order from manufacturer means more completed order from retailer\n",
    "sns.relplot(x=\"master_order_status\", y=\"order_status\", kind=\"line\", \n",
    "             data=delivery03)"
   ]
  },
  {
   "cell_type": "code",
   "execution_count": 49,
   "id": "5c468766",
   "metadata": {},
   "outputs": [
    {
     "data": {
      "text/plain": [
       "<AxesSubplot:xlabel='created_year_month'>"
      ]
     },
     "execution_count": 49,
     "metadata": {},
     "output_type": "execute_result"
    },
    {
     "data": {
      "image/png": "[encoded data removed]",
      "text/plain": [
       "<Figure size 432x288 with 1 Axes>"
      ]
     },
     "metadata": {
      "needs_background": "light"
     },
     "output_type": "display_data"
    }
   ],
   "source": [
    "# each month brapa retailer yg restock (unique) --> almost every retailers restock\n",
    "fsegment03.groupby('created_year_month')['invoice_id'].nunique().plot.bar()"
   ]
  },
  {
   "cell_type": "code",
   "execution_count": null,
   "id": "b9f58635",
   "metadata": {},
   "outputs": [],
   "source": [
    "myFigure = fsegment03.groupby('created_dayofweek')['retailer_names'].nunique().plot(kind='bar')\n",
    "myFigure.set_xticklabels(labels=[\"Mon\", \"Tue\",'Wed','Thu','Fri','Sat','Sun'])\n",
    "#myFigure.fig\n",
    "plt.show()"
   ]
  },
  {
   "cell_type": "code",
   "execution_count": null,
   "id": "cfd5d2bf",
   "metadata": {},
   "outputs": [],
   "source": [
    "invoiceno_hour = fsegment03.groupby('created_hour')['invoice_id'].nunique()\n",
    "invoiceno_hour.index\n",
    "invoiceno_hour.plot.bar()\n",
    "\n",
    "# the highest number of orders are at 6am"
   ]
  },
  {
   "cell_type": "code",
   "execution_count": 50,
   "id": "d7620507",
   "metadata": {},
   "outputs": [
    {
     "data": {
      "text/plain": [
       "1458.47"
      ]
     },
     "execution_count": 50,
     "metadata": {},
     "output_type": "execute_result"
    }
   ],
   "source": [
    "fsegment03['bill_amount'].median()"
   ]
  },
  {
   "cell_type": "code",
   "execution_count": 47,
   "id": "60683bfe",
   "metadata": {},
   "outputs": [],
   "source": [
    "f03 = all_data.loc[all_data['CreditScore']=='03. Moderate']"
   ]
  },
  {
   "cell_type": "code",
   "execution_count": 48,
   "id": "402b1003",
   "metadata": {},
   "outputs": [
    {
     "data": {
      "text/plain": [
       "Timestamp('2018-11-03 07:58:00')"
      ]
     },
     "execution_count": 48,
     "metadata": {},
     "output_type": "execute_result"
    }
   ],
   "source": [
    "f03['created'].max()"
   ]
  },
  {
   "cell_type": "code",
   "execution_count": 42,
   "id": "3145a2f4",
   "metadata": {},
   "outputs": [
    {
     "data": {
      "text/plain": [
       "<AxesSubplot:>"
      ]
     },
     "execution_count": 42,
     "metadata": {},
     "output_type": "execute_result"
    },
    {
     "data": {
      "image/png": "[encoded data removed]",
      "text/plain": [
       "<Figure size 432x288 with 1 Axes>"
      ]
     },
     "metadata": {
      "needs_background": "light"
     },
     "output_type": "display_data"
    }
   ],
   "source": [
    "fsegment05['RecencyScore'].hist()"
   ]
  },
  {
   "cell_type": "markdown",
   "id": "445c0873",
   "metadata": {},
   "source": [
    "### promising"
   ]
  },
  {
   "cell_type": "code",
   "execution_count": null,
   "id": "6e762704",
   "metadata": {},
   "outputs": [],
   "source": [
    "# each month brapa retailer yg restock (unique) --> almost every retailers restock\n",
    "fsegment04.groupby('created_year_month')['retailer_names'].nunique().plot.bar()"
   ]
  },
  {
   "cell_type": "code",
   "execution_count": null,
   "id": "a136604b",
   "metadata": {},
   "outputs": [],
   "source": [
    "fsegment04['created'].max()"
   ]
  },
  {
   "cell_type": "code",
   "execution_count": null,
   "id": "2d0295a5",
   "metadata": {},
   "outputs": [],
   "source": [
    "shop04 = pd.pivot_table(fsegment04, index = 'retailer_names', columns = 'group' , values = 'created', aggfunc ='count')\n",
    "shop04.sort_values(['Hyderabad'], ascending=False,inplace=True)\n",
    "shop04"
   ]
  },
  {
   "cell_type": "code",
   "execution_count": null,
   "id": "45f6c4a2",
   "metadata": {},
   "outputs": [],
   "source": [
    "(len(shop04.dropna())/len(shop04))*100 # only 8% of retailers with outlets in all three group"
   ]
  },
  {
   "cell_type": "code",
   "execution_count": null,
   "id": "5c5b31ad",
   "metadata": {},
   "outputs": [],
   "source": [
    "len(shop04)"
   ]
  },
  {
   "cell_type": "code",
   "execution_count": null,
   "id": "fbf37ac7",
   "metadata": {},
   "outputs": [],
   "source": [
    "test04 = shop04.reset_index()"
   ]
  },
  {
   "cell_type": "code",
   "execution_count": null,
   "id": "0312c122",
   "metadata": {},
   "outputs": [],
   "source": [
    "len(test04.loc[(test04.isna().sum(axis=1)) == 1])"
   ]
  },
  {
   "cell_type": "code",
   "execution_count": null,
   "id": "1f97fdd3",
   "metadata": {},
   "outputs": [],
   "source": [
    "fsegment04['prod_names'].value_counts().head(10).plot.bar()"
   ]
  },
  {
   "cell_type": "code",
   "execution_count": null,
   "id": "9be96ffb",
   "metadata": {},
   "outputs": [],
   "source": [
    "# less product ordered\n",
    "monopoly04 = fsegment04.groupby('retailer_names')['prod_names'].nunique().reset_index()\n",
    "monopoly04.head()"
   ]
  },
  {
   "cell_type": "code",
   "execution_count": null,
   "id": "1c64a17c",
   "metadata": {},
   "outputs": [],
   "source": [
    "monopoly04.loc[monopoly04[\"prod_names\"] == 1]"
   ]
  },
  {
   "cell_type": "markdown",
   "id": "f5e55efc",
   "metadata": {},
   "source": [
    "### 05. dropout (72)"
   ]
  },
  {
   "cell_type": "code",
   "execution_count": null,
   "id": "e6a9a628",
   "metadata": {},
   "outputs": [],
   "source": [
    "# each month brapa retailer yg restock (unique) --> almost every retailers restock\n",
    "fsegment05.groupby('created_year_month')['retailer_names'].nunique().plot.bar()"
   ]
  },
  {
   "cell_type": "code",
   "execution_count": null,
   "id": "2f02f50f",
   "metadata": {},
   "outputs": [],
   "source": [
    "# less product ordered\n",
    "monopoly05 = fsegment05.groupby('retailer_names')['prod_names'].nunique().reset_index()\n",
    "monopoly05.head()"
   ]
  },
  {
   "cell_type": "code",
   "execution_count": null,
   "id": "09cdf371",
   "metadata": {},
   "outputs": [],
   "source": [
    "monopoly05.loc[monopoly05[\"prod_names\"] == 1]"
   ]
  },
  {
   "cell_type": "code",
   "execution_count": null,
   "id": "6d531f38",
   "metadata": {},
   "outputs": [],
   "source": [
    "shop05 = pd.pivot_table(fsegment05, index = 'retailer_names', columns = 'group' , values = 'created', aggfunc ='count')\n",
    "shop05.sort_values(['Hyderabad'], ascending=False,inplace=True)\n",
    "shop05"
   ]
  },
  {
   "cell_type": "code",
   "execution_count": null,
   "id": "003bb4e8",
   "metadata": {},
   "outputs": [],
   "source": [
    "len(test05.loc[(test05.isna().sum(axis=1)) == 2])"
   ]
  },
  {
   "cell_type": "code",
   "execution_count": null,
   "id": "20ad22fe",
   "metadata": {},
   "outputs": [],
   "source": [
    "test05 = shop05.reset_index()"
   ]
  },
  {
   "cell_type": "code",
   "execution_count": null,
   "id": "26ae230b",
   "metadata": {},
   "outputs": [],
   "source": [
    "len(shop05)"
   ]
  },
  {
   "cell_type": "code",
   "execution_count": null,
   "id": "c4f0f927",
   "metadata": {},
   "outputs": [],
   "source": [
    "(len(shop05.dropna())/len(shop05))*100 # only 4% of retailers with outlets in all three group"
   ]
  },
  {
   "cell_type": "code",
   "execution_count": null,
   "id": "ee443804",
   "metadata": {},
   "outputs": [],
   "source": [
    "# barplot\n",
    "import seaborn as sns\n",
    "sns.countplot(x=\"clust\", data=Univ)\n",
    "plt.show()\n",
    "# KIRA SETIAP CLUSTER ADA BRAPA NEGARA\n",
    "Univ.clust.value_counts()\n",
    "# Joint Plot ikut cluster untuk numerical variable je\n",
    "plt.figure(figsize=(30,25))\n",
    "grouped_Univ = Univ[['retailer_names', 'MonetaryValue', 'Frequency', 'Recency',\n",
    "       'Lifetime','clust']].groupby('clust').mean()\n",
    "axes = grouped_Univ.plot.bar(subplots=True)\n",
    "plt.show()\n",
    "\n",
    "# Profiling all features together\n",
    "grouped_Univ1.plot(kind='bar', colormap='Accent')    \n",
    "grouped_Univ1.plot(kind='bar',logy=True, colormap='Accent')    \n",
    "plt.show()"
   ]
  }
 ],
 "metadata": {
  "kernelspec": {
   "display_name": "Python 3 (ipykernel)",
   "language": "python",
   "name": "python3"
  },
  "language_info": {
   "codemirror_mode": {
    "name": "ipython",
    "version": 3
   },
   "file_extension": ".py",
   "mimetype": "text/x-python",
   "name": "python",
   "nbconvert_exporter": "python",
   "pygments_lexer": "ipython3",
   "version": "3.9.12"
  }
 },
 "nbformat": 4,
 "nbformat_minor": 5
}
